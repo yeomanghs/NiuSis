{
 "cells": [
  {
   "cell_type": "code",
   "execution_count": 4,
   "metadata": {},
   "outputs": [],
   "source": [
    "import pandas as pd\n",
    "import re\n",
    "import openpyxl \n",
    "import numpy as np\n",
    "from timeit import default_timer as timer\n",
    "from datetime import datetime\n",
    "import os\n",
    "\n",
    "pd.set_option('display.max_columns', 100)\n",
    "pd.set_option('display.max_rows', 100)"
   ]
  },
  {
   "cell_type": "code",
   "execution_count": 84,
   "metadata": {
    "scrolled": true
   },
   "outputs": [
    {
     "data": {
      "text/plain": [
       "datetime.datetime(1900, 11, 3, 0, 0)"
      ]
     },
     "execution_count": 84,
     "metadata": {},
     "output_type": "execute_result"
    }
   ],
   "source": [
    "#predefine parameters\n",
    "filterTransDesc = \"HANDLING CHRG\"\n",
    "\n",
    "#name col to remove rows with missing na or to match bs\n",
    "payoutNameCol = 'Member Name'\n",
    "merchantNameCol = 'Merchant'\n",
    "merchantBankNameCol = 'Bank Acc Name'\n",
    "billPaymentNameCol = \"Name\"\n",
    "\n",
    "#col of payout to match amount (payout, merchant and bill payment must have)\n",
    "poAmountCol = \"Amount\"\n",
    "#col of final output as name\n",
    "poNameCol = \"Member Name\"\n",
    "bsName = \"BS Name\"\n",
    "\n",
    "#cols to match in bank statement\n",
    "# bsColMatchList = ['Reference 1', 'Reference 2', 'Reference 3', 'Reference 4']\n",
    "bsMatchCol = \"Reference 2\"\n",
    "bsAmountCol = \"Debit Amount\"\n",
    "\n",
    "#index col to track rows\n",
    "euIndex = \"EU_Index\"\n",
    "copIndex = \"COP_Index\"\n",
    "manageCOPIndex = \"ManageCOP_Index\"\n",
    "merchantIndex = \"Merchant_Index\"\n",
    "billPaymentIndex = \"BP_Index\"\n",
    "bsIndex = \"BS_Index\"\n",
    "\n",
    "#ruleDict, which file type to use which set of rules\n",
    "ruleDict = {\"General\":[2, 3, 4, 6],\n",
    "           \"Merchant\":[1, 2, 3, 4],\n",
    "           \"BillPayment\":[2, 5]}\n",
    "\n",
    "payoutExcelFile = \"Quinton_Payout_202011/PAYOUT - 03.11.2020 .xlsx\"\n",
    "# payoutExcelFile = \"Quinton_Payout_202012/PAYOUT - 04.12.2020.xlsx\"\n",
    "\n",
    "#get date\n",
    "date = re.search('^.*?(\\d+\\.\\d+)',payoutExcelFile.split('-')[1]).group(1)\n",
    "date = datetime.strptime(date, '%d.%m')\n",
    "date"
   ]
  },
  {
   "cell_type": "code",
   "execution_count": 305,
   "metadata": {},
   "outputs": [
    {
     "data": {
      "text/plain": [
       "['PAYOUT - 02.11.2020.xlsx',\n",
       " 'PAYOUT - 03.11.2020 .xlsx',\n",
       " 'PAYOUT - 04.11.2020 .xlsx',\n",
       " 'PAYOUT - 05.11.2020 .xlsx',\n",
       " 'PAYOUT - 06.11.2020 .xlsx',\n",
       " 'PAYOUT - 09.11.2020 .xlsx',\n",
       " 'PAYOUT - 10.11.2020 .xlsx',\n",
       " 'PAYOUT - 11.11.2020 .xlsx',\n",
       " 'PAYOUT - 12.11.2020 .xlsx',\n",
       " 'PAYOUT - 13.11.2020 .xlsx',\n",
       " 'PAYOUT - 16.11.2020 .xlsx',\n",
       " 'PAYOUT - 17.11.2020 .xlsx',\n",
       " 'PAYOUT - 18.11.2020 .xlsx',\n",
       " 'PAYOUT - 19.11.2020 .xlsx',\n",
       " 'PAYOUT - 20.11.2020 .xlsx',\n",
       " 'PAYOUT - 23.11.2020 .xlsx',\n",
       " 'PAYOUT - 24.11.2020 .xlsx',\n",
       " 'PAYOUT - 25.11.2020 .xlsx',\n",
       " 'PAYOUT - 26.11.2020 .xlsx',\n",
       " 'PAYOUT - 27.11.2020 .xlsx',\n",
       " 'PAYOUT - 30.11.2020 .xlsx']"
      ]
     },
     "execution_count": 305,
     "metadata": {},
     "output_type": "execute_result"
    }
   ],
   "source": [
    "os.listdir('Quinton_Payout_202011')"
   ]
  },
  {
   "cell_type": "markdown",
   "metadata": {},
   "source": [
    "### read payout"
   ]
  },
  {
   "cell_type": "code",
   "execution_count": 6,
   "metadata": {},
   "outputs": [
    {
     "name": "stdout",
     "output_type": "stream",
     "text": [
      "EU WS - 26.10- EU\n",
      "COP WS - 28-29.10-COP\n",
      "ManageCOP WS - 28-19.10-MANAGE COP\n",
      "Merchant WS - 28-29.10-MERCHANT \n",
      "BillPayment WS - 30.10-01.11-BILL PAYMENT \n"
     ]
    }
   ],
   "source": [
    "#get worksheet names\n",
    "wb = openpyxl.load_workbook(payoutExcelFile)\n",
    "wsList = wb.sheetnames\n",
    "\n",
    "EU_ws = [i for i in wsList if re.search('EU\\s*$', i)][0]\n",
    "#preceding cannot be manage\n",
    "COP_ws = [i for i in wsList if re.search('(?<!MANAGE[\\s\\-])COP\\s*$', i)][0]\n",
    "ManageCOP_ws = [i for i in wsList if re.search('MANAGE COP\\s*$', i)][0]\n",
    "Merchant_ws = [i for i in wsList if re.search('MERCHANT[^-]', i)][0]\n",
    "BillPayment_ws = [i for i in wsList if re.search('BILL PAYMENT[^-]*\\s*$', i)][0]\n",
    "print(\"EU WS - %s\"%EU_ws)\n",
    "print(\"COP WS - %s\"%COP_ws)\n",
    "print(\"ManageCOP WS - %s\"%ManageCOP_ws)\n",
    "print(\"Merchant WS - %s\"%Merchant_ws)\n",
    "print(\"BillPayment WS - %s\"%BillPayment_ws)\n",
    "\n",
    "#read file\n",
    "\n",
    "#read payout files - EU, COP and ManageCOP\n",
    "dfEU = pd.read_excel(payoutExcelFile, sheet_name = EU_ws)\n",
    "#remove empty member name\n",
    "dfEU = dfEU[pd.notnull(dfEU[payoutNameCol])]\n",
    "dfEU['DataType'] = \"EU\" \n",
    "\n",
    "dfCOP = pd.read_excel(payoutExcelFile, sheet_name = COP_ws)\n",
    "#remove empty member name\n",
    "dfCOP = dfCOP[pd.notnull(dfCOP[payoutNameCol])]\n",
    "dfCOP['DataType'] = \"COP\" \n",
    "\n",
    "dfManageCOP = pd.read_excel(payoutExcelFile, sheet_name = ManageCOP_ws)\n",
    "#remove empty member name\n",
    "dfManageCOP = dfManageCOP[pd.notnull(dfManageCOP[payoutNameCol])]\n",
    "dfManageCOP['DataType'] = \"ManageCOP\" \n",
    "\n",
    "#merchant file\n",
    "dfMerchant = pd.read_excel(payoutExcelFile, sheet_name = Merchant_ws)\n",
    "#remove empty merchant col\n",
    "dfMerchant = dfMerchant[pd.notnull(dfMerchant[merchantNameCol])]\n",
    "dfMerchant['DataType'] = \"Merchant\" \n",
    "\n",
    "dfBillPayment = pd.read_excel(payoutExcelFile, sheet_name = BillPayment_ws)\n",
    "#remove empty name\n",
    "dfBillPayment = dfBillPayment[pd.notnull(dfBillPayment[billPaymentNameCol])]\n",
    "dfBillPayment['DataType'] = \"BillPayment\" \n",
    "\n",
    "#create index\n",
    "dfEU[euIndex] = np.arange(dfEU.shape[0])\n",
    "dfCOP[copIndex] = np.arange(dfCOP.shape[0])\n",
    "dfManageCOP[manageCOPIndex] = np.arange(dfManageCOP.shape[0])\n",
    "dfMerchant[merchantIndex] = np.arange(dfMerchant.shape[0])\n",
    "dfBillPayment[billPaymentIndex] = np.arange(dfBillPayment.shape[0])"
   ]
  },
  {
   "cell_type": "markdown",
   "metadata": {},
   "source": [
    "### read bank statement"
   ]
  },
  {
   "cell_type": "code",
   "execution_count": 21,
   "metadata": {},
   "outputs": [
    {
     "name": "stdout",
     "output_type": "stream",
     "text": [
      "Output filename: 03_11 3207971832_2020.xlsx\n"
     ]
    }
   ],
   "source": [
    "if date.month == 11:\n",
    "    bsFolder = 'Nov2020_Result'\n",
    "    outputFolder = \"Nov2020_MatchingResult\"\n",
    "elif date.month == 12:\n",
    "    bsFolder = \"Dec2020_Result\"\n",
    "    outputFolder = \"Dec2020_MatchingResult\"\n",
    "bsDatePattern = date.strftime('%d_%m')\n",
    "bsExcelFile = [i for i in os.listdir(bsFolder) if re.search(bsDatePattern, i)][0]\n",
    "print(\"Output filename: %s\"%bsExcelFile)\n",
    "\n",
    "# dfBankStatement = pd.read_excel(bsFolder + '/' + bsExcelFile, skiprows = 9)\n",
    "dfBankStatement = pd.read_excel(\"03_11 3207971832_2020_addRef.xlsx\", skiprows = 9)\n",
    "\n",
    "#filter out ref1 gas \n",
    "filterTransDesc = \"HANDLING CHRG\"\n",
    "dfBankStatement2 = dfBankStatement[dfBankStatement[bsMatchCol].map(lambda x:\n",
    "                                                    False if re.search(filterTransDesc, str(x))\n",
    "                                                           else True)].copy()\n",
    "\n",
    "#create bsIndex\n",
    "dfBankStatement2[bsIndex] = np.arange(dfBankStatement2.shape[0])\n",
    "#keep track bsIndex list\n",
    "bsIndexList = dfBankStatement2[bsIndex].unique()"
   ]
  },
  {
   "cell_type": "code",
   "execution_count": 229,
   "metadata": {},
   "outputs": [
    {
     "data": {
      "text/plain": [
       "8487"
      ]
     },
     "execution_count": 229,
     "metadata": {},
     "output_type": "execute_result"
    }
   ],
   "source": [
    "bsIndexList = dfBankStatement2[bsIndex].unique()\n",
    "len(bsIndexList)"
   ]
  },
  {
   "cell_type": "markdown",
   "metadata": {},
   "source": [
    "### Exact Match"
   ]
  },
  {
   "cell_type": "code",
   "execution_count": 249,
   "metadata": {},
   "outputs": [],
   "source": [
    "def ExactMatch(df, indexCol, nameCol, dfBS, dtype):\n",
    "    startTime = timer()\n",
    "    nameList = [str(i).lower() for i in df[nameCol].values]\n",
    "    amountList = df[poAmountCol].values\n",
    "    indexList = df[indexCol].values\n",
    "    matchResult = []\n",
    "    for no, name in enumerate(nameList):\n",
    "        dfTemp = dfBS[(dfBS[bsMatchCol].map(lambda x:name in x.lower() and x.lower()!='nan'))\n",
    "                        & (dfBS[bsAmountCol] == amountList[no])].copy()\n",
    "        if dfTemp.shape[0] >= 1:\n",
    "            bsAmount = dfTemp[bsAmountCol].values[0]\n",
    "            bsMatchIndex = dfTemp[bsIndex].values[0]\n",
    "            bsName = dfTemp[bsMatchCol].values[0]\n",
    "            #[POindex, POname, POamount, BSindex, BSname, BSamount]\n",
    "            matchResult.append([indexList[no], nameList[no], amountList[no],\n",
    "                               bsMatchIndex, bsName, bsAmount])\n",
    "    #form table\n",
    "    colList = [indexCol, nameCol, poAmountCol, \n",
    "               bsIndex, bsMatchCol, bsAmountCol]\n",
    "    dfResult = pd.DataFrame(matchResult, columns = colList).copy()\n",
    "    dfResult['MatchCategory'] = \"ExactMatch\"\n",
    "    dfResult['DataType'] = dtype\n",
    "    dfResult.rename(columns = {nameCol: payoutNameCol}, inplace = True)\n",
    "    endTime = timer()\n",
    "    print(\"Total time: %0.4fs\" % (endTime - startTime))\n",
    "    return dfResult"
   ]
  },
  {
   "cell_type": "code",
   "execution_count": 230,
   "metadata": {},
   "outputs": [
    {
     "name": "stdout",
     "output_type": "stream",
     "text": [
      "Total time: 38.2298s\n",
      "Total row - BS before match: 8487\n",
      "Total row - BS after match: 5131\n",
      "Total row - EU: 4171\n",
      "Exact Matches: 3356\n",
      "No Matches: 812\n"
     ]
    }
   ],
   "source": [
    "#EU\n",
    "#3356\n",
    "dfBankStatementTemp = dfBankStatement2[dfBankStatement2[bsIndex].isin(bsIndexList)].copy()\n",
    "dfExactMatchEU = ExactMatch(dfEU, euIndex, payoutNameCol, \n",
    "                            dfBankStatementTemp, \"EU\")\n",
    "#find no match list\n",
    "noMatchEUList = set(dfEU[euIndex].values)\\\n",
    "                    .difference(set(dfExactMatchEU[euIndex].values))\n",
    "#remove bs duplicates\n",
    "dfExactMatchEU.drop_duplicates(bsIndex, inplace = True)\n",
    "\n",
    "print(\"Total row - BS before match: %s\"%len(bsIndexList))\n",
    "#update bsIndexList\n",
    "bsIndexList = [i for i in bsIndexList if i not in dfExactMatchEU['BS_Index'].unique()]\n",
    "print(\"Total row - BS after match: %s\"%len(bsIndexList))\n",
    "print(\"Total row - EU: %s\"%dfEU.shape[0])\n",
    "print(\"Exact Matches: %s\"%dfExactMatchEU.shape[0])\n",
    "print(\"No Matches: %s\"%len(noMatchEUList))"
   ]
  },
  {
   "cell_type": "code",
   "execution_count": 221,
   "metadata": {
    "collapsed": true
   },
   "outputs": [
    {
     "data": {
      "text/html": [
       "<div>\n",
       "<style scoped>\n",
       "    .dataframe tbody tr th:only-of-type {\n",
       "        vertical-align: middle;\n",
       "    }\n",
       "\n",
       "    .dataframe tbody tr th {\n",
       "        vertical-align: top;\n",
       "    }\n",
       "\n",
       "    .dataframe thead th {\n",
       "        text-align: right;\n",
       "    }\n",
       "</style>\n",
       "<table border=\"1\" class=\"dataframe\">\n",
       "  <thead>\n",
       "    <tr style=\"text-align: right;\">\n",
       "      <th></th>\n",
       "      <th>Country</th>\n",
       "      <th>Withdraw Date</th>\n",
       "      <th>Username</th>\n",
       "      <th>Member Name</th>\n",
       "      <th>Withdraw</th>\n",
       "      <th>Package</th>\n",
       "      <th>Bank</th>\n",
       "      <th>Bank Acc</th>\n",
       "      <th>Bank-in Slip</th>\n",
       "      <th>Bank-in By</th>\n",
       "      <th>Bank-in Date</th>\n",
       "      <th>Remarks</th>\n",
       "      <th>Status</th>\n",
       "      <th>Amount</th>\n",
       "      <th>Unnamed: 14</th>\n",
       "      <th>Unnamed: 15</th>\n",
       "      <th>DataType</th>\n",
       "      <th>COP_Index</th>\n",
       "    </tr>\n",
       "  </thead>\n",
       "  <tbody>\n",
       "    <tr>\n",
       "      <th>297</th>\n",
       "      <td>MALAYSIA</td>\n",
       "      <td>2020-10-29</td>\n",
       "      <td>philipng73</td>\n",
       "      <td>Ng Kwong Guan</td>\n",
       "      <td>BASIC</td>\n",
       "      <td>BASIC</td>\n",
       "      <td>MAYBANK BERHAD</td>\n",
       "      <td>106164246326</td>\n",
       "      <td>NaN</td>\n",
       "      <td>NaN</td>\n",
       "      <td>NaN</td>\n",
       "      <td>NaN</td>\n",
       "      <td>Pending</td>\n",
       "      <td>10000.0</td>\n",
       "      <td>Edit</td>\n",
       "      <td>Reject</td>\n",
       "      <td>COP</td>\n",
       "      <td>297</td>\n",
       "    </tr>\n",
       "    <tr>\n",
       "      <th>298</th>\n",
       "      <td>MALAYSIA</td>\n",
       "      <td>2020-10-29</td>\n",
       "      <td>evonelim71</td>\n",
       "      <td>Lim Yew Yun</td>\n",
       "      <td>PLATINUM</td>\n",
       "      <td>PLATINUM</td>\n",
       "      <td>MAYBANK BERHAD</td>\n",
       "      <td>556169209017</td>\n",
       "      <td>NaN</td>\n",
       "      <td>NaN</td>\n",
       "      <td>NaN</td>\n",
       "      <td>NaN</td>\n",
       "      <td>Pending</td>\n",
       "      <td>10000.0</td>\n",
       "      <td>Edit</td>\n",
       "      <td>Reject</td>\n",
       "      <td>COP</td>\n",
       "      <td>298</td>\n",
       "    </tr>\n",
       "    <tr>\n",
       "      <th>301</th>\n",
       "      <td>MALAYSIA</td>\n",
       "      <td>2020-10-29</td>\n",
       "      <td>ShawnChew</td>\n",
       "      <td>CHEW ZHIANG CHOON</td>\n",
       "      <td>PLATINUM</td>\n",
       "      <td>PLATINUM</td>\n",
       "      <td>Public Bank Berhad</td>\n",
       "      <td>6868806112</td>\n",
       "      <td>NaN</td>\n",
       "      <td>NaN</td>\n",
       "      <td>NaN</td>\n",
       "      <td>NaN</td>\n",
       "      <td>Pending</td>\n",
       "      <td>10000.0</td>\n",
       "      <td>Edit</td>\n",
       "      <td>Reject</td>\n",
       "      <td>COP</td>\n",
       "      <td>301</td>\n",
       "    </tr>\n",
       "    <tr>\n",
       "      <th>310</th>\n",
       "      <td>MALAYSIA</td>\n",
       "      <td>2020-10-29</td>\n",
       "      <td>ssseng333</td>\n",
       "      <td>hooi kok weng</td>\n",
       "      <td>PLATINUM</td>\n",
       "      <td>PLATINUM</td>\n",
       "      <td>MAYBANK BERHAD</td>\n",
       "      <td>107032146453</td>\n",
       "      <td>NaN</td>\n",
       "      <td>NaN</td>\n",
       "      <td>NaN</td>\n",
       "      <td>NaN</td>\n",
       "      <td>Pending</td>\n",
       "      <td>10000.0</td>\n",
       "      <td>Edit</td>\n",
       "      <td>Reject</td>\n",
       "      <td>COP</td>\n",
       "      <td>310</td>\n",
       "    </tr>\n",
       "    <tr>\n",
       "      <th>311</th>\n",
       "      <td>MALAYSIA</td>\n",
       "      <td>2020-10-29</td>\n",
       "      <td>Liaw78</td>\n",
       "      <td>Liaw shen wei</td>\n",
       "      <td>PLATINUM</td>\n",
       "      <td>PLATINUM</td>\n",
       "      <td>CIMB-MALAYSIA</td>\n",
       "      <td>8005397254</td>\n",
       "      <td>NaN</td>\n",
       "      <td>NaN</td>\n",
       "      <td>NaN</td>\n",
       "      <td>NaN</td>\n",
       "      <td>Pending</td>\n",
       "      <td>10000.0</td>\n",
       "      <td>Edit</td>\n",
       "      <td>Reject</td>\n",
       "      <td>COP</td>\n",
       "      <td>311</td>\n",
       "    </tr>\n",
       "    <tr>\n",
       "      <th>321</th>\n",
       "      <td>MALAYSIA</td>\n",
       "      <td>2020-10-29</td>\n",
       "      <td>Isnytam</td>\n",
       "      <td>Tam Tsae Hong</td>\n",
       "      <td>BASIC</td>\n",
       "      <td>BASIC</td>\n",
       "      <td>Public Bank Berhad</td>\n",
       "      <td>4417068400</td>\n",
       "      <td>NaN</td>\n",
       "      <td>NaN</td>\n",
       "      <td>NaN</td>\n",
       "      <td>NaN</td>\n",
       "      <td>Pending</td>\n",
       "      <td>4000.0</td>\n",
       "      <td>Edit</td>\n",
       "      <td>Reject</td>\n",
       "      <td>COP</td>\n",
       "      <td>321</td>\n",
       "    </tr>\n",
       "    <tr>\n",
       "      <th>338</th>\n",
       "      <td>MALAYSIA</td>\n",
       "      <td>2020-10-29</td>\n",
       "      <td>kimmo126126</td>\n",
       "      <td>Foo kim kwai</td>\n",
       "      <td>BASIC</td>\n",
       "      <td>BASIC</td>\n",
       "      <td>Alliance Bank</td>\n",
       "      <td>80180010242483</td>\n",
       "      <td>NaN</td>\n",
       "      <td>NaN</td>\n",
       "      <td>NaN</td>\n",
       "      <td>NaN</td>\n",
       "      <td>Pending</td>\n",
       "      <td>10000.0</td>\n",
       "      <td>Edit</td>\n",
       "      <td>Reject</td>\n",
       "      <td>COP</td>\n",
       "      <td>338</td>\n",
       "    </tr>\n",
       "    <tr>\n",
       "      <th>341</th>\n",
       "      <td>MALAYSIA</td>\n",
       "      <td>2020-10-29</td>\n",
       "      <td>huiyinlai</td>\n",
       "      <td>LAI HUI YIN</td>\n",
       "      <td>BASIC</td>\n",
       "      <td>BASIC</td>\n",
       "      <td>Hong Leong Bank-MALAYSIA</td>\n",
       "      <td>37350159934</td>\n",
       "      <td>NaN</td>\n",
       "      <td>NaN</td>\n",
       "      <td>NaN</td>\n",
       "      <td>NaN</td>\n",
       "      <td>Pending</td>\n",
       "      <td>10000.0</td>\n",
       "      <td>Edit</td>\n",
       "      <td>Reject</td>\n",
       "      <td>COP</td>\n",
       "      <td>341</td>\n",
       "    </tr>\n",
       "    <tr>\n",
       "      <th>356</th>\n",
       "      <td>MALAYSIA</td>\n",
       "      <td>2020-10-29</td>\n",
       "      <td>PENG001</td>\n",
       "      <td>GO AI LAN</td>\n",
       "      <td>BASIC</td>\n",
       "      <td>BASIC</td>\n",
       "      <td>AmBank</td>\n",
       "      <td>169206824</td>\n",
       "      <td>NaN</td>\n",
       "      <td>NaN</td>\n",
       "      <td>NaN</td>\n",
       "      <td>NaN</td>\n",
       "      <td>Pending</td>\n",
       "      <td>1000.0</td>\n",
       "      <td>Edit</td>\n",
       "      <td>Reject</td>\n",
       "      <td>COP</td>\n",
       "      <td>356</td>\n",
       "    </tr>\n",
       "  </tbody>\n",
       "</table>\n",
       "</div>"
      ],
      "text/plain": [
       "      Country Withdraw Date     Username        Member Name  Withdraw  \\\n",
       "297  MALAYSIA    2020-10-29   philipng73      Ng Kwong Guan     BASIC   \n",
       "298  MALAYSIA    2020-10-29   evonelim71        Lim Yew Yun  PLATINUM   \n",
       "301  MALAYSIA    2020-10-29    ShawnChew  CHEW ZHIANG CHOON  PLATINUM   \n",
       "310  MALAYSIA    2020-10-29    ssseng333      hooi kok weng  PLATINUM   \n",
       "311  MALAYSIA    2020-10-29       Liaw78      Liaw shen wei  PLATINUM   \n",
       "321  MALAYSIA    2020-10-29      Isnytam      Tam Tsae Hong     BASIC   \n",
       "338  MALAYSIA    2020-10-29  kimmo126126       Foo kim kwai     BASIC   \n",
       "341  MALAYSIA    2020-10-29    huiyinlai        LAI HUI YIN     BASIC   \n",
       "356  MALAYSIA    2020-10-29      PENG001          GO AI LAN     BASIC   \n",
       "\n",
       "      Package                      Bank        Bank Acc  Bank-in Slip  \\\n",
       "297     BASIC            MAYBANK BERHAD    106164246326           NaN   \n",
       "298  PLATINUM            MAYBANK BERHAD    556169209017           NaN   \n",
       "301  PLATINUM        Public Bank Berhad      6868806112           NaN   \n",
       "310  PLATINUM            MAYBANK BERHAD    107032146453           NaN   \n",
       "311  PLATINUM             CIMB-MALAYSIA      8005397254           NaN   \n",
       "321     BASIC        Public Bank Berhad      4417068400           NaN   \n",
       "338     BASIC             Alliance Bank  80180010242483           NaN   \n",
       "341     BASIC  Hong Leong Bank-MALAYSIA     37350159934           NaN   \n",
       "356     BASIC                    AmBank       169206824           NaN   \n",
       "\n",
       "     Bank-in By  Bank-in Date  Remarks   Status   Amount Unnamed: 14  \\\n",
       "297         NaN           NaN      NaN  Pending  10000.0        Edit   \n",
       "298         NaN           NaN      NaN  Pending  10000.0        Edit   \n",
       "301         NaN           NaN      NaN  Pending  10000.0        Edit   \n",
       "310         NaN           NaN      NaN  Pending  10000.0        Edit   \n",
       "311         NaN           NaN      NaN  Pending  10000.0        Edit   \n",
       "321         NaN           NaN      NaN  Pending   4000.0        Edit   \n",
       "338         NaN           NaN      NaN  Pending  10000.0        Edit   \n",
       "341         NaN           NaN      NaN  Pending  10000.0        Edit   \n",
       "356         NaN           NaN      NaN  Pending   1000.0        Edit   \n",
       "\n",
       "    Unnamed: 15 DataType  COP_Index  \n",
       "297      Reject      COP        297  \n",
       "298      Reject      COP        298  \n",
       "301      Reject      COP        301  \n",
       "310      Reject      COP        310  \n",
       "311      Reject      COP        311  \n",
       "321      Reject      COP        321  \n",
       "338      Reject      COP        338  \n",
       "341      Reject      COP        341  \n",
       "356      Reject      COP        356  "
      ]
     },
     "execution_count": 221,
     "metadata": {},
     "output_type": "execute_result"
    }
   ],
   "source": [
    "a = [297,\n",
    "298,\n",
    "301,\n",
    "310,\n",
    "311,\n",
    "321,\n",
    "338,\n",
    "341,\n",
    "356]\n",
    "dfCOP2 = dfCOP[dfCOP[copIndex].map(lambda x:x in a)].copy()\n",
    "dfCOP2"
   ]
  },
  {
   "cell_type": "code",
   "execution_count": 231,
   "metadata": {},
   "outputs": [
    {
     "name": "stdout",
     "output_type": "stream",
     "text": [
      "Total time: 2.4465s\n",
      "Total row - BS before match: 5131\n",
      "Total row - BS after match: 4844\n",
      "Total row: 380\n",
      "Exact Matches: 287\n",
      "No Matches: 86\n"
     ]
    }
   ],
   "source": [
    "#COP\n",
    "#287\n",
    "dfBankStatementTemp = dfBankStatement2[dfBankStatement2[bsIndex].isin(bsIndexList)].copy()\n",
    "dfExactMatchCOP = ExactMatch(dfCOP, copIndex, payoutNameCol,\n",
    "                             dfBankStatementTemp, \"COP\")\n",
    "#find no match list\n",
    "noMatchCOPList = set(dfCOP[copIndex].values)\\\n",
    "                    .difference(set(dfExactMatchCOP[copIndex].values))\n",
    "#remove bs duplicates\n",
    "dfExactMatchCOP.drop_duplicates(bsIndex, inplace = True)\n",
    "\n",
    "print(\"Total row - BS before match: %s\"%len(bsIndexList))\n",
    "#update bsIndexList\n",
    "bsIndexList = [i for i in bsIndexList if i not in dfExactMatchCOP['BS_Index'].unique()]\n",
    "print(\"Total row - BS after match: %s\"%len(bsIndexList))\n",
    "print(\"Total row: %s\"%dfCOP.shape[0])\n",
    "print(\"Exact Matches: %s\"%dfExactMatchCOP.shape[0])\n",
    "print(\"No Matches: %s\"%len(noMatchCOPList))"
   ]
  },
  {
   "cell_type": "code",
   "execution_count": 232,
   "metadata": {},
   "outputs": [
    {
     "data": {
      "text/plain": [
       "[301, 356]"
      ]
     },
     "execution_count": 232,
     "metadata": {},
     "output_type": "execute_result"
    }
   ],
   "source": [
    "[i for i in a if i in noMatchCOPList]"
   ]
  },
  {
   "cell_type": "code",
   "execution_count": 233,
   "metadata": {},
   "outputs": [
    {
     "name": "stdout",
     "output_type": "stream",
     "text": [
      "Total time: 0.1336s\n",
      "Total row - BS before match: 4844\n",
      "Total row - BS after match: 4822\n",
      "Total row: 27\n",
      "Exact Matches: 22\n",
      "No Matches: 4\n"
     ]
    }
   ],
   "source": [
    "#Manage COP\n",
    "#22\n",
    "dfBankStatementTemp = dfBankStatement2[dfBankStatement2[bsIndex].isin(bsIndexList)].copy()\n",
    "dfExactMatchManageCOP = ExactMatch(dfManageCOP, manageCOPIndex, payoutNameCol, \n",
    "                                   dfBankStatementTemp, 'ManageCOP')\n",
    "#find no match list\n",
    "noMatchManageCOPList = set(dfManageCOP[manageCOPIndex].values)\\\n",
    "                       .difference(set(dfExactMatchManageCOP[manageCOPIndex].values))\n",
    "#remove bs duplicates\n",
    "dfExactMatchManageCOP.drop_duplicates(bsIndex, inplace = True)\n",
    "\n",
    "print(\"Total row - BS before match: %s\"%len(bsIndexList))\n",
    "#update bsIndexList\n",
    "bsIndexList = [i for i in bsIndexList if i not in dfExactMatchManageCOP['BS_Index'].unique()]\n",
    "print(\"Total row - BS after match: %s\"%len(bsIndexList))\n",
    "print(\"Total row: %s\"%dfManageCOP.shape[0])\n",
    "print(\"Exact Matches: %s\"%dfExactMatchManageCOP.shape[0])\n",
    "print(\"No Matches: %s\"%len(noMatchManageCOPList))"
   ]
  },
  {
   "cell_type": "code",
   "execution_count": 234,
   "metadata": {},
   "outputs": [
    {
     "name": "stdout",
     "output_type": "stream",
     "text": [
      "Total time: 9.9985s\n",
      "Total time: 10.2684s\n",
      "Total row - BS before match: 4822\n",
      "Total row - BS after match: 3967\n",
      "Total row: 1637\n",
      "Exact Matches: 855\n",
      "No Matches: 782\n"
     ]
    }
   ],
   "source": [
    "#exact matching for merchant file\n",
    "#855\n",
    "dfBankStatementTemp = dfBankStatement2[dfBankStatement2[bsIndex].isin(bsIndexList)].copy()\n",
    "exactMatchMerchantList = []\n",
    "for colName in [merchantNameCol, merchantBankNameCol]:\n",
    "    dfExactMatchMerchant = ExactMatch(dfMerchant, merchantIndex, colName,\n",
    "                                      dfBankStatementTemp, \"Merchant\")\n",
    "    exactMatchMerchantList.append(dfExactMatchMerchant)\n",
    "\n",
    "dfExactMatchMerchant = pd.concat(exactMatchMerchantList).copy()\n",
    "dfExactMatchMerchant.drop_duplicates(merchantIndex, inplace = True)\n",
    "dfExactMatchMerchant.drop_duplicates(bsIndex, inplace = True)\n",
    "\n",
    "#harmonize no match list\n",
    "noMatchMerchantList = set(dfMerchant[merchantIndex].values)\\\n",
    "                        .difference(set(dfExactMatchMerchant[merchantIndex].values))\n",
    "\n",
    "print(\"Total row - BS before match: %s\"%len(bsIndexList))\n",
    "#update bsIndexList\n",
    "bsIndexList = [i for i in bsIndexList if i not in dfExactMatchMerchant['BS_Index'].unique()]\n",
    "print(\"Total row - BS after match: %s\"%len(bsIndexList))\n",
    "print(\"Total row: %s\"%dfMerchant.shape[0])\n",
    "print(\"Exact Matches: %s\"%dfExactMatchMerchant.shape[0])\n",
    "print(\"No Matches: %s\"%len(noMatchMerchantList))"
   ]
  },
  {
   "cell_type": "code",
   "execution_count": 235,
   "metadata": {},
   "outputs": [
    {
     "name": "stdout",
     "output_type": "stream",
     "text": [
      "Total time: 3.3429s\n",
      "Total time: 3.6328s\n",
      "Total row - BS before match: 3967\n",
      "Total row - BS after match: 3966\n",
      "Total row: 656\n",
      "Exact Matches: 1\n",
      "No Matches: 655\n"
     ]
    }
   ],
   "source": [
    "#exact matching for bill Payment file\n",
    "#1\n",
    "dfBankStatementTemp = dfBankStatement2[dfBankStatement2[bsIndex].isin(bsIndexList)].copy()\n",
    "exactMatchBPList = []\n",
    "for colName in [billPaymentNameCol, 'Acc Holder']:\n",
    "    dfExactMatchBP = ExactMatch(dfBillPayment, billPaymentIndex, colName,\n",
    "                                dfBankStatementTemp, \"BillPayment\")\n",
    "    exactMatchBPList.append(dfExactMatchBP)\n",
    "\n",
    "dfExactMatchBP = pd.concat(exactMatchBPList).copy()\n",
    "dfExactMatchBP.drop_duplicates(billPaymentIndex, inplace = True)\n",
    "dfExactMatchBP.drop_duplicates(bsIndex, inplace = True)\n",
    "\n",
    "#find no match list\n",
    "noMatchBPList = set(dfBillPayment[billPaymentIndex].values)\\\n",
    "                    .difference(set(dfExactMatchBP[billPaymentIndex].values))\n",
    "\n",
    "print(\"Total row - BS before match: %s\"%len(bsIndexList))\n",
    "#update bsIndexList\n",
    "bsIndexList = [i for i in bsIndexList if i not in dfExactMatchBP['BS_Index'].unique()]\n",
    "print(\"Total row - BS after match: %s\"%len(bsIndexList))\n",
    "print(\"Total row: %s\"%dfBillPayment.shape[0])\n",
    "print(\"Exact Matches: %s\"%dfExactMatchBP.shape[0])\n",
    "print(\"No Matches: %s\"%len(noMatchBPList))"
   ]
  },
  {
   "cell_type": "code",
   "execution_count": 236,
   "metadata": {},
   "outputs": [
    {
     "data": {
      "text/plain": [
       "((4521, 12), 4521, 4521)"
      ]
     },
     "execution_count": 236,
     "metadata": {},
     "output_type": "execute_result"
    }
   ],
   "source": [
    "#combine all exact matches\n",
    "dfExactMatchFinal = pd.concat([dfExactMatchEU, dfExactMatchCOP, dfExactMatchManageCOP,\n",
    "                               dfExactMatchBP, dfExactMatchMerchant]).copy()\n",
    "matchedBSIndex = dfExactMatchFinal[bsIndex].values\n",
    "\n",
    "dfExactMatchFinal.shape, len(dfExactMatchFinal[bsIndex].unique()), dfBankStatement2.shape[0]-len(bsIndexList)"
   ]
  },
  {
   "cell_type": "code",
   "execution_count": 237,
   "metadata": {},
   "outputs": [
    {
     "name": "stdout",
     "output_type": "stream",
     "text": [
      "ExactMatch/EM_03_11 3207971832_2020.xlsx\n"
     ]
    }
   ],
   "source": [
    "dfNoMatchList = pd.DataFrame([\n",
    "                            [\"EU\", noMatchEUList],\n",
    "                            [\"COP\", noMatchCOPList],\n",
    "                            [\"ManageCOP\", noMatchManageCOPList],\n",
    "                            [\"BP\", noMatchBPList],\n",
    "                            [\"Merchant\", noMatchMerchantList],\n",
    "                            [\"BS\", bsIndexList]\n",
    "                             ],\n",
    "                            columns = [\"DataType\", \"NoMatchList\"])\n",
    "\n",
    "#back up bsIndexList\n",
    "bsBackUp = bsIndexList.copy()\n",
    "\n",
    "# np.all(np.equal(bsBackUp, bsIndexList))\n",
    "\n",
    "excelFile = 'ExactMatch/' + 'EM_' + bsExcelFile\n",
    "print(excelFile)\n",
    "with pd.ExcelWriter(excelFile) as writer:\n",
    "    dfExactMatchFinal.to_excel(writer, index = False, sheet_name = \"ExactMatch\")\n",
    "    dfNoMatchList.to_excel(writer, index = False, sheet_name = \"NoMatchList\")"
   ]
  },
  {
   "cell_type": "markdown",
   "metadata": {},
   "source": [
    "### Partial Match"
   ]
  },
  {
   "cell_type": "code",
   "execution_count": 163,
   "metadata": {},
   "outputs": [],
   "source": [
    "def matchFirst2Terms(name, series):\n",
    "    ruleName = \"matchFirst2Terms\"\n",
    "    \n",
    "    #match series with first 1 or 2 terms of names\n",
    "    if len(name.split(' ')) >= 3:\n",
    "        match = ' '.join(name.split(' ')[:2])\n",
    "        resultArray = series.map(lambda x:ruleName if re.search('[\\s\\d]%s'%re.escape(match), \n",
    "                                                                re.sub(\"\\xa0\", \"\", str(x)), flags = re.IGNORECASE)\n",
    "                                else \"False\").values\n",
    "    elif len(name.split(' ')) == 2:\n",
    "        match = name.split(' ')[0]\n",
    "        resultArray = series.map(lambda x:ruleName if re.search('[\\s\\d]%s'%re.escape(match), \n",
    "                                                                re.sub(\" |\\xa0\",\"\",str(x)), flags = re.IGNORECASE)\n",
    "                                else \"False\").values\n",
    "    else:\n",
    "        resultArray = np.full(len(series), \"False\")\n",
    "\n",
    "    return resultArray\n",
    "\n",
    "# def matchTruncated(name, series):\n",
    "#     ruleName = \"matchTruncated\"\n",
    "#     #match series with truncated name if there is \n",
    "#     cleanName = re.sub(\" binti \", \" bt \", str(name), flags = re.IGNORECASE)\n",
    "#     rule1 =  series\\\n",
    "#             .map(lambda x: True if re.search('%s'%re.escape(str(name)), str(x), flags = re.IGNORECASE) \n",
    "#                  and str(x) not in ['', 'nan'] else False).values\n",
    "#     #match name with truncated name in the series if there is\n",
    "#     rule2 = series\\\n",
    "#                 .map(lambda x: True if re.search('%s'%re.escape(re.sub(\"ENCIK |COP REFUND\", '', \n",
    "#                                                                 re.sub(\" binti \", \" bt \", str(x), flags = re.I), \n",
    "#                                                                        flags = re.IGNORECASE).strip()), \n",
    "#                                                  str(name), flags = re.IGNORECASE) \n",
    "#                      and re.sub(\"ENCIK |COP REFUND\", '', \n",
    "#                                 re.sub(\" binti \", \" bt \", str(x), flags = re.I), \n",
    "#                                 flags = re.IGNORECASE).strip() not in ['', 'nan'] else False).values\n",
    "#     resultArray = (rule1|rule2)\n",
    "#     resultArray = np.where(resultArray, ruleName, \"False\")\n",
    "    \n",
    "#     return resultArray\n",
    "\n",
    "#for merchant only\n",
    "def matchTruncated(name, series):\n",
    "    ruleName = \"matchTruncated\"\n",
    "    #match truncated name series with name if there is \n",
    "    rule1 = []\n",
    "    for value in series:\n",
    "        if re.search('.*\\d\\s*(.+)$', str(value)):\n",
    "            truncatedName = re.escape(re.search('.*\\d\\s*(.+)$', str(value)).group(1))\n",
    "            if truncatedName not in ['\\ ', 'nan'] and re.search(truncatedName, name, flags = re.IGNORECASE):\n",
    "                rule1.append(True)\n",
    "            else:\n",
    "                rule1.append(False)\n",
    "        else:\n",
    "            rule1.append(False)\n",
    "    resultArray = np.where(rule1, ruleName, \"False\")\n",
    "    return resultArray\n",
    "\n",
    "def noSpaceMatch(name, series):\n",
    "    ruleName = \"noSpaceMatch\"\n",
    "    cleanName = re.sub(\" \", \"\", str(name))\n",
    "    #remove space for BS reference to match wth name\n",
    "    rule1 = series.map(lambda x:True if re.search('%s'%re.escape(cleanName), \n",
    "                                                  re.sub(\" \", \"\", x), flags = re.IGNORECASE)\n",
    "                                    and cleanName not in ['', 'nan']\n",
    "                                else False).values\n",
    "#     rule2 = series.map(lambda x:True if re.search('%s'%re.escape(re.sub(' ','',re.sub(\"COP REFUND\", '',str(x)))), \n",
    "#                         str(name), flags = re.IGNORECASE) and re.sub(' ','',re.sub(\"COP REFUND\", '',str(x)))!=''\n",
    "#                             else False).values\n",
    "#     resultArray = (rule1|rule2)\n",
    "    resultArray = rule1\n",
    "    resultArray = np.where(resultArray, ruleName, \"False\")\n",
    "    return resultArray\n",
    "\n",
    "def matchAccountLast4Digit(accountNo, series):\n",
    "    ruleName = \"matchAccountLast4Digit\"\n",
    "    resultArray = series.map(lambda x:ruleName if re.search('%s'%accountNo, str(x), flags = re.IGNORECASE)\n",
    "                                        and len(accountNo) == 4 else \"False\").values\n",
    "    return resultArray\n",
    "\n",
    "def matchBillTypeRef(billType, series):\n",
    "    ruleName = \"matchBillTypeRef\"\n",
    "    if billType == '':\n",
    "        resultArray = np.full(len(series), \"False\")\n",
    "        reason = \"\"\n",
    "    else:\n",
    "        #if can find billtype - Indah water in reference \n",
    "        rule1 =  series\\\n",
    "                .map(lambda x: True if re.search('%s'%billType, str(x), flags = re.IGNORECASE) \n",
    "                     and str(x) not in  ['', 'nan'] else False).values\n",
    "        #if billtype is PAIP and Pengurusan air pahan in reference\n",
    "        rule2 = series\\\n",
    "                .map(lambda x: True if re.search('%s'%\"PENGURUSAN AIR PAHAN\", str(x), flags = re.IGNORECASE) \n",
    "                     and billType == 'PAIP' else False).values\n",
    "        #if billtype is PBA and perbadanan bekalan air in reference\n",
    "        rule3 = series\\\n",
    "                .map(lambda x: True if re.search('%s'%\"perbadanan bekalan air|perbadanan bekalan\", str(x), \n",
    "                                                 flags = re.IGNORECASE) \n",
    "                     and billType == 'PBA' else False).values\n",
    "        resultArray = (rule1|rule2|rule3)\n",
    "\n",
    "        resultArray = np.where(resultArray, ruleName, \"False\")\n",
    "    return resultArray\n",
    "\n",
    "def matchUniqueAmount(amount, series):\n",
    "    ruleName = \"matchUniqueAmount\"\n",
    "    #if only unique match in bs for amount\n",
    "    resultArray = series.map(lambda x:True if x == amount else False).values\n",
    "    if sum(resultArray) == 1:\n",
    "        return np.full(len(series), ruleName)\n",
    "    else:\n",
    "        return np.full(len(series), \"False\")\n",
    "\n",
    "def PartialMatch(df, indexCol, notMatchIndex, nameCol, dfBS, ruleType):\n",
    "    startTime = timer()\n",
    "    matchResult = []\n",
    "    df = df[df[indexCol].isin(notMatchIndex)].copy()\n",
    "    for no, row in enumerate(list(df.iterrows())):\n",
    "        #assign values to variables: POname, POamount, AccountNo, BillType\n",
    "        index = row[1][indexCol]\n",
    "        POname = row[1][nameCol]\n",
    "        POname = re.sub(\"\\u200b\", \"\", str(POname))\n",
    "        POname = re.sub(\"\\xa0\", \"\", str(POname))\n",
    "        POamount = row[1][poAmountCol]\n",
    "        #merchant, other payout\n",
    "        if \"Bank Acc\" in df.columns:\n",
    "            AccountNo = re.sub(' |-|\\.0|\\(|\\)','', str(row[1]['Bank Acc']))[-4:]\n",
    "            match4 = matchAccountLast4Digit(AccountNo, dfBS[bsMatchCol])\n",
    "        #bill payment\n",
    "        elif \"Acc Number\" in df.columns:\n",
    "            AccountNo = re.sub(' |-|\\.0|\\(|\\)','', str(row[1]['Acc Number']))[-4:]\n",
    "            match4 = matchAccountLast4Digit(AccountNo, dfBS[bsMatchCol])\n",
    "        else:\n",
    "            AccountNo = ''\n",
    "            \n",
    "        if 'Bill Type' in df.columns:\n",
    "            BillType = row[1]['Bill Type']\n",
    "            match5 = matchBillTypeRef(BillType, dfBS[bsMatchCol])\n",
    "        else:\n",
    "            BillType = ''\n",
    "        \n",
    "        #matching rules\n",
    "        if ruleType == \"Merchant\":\n",
    "            match1 = matchTruncated(POname, dfBS[bsMatchCol])\n",
    "        match2 = matchFirst2Terms(POname, dfBS[bsMatchCol])\n",
    "#         match3 = noSpacenoCopRefund(POname, dfBankStatement2[bsMatchCol])\n",
    "        match3 = noSpaceMatch(POname, dfBS[bsMatchCol])\n",
    "        match6 = matchUniqueAmount(POamount, dfBS[bsAmountCol])\n",
    "        ruleStr = \"|\".join(['(match%s!=\"False\")'%i for i in ruleDict[ruleType]])\n",
    "        checkRule = eval(ruleStr)\n",
    "        #assign bool statement to checkRule\n",
    "        #use result of matching rules to subset dfBankStatement2\n",
    "        dfMatch = dfBS[(dfBS[bsAmountCol] == POamount) & (checkRule)].copy()\n",
    "        \n",
    "        #to copy rulename if matches \n",
    "        ruleStr = '[' + ','.join(['match%s'%i for i in ruleDict[ruleType]]) + ']'\n",
    "        #assign list to ruleList\n",
    "        ruleList = eval(ruleStr)\n",
    "\n",
    "        if dfMatch.shape[0] >= 1:\n",
    "            BSname = dfMatch[bsMatchCol].values[0]\n",
    "            BSamount = dfMatch[bsAmountCol].values[0]   \n",
    "            BSindex = dfMatch[bsIndex].values[0]\n",
    "            NoRow = list(dfBS[bsIndex]).index(BSindex)\n",
    "            rule = ','.join([i[NoRow] for i in ruleList if i[NoRow]!=\"False\"])\n",
    "            matchResult.append([index, POname, POamount, BSindex, BSname, BSamount, rule])\n",
    "            \n",
    "#         elif dfMatch.shape[0] > 1:\n",
    "#             for no, name in enumerate(dfMatch[bsMatchCol].values):\n",
    "#                 BSname = name\n",
    "#                 BSamount = dfMatch[bsAmountCol].values[no]\n",
    "#                 BSindex = dfMatch[bsIndex].values[no]\n",
    "#                 NoRow = list(dfBS[bsIndex]).index(BSindex)\n",
    "#                 rule = ','.join([i[NoRow] for i in ruleList if i[NoRow]!=\"False\"])\n",
    "#                 #nid to remove duplicate after consolidation\n",
    "#                 matchResult.append([index, POname, POamount, BSindex, BSname, BSamount, rule])\n",
    "    \n",
    "    endTime = timer()\n",
    "    print(\"Total time: %0.4fs\" % (endTime - startTime))\n",
    "    return matchResult\n",
    "\n",
    "def constructTable(matchResult, df, indexName, nameCol, dType):\n",
    "    pandaList = []\n",
    "    for i in matchResult:\n",
    "        pandaList.append(i)\n",
    "    \n",
    "    dfMatchFinal = pd.DataFrame(pandaList)\n",
    "    if dfMatchFinal.shape[0]!=0:\n",
    "        #[index, POname, POamount, BSindex, BSname, BSamount, rule]\n",
    "        dfMatchFinal.columns = [indexName, poNameCol, poAmountCol, bsIndex, bsMatchCol, bsAmountCol, 'Reason']\n",
    "        dfMatchFinal['MatchCategory'] = \"PartialMatch\"\n",
    "        dfMatchFinal['DataType'] = dType\n",
    "        return dfMatchFinal\n",
    "    else:\n",
    "        return None"
   ]
  },
  {
   "cell_type": "code",
   "execution_count": 238,
   "metadata": {},
   "outputs": [
    {
     "name": "stdout",
     "output_type": "stream",
     "text": [
      "Total time: 124.0118s\n",
      "Total row - BS before match: 3966\n",
      "Total row - BS after match: 3198\n",
      "No Matches Previously: 812\n",
      "Partial Matches: 768\n"
     ]
    }
   ],
   "source": [
    "#if start from here: bsBackUp is bsIndexList \n",
    "# bsIndexList = bsBackUp\n",
    "\n",
    "#EU\n",
    "#768\n",
    "dfBankStatementTemp = dfBankStatement2[dfBankStatement2[bsIndex].isin(bsIndexList)].copy()\n",
    "matchResultEU = PartialMatch(dfEU, euIndex, noMatchEUList,\n",
    "                            payoutNameCol, dfBankStatementTemp, ruleType = \"General\")\n",
    "\n",
    "dfPartialMatchEU = constructTable(matchResultEU, dfEU, euIndex, poNameCol, 'EU')\n",
    "\n",
    "# dfPartialMatchEU.drop_duplicates(euIndex, inplace = True)\n",
    "dfPartialMatchEU.drop_duplicates(bsIndex, inplace = True)\n",
    "\n",
    "print(\"Total row - BS before match: %s\"%len(bsIndexList))\n",
    "#update bsIndexList\n",
    "bsIndexList = [i for i in bsIndexList if i not in dfPartialMatchEU['BS_Index'].unique()]\n",
    "print(\"Total row - BS after match: %s\"%len(bsIndexList))\n",
    "print(\"No Matches Previously: %s\"%len(noMatchEUList))\n",
    "print(\"Partial Matches: %s\"%dfPartialMatchEU.shape[0])"
   ]
  },
  {
   "cell_type": "code",
   "execution_count": 239,
   "metadata": {},
   "outputs": [
    {
     "name": "stdout",
     "output_type": "stream",
     "text": [
      "Total time: 10.1946s\n",
      "Total row - BS before match: 3198\n",
      "Total row - BS after match: 3114\n",
      "No Matches Previously: 86\n",
      "Partial Matches: 84\n"
     ]
    }
   ],
   "source": [
    "#COP\n",
    "#84\n",
    "dfBankStatementTemp = dfBankStatement2[dfBankStatement2[bsIndex].isin(bsIndexList)].copy()\n",
    "matchResultCOP = PartialMatch(dfCOP, copIndex, noMatchCOPList, \n",
    "                              payoutNameCol, dfBankStatementTemp, ruleType = \"General\")\n",
    "\n",
    "dfPartialMatchCOP = constructTable(matchResultCOP, dfCOP, copIndex, poNameCol, 'COP')\n",
    "\n",
    "# dfPartialMatchCOP.drop_duplicates(copIndex, inplace = True)\n",
    "dfPartialMatchCOP.drop_duplicates(bsIndex, inplace = True)\n",
    "\n",
    "print(\"Total row - BS before match: %s\"%len(bsIndexList))\n",
    "#update bsIndexList\n",
    "bsIndexList = [i for i in bsIndexList if i not in dfPartialMatchCOP['BS_Index'].unique()]\n",
    "print(\"Total row - BS after match: %s\"%len(bsIndexList))\n",
    "print(\"No Matches Previously: %s\"%len(noMatchCOPList))\n",
    "print(\"Partial Matches: %s\"%dfPartialMatchCOP.shape[0])"
   ]
  },
  {
   "cell_type": "code",
   "execution_count": 240,
   "metadata": {},
   "outputs": [
    {
     "name": "stdout",
     "output_type": "stream",
     "text": [
      "Total time: 0.4268s\n",
      "Total row - BS before match: 3114\n",
      "No Matches Previously: 4\n",
      "Total row - BS after match: 3112\n",
      "Partial Matches: 2\n"
     ]
    }
   ],
   "source": [
    "#Manage COP\n",
    "#2\n",
    "dfBankStatementTemp = dfBankStatement2[dfBankStatement2[bsIndex].isin(bsIndexList)].copy()\n",
    "matchResultManageCOP = PartialMatch(dfManageCOP, manageCOPIndex, noMatchManageCOPList,\n",
    "                                   payoutNameCol, dfBankStatementTemp, ruleType = \"General\")\n",
    "\n",
    "dfPartialMatchManageCOP = constructTable(matchResultManageCOP, dfManageCOP, manageCOPIndex, poNameCol, 'ManageCOP')\n",
    "\n",
    "if type(dfPartialMatchManageCOP) == pd.DataFrame:\n",
    "#     dfPartialMatchManageCOP.drop_duplicates(manageCOPIndex, inplace = True)\n",
    "    dfPartialMatchManageCOP.drop_duplicates(bsIndex, inplace = True)\n",
    "    \n",
    "print(\"Total row - BS before match: %s\"%len(bsIndexList))\n",
    "print(\"No Matches Previously: %s\"%len(noMatchManageCOPList))\n",
    "if type(dfPartialMatchManageCOP) == pd.DataFrame:\n",
    "    bsIndexList = [i for i in bsIndexList if i not in dfPartialMatchManageCOP['BS_Index'].unique()]\n",
    "    print(\"Total row - BS after match: %s\"%len(bsIndexList))\n",
    "    print(\"Partial Matches: %s\"%dfPartialMatchManageCOP.shape[0])"
   ]
  },
  {
   "cell_type": "code",
   "execution_count": 241,
   "metadata": {},
   "outputs": [],
   "source": [
    "bsBackUpMerchant = bsIndexList"
   ]
  },
  {
   "cell_type": "code",
   "execution_count": 260,
   "metadata": {},
   "outputs": [
    {
     "name": "stdout",
     "output_type": "stream",
     "text": [
      "Total time: 183.3632s\n",
      "Total time: 185.6491s\n",
      "Total row - BS before match: 3112\n",
      "No Matches Previously: 782\n",
      "Total row - BS after match: 2336\n",
      "Partial Matches: 776\n"
     ]
    }
   ],
   "source": [
    "# bsIndexList = bsBackUpMerchant\n",
    "\n",
    "#Merchant\n",
    "#702 before\n",
    "#827\n",
    "dfBankStatementTemp = dfBankStatement2[dfBankStatement2[bsIndex].isin(bsIndexList)].copy()\n",
    "MerchantList = []\n",
    "for colName in ['Merchant', 'Bank Acc Name']:\n",
    "    #replace noMatchMerchantList with a for testing purpose\n",
    "#     a = [1093, 1084, 224, 442, 481, 1040, 659, 1468]\n",
    "    matchResultMerchant = PartialMatch(dfMerchant, merchantIndex, noMatchMerchantList,\n",
    "                                       colName, dfBankStatementTemp, ruleType = \"Merchant\")\n",
    "    dfPartialMatchMerchant = constructTable(matchResultMerchant, dfMerchant, merchantIndex, colName, 'Merchant')\n",
    "    MerchantList.append(dfPartialMatchMerchant)\n",
    "    \n",
    "dfPartialMatchMerchant = pd.concat(MerchantList).copy()\n",
    "dfPartialMatchMerchant.drop_duplicates(merchantIndex, inplace = True)\n",
    "dfPartialMatchMerchant.drop_duplicates(bsIndex, inplace = True)\n",
    "\n",
    "print(\"Total row - BS before match: %s\"%len(bsIndexList))\n",
    "print(\"No Matches Previously: %s\"%len(noMatchMerchantList))\n",
    "# print(\"No Matches Previously: %s\"%len(a))\n",
    "bsIndexList = [i for i in bsIndexList if i not in dfPartialMatchMerchant['BS_Index'].unique()]\n",
    "print(\"Total row - BS after match: %s\"%len(bsIndexList))\n",
    "print(\"Partial Matches: %s\"%dfPartialMatchMerchant.shape[0])"
   ]
  },
  {
   "cell_type": "code",
   "execution_count": 244,
   "metadata": {},
   "outputs": [],
   "source": [
    "a = [100,\n",
    "1093,\n",
    "1421,\n",
    "1279,\n",
    "1179,\n",
    "1426,\n",
    "453,\n",
    "916,\n",
    "1084,\n",
    "1168,\n",
    "1252,\n",
    "460,\n",
    "529,\n",
    "171,\n",
    "224,\n",
    "611,\n",
    "442,\n",
    "1466,\n",
    "428,\n",
    "333,\n",
    "481,\n",
    "210,\n",
    "1350,\n",
    "1040,\n",
    "1583,\n",
    "659,\n",
    "360,\n",
    "773,\n",
    "1469,\n",
    "379,\n",
    "398,\n",
    "560,\n",
    "1468,\n",
    "513,\n",
    "1203,\n",
    "1261,\n",
    "11,\n",
    "802,\n",
    "1447,\n",
    "1339]"
   ]
  },
  {
   "cell_type": "code",
   "execution_count": 268,
   "metadata": {},
   "outputs": [
    {
     "data": {
      "text/plain": [
       "[1084, 481, 1468]"
      ]
     },
     "execution_count": 268,
     "metadata": {},
     "output_type": "execute_result"
    }
   ],
   "source": [
    "[i for i in a if i not in dfPartialMatchMerchant['Merchant_Index'].values]"
   ]
  },
  {
   "cell_type": "code",
   "execution_count": 269,
   "metadata": {},
   "outputs": [
    {
     "data": {
      "text/plain": [
       "[]"
      ]
     },
     "execution_count": 269,
     "metadata": {},
     "output_type": "execute_result"
    }
   ],
   "source": [
    "[i for i in [1084, 481, 1468] if i in dfMatchFinal['Merchant_Index'].values]"
   ]
  },
  {
   "cell_type": "code",
   "execution_count": 124,
   "metadata": {},
   "outputs": [
    {
     "data": {
      "text/plain": [
       "'MISC DR 0004313207971832PM03112003 MERCHANT REDEEMMERCHANT REDEEM 29102020 TING MEE NA'"
      ]
     },
     "execution_count": 124,
     "metadata": {},
     "output_type": "execute_result"
    }
   ],
   "source": [
    "dfBankStatement2.query(\"BS_Index == 1282\")['Reference 2'].values[0]"
   ]
  },
  {
   "cell_type": "code",
   "execution_count": 93,
   "metadata": {},
   "outputs": [
    {
     "data": {
      "text/html": [
       "<div>\n",
       "<style scoped>\n",
       "    .dataframe tbody tr th:only-of-type {\n",
       "        vertical-align: middle;\n",
       "    }\n",
       "\n",
       "    .dataframe tbody tr th {\n",
       "        vertical-align: top;\n",
       "    }\n",
       "\n",
       "    .dataframe thead th {\n",
       "        text-align: right;\n",
       "    }\n",
       "</style>\n",
       "<table border=\"1\" class=\"dataframe\">\n",
       "  <thead>\n",
       "    <tr style=\"text-align: right;\">\n",
       "      <th></th>\n",
       "      <th>Trn. Date</th>\n",
       "      <th>Reference 1</th>\n",
       "      <th>Reference 2</th>\n",
       "      <th>Debit Amount</th>\n",
       "      <th>Credit Amount</th>\n",
       "      <th>Balance</th>\n",
       "      <th>BS_Index</th>\n",
       "    </tr>\n",
       "  </thead>\n",
       "  <tbody>\n",
       "    <tr>\n",
       "      <th>1953</th>\n",
       "      <td>03/11</td>\n",
       "      <td>MISC DR 0006593207971832PM03112003 MERCHANT RE...</td>\n",
       "      <td>MISC DR 0006593207971832PM03112003 MERCHANT RE...</td>\n",
       "      <td>104.5</td>\n",
       "      <td>NaN</td>\n",
       "      <td>3.47408e+07</td>\n",
       "      <td>1953</td>\n",
       "    </tr>\n",
       "  </tbody>\n",
       "</table>\n",
       "</div>"
      ],
      "text/plain": [
       "     Trn. Date                                        Reference 1  \\\n",
       "1953     03/11  MISC DR 0006593207971832PM03112003 MERCHANT RE...   \n",
       "\n",
       "                                            Reference 2  Debit Amount  \\\n",
       "1953  MISC DR 0006593207971832PM03112003 MERCHANT RE...         104.5   \n",
       "\n",
       "      Credit Amount      Balance  BS_Index  \n",
       "1953            NaN  3.47408e+07      1953  "
      ]
     },
     "execution_count": 93,
     "metadata": {},
     "output_type": "execute_result"
    }
   ],
   "source": [
    "dfBankStatement2.query(\"BS_Index == 1953\")"
   ]
  },
  {
   "cell_type": "code",
   "execution_count": 151,
   "metadata": {},
   "outputs": [
    {
     "data": {
      "text/html": [
       "<div>\n",
       "<style scoped>\n",
       "    .dataframe tbody tr th:only-of-type {\n",
       "        vertical-align: middle;\n",
       "    }\n",
       "\n",
       "    .dataframe tbody tr th {\n",
       "        vertical-align: top;\n",
       "    }\n",
       "\n",
       "    .dataframe thead th {\n",
       "        text-align: right;\n",
       "    }\n",
       "</style>\n",
       "<table border=\"1\" class=\"dataframe\">\n",
       "  <thead>\n",
       "    <tr style=\"text-align: right;\">\n",
       "      <th></th>\n",
       "      <th>Withdraw Date</th>\n",
       "      <th>Merchant</th>\n",
       "      <th>Bank</th>\n",
       "      <th>Bank Acc Name</th>\n",
       "      <th>Bank Acc</th>\n",
       "      <th>Bank-in Slip</th>\n",
       "      <th>Bank-in By</th>\n",
       "      <th>Bank-in Date</th>\n",
       "      <th>Remarks</th>\n",
       "      <th>Status</th>\n",
       "      <th>Amount</th>\n",
       "      <th>Unnamed: 11</th>\n",
       "      <th>Unnamed: 12</th>\n",
       "      <th>DataType</th>\n",
       "      <th>Merchant_Index</th>\n",
       "    </tr>\n",
       "  </thead>\n",
       "  <tbody>\n",
       "    <tr>\n",
       "      <th>2936</th>\n",
       "      <td>2020-10-29 00:00:00</td>\n",
       "      <td>Nazara Permai Enterprise</td>\n",
       "      <td>Public Bank Berhad</td>\n",
       "      <td>Nazara Permai Enterprise</td>\n",
       "      <td>3988924404</td>\n",
       "      <td>NaN</td>\n",
       "      <td>NaN</td>\n",
       "      <td>NaN</td>\n",
       "      <td>NaN</td>\n",
       "      <td>Pending</td>\n",
       "      <td>1800.0</td>\n",
       "      <td>Edit</td>\n",
       "      <td>Reject</td>\n",
       "      <td>Merchant</td>\n",
       "      <td>1468</td>\n",
       "    </tr>\n",
       "  </tbody>\n",
       "</table>\n",
       "</div>"
      ],
      "text/plain": [
       "            Withdraw Date                  Merchant                Bank  \\\n",
       "2936  2020-10-29 00:00:00  Nazara Permai Enterprise  Public Bank Berhad   \n",
       "\n",
       "                 Bank Acc Name    Bank Acc  Bank-in Slip  Bank-in By  \\\n",
       "2936  Nazara Permai Enterprise  3988924404           NaN         NaN   \n",
       "\n",
       "      Bank-in Date  Remarks   Status  Amount Unnamed: 11 Unnamed: 12  \\\n",
       "2936           NaN      NaN  Pending  1800.0        Edit      Reject   \n",
       "\n",
       "      DataType  Merchant_Index  \n",
       "2936  Merchant            1468  "
      ]
     },
     "execution_count": 151,
     "metadata": {},
     "output_type": "execute_result"
    }
   ],
   "source": [
    "dfMerchant.query(\"Merchant_Index == 1468\")"
   ]
  },
  {
   "cell_type": "code",
   "execution_count": 138,
   "metadata": {},
   "outputs": [
    {
     "data": {
      "text/plain": [
       "'Nazara Permai Enterprise'"
      ]
     },
     "execution_count": 138,
     "metadata": {},
     "output_type": "execute_result"
    }
   ],
   "source": [
    "dfMerchant.query(\"Merchant_Index == 1468\")['Bank Acc Name'].values[0]"
   ]
  },
  {
   "cell_type": "code",
   "execution_count": 158,
   "metadata": {
    "collapsed": true
   },
   "outputs": [
    {
     "name": "stdout",
     "output_type": "stream",
     "text": [
      "NAZARA\\ PERMAI\\ EN\n",
      "MISC DR 0000213207971832PM03112098 COP REFUNDCOP REFUND 28102020 NAZARA PERMAI EN\n",
      "ENTERPR\n",
      "MISC DR 0000333207971832PM03112003 MERCHANT REDEEMMERCHANT REDEEM 29102020KONEE 88 ENTERPR\n",
      "NAZARA\\ PERMAI\\ EN\n",
      "DR-ECP 0001473207971832PM03112001 MERCHANT REDEEMMERCHANT REDEEM 29102020NAZARA PERMAI EN\n",
      "ENTERPR\n",
      "MISC DR 0002773207971832PM03112003 MERCHANT REDEEMMERCHANT REDEEM 28102020I FUN 28 ENTERPR\n",
      "ENTERP\n",
      "MISC DR 0003433207971832PM03112003 MERCHANT REDEEMMERCHANT REDEEM 29102020 KHOO 1888 ENTERP\n",
      "NAZARA\\ PERMAI\\ EN\n",
      "DR-ECP 0003573207971832PM03112001 MERCHANT REDEEMMERCHANT REDEEM 28102020NAZARA PERMAI EN\n",
      "NAZARA\\ PERMAI\\ EN\n",
      "DR-ECP 0003753207971832PM03112001 MERCHANT REDEEMMERCHANT REDEEM 28102020NAZARA PERMAI EN\n",
      "NAZARA\\ PERMAI\\ EN\n",
      "DR-ECP 0004053207971832PM03112001 MERCHANT REDEEMMERCHANT REDEEM 28102020NAZARA PERMAI EN\n",
      "ENTERPR\n",
      "MISC DR 0004813207971832PM03112003 MERCHANT REDEEMMERCHANT REDEEM 29102020I FUN 28 ENTERPR\n",
      "NAZARA\\ PERMAI\\ EN\n",
      "DR-ECP 0004873207971832PM03112001 MERCHANT REDEEM MERCHANT REDEEM 28102020NAZARA PERMAI EN\n",
      "ENTERPR\n",
      "MISC DR 0005173207971832PM03112003 MERCHANT REDEEMMERCHANT REDEEM 28102020I FUN 28 ENTERPR\n",
      "NAZARA\\ PERMAI\\ EN\n",
      "DR-ECP 0006573207971832PM03112001 MERCHANT REDEEMMERCHANT REDEEM 29102020NAZARA PERMAI EN\n",
      "NAZARA\\ PERMAI\\ EN\n",
      "DR-ECP 0007033207971832PM03112001 MERCHANT REDEEMMERCHANT REDEEM 29102020NAZARA PERMAI EN\n",
      "NAZARA\\ PERMAI\\ EN\n",
      "DR-ECP 0008953207971832PM03112001 MERCHANT REDEEMMERCHANT REDEEM 28102020NAZARA PERMAI EN\n"
     ]
    }
   ],
   "source": [
    "def matchTruncated(name, series):\n",
    "    ruleName = \"matchTruncated\"\n",
    "    #match truncated name series with name if there is \n",
    "    rule1 = []\n",
    "    for value in series:\n",
    "        if re.search('.*\\d\\s*(.+)$', str(value)):\n",
    "            truncatedName = re.escape(re.search('.*\\d\\s*(.+)$', str(value)).group(1))\n",
    "            if truncatedName not in ['\\ ', 'nan'] and re.search(truncatedName, name, flags = re.IGNORECASE):\n",
    "#             if re.search(truncatedName, name, flags = re.IGNORECASE):\n",
    "                print(truncatedName)\n",
    "                print(value)\n",
    "                rule1.append(True)\n",
    "            else:\n",
    "                rule1.append(False)\n",
    "        else:\n",
    "            rule1.append(False)\n",
    "    resultArray = np.where(rule1, ruleName, \"False\")\n",
    "    return resultArray\n",
    "\n",
    "b = matchTruncated('Nazara Permai Enterprise',dfBankStatement2['Reference 2'].values)"
   ]
  },
  {
   "cell_type": "code",
   "execution_count": 152,
   "metadata": {},
   "outputs": [
    {
     "name": "stdout",
     "output_type": "stream",
     "text": [
      "NAZARA\\ PERMAI\\ EN\n",
      "Nazara Permai Enterprise\n"
     ]
    }
   ],
   "source": [
    "name = dfMerchant.query(\"Merchant_Index == 1468\")['Bank Acc Name'].values[0]\n",
    "value = dfBankStatement2.query(\"BS_Index == 2081\")['Reference 2'].values[0]\n",
    "truncatedName = re.escape(re.search('.*\\d\\s*(.+)$', value).group(1))\n",
    "if re.search(truncatedName, name, flags = re.IGNORECASE) and truncatedName not in ['\\ ', 'nan']:\n",
    "    print(truncatedName)\n",
    "    print(name)"
   ]
  },
  {
   "cell_type": "code",
   "execution_count": 261,
   "metadata": {},
   "outputs": [
    {
     "name": "stdout",
     "output_type": "stream",
     "text": [
      "Total time: 73.0473s\n",
      "Total time: 70.0741s\n",
      "Total row - BS before match: 2336\n",
      "No Matches Previously: 655\n",
      "Total row - BS after match: 2327\n",
      "Partial Matches: 9\n"
     ]
    }
   ],
   "source": [
    "#Bill Payment\n",
    "#name, acc holder\n",
    "dfBankStatementTemp = dfBankStatement2[dfBankStatement2[bsIndex].isin(bsIndexList)].copy()\n",
    "BillPaymentList = []\n",
    "for colName in [billPaymentNameCol, 'Acc Holder']:\n",
    "    matchResultBP = PartialMatch(dfBillPayment, billPaymentIndex, noMatchBPList,\n",
    "                                 colName, dfBankStatementTemp, ruleType = \"BillPayment\")\n",
    "    dfPartialMatchBP = constructTable(matchResultBP, dfBillPayment, billPaymentIndex, colName, 'BillPayment')\n",
    "    BillPaymentList.append(dfPartialMatchBP)\n",
    "    \n",
    "#ll only keep d first record of multiple matches\n",
    "dfPartialMatchBP = pd.concat(BillPaymentList).copy()\n",
    "dfPartialMatchBP.drop_duplicates(billPaymentIndex, inplace = True)\n",
    "dfPartialMatchBP.drop_duplicates(bsIndex, inplace = True)\n",
    "\n",
    "print(\"Total row - BS before match: %s\"%len(bsIndexList))\n",
    "print(\"No Matches Previously: %s\"%len(noMatchBPList))\n",
    "bsIndexList = [i for i in bsIndexList if i not in dfPartialMatchBP['BS_Index'].unique()]\n",
    "print(\"Total row - BS after match: %s\"%len(bsIndexList))\n",
    "print(\"Partial Matches: %s\"%dfPartialMatchBP.shape[0])"
   ]
  },
  {
   "cell_type": "code",
   "execution_count": 262,
   "metadata": {},
   "outputs": [],
   "source": [
    "#combine all partial matches - edited\n",
    "dfPartialMatchFinal = pd.concat([dfPartialMatchEU, dfPartialMatchCOP, dfPartialMatchManageCOP,\n",
    "                                 dfPartialMatchBP, dfPartialMatchMerchant]).copy()\n",
    "csvFile =  'PartialMatch/' + 'PM_' + bsExcelFile.split('.')[0] + '.csv'\n",
    "dfPartialMatchFinal.to_csv(csvFile, index = False)\n",
    "\n",
    "dfMatchFinal = pd.concat([dfExactMatchFinal, dfPartialMatchFinal]).copy()\n",
    "\n",
    "#reconciled\n",
    "# reconciledEU_Sum + reconciledCOP_Sum + reconciledManageCOP_Sum + \\\n",
    "# reconciledBillPayment_Sum + reconciledMerchant_Sum\n",
    "\n",
    "# #unreconciled, in bs not in payout\n",
    "# noReconciledBankStatement_Sum\n",
    "\n",
    "# #handling charges\n",
    "# dfHC = dfBankStatement[dfBankStatement['Reference 1'].map(lambda x:\n",
    "#                                                     True if re.search(filterTransDesc, str(x))\n",
    "#                                                            else False)].copy()\n",
    "# dfHC['Debit Amount'].sum()"
   ]
  },
  {
   "cell_type": "code",
   "execution_count": 857,
   "metadata": {},
   "outputs": [
    {
     "data": {
      "text/plain": [
       "array([nan, 'matchFirst2Terms', 'matchFirst2Terms,matchUniqueAmount',\n",
       "       'matchUniqueAmount',\n",
       "       'matchFirst2Terms,matchAccountLast4Digit,matchUniqueAmount',\n",
       "       'matchFirst2Terms,noSpaceMatch', 'matchAccountLast4Digit',\n",
       "       'matchFirst2Terms,noSpaceMatch,matchUniqueAmount',\n",
       "       'matchBillTypeRef', 'matchFirst2Terms,matchAccountLast4Digit'],\n",
       "      dtype=object)"
      ]
     },
     "execution_count": 857,
     "metadata": {},
     "output_type": "execute_result"
    }
   ],
   "source": [
    "dfMatchFinal['Reason'].unique()"
   ]
  },
  {
   "cell_type": "markdown",
   "metadata": {},
   "source": [
    "### Summary"
   ]
  },
  {
   "cell_type": "code",
   "execution_count": 263,
   "metadata": {},
   "outputs": [],
   "source": [
    "reconciledEUIndex = dfMatchFinal[pd.notnull(dfMatchFinal['EU_Index'])]['EU_Index'].values\n",
    "reconciledCOPIndex = dfMatchFinal[pd.notnull(dfMatchFinal['COP_Index'])]['COP_Index'].values\n",
    "reconciledManageCOPIndex = dfMatchFinal[pd.notnull(dfMatchFinal['ManageCOP_Index'])]['ManageCOP_Index'].values\n",
    "reconciledBillPaymentIndex = dfMatchFinal[pd.notnull(dfMatchFinal['BP_Index'])]['BP_Index'].values\n",
    "reconciledMerchantIndex = dfMatchFinal[pd.notnull(dfMatchFinal['Merchant_Index'])]['Merchant_Index'].values\n",
    "# reconciledBankStatementIndex = dfMatchFinal[pd.notnull(dfMatchFinal['BS_Index'])]['BS_Index'].values\n",
    "noMatchesBankStatementIndex = bsIndexList\n",
    "\n",
    "reconciledEU_Sum = dfEU[dfEU['EU_Index'].isin(reconciledEUIndex)]['Amount'].sum()\n",
    "reconciledCOP_Sum  = dfCOP[dfCOP['COP_Index'].isin(reconciledCOPIndex)]['Amount'].sum()\n",
    "reconciledManageCOP_Sum  = dfManageCOP[dfManageCOP['ManageCOP_Index'].isin(reconciledManageCOPIndex)]['Amount'].sum()\n",
    "reconciledBillPayment_Sum  = dfBillPayment[dfBillPayment['BP_Index'].isin(reconciledBillPaymentIndex)]['Amount'].sum()\n",
    "reconciledMerchant_Sum  = dfMerchant[dfMerchant['Merchant_Index'].isin(reconciledMerchantIndex)]['Amount'].sum()\n",
    "\n",
    "noReconciledEU_Sum = dfEU[~dfEU['EU_Index'].isin(reconciledEUIndex)]['Amount'].sum()\n",
    "noReconciledCOP_Sum  = dfCOP[~dfCOP['COP_Index'].isin(reconciledCOPIndex)]['Amount'].sum()\n",
    "noReconciledManageCOP_Sum  = dfManageCOP[~dfManageCOP['ManageCOP_Index'].isin(reconciledManageCOPIndex)]['Amount'].sum()\n",
    "noReconciledBillPayment_Sum  = dfBillPayment[~dfBillPayment['BP_Index'].isin(reconciledBillPaymentIndex)]['Amount'].sum()\n",
    "noReconciledMerchant_Sum  = dfMerchant[~dfMerchant['Merchant_Index'].isin(reconciledMerchantIndex)]['Amount'].sum()\n",
    "noReconciledBankStatement_Sum = dfBankStatement2[dfBankStatement2['BS_Index'].isin(noMatchesBankStatementIndex)]['Debit Amount'].sum()\n",
    "\n",
    "pendingEU_Sum = dfEU[dfEU['Status'] == \"Pending\"]['Amount'].sum()\n",
    "pendingCOP_Sum = dfCOP[dfCOP['Status'] == \"Pending\"]['Amount'].sum()\n",
    "pendingManageCOP_Sum = dfManageCOP[dfManageCOP['Status'] == \"Pending\"]['Amount'].sum()\n",
    "pendingMerchant_Sum = dfMerchant[dfMerchant['Status'] == \"Pending\"]['Amount'].sum()\n",
    "billPayment_Sum = dfBillPayment['Amount'].sum()\n",
    "\n",
    "#handling charges\n",
    "dfHC = dfBankStatement[dfBankStatement['Reference 1'].map(lambda x:\n",
    "                                                    True if re.search(filterTransDesc, str(x))\n",
    "                                                           else False)].copy()\n",
    "HandlingSum = dfHC['Debit Amount'].sum()"
   ]
  },
  {
   "cell_type": "code",
   "execution_count": 264,
   "metadata": {},
   "outputs": [],
   "source": [
    "tableList = []\n",
    "tableList.append([\"Journal\", \"BS vs Payout (A)\", \"In BS, not in Payout (B)\", \"Not in BS (C)\"])\n",
    "\n",
    "tableList.append(['EU', reconciledEU_Sum, \"\", noReconciledEU_Sum])\n",
    "tableList.append(['COP', \"{:.2f}\".format(reconciledCOP_Sum), \"\", noReconciledCOP_Sum])\n",
    "tableList.append(['Manage COP', reconciledManageCOP_Sum, \"\", \n",
    "                  noReconciledManageCOP_Sum])\n",
    "tableList.append(['Bill Payment', reconciledBillPayment_Sum, \"\", \n",
    "                  noReconciledBillPayment_Sum])\n",
    "tableList.append(['Merchant', reconciledMerchant_Sum, \"\", \n",
    "                  noReconciledMerchant_Sum])\n",
    "tableList.append(['DIS', \"\", \"\", \"\"])\n",
    "tableList.append(['QS DIS', \"\", \"\", \"\"])\n",
    "tableList.append(['Handling Charges', \"\", HandlingSum, \"\"])\n",
    "tableList.append(['Misc', \"\", noReconciledBankStatement_Sum, \"\"])\n",
    "totalReconciled = reconciledEU_Sum + reconciledCOP_Sum + reconciledManageCOP_Sum\\\n",
    "                  + reconciledBillPayment_Sum + reconciledMerchant_Sum\n",
    "totalnoReconciled = noReconciledEU_Sum + noReconciledCOP_Sum + \\\n",
    "                    noReconciledManageCOP_Sum + noReconciledBillPayment_Sum + \\\n",
    "                    noReconciledMerchant_Sum \n",
    "tableList.append(['Total', \"{:.2f}\".format(totalReconciled), \"{:.2f}\".format(noReconciledBankStatement_Sum + HandlingSum),\n",
    "                  \"{:.2f}\".format(totalnoReconciled)])\n",
    "tableList.append(['Total (A)+(B) / (A)+(C)', \n",
    "                  \"{:.2f}\".format(totalReconciled + noReconciledBankStatement_Sum),\n",
    "                 \"\", \"{:.2f}\".format(totalReconciled + totalnoReconciled)])\n",
    "pendingTotal = pendingEU_Sum + pendingCOP_Sum + pendingManageCOP_Sum\\\n",
    "                + pendingMerchant_Sum + billPayment_Sum\n",
    "tableList.append(['As per BS / Payout', \"({:.2f})\".format(totalReconciled + noReconciledBankStatement_Sum),\n",
    "                                  \"\", \"({:.2f})\".format(pendingTotal)])\n",
    "tableList.append(['Variance', \"\", \"\", totalReconciled + totalnoReconciled - pendingTotal])\n",
    "unconvertedBSpercent = (noReconciledBankStatement_Sum/(totalReconciled + noReconciledBankStatement_Sum + HandlingSum))*100\n",
    "unconvertedPOpercent = (totalnoReconciled/(totalReconciled + totalnoReconciled))*100\n",
    "tableList.append([\"Unconverted percent\", \"\", \"{:.2f}\".format(unconvertedBSpercent),\n",
    "                 \"{:.2f}\".format(unconvertedPOpercent)])"
   ]
  },
  {
   "cell_type": "code",
   "execution_count": 265,
   "metadata": {},
   "outputs": [
    {
     "data": {
      "text/html": [
       "<div>\n",
       "<style scoped>\n",
       "    .dataframe tbody tr th:only-of-type {\n",
       "        vertical-align: middle;\n",
       "    }\n",
       "\n",
       "    .dataframe tbody tr th {\n",
       "        vertical-align: top;\n",
       "    }\n",
       "\n",
       "    .dataframe thead th {\n",
       "        text-align: right;\n",
       "    }\n",
       "</style>\n",
       "<table border=\"1\" class=\"dataframe\">\n",
       "  <thead>\n",
       "    <tr style=\"text-align: right;\">\n",
       "      <th></th>\n",
       "      <th></th>\n",
       "      <th>Reconciled</th>\n",
       "      <th>No reconciled</th>\n",
       "      <th>No reconciled2</th>\n",
       "    </tr>\n",
       "  </thead>\n",
       "  <tbody>\n",
       "    <tr>\n",
       "      <th>0</th>\n",
       "      <td>Journal</td>\n",
       "      <td>BS vs Payout (A)</td>\n",
       "      <td>In BS, not in Payout (B)</td>\n",
       "      <td>Not in BS (C)</td>\n",
       "    </tr>\n",
       "    <tr>\n",
       "      <th>1</th>\n",
       "      <td>EU</td>\n",
       "      <td>5.72314e+06</td>\n",
       "      <td></td>\n",
       "      <td>42010</td>\n",
       "    </tr>\n",
       "    <tr>\n",
       "      <th>2</th>\n",
       "      <td>COP</td>\n",
       "      <td>1358610.00</td>\n",
       "      <td></td>\n",
       "      <td>75000</td>\n",
       "    </tr>\n",
       "    <tr>\n",
       "      <th>3</th>\n",
       "      <td>Manage COP</td>\n",
       "      <td>35939</td>\n",
       "      <td></td>\n",
       "      <td>4659</td>\n",
       "    </tr>\n",
       "    <tr>\n",
       "      <th>4</th>\n",
       "      <td>Bill Payment</td>\n",
       "      <td>1770.35</td>\n",
       "      <td></td>\n",
       "      <td>107697</td>\n",
       "    </tr>\n",
       "    <tr>\n",
       "      <th>5</th>\n",
       "      <td>Merchant</td>\n",
       "      <td>1.59164e+06</td>\n",
       "      <td></td>\n",
       "      <td>3292.82</td>\n",
       "    </tr>\n",
       "    <tr>\n",
       "      <th>6</th>\n",
       "      <td>DIS</td>\n",
       "      <td></td>\n",
       "      <td></td>\n",
       "      <td></td>\n",
       "    </tr>\n",
       "    <tr>\n",
       "      <th>7</th>\n",
       "      <td>QS DIS</td>\n",
       "      <td></td>\n",
       "      <td></td>\n",
       "      <td></td>\n",
       "    </tr>\n",
       "    <tr>\n",
       "      <th>8</th>\n",
       "      <td>Handling Charges</td>\n",
       "      <td></td>\n",
       "      <td>609.4</td>\n",
       "      <td></td>\n",
       "    </tr>\n",
       "    <tr>\n",
       "      <th>9</th>\n",
       "      <td>Misc</td>\n",
       "      <td></td>\n",
       "      <td>219348</td>\n",
       "      <td></td>\n",
       "    </tr>\n",
       "    <tr>\n",
       "      <th>10</th>\n",
       "      <td>Total</td>\n",
       "      <td>8711101.42</td>\n",
       "      <td>219956.97</td>\n",
       "      <td>232658.96</td>\n",
       "    </tr>\n",
       "    <tr>\n",
       "      <th>11</th>\n",
       "      <td>Total (A)+(B) / (A)+(C)</td>\n",
       "      <td>8930448.99</td>\n",
       "      <td></td>\n",
       "      <td>8943760.38</td>\n",
       "    </tr>\n",
       "    <tr>\n",
       "      <th>12</th>\n",
       "      <td>As per BS / Payout</td>\n",
       "      <td>(8930448.99)</td>\n",
       "      <td></td>\n",
       "      <td>(8943760.38)</td>\n",
       "    </tr>\n",
       "    <tr>\n",
       "      <th>13</th>\n",
       "      <td>Variance</td>\n",
       "      <td></td>\n",
       "      <td></td>\n",
       "      <td>0</td>\n",
       "    </tr>\n",
       "    <tr>\n",
       "      <th>14</th>\n",
       "      <td>Unconverted percent</td>\n",
       "      <td></td>\n",
       "      <td>2.46</td>\n",
       "      <td>2.60</td>\n",
       "    </tr>\n",
       "  </tbody>\n",
       "</table>\n",
       "</div>"
      ],
      "text/plain": [
       "                                   Reconciled             No reconciled  \\\n",
       "0                   Journal  BS vs Payout (A)  In BS, not in Payout (B)   \n",
       "1                        EU       5.72314e+06                             \n",
       "2                       COP        1358610.00                             \n",
       "3                Manage COP             35939                             \n",
       "4              Bill Payment           1770.35                             \n",
       "5                  Merchant       1.59164e+06                             \n",
       "6                       DIS                                               \n",
       "7                    QS DIS                                               \n",
       "8          Handling Charges                                       609.4   \n",
       "9                      Misc                                      219348   \n",
       "10                    Total        8711101.42                 219956.97   \n",
       "11  Total (A)+(B) / (A)+(C)        8930448.99                             \n",
       "12       As per BS / Payout      (8930448.99)                             \n",
       "13                 Variance                                               \n",
       "14      Unconverted percent                                        2.46   \n",
       "\n",
       "   No reconciled2  \n",
       "0   Not in BS (C)  \n",
       "1           42010  \n",
       "2           75000  \n",
       "3            4659  \n",
       "4          107697  \n",
       "5         3292.82  \n",
       "6                  \n",
       "7                  \n",
       "8                  \n",
       "9                  \n",
       "10      232658.96  \n",
       "11     8943760.38  \n",
       "12   (8943760.38)  \n",
       "13              0  \n",
       "14           2.60  "
      ]
     },
     "execution_count": 265,
     "metadata": {},
     "output_type": "execute_result"
    }
   ],
   "source": [
    "summaryTable = pd.DataFrame(tableList)\n",
    "summaryTable.columns = [\"\", \"Reconciled\", \"No reconciled\", \"No reconciled2\"]\n",
    "summaryTable"
   ]
  },
  {
   "cell_type": "code",
   "execution_count": 266,
   "metadata": {},
   "outputs": [
    {
     "data": {
      "text/plain": [
       "8931058.39"
      ]
     },
     "execution_count": 266,
     "metadata": {},
     "output_type": "execute_result"
    }
   ],
   "source": [
    "8711101.42 + 219956.97"
   ]
  },
  {
   "cell_type": "code",
   "execution_count": 861,
   "metadata": {},
   "outputs": [
    {
     "data": {
      "text/plain": [
       "'ExactMatch/EM_23_11 3207971832_2020.xlsx'"
      ]
     },
     "execution_count": 861,
     "metadata": {},
     "output_type": "execute_result"
    }
   ],
   "source": [
    "excelFile"
   ]
  },
  {
   "cell_type": "code",
   "execution_count": 267,
   "metadata": {},
   "outputs": [
    {
     "name": "stdout",
     "output_type": "stream",
     "text": [
      "Nov2020_MatchingResult/03_11 3207971832_2020.xlsx\n"
     ]
    }
   ],
   "source": [
    "#no reconciled bs\n",
    "noReconciledBSdf = dfBankStatement2[dfBankStatement2['BS_Index'].isin(noMatchesBankStatementIndex)].copy()\n",
    "#no reconciled payout\n",
    "dfNoMatchFinal = pd.concat([dfEU[~dfEU['EU_Index'].isin(reconciledEUIndex)],\n",
    "                           dfCOP[~dfCOP['COP_Index'].isin(reconciledCOPIndex)],\n",
    "                           dfManageCOP[~dfManageCOP['ManageCOP_Index'].isin(reconciledManageCOPIndex)],\n",
    "                           dfBillPayment[~dfBillPayment['BP_Index'].isin(reconciledBillPaymentIndex)],\n",
    "                           dfMerchant[~dfMerchant['Merchant_Index'].isin(reconciledMerchantIndex)]]).copy()\n",
    "\n",
    "excelFile = outputFolder + '/' +  bsExcelFile\n",
    "print(excelFile)\n",
    "with pd.ExcelWriter(excelFile) as writer:\n",
    "    summaryTable.to_excel(writer, index = False, sheet_name = 'Summary')\n",
    "    dfMatchFinal.to_excel(writer, index = False, sheet_name = 'Reconciled')\n",
    "    noReconciledBSdf.to_excel(writer, index = False, sheet_name = \"NotReconciled_BS\")\n",
    "    dfNoMatchFinal.to_excel(writer, index = False, sheet_name = \"NotReconciled_Payout\")\n",
    "    dfEU.to_excel(writer, index = False, sheet_name = \"EU\")\n",
    "    dfCOP.to_excel(writer, index = False, sheet_name = \"COP\")\n",
    "    dfManageCOP.to_excel(writer, index = False, sheet_name = \"ManageCOP\")\n",
    "    dfMerchant.to_excel(writer, index = False, sheet_name = \"Merchant\")\n",
    "    dfBillPayment.to_excel(writer, index = False, sheet_name = \"BillPayment\")\n",
    "    dfBankStatement2.to_excel(writer, index = False, sheet_name = \"BankStatement\")"
   ]
  },
  {
   "cell_type": "code",
   "execution_count": null,
   "metadata": {},
   "outputs": [],
   "source": []
  }
 ],
 "metadata": {
  "kernelspec": {
   "display_name": "Python 3",
   "language": "python",
   "name": "python3"
  },
  "language_info": {
   "codemirror_mode": {
    "name": "ipython",
    "version": 3
   },
   "file_extension": ".py",
   "mimetype": "text/x-python",
   "name": "python",
   "nbconvert_exporter": "python",
   "pygments_lexer": "ipython3",
   "version": "3.7.6"
  }
 },
 "nbformat": 4,
 "nbformat_minor": 4
}
