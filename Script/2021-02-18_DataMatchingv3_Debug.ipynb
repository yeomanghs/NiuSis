{
 "cells": [
  {
   "cell_type": "code",
   "execution_count": 1,
   "metadata": {},
   "outputs": [],
   "source": [
    "import pandas as pd\n",
    "import re\n",
    "import openpyxl \n",
    "import numpy as np\n",
    "from timeit import default_timer as timer\n",
    "from datetime import datetime\n",
    "import os\n",
    "\n",
    "pd.set_option('display.max_columns', 100)\n",
    "pd.set_option('display.max_rows', 100)"
   ]
  },
  {
   "cell_type": "code",
   "execution_count": 2,
   "metadata": {},
   "outputs": [
    {
     "data": {
      "text/plain": [
       "datetime.datetime(1900, 11, 3, 0, 0)"
      ]
     },
     "execution_count": 2,
     "metadata": {},
     "output_type": "execute_result"
    }
   ],
   "source": [
    "#predefine parameters\n",
    "filterTransDesc = \"HANDLING CHRG\"\n",
    "\n",
    "#name col to remove rows with missing na or to match bs\n",
    "payoutNameCol = 'Member Name'\n",
    "merchantNameCol = 'Merchant'\n",
    "merchantBankNameCol = 'Bank Acc Name'\n",
    "billPaymentNameCol = \"Name\"\n",
    "\n",
    "#col of payout to match amount (payout, merchant and bill payment must have)\n",
    "poAmountCol = \"Amount\"\n",
    "#col of final output as name\n",
    "poNameCol = \"Member Name\"\n",
    "bsName = \"BS Name\"\n",
    "\n",
    "#cols to match in bank statement\n",
    "# bsColMatchList = ['Reference 1', 'Reference 2', 'Reference 3', 'Reference 4']\n",
    "bsMatchCol = \"Reference 2\"\n",
    "bsAmountCol = \"Debit Amount\"\n",
    "\n",
    "#index col to track rows\n",
    "euIndex = \"EU_Index\"\n",
    "copIndex = \"COP_Index\"\n",
    "manageCOPIndex = \"ManageCOP_Index\"\n",
    "merchantIndex = \"Merchant_Index\"\n",
    "billPaymentIndex = \"BP_Index\"\n",
    "bsIndex = \"BS_Index\"\n",
    "\n",
    "#ruleDict, which file type to use which set of rules\n",
    "ruleDict = {\"General\":[1, 2, 3, 4, 6],\n",
    "           \"Merchant\":[1, 2, 3, 4],\n",
    "           \"BillPayment\":[2, 5]}\n",
    "\n",
    "payoutExcelFile = \"Quinton_Payout_202011/PAYOUT - 03.11.2020 .xlsx\"\n",
    "# payoutExcelFile = \"Quinton_Payout_202012/PAYOUT - 04.12.2020.xlsx\"\n",
    "\n",
    "#get date\n",
    "date = re.search('^.*?(\\d+\\.\\d+)',payoutExcelFile.split('-')[1]).group(1)\n",
    "date = datetime.strptime(date, '%d.%m')\n",
    "date"
   ]
  },
  {
   "cell_type": "code",
   "execution_count": 3,
   "metadata": {},
   "outputs": [
    {
     "name": "stdout",
     "output_type": "stream",
     "text": [
      "EU WS - 26.10- EU\n",
      "COP WS - 28-29.10-COP\n",
      "ManageCOP WS - 28-19.10-MANAGE COP\n",
      "Merchant WS - 28-29.10-MERCHANT \n",
      "BillPayment WS - 30.10-01.11-BILL PAYMENT \n"
     ]
    }
   ],
   "source": [
    "#get worksheet names\n",
    "wb = openpyxl.load_workbook(payoutExcelFile)\n",
    "wsList = wb.sheetnames\n",
    "\n",
    "EU_ws = [i for i in wsList if re.search('EU\\s*$', i)][0]\n",
    "#preceding cannot be manage\n",
    "COP_ws = [i for i in wsList if re.search('(?<!MANAGE[\\s\\-])COP\\s*$', i)][0]\n",
    "ManageCOP_ws = [i for i in wsList if re.search('MANAGE COP\\s*$', i)][0]\n",
    "Merchant_ws = [i for i in wsList if re.search('MERCHANT[^-]', i)][0]\n",
    "BillPayment_ws = [i for i in wsList if re.search('BILL PAYMENT[^-]*\\s*$', i)][0]\n",
    "print(\"EU WS - %s\"%EU_ws)\n",
    "print(\"COP WS - %s\"%COP_ws)\n",
    "print(\"ManageCOP WS - %s\"%ManageCOP_ws)\n",
    "print(\"Merchant WS - %s\"%Merchant_ws)\n",
    "print(\"BillPayment WS - %s\"%BillPayment_ws)\n",
    "\n",
    "#read file\n",
    "\n",
    "#read payout files - EU, COP and ManageCOP\n",
    "dfEU = pd.read_excel(payoutExcelFile, sheet_name = EU_ws)\n",
    "#remove empty member name\n",
    "dfEU = dfEU[pd.notnull(dfEU[payoutNameCol])]\n",
    "dfEU['DataType'] = \"EU\" \n",
    "\n",
    "dfCOP = pd.read_excel(payoutExcelFile, sheet_name = COP_ws)\n",
    "#remove empty member name\n",
    "dfCOP = dfCOP[pd.notnull(dfCOP[payoutNameCol])]\n",
    "dfCOP['DataType'] = \"COP\" \n",
    "\n",
    "dfManageCOP = pd.read_excel(payoutExcelFile, sheet_name = ManageCOP_ws)\n",
    "#remove empty member name\n",
    "dfManageCOP = dfManageCOP[pd.notnull(dfManageCOP[payoutNameCol])]\n",
    "dfManageCOP['DataType'] = \"ManageCOP\" \n",
    "\n",
    "#merchant file\n",
    "dfMerchant = pd.read_excel(payoutExcelFile, sheet_name = Merchant_ws)\n",
    "#remove empty merchant col\n",
    "dfMerchant = dfMerchant[pd.notnull(dfMerchant[merchantNameCol])]\n",
    "dfMerchant['DataType'] = \"Merchant\" \n",
    "\n",
    "dfBillPayment = pd.read_excel(payoutExcelFile, sheet_name = BillPayment_ws)\n",
    "#remove empty name\n",
    "dfBillPayment = dfBillPayment[pd.notnull(dfBillPayment[billPaymentNameCol])]\n",
    "dfBillPayment['DataType'] = \"BillPayment\" \n",
    "\n",
    "#create index\n",
    "dfEU[euIndex] = np.arange(dfEU.shape[0])\n",
    "dfCOP[copIndex] = np.arange(dfCOP.shape[0])\n",
    "dfManageCOP[manageCOPIndex] = np.arange(dfManageCOP.shape[0])\n",
    "dfMerchant[merchantIndex] = np.arange(dfMerchant.shape[0])\n",
    "dfBillPayment[billPaymentIndex] = np.arange(dfBillPayment.shape[0])"
   ]
  },
  {
   "cell_type": "code",
   "execution_count": 4,
   "metadata": {},
   "outputs": [
    {
     "name": "stdout",
     "output_type": "stream",
     "text": [
      "Output filename: 03_11 3207971832_2020.xlsx\n"
     ]
    }
   ],
   "source": [
    "if date.month == 11:\n",
    "    bsFolder = 'Nov2020_Result'\n",
    "    outputFolder = \"Nov2020_MatchingResult\"\n",
    "elif date.month == 12:\n",
    "    bsFolder = \"Dec2020_Result\"\n",
    "    outputFolder = \"Dec2020_MatchingResult\"\n",
    "bsDatePattern = date.strftime('%d_%m')\n",
    "bsExcelFile = [i for i in os.listdir(bsFolder) if re.search(bsDatePattern, i)][0]\n",
    "print(\"Output filename: %s\"%bsExcelFile)\n",
    "\n",
    "# dfBankStatement = pd.read_excel(bsFolder + '/' + bsExcelFile, skiprows = 9)\n",
    "dfBankStatement = pd.read_excel(\"03_11 3207971832_2020_addRef.xlsx\", skiprows = 9)\n",
    "\n",
    "#filter out ref1 gas \n",
    "filterTransDesc = \"HANDLING CHRG\"\n",
    "dfBankStatement2 = dfBankStatement[dfBankStatement[bsMatchCol].map(lambda x:\n",
    "                                                    False if re.search(filterTransDesc, str(x))\n",
    "                                                           else True)].copy()\n",
    "\n",
    "#create bsIndex\n",
    "dfBankStatement2[bsIndex] = np.arange(dfBankStatement2.shape[0])\n",
    "#keep track bsIndex list\n",
    "bsIndexList = dfBankStatement2[bsIndex].unique()"
   ]
  },
  {
   "cell_type": "code",
   "execution_count": 62,
   "metadata": {},
   "outputs": [],
   "source": [
    "bsIndexList = dfBankStatement2[bsIndex].unique()"
   ]
  },
  {
   "cell_type": "code",
   "execution_count": 42,
   "metadata": {},
   "outputs": [],
   "source": [
    "def ExactMatch(df, indexCol, nameCol, dfBS, dtype):\n",
    "    startTime = timer()\n",
    "    nameList = [str(i).lower() for i in df[nameCol].values]\n",
    "    amountList = df[poAmountCol].values\n",
    "    indexList = df[indexCol].values\n",
    "    matchResult = []\n",
    "    for no, name in enumerate(nameList):\n",
    "        POindex = indexList[no]\n",
    "        POname = nameList[no]\n",
    "        POamount = amountList[no]\n",
    "        dfTemp = dfBS[(dfBS[bsMatchCol].map(lambda x:name in x.lower() and x.lower()!='nan'))\n",
    "                        & (dfBS[bsAmountCol] == amountList[no])].copy()\n",
    "        if dfTemp.shape[0] >= 1:\n",
    "            bsAmount = dfTemp[bsAmountCol].values[0]\n",
    "            bsMatchIndex = dfTemp[bsIndex].values[0]\n",
    "            bsName = dfTemp[bsMatchCol].values[0]\n",
    "            #[POindex, POname, POamount, BSindex, BSname, BSamount]\n",
    "            matchResult.append([POindex, POname, POamount,\n",
    "                               bsMatchIndex, bsName, bsAmount])\n",
    "            \n",
    "#         elif dfTemp.shape[0] > 1:\n",
    "#             for no2, name in enumerate(dfTemp[bsMatchCol].values):\n",
    "#                 BSname = name\n",
    "#                 BSamount = dfTemp[bsAmountCol].values[no2]\n",
    "#                 BSindex = dfTemp[bsIndex].values[no2]\n",
    "#                 NoRow = list(dfBS[bsIndex]).index(BSindex)\n",
    "#                 #nid to remove duplicate after consolidation\n",
    "#                 matchResult.append([POindex, POname, POamount, \n",
    "#                                     BSindex, BSname, BSamount])\n",
    "    #form table\n",
    "    colList = [indexCol, nameCol, poAmountCol, \n",
    "               bsIndex, bsMatchCol, bsAmountCol]\n",
    "    dfResult = pd.DataFrame(matchResult, columns = colList).copy()\n",
    "    dfResult['MatchCategory'] = \"ExactMatch\"\n",
    "    dfResult['DataType'] = dtype\n",
    "    dfResult.rename(columns = {nameCol: payoutNameCol}, inplace = True)\n",
    "    endTime = timer()\n",
    "    print(\"Total time: %0.4fs\" % (endTime - startTime))\n",
    "    return dfResult"
   ]
  },
  {
   "cell_type": "code",
   "execution_count": 121,
   "metadata": {},
   "outputs": [
    {
     "data": {
      "text/html": [
       "<div>\n",
       "<style scoped>\n",
       "    .dataframe tbody tr th:only-of-type {\n",
       "        vertical-align: middle;\n",
       "    }\n",
       "\n",
       "    .dataframe tbody tr th {\n",
       "        vertical-align: top;\n",
       "    }\n",
       "\n",
       "    .dataframe thead th {\n",
       "        text-align: right;\n",
       "    }\n",
       "</style>\n",
       "<table border=\"1\" class=\"dataframe\">\n",
       "  <thead>\n",
       "    <tr style=\"text-align: right;\">\n",
       "      <th></th>\n",
       "      <th>Country</th>\n",
       "      <th>Withdraw Date</th>\n",
       "      <th>Username</th>\n",
       "      <th>Member Name</th>\n",
       "      <th>Withdraw</th>\n",
       "      <th>Package</th>\n",
       "      <th>Bank</th>\n",
       "      <th>Bank Acc</th>\n",
       "      <th>Bank-in Slip</th>\n",
       "      <th>Bank-in By</th>\n",
       "      <th>Bank-in Date</th>\n",
       "      <th>Remarks</th>\n",
       "      <th>Status</th>\n",
       "      <th>Amount</th>\n",
       "      <th>Unnamed: 14</th>\n",
       "      <th>Unnamed: 15</th>\n",
       "      <th>DataType</th>\n",
       "      <th>EU_Index</th>\n",
       "    </tr>\n",
       "  </thead>\n",
       "  <tbody>\n",
       "    <tr>\n",
       "      <th>1275</th>\n",
       "      <td>MALAYSIA</td>\n",
       "      <td>2020-10-26</td>\n",
       "      <td>nozie1430</td>\n",
       "      <td>NOOR ZILFADZLINA BINTI MAMAT</td>\n",
       "      <td>EU</td>\n",
       "      <td>EU</td>\n",
       "      <td>CIMB-MALAYSIA</td>\n",
       "      <td>7048697132</td>\n",
       "      <td>NaN</td>\n",
       "      <td>NaN</td>\n",
       "      <td>NaN</td>\n",
       "      <td>NaN</td>\n",
       "      <td>Pending</td>\n",
       "      <td>499.0</td>\n",
       "      <td>Edit</td>\n",
       "      <td>Reject</td>\n",
       "      <td>EU</td>\n",
       "      <td>1275</td>\n",
       "    </tr>\n",
       "  </tbody>\n",
       "</table>\n",
       "</div>"
      ],
      "text/plain": [
       "       Country Withdraw Date   Username                   Member Name  \\\n",
       "1275  MALAYSIA    2020-10-26  nozie1430  NOOR ZILFADZLINA BINTI MAMAT   \n",
       "\n",
       "     Withdraw Package           Bank    Bank Acc  Bank-in Slip  Bank-in By  \\\n",
       "1275       EU      EU  CIMB-MALAYSIA  7048697132           NaN         NaN   \n",
       "\n",
       "      Bank-in Date  Remarks   Status  Amount Unnamed: 14 Unnamed: 15 DataType  \\\n",
       "1275           NaN      NaN  Pending   499.0        Edit      Reject       EU   \n",
       "\n",
       "      EU_Index  \n",
       "1275      1275  "
      ]
     },
     "execution_count": 121,
     "metadata": {},
     "output_type": "execute_result"
    }
   ],
   "source": [
    "dfEU.query(\"EU_Index == 1275\")"
   ]
  },
  {
   "cell_type": "code",
   "execution_count": 119,
   "metadata": {},
   "outputs": [
    {
     "data": {
      "text/plain": [
       "'NOOR ZILFADZLINA BINTI MAMAT'"
      ]
     },
     "execution_count": 119,
     "metadata": {},
     "output_type": "execute_result"
    }
   ],
   "source": [
    "dfEU.query(\"EU_Index == 1275\")['Member Name'].values[0]"
   ]
  },
  {
   "cell_type": "code",
   "execution_count": 122,
   "metadata": {},
   "outputs": [
    {
     "data": {
      "text/html": [
       "<div>\n",
       "<style scoped>\n",
       "    .dataframe tbody tr th:only-of-type {\n",
       "        vertical-align: middle;\n",
       "    }\n",
       "\n",
       "    .dataframe tbody tr th {\n",
       "        vertical-align: top;\n",
       "    }\n",
       "\n",
       "    .dataframe thead th {\n",
       "        text-align: right;\n",
       "    }\n",
       "</style>\n",
       "<table border=\"1\" class=\"dataframe\">\n",
       "  <thead>\n",
       "    <tr style=\"text-align: right;\">\n",
       "      <th></th>\n",
       "      <th>Trn. Date</th>\n",
       "      <th>Reference 1</th>\n",
       "      <th>Reference 2</th>\n",
       "      <th>Debit Amount</th>\n",
       "      <th>Credit Amount</th>\n",
       "      <th>Balance</th>\n",
       "      <th>BS_Index</th>\n",
       "    </tr>\n",
       "  </thead>\n",
       "  <tbody>\n",
       "    <tr>\n",
       "      <th>6350</th>\n",
       "      <td>03/11</td>\n",
       "      <td>MISC DR 0028193207971832PM03112099 EU REFUNDEU...</td>\n",
       "      <td>MISC DR 0028193207971832PM03112099 EU REFUNDEU...</td>\n",
       "      <td>499.0</td>\n",
       "      <td>NaN</td>\n",
       "      <td>3.25766e+07</td>\n",
       "      <td>4373</td>\n",
       "    </tr>\n",
       "  </tbody>\n",
       "</table>\n",
       "</div>"
      ],
      "text/plain": [
       "     Trn. Date                                        Reference 1  \\\n",
       "6350     03/11  MISC DR 0028193207971832PM03112099 EU REFUNDEU...   \n",
       "\n",
       "                                            Reference 2  Debit Amount  \\\n",
       "6350  MISC DR 0028193207971832PM03112099 EU REFUNDEU...         499.0   \n",
       "\n",
       "      Credit Amount      Balance  BS_Index  \n",
       "6350            NaN  3.25766e+07      4373  "
      ]
     },
     "execution_count": 122,
     "metadata": {},
     "output_type": "execute_result"
    }
   ],
   "source": [
    "dfBankStatement2.query(\"BS_Index == 4373\")"
   ]
  },
  {
   "cell_type": "code",
   "execution_count": 107,
   "metadata": {},
   "outputs": [],
   "source": [
    "def matchFirst2Terms(name, series):\n",
    "    ruleName = \"matchFirst2Terms\"\n",
    "    \n",
    "    #match series with first 1 or 2 terms of names\n",
    "    if len(name.split(' ')) >= 3:\n",
    "        match = ' '.join(name.split(' ')[:2])\n",
    "        resultArray = series.map(lambda x:ruleName if re.search('[\\s\\d]%s'%re.escape(match), \n",
    "                                                                re.sub(\"\\xa0\", \"\", str(x)), flags = re.IGNORECASE)\n",
    "                                else \"False\").values\n",
    "    elif len(name.split(' ')) == 2:\n",
    "        match = name.split(' ')[0]\n",
    "        resultArray = series.map(lambda x:ruleName if re.search('[\\s\\d]%s'%re.escape(match), \n",
    "                                                                re.sub(\" |\\xa0\",\"\",str(x)), flags = re.IGNORECASE)\n",
    "                                else \"False\").values\n",
    "    else:\n",
    "        resultArray = np.full(len(series), \"False\")\n",
    "\n",
    "    return resultArray\n",
    "\n",
    "# def matchTruncated(name, series):\n",
    "#     ruleName = \"matchTruncated\"\n",
    "#     #match series with truncated name if there is \n",
    "#     cleanName = re.sub(\" binti \", \" bt \", str(name), flags = re.IGNORECASE)\n",
    "#     rule1 =  series\\\n",
    "#             .map(lambda x: True if re.search('%s'%re.escape(str(name)), str(x), flags = re.IGNORECASE) \n",
    "#                  and str(x) not in ['', 'nan'] else False).values\n",
    "#     #match name with truncated name in the series if there is\n",
    "#     rule2 = series\\\n",
    "#                 .map(lambda x: True if re.search('%s'%re.escape(re.sub(\"ENCIK |COP REFUND\", '', \n",
    "#                                                                 re.sub(\" binti \", \" bt \", str(x), flags = re.I), \n",
    "#                                                                        flags = re.IGNORECASE).strip()), \n",
    "#                                                  str(name), flags = re.IGNORECASE) \n",
    "#                      and re.sub(\"ENCIK |COP REFUND\", '', \n",
    "#                                 re.sub(\" binti \", \" bt \", str(x), flags = re.I), \n",
    "#                                 flags = re.IGNORECASE).strip() not in ['', 'nan'] else False).values\n",
    "#     resultArray = (rule1|rule2)\n",
    "#     resultArray = np.where(resultArray, ruleName, \"False\")\n",
    "    \n",
    "#     return resultArray\n",
    "\n",
    "#for merchant only\n",
    "def matchTruncated(name, series):\n",
    "    ruleName = \"matchTruncated\"\n",
    "    #match truncated name series with name if there is \n",
    "    rule1 = []\n",
    "    for value in series:\n",
    "        if re.search('.*\\d\\s*(.+)$', str(value)):\n",
    "            truncatedName = re.escape(re.search('.*\\d\\s*(.+)$', str(value)).group(1))\n",
    "            if truncatedName not in ['\\ ', 'nan'] and re.search(truncatedName, name, flags = re.IGNORECASE):\n",
    "                rule1.append(True)\n",
    "            else:\n",
    "                rule1.append(False)\n",
    "        else:\n",
    "            rule1.append(False)\n",
    "    resultArray = np.where(rule1, ruleName, \"False\")\n",
    "    return resultArray\n",
    "\n",
    "def noSpaceMatch(name, series):\n",
    "    ruleName = \"noSpaceMatch\"\n",
    "    cleanName = re.sub(\" \", \"\", str(name))\n",
    "    #remove space for BS reference to match wth name\n",
    "    rule1 = series.map(lambda x:True if re.search('%s'%re.escape(cleanName), \n",
    "                                                  re.sub(\" \", \"\", x), flags = re.IGNORECASE)\n",
    "                                    and cleanName not in ['', 'nan']\n",
    "                                else False).values\n",
    "#     rule2 = series.map(lambda x:True if re.search('%s'%re.escape(re.sub(' ','',re.sub(\"COP REFUND\", '',str(x)))), \n",
    "#                         str(name), flags = re.IGNORECASE) and re.sub(' ','',re.sub(\"COP REFUND\", '',str(x)))!=''\n",
    "#                             else False).values\n",
    "#     resultArray = (rule1|rule2)\n",
    "    resultArray = rule1\n",
    "    resultArray = np.where(resultArray, ruleName, \"False\")\n",
    "    return resultArray\n",
    "\n",
    "def matchAccountLast4Digit(accountNo, series):\n",
    "    ruleName = \"matchAccountLast4Digit\"\n",
    "    resultArray = series.map(lambda x:ruleName if re.search('%s'%accountNo, str(x), flags = re.IGNORECASE)\n",
    "                                        and len(accountNo) == 4 else \"False\").values\n",
    "    return resultArray\n",
    "\n",
    "def matchBillTypeRef(billType, series):\n",
    "    ruleName = \"matchBillTypeRef\"\n",
    "    if billType == '':\n",
    "        resultArray = np.full(len(series), \"False\")\n",
    "        reason = \"\"\n",
    "    else:\n",
    "        #if can find billtype - Indah water in reference \n",
    "        rule1 =  series\\\n",
    "                .map(lambda x: True if re.search('%s'%billType, str(x), flags = re.IGNORECASE) \n",
    "                     and str(x) not in  ['', 'nan'] else False).values\n",
    "        #if billtype is PAIP and Pengurusan air pahan in reference\n",
    "        rule2 = series\\\n",
    "                .map(lambda x: True if re.search('%s'%\"PENGURUSAN AIR PAHAN\", str(x), flags = re.IGNORECASE) \n",
    "                     and billType == 'PAIP' else False).values\n",
    "        #if billtype is PBA and perbadanan bekalan air in reference\n",
    "        rule3 = series\\\n",
    "                .map(lambda x: True if re.search('%s'%\"perbadanan bekalan air|perbadanan bekalan\", str(x), \n",
    "                                                 flags = re.IGNORECASE) \n",
    "                     and billType == 'PBA' else False).values\n",
    "        resultArray = (rule1|rule2|rule3)\n",
    "\n",
    "        resultArray = np.where(resultArray, ruleName, \"False\")\n",
    "    return resultArray\n",
    "\n",
    "def matchUniqueAmount(amount, series):\n",
    "    ruleName = \"matchUniqueAmount\"\n",
    "    #if only unique match in bs for amount\n",
    "    resultArray = series.map(lambda x:True if x == amount else False).values\n",
    "    if sum(resultArray) == 1:\n",
    "        return np.full(len(series), ruleName)\n",
    "    else:\n",
    "        return np.full(len(series), \"False\")\n",
    "\n",
    "def PartialMatch(df, indexCol, notMatchIndex, nameCol, dfBS, ruleType):\n",
    "    startTime = timer()\n",
    "    matchResult = []\n",
    "    bsIndexCheckList = []\n",
    "    df = df[df[indexCol].isin(notMatchIndex)].copy()\n",
    "    for no, row in enumerate(list(df.iterrows())):\n",
    "        #assign values to variables: POname, POamount, AccountNo, BillType\n",
    "        index = row[1][indexCol]\n",
    "        POname = row[1][nameCol]\n",
    "        POname = re.sub(\"\\u200b\", \"\", str(POname))\n",
    "        POname = re.sub(\"\\xa0\", \"\", str(POname))\n",
    "        POamount = row[1][poAmountCol]\n",
    "        print(index)\n",
    "        #merchant, other payout\n",
    "        if \"Bank Acc\" in df.columns:\n",
    "            AccountNo = re.sub(' |-|\\.0|\\(|\\)','', str(row[1]['Bank Acc']))[-4:]\n",
    "            match4 = matchAccountLast4Digit(AccountNo, dfBS[bsMatchCol])\n",
    "        #bill payment\n",
    "        elif \"Acc Number\" in df.columns:\n",
    "            AccountNo = re.sub(' |-|\\.0|\\(|\\)','', str(row[1]['Acc Number']))[-4:]\n",
    "            match4 = matchAccountLast4Digit(AccountNo, dfBS[bsMatchCol])\n",
    "        else:\n",
    "            AccountNo = ''\n",
    "            \n",
    "        if 'Bill Type' in df.columns:\n",
    "            BillType = row[1]['Bill Type']\n",
    "            match5 = matchBillTypeRef(BillType, dfBS[bsMatchCol])\n",
    "        else:\n",
    "            BillType = ''\n",
    "        \n",
    "        #matching rules\n",
    "        if ruleType in [\"General\", \"Merchant\"]:\n",
    "            match1 = matchTruncated(POname, dfBS[bsMatchCol])\n",
    "        match2 = matchFirst2Terms(POname, dfBS[bsMatchCol])\n",
    "#         match3 = noSpacenoCopRefund(POname, dfBankStatement2[bsMatchCol])\n",
    "        match3 = noSpaceMatch(POname, dfBS[bsMatchCol])\n",
    "        match6 = matchUniqueAmount(POamount, dfBS[bsAmountCol])\n",
    "        ruleStr = \"|\".join(['(match%s!=\"False\")'%i for i in ruleDict[ruleType]])\n",
    "        checkRule = eval(ruleStr)\n",
    "        #assign bool statement to checkRule\n",
    "        #use result of matching rules to subset dfBankStatement2\n",
    "        dfMatch = dfBS[(dfBS[bsAmountCol] == POamount) & (checkRule)].copy()\n",
    "        \n",
    "        #to copy rulename if matches \n",
    "        ruleStr = '[' + ','.join(['match%s'%i for i in ruleDict[ruleType]]) + ']'\n",
    "        #assign list to ruleList\n",
    "        ruleList = eval(ruleStr)\n",
    "\n",
    "        if dfMatch.shape[0] == 1:\n",
    "            BSname = dfMatch[bsMatchCol].values[0]\n",
    "            BSamount = dfMatch[bsAmountCol].values[0]   \n",
    "            BSindex = dfMatch[bsIndex].values[0]\n",
    "            NoRow = list(dfBS[bsIndex]).index(BSindex)\n",
    "            print(BSname)\n",
    "            print(BSindex)\n",
    "            rule = ','.join([i[NoRow] for i in ruleList if i[NoRow]!=\"False\"])\n",
    "            matchResult.append([index, POname, POamount, BSindex, BSname, BSamount, rule])\n",
    "            if BSindex not in bsIndexCheckList:\n",
    "                bsIndexCheckList.append(BSindex)\n",
    "                \n",
    "        elif dfMatch.shape[0] > 1:\n",
    "            for no, name in enumerate(dfMatch[bsMatchCol].values):\n",
    "                BSindex = dfMatch[bsIndex].values[no]\n",
    "                if BSindex not in bsIndexCheckList:\n",
    "                    BSname = dfMatch[bsMatchCol].values[no]\n",
    "                    print(BSname)\n",
    "                    print(BSindex)\n",
    "                    BSamount = dfMatch[bsAmountCol].values[no]\n",
    "                    NoRow = list(dfBS[bsIndex]).index(BSindex)\n",
    "                    rule = ','.join([i[NoRow] for i in ruleList if i[NoRow]!=\"False\"])\n",
    "                    #nid to remove duplicate after consolidation\n",
    "                    matchResult.append([index, POname, POamount, BSindex, BSname, BSamount, rule])\n",
    "                    bsIndexCheckList.append(BSindex)\n",
    "                    break\n",
    "                    \n",
    "                \n",
    "    endTime = timer()\n",
    "    print(\"Total time: %0.4fs\" % (endTime - startTime))\n",
    "    return matchResult\n",
    "\n",
    "def constructTable(matchResult, df, indexName, nameCol, dType):\n",
    "    pandaList = []\n",
    "    for i in matchResult:\n",
    "        pandaList.append(i)\n",
    "    \n",
    "    dfMatchFinal = pd.DataFrame(pandaList)\n",
    "    if dfMatchFinal.shape[0]!=0:\n",
    "        #[index, POname, POamount, BSindex, BSname, BSamount, rule]\n",
    "        dfMatchFinal.columns = [indexName, poNameCol, poAmountCol, bsIndex, bsMatchCol, bsAmountCol, 'Reason']\n",
    "        dfMatchFinal['MatchCategory'] = \"PartialMatch\"\n",
    "        dfMatchFinal['DataType'] = dType\n",
    "        return dfMatchFinal\n",
    "    else:\n",
    "        return None"
   ]
  },
  {
   "cell_type": "code",
   "execution_count": 133,
   "metadata": {},
   "outputs": [
    {
     "data": {
      "text/html": [
       "<div>\n",
       "<style scoped>\n",
       "    .dataframe tbody tr th:only-of-type {\n",
       "        vertical-align: middle;\n",
       "    }\n",
       "\n",
       "    .dataframe tbody tr th {\n",
       "        vertical-align: top;\n",
       "    }\n",
       "\n",
       "    .dataframe thead th {\n",
       "        text-align: right;\n",
       "    }\n",
       "</style>\n",
       "<table border=\"1\" class=\"dataframe\">\n",
       "  <thead>\n",
       "    <tr style=\"text-align: right;\">\n",
       "      <th></th>\n",
       "      <th>Country</th>\n",
       "      <th>Withdraw Date</th>\n",
       "      <th>Username</th>\n",
       "      <th>Member Name</th>\n",
       "      <th>Withdraw</th>\n",
       "      <th>Package</th>\n",
       "      <th>Bank</th>\n",
       "      <th>Bank Acc</th>\n",
       "      <th>Bank-in Slip</th>\n",
       "      <th>Bank-in By</th>\n",
       "      <th>Bank-in Date</th>\n",
       "      <th>Remarks</th>\n",
       "      <th>Status</th>\n",
       "      <th>Amount</th>\n",
       "      <th>Unnamed: 14</th>\n",
       "      <th>Unnamed: 15</th>\n",
       "      <th>DataType</th>\n",
       "      <th>EU_Index</th>\n",
       "    </tr>\n",
       "  </thead>\n",
       "  <tbody>\n",
       "    <tr>\n",
       "      <th>215</th>\n",
       "      <td>MALAYSIA</td>\n",
       "      <td>2020-10-26</td>\n",
       "      <td>siochin</td>\n",
       "      <td>CH’NG SIO CHIN</td>\n",
       "      <td>EU</td>\n",
       "      <td>EU</td>\n",
       "      <td>MAYBANK BERHAD</td>\n",
       "      <td>159012827265</td>\n",
       "      <td>NaN</td>\n",
       "      <td>NaN</td>\n",
       "      <td>NaN</td>\n",
       "      <td>NaN</td>\n",
       "      <td>Pending</td>\n",
       "      <td>1200.0</td>\n",
       "      <td>Edit</td>\n",
       "      <td>Reject</td>\n",
       "      <td>EU</td>\n",
       "      <td>215</td>\n",
       "    </tr>\n",
       "  </tbody>\n",
       "</table>\n",
       "</div>"
      ],
      "text/plain": [
       "      Country Withdraw Date Username     Member Name Withdraw Package  \\\n",
       "215  MALAYSIA    2020-10-26  siochin  CH’NG SIO CHIN       EU      EU   \n",
       "\n",
       "               Bank      Bank Acc  Bank-in Slip  Bank-in By  Bank-in Date  \\\n",
       "215  MAYBANK BERHAD  159012827265           NaN         NaN           NaN   \n",
       "\n",
       "     Remarks   Status  Amount Unnamed: 14 Unnamed: 15 DataType  EU_Index  \n",
       "215      NaN  Pending  1200.0        Edit      Reject       EU       215  "
      ]
     },
     "execution_count": 133,
     "metadata": {},
     "output_type": "execute_result"
    }
   ],
   "source": [
    "dfEU.query(\"EU_Index == 215\")"
   ]
  },
  {
   "cell_type": "code",
   "execution_count": 134,
   "metadata": {},
   "outputs": [
    {
     "data": {
      "text/html": [
       "<div>\n",
       "<style scoped>\n",
       "    .dataframe tbody tr th:only-of-type {\n",
       "        vertical-align: middle;\n",
       "    }\n",
       "\n",
       "    .dataframe tbody tr th {\n",
       "        vertical-align: top;\n",
       "    }\n",
       "\n",
       "    .dataframe thead th {\n",
       "        text-align: right;\n",
       "    }\n",
       "</style>\n",
       "<table border=\"1\" class=\"dataframe\">\n",
       "  <thead>\n",
       "    <tr style=\"text-align: right;\">\n",
       "      <th></th>\n",
       "      <th>Trn. Date</th>\n",
       "      <th>Reference 1</th>\n",
       "      <th>Reference 2</th>\n",
       "      <th>Debit Amount</th>\n",
       "      <th>Credit Amount</th>\n",
       "      <th>Balance</th>\n",
       "      <th>BS_Index</th>\n",
       "    </tr>\n",
       "  </thead>\n",
       "  <tbody>\n",
       "    <tr>\n",
       "      <th>14475</th>\n",
       "      <td>03/11</td>\n",
       "      <td>INSTANT TRSF DR 701077 CH'NG SIO CHINEU REFUND</td>\n",
       "      <td>INSTANT TRSF DR 701077 CH'NG SIO CHINEU REFUND</td>\n",
       "      <td>1200.0</td>\n",
       "      <td>NaN</td>\n",
       "      <td>2.86299e+07</td>\n",
       "      <td>8381</td>\n",
       "    </tr>\n",
       "  </tbody>\n",
       "</table>\n",
       "</div>"
      ],
      "text/plain": [
       "      Trn. Date                                      Reference 1  \\\n",
       "14475     03/11  INSTANT TRSF DR 701077 CH'NG SIO CHINEU REFUND    \n",
       "\n",
       "                                           Reference 2  Debit Amount  \\\n",
       "14475  INSTANT TRSF DR 701077 CH'NG SIO CHINEU REFUND         1200.0   \n",
       "\n",
       "       Credit Amount      Balance  BS_Index  \n",
       "14475            NaN  2.86299e+07      8381  "
      ]
     },
     "execution_count": 134,
     "metadata": {},
     "output_type": "execute_result"
    }
   ],
   "source": [
    "# dfEU.query(\"EU_Index == 1275\")['Member Name'].values[0]\n",
    "\n",
    "dfBankStatement2.query(\"BS_Index == 8381\")"
   ]
  },
  {
   "cell_type": "code",
   "execution_count": 132,
   "metadata": {},
   "outputs": [
    {
     "data": {
      "text/plain": [
       "True"
      ]
     },
     "execution_count": 132,
     "metadata": {},
     "output_type": "execute_result"
    }
   ],
   "source": [
    "\"CH'NG SIO CHIN\" in \"INSTANT TRSF DR 701077 CH'NG SIO CHINEU REFUND \""
   ]
  },
  {
   "cell_type": "code",
   "execution_count": 44,
   "metadata": {},
   "outputs": [
    {
     "name": "stdout",
     "output_type": "stream",
     "text": [
      "Total time: 3.5051s\n",
      "Total row - BS before match: 8487\n",
      "Total row - BS after match: 8200\n",
      "Total row: 380\n",
      "Exact Matches: 287\n",
      "No Matches: 86\n"
     ]
    }
   ],
   "source": [
    "#COP\n",
    "#287\n",
    "dfBankStatementTemp = dfBankStatement2[dfBankStatement2[bsIndex].isin(bsIndexList)].copy()\n",
    "dfExactMatchCOP = ExactMatch(dfCOP, copIndex, payoutNameCol,\n",
    "                             dfBankStatementTemp, \"COP\")\n",
    "#find no match list\n",
    "noMatchCOPList = set(dfCOP[copIndex].values)\\\n",
    "                    .difference(set(dfExactMatchCOP[copIndex].values))\n",
    "\n",
    "#remove bs duplicates\n",
    "# dfExactMatchCOP.drop_duplicates(copIndex, inplace = True)\n",
    "dfExactMatchCOP.drop_duplicates(bsIndex, inplace = True)\n",
    "\n",
    "print(\"Total row - BS before match: %s\"%len(bsIndexList))\n",
    "#update bsIndexList\n",
    "bsIndexList = [i for i in bsIndexList if i not in dfExactMatchCOP['BS_Index'].unique()]\n",
    "print(\"Total row - BS after match: %s\"%len(bsIndexList))\n",
    "print(\"Total row: %s\"%dfCOP.shape[0])\n",
    "print(\"Exact Matches: %s\"%dfExactMatchCOP.shape[0])\n",
    "print(\"No Matches: %s\"%len(noMatchCOPList))"
   ]
  },
  {
   "cell_type": "code",
   "execution_count": 108,
   "metadata": {},
   "outputs": [
    {
     "name": "stdout",
     "output_type": "stream",
     "text": [
      "105\n",
      "DR-ECP 0006673207971832PM03112098 COP REFUNDCOP REFUND 29102020 CHEW ZHIANG CHOO\n",
      "1980\n",
      "301\n",
      "DR-ECP 0007213207971832PM03112098 COP REFUNDCOP REFUND 28102020 CHEW ZHIANG CHOO\n",
      "2137\n",
      "Total time: 0.8174s\n",
      "Total row - BS before match: 8487\n",
      "Total row - BS after match: 8485\n",
      "No Matches Previously: 86\n",
      "Partial Matches: 2\n"
     ]
    }
   ],
   "source": [
    "#84\n",
    "bsIndexList = dfBankStatement2[bsIndex].unique()\n",
    "# bsIndexList = [2137]\n",
    "copList = [105, 301]\n",
    "dfCOP2 = dfCOP.query(\"COP_Index in @copList\").copy()\n",
    "dfBankStatementTemp = dfBankStatement2[dfBankStatement2[bsIndex].isin(bsIndexList)].copy()\n",
    "matchResultCOP = PartialMatch(dfCOP2, copIndex, noMatchCOPList, \n",
    "                              payoutNameCol, dfBankStatementTemp, ruleType = \"General\")\n",
    "\n",
    "dfPartialMatchCOP = constructTable(matchResultCOP, dfCOP, copIndex, poNameCol, 'COP')\n",
    "\n",
    "dfPartialMatchCOP.drop_duplicates(bsIndex, inplace = True)\n",
    "\n",
    "print(\"Total row - BS before match: %s\"%len(bsIndexList))\n",
    "#update bsIndexList\n",
    "bsIndexList = [i for i in bsIndexList if i not in dfPartialMatchCOP['BS_Index'].unique()]\n",
    "print(\"Total row - BS after match: %s\"%len(bsIndexList))\n",
    "print(\"No Matches Previously: %s\"%len(noMatchCOPList))\n",
    "print(\"Partial Matches: %s\"%dfPartialMatchCOP.shape[0])"
   ]
  },
  {
   "cell_type": "code",
   "execution_count": 109,
   "metadata": {},
   "outputs": [
    {
     "data": {
      "text/html": [
       "<div>\n",
       "<style scoped>\n",
       "    .dataframe tbody tr th:only-of-type {\n",
       "        vertical-align: middle;\n",
       "    }\n",
       "\n",
       "    .dataframe tbody tr th {\n",
       "        vertical-align: top;\n",
       "    }\n",
       "\n",
       "    .dataframe thead th {\n",
       "        text-align: right;\n",
       "    }\n",
       "</style>\n",
       "<table border=\"1\" class=\"dataframe\">\n",
       "  <thead>\n",
       "    <tr style=\"text-align: right;\">\n",
       "      <th></th>\n",
       "      <th>COP_Index</th>\n",
       "      <th>Member Name</th>\n",
       "      <th>Amount</th>\n",
       "      <th>BS_Index</th>\n",
       "      <th>Reference 2</th>\n",
       "      <th>Debit Amount</th>\n",
       "      <th>Reason</th>\n",
       "      <th>MatchCategory</th>\n",
       "      <th>DataType</th>\n",
       "    </tr>\n",
       "  </thead>\n",
       "  <tbody>\n",
       "    <tr>\n",
       "      <th>0</th>\n",
       "      <td>105</td>\n",
       "      <td>CHEW ZHIANG CHOON</td>\n",
       "      <td>10000.0</td>\n",
       "      <td>1980</td>\n",
       "      <td>DR-ECP 0006673207971832PM03112098 COP REFUNDCO...</td>\n",
       "      <td>10000.0</td>\n",
       "      <td>matchTruncated,matchFirst2Terms</td>\n",
       "      <td>PartialMatch</td>\n",
       "      <td>COP</td>\n",
       "    </tr>\n",
       "    <tr>\n",
       "      <th>1</th>\n",
       "      <td>301</td>\n",
       "      <td>CHEW ZHIANG CHOON</td>\n",
       "      <td>10000.0</td>\n",
       "      <td>2137</td>\n",
       "      <td>DR-ECP 0007213207971832PM03112098 COP REFUNDCO...</td>\n",
       "      <td>10000.0</td>\n",
       "      <td>matchTruncated,matchFirst2Terms</td>\n",
       "      <td>PartialMatch</td>\n",
       "      <td>COP</td>\n",
       "    </tr>\n",
       "  </tbody>\n",
       "</table>\n",
       "</div>"
      ],
      "text/plain": [
       "   COP_Index        Member Name   Amount  BS_Index  \\\n",
       "0        105  CHEW ZHIANG CHOON  10000.0      1980   \n",
       "1        301  CHEW ZHIANG CHOON  10000.0      2137   \n",
       "\n",
       "                                         Reference 2  Debit Amount  \\\n",
       "0  DR-ECP 0006673207971832PM03112098 COP REFUNDCO...       10000.0   \n",
       "1  DR-ECP 0007213207971832PM03112098 COP REFUNDCO...       10000.0   \n",
       "\n",
       "                            Reason MatchCategory DataType  \n",
       "0  matchTruncated,matchFirst2Terms  PartialMatch      COP  \n",
       "1  matchTruncated,matchFirst2Terms  PartialMatch      COP  "
      ]
     },
     "execution_count": 109,
     "metadata": {},
     "output_type": "execute_result"
    }
   ],
   "source": [
    "dfPartialMatchCOP"
   ]
  },
  {
   "cell_type": "code",
   "execution_count": 81,
   "metadata": {},
   "outputs": [
    {
     "data": {
      "text/plain": [
       "False"
      ]
     },
     "execution_count": 81,
     "metadata": {},
     "output_type": "execute_result"
    }
   ],
   "source": [
    "301 in dfPartialMatchCOP['COP_Index'].values"
   ]
  },
  {
   "cell_type": "code",
   "execution_count": 82,
   "metadata": {},
   "outputs": [
    {
     "data": {
      "text/plain": [
       "'CHEW ZHIANG CHOON'"
      ]
     },
     "execution_count": 82,
     "metadata": {},
     "output_type": "execute_result"
    }
   ],
   "source": [
    "dfCOP.query(\"COP_Index == 301\")['Member Name'].values[0]"
   ]
  },
  {
   "cell_type": "code",
   "execution_count": 92,
   "metadata": {},
   "outputs": [
    {
     "data": {
      "text/plain": [
       "'DR-ECP 0007213207971832PM03112098 COP REFUNDCOP REFUND 28102020 CHEW ZHIANG CHOO'"
      ]
     },
     "execution_count": 92,
     "metadata": {},
     "output_type": "execute_result"
    }
   ],
   "source": [
    "dfBankStatement2.query(\"BS_Index == 2137\")['Reference 2'].values[0]"
   ]
  },
  {
   "cell_type": "code",
   "execution_count": 71,
   "metadata": {},
   "outputs": [
    {
     "data": {
      "text/plain": [
       "False"
      ]
     },
     "execution_count": 71,
     "metadata": {},
     "output_type": "execute_result"
    }
   ],
   "source": [
    "105 in dfPartialMatchCOP['COP_Index'].values"
   ]
  },
  {
   "cell_type": "code",
   "execution_count": 73,
   "metadata": {},
   "outputs": [
    {
     "data": {
      "text/plain": [
       "True"
      ]
     },
     "execution_count": 73,
     "metadata": {},
     "output_type": "execute_result"
    }
   ],
   "source": [
    "2137 in bsIndexList"
   ]
  },
  {
   "cell_type": "code",
   "execution_count": 72,
   "metadata": {},
   "outputs": [
    {
     "data": {
      "text/plain": [
       "False"
      ]
     },
     "execution_count": 72,
     "metadata": {},
     "output_type": "execute_result"
    }
   ],
   "source": [
    "1980 in bsIndexList"
   ]
  },
  {
   "cell_type": "markdown",
   "metadata": {},
   "source": [
    "### Validation"
   ]
  },
  {
   "cell_type": "code",
   "execution_count": null,
   "metadata": {},
   "outputs": [],
   "source": [
    "excelFile = \"Nov2020_MatchingResult/03_11 3207971832_2020.xlsx\"\n",
    "dfValidation = pd.read_excel(excelFile, sheet_name = )"
   ]
  }
 ],
 "metadata": {
  "kernelspec": {
   "display_name": "Python 3",
   "language": "python",
   "name": "python3"
  },
  "language_info": {
   "codemirror_mode": {
    "name": "ipython",
    "version": 3
   },
   "file_extension": ".py",
   "mimetype": "text/x-python",
   "name": "python",
   "nbconvert_exporter": "python",
   "pygments_lexer": "ipython3",
   "version": "3.7.6"
  }
 },
 "nbformat": 4,
 "nbformat_minor": 4
}
