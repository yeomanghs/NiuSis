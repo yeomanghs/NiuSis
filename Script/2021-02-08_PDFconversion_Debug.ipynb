{
 "cells": [
  {
   "cell_type": "code",
   "execution_count": 1,
   "metadata": {},
   "outputs": [],
   "source": [
    "from pdfminer.pdfinterp import PDFResourceManager, PDFPageInterpreter\n",
    "from pdfminer.converter import TextConverter\n",
    "from pdfminer.layout import LAParams\n",
    "from pdfminer.pdfpage import PDFPage\n",
    "import os\n",
    "import re\n",
    "from io import StringIO\n",
    "import PyPDF2\n",
    "import pandas as pd\n",
    "from datetime import datetime \n",
    "import datetime as dt\n",
    "from timeit import default_timer as timer"
   ]
  },
  {
   "cell_type": "code",
   "execution_count": 178,
   "metadata": {},
   "outputs": [],
   "source": [
    "path = \"Nov2020/07.11 3207971832_2020-November_eStatement.pdf\"\n",
    "excelFile = re.sub('\\.', '_', path.split('/')[1].split('-')[0]) + '.xlsx'"
   ]
  },
  {
   "cell_type": "markdown",
   "metadata": {},
   "source": [
    "### Extract date"
   ]
  },
  {
   "cell_type": "code",
   "execution_count": 3,
   "metadata": {},
   "outputs": [
    {
     "data": {
      "text/plain": [
       "('07/11', '06/11')"
      ]
     },
     "execution_count": 3,
     "metadata": {},
     "output_type": "execute_result"
    }
   ],
   "source": [
    "date = re.sub('\\.', '/', re.search(\"\\/(.*) \",path).group(1))\n",
    "previousDate = (datetime.strptime(date, \"%d/%m\") - dt.timedelta(days=1)).strftime('%d/%m')\n",
    "date, previousDate"
   ]
  },
  {
   "cell_type": "markdown",
   "metadata": {},
   "source": [
    "### Read PDF to text"
   ]
  },
  {
   "cell_type": "code",
   "execution_count": 4,
   "metadata": {},
   "outputs": [],
   "source": [
    "def convertPdfToTxt(path):\n",
    "    startTime = timer()\n",
    "    rsrcmgr = PDFResourceManager()\n",
    "    retstr = StringIO()\n",
    "    #codec = 'utf-8'\n",
    "    laparams = LAParams()\n",
    "    device = TextConverter(rsrcmgr, retstr, laparams=laparams)\n",
    "    fp = open(path, 'rb')\n",
    "    interpreter = PDFPageInterpreter(rsrcmgr, device)\n",
    "    password = \"\"\n",
    "    maxpages = 0\n",
    "    caching = True\n",
    "    pagenos=set()\n",
    "    for page in PDFPage.get_pages(fp, pagenos, maxpages = maxpages,caching = caching, check_extractable = True):\n",
    "        interpreter.process_page(page)\n",
    "    text = retstr.getvalue()\n",
    "    fp.close()\n",
    "    device.close()\n",
    "    retstr.close()\n",
    "    endTime = timer()\n",
    "    print(\"Total time: %0.4fs\" % (endTime - startTime))\n",
    "    return text"
   ]
  },
  {
   "cell_type": "code",
   "execution_count": 5,
   "metadata": {},
   "outputs": [
    {
     "name": "stdout",
     "output_type": "stream",
     "text": [
      "Total time: 0.0649s\n"
     ]
    }
   ],
   "source": [
    "text = convertPdfToTxt(path)\n",
    "\n",
    "#extract no pages\n",
    "noPage = len(re.findall(\"NIAGADEBITKREDITBAKIDATETRANSACTIONDEBITCREDITBALANCE\", text))"
   ]
  },
  {
   "cell_type": "code",
   "execution_count": 7,
   "metadata": {},
   "outputs": [
    {
     "data": {
      "text/plain": [
       "2"
      ]
     },
     "execution_count": 7,
     "metadata": {},
     "output_type": "execute_result"
    }
   ],
   "source": [
    "noPage"
   ]
  },
  {
   "cell_type": "markdown",
   "metadata": {},
   "source": [
    "### Extract account information"
   ]
  },
  {
   "cell_type": "code",
   "execution_count": 8,
   "metadata": {},
   "outputs": [
    {
     "data": {
      "text/plain": [
       "{'Nombor Akaun / Account Number': '3207971832',\n",
       " 'Jenis Akaun / Account Type': 'RM Plus Current Account',\n",
       " 'Tarikh Penyata / Statement Date': '07 Nov 2020'}"
      ]
     },
     "execution_count": 8,
     "metadata": {},
     "output_type": "execute_result"
    }
   ],
   "source": [
    "accountInfoDict = {}\n",
    "accountCol = [\"Nombor Akaun / Account Number\", 'Jenis Akaun / Account Type',\n",
    "             'Tarikh Penyata / Statement Date', 'RINGKASAN / SUMMARY']\n",
    "for no, desc in enumerate(accountCol):\n",
    "    if no != len(accountCol)-1:\n",
    "        descIndex = text.index(desc)\n",
    "        descLen = len(desc)\n",
    "        nextDescIndex = text.index(accountCol[no + 1])\n",
    "        result = text[descIndex + descLen: nextDescIndex]\n",
    "        accountInfoDict[desc] = result\n",
    "accountInfoDict"
   ]
  },
  {
   "cell_type": "markdown",
   "metadata": {},
   "source": [
    "### Extract summary information"
   ]
  },
  {
   "cell_type": "code",
   "execution_count": 10,
   "metadata": {},
   "outputs": [],
   "source": [
    "def extractText(desc, startStr, endStr):\n",
    "    try:\n",
    "        startStrIndex = desc.index(startStr)\n",
    "        startStrLen = len(startStr)\n",
    "        endStrIndex = desc.index(endStr)         \n",
    "        if startStr == '':\n",
    "            result = desc[:endStrIndex]\n",
    "            return result\n",
    "        elif endStr!='':\n",
    "            result = desc[startStrIndex + startStrLen:endStrIndex]\n",
    "            remainDesc = desc[endStrIndex:]\n",
    "            return result, remainDesc\n",
    "        else:\n",
    "            result = desc[startStrIndex + startStrLen:]\n",
    "            return result\n",
    "        \n",
    "    except Exception as e:\n",
    "#         print(e)\n",
    "        print(\"Failed to extract text\")"
   ]
  },
  {
   "cell_type": "code",
   "execution_count": 13,
   "metadata": {},
   "outputs": [],
   "source": [
    "def extractAmount(desc, greedy = True):\n",
    "#     greedyPattern = '([\\d\\.\\,]+)'\n",
    "    greedyPattern = '([\\d\\.\\,]+\\.\\d{2})'\n",
    "    notGreedyPattern = '([\\d\\.\\,]+?\\.\\d{2}?)'\n",
    "    try:\n",
    "        if greedy:\n",
    "            result = re.search(greedyPattern, desc).group(1)\n",
    "            return result\n",
    "        else:\n",
    "            result = re.search(notGreedyPattern, desc).group(1)\n",
    "            return result\n",
    "    except Exception as e:\n",
    "#         print(e)\n",
    "        print(\"Wrong number pattern\")"
   ]
  },
  {
   "cell_type": "code",
   "execution_count": 11,
   "metadata": {},
   "outputs": [
    {
     "data": {
      "text/plain": [
       "'19,694,282.29107,566.81626,282.691'"
      ]
     },
     "execution_count": 11,
     "metadata": {},
     "output_type": "execute_result"
    }
   ],
   "source": [
    "summaryDict = {}\n",
    "summaryCol = ['Baki Penutup / Closing Balance',\n",
    "              'Jumlah Debit / Total Debits', 'Bil. Debit / No. of Debits',\n",
    "              'Jumlah Kredit / Total Credits', 'Bil. Kredit / No. of Credits']\n",
    "#extract series of number \n",
    "numberSeries = extractText(text, summaryCol[4], 'Muka Surat 1')[0]\n",
    "numberSeries"
   ]
  },
  {
   "cell_type": "code",
   "execution_count": 14,
   "metadata": {},
   "outputs": [
    {
     "data": {
      "text/plain": [
       "'107,566.81626,282.691'"
      ]
     },
     "execution_count": 14,
     "metadata": {},
     "output_type": "execute_result"
    }
   ],
   "source": [
    "#extract closing balance amount\n",
    "closingBalanceAmount = extractAmount(numberSeries, greedy = False)\n",
    "summaryDict[summaryCol[0]] = closingBalanceAmount\n",
    "numberSeries = re.sub(closingBalanceAmount, '', numberSeries)\n",
    "numberSeries"
   ]
  },
  {
   "cell_type": "code",
   "execution_count": 15,
   "metadata": {},
   "outputs": [
    {
     "data": {
      "text/plain": [
       "'626,282.691'"
      ]
     },
     "execution_count": 15,
     "metadata": {},
     "output_type": "execute_result"
    }
   ],
   "source": [
    "#extract debit amount\n",
    "debitAmount = extractAmount(numberSeries, greedy = False)\n",
    "summaryDict[summaryCol[1]] = debitAmount\n",
    "numberSeries = re.sub(debitAmount, '', numberSeries)\n",
    "numberSeries"
   ]
  },
  {
   "cell_type": "code",
   "execution_count": 16,
   "metadata": {},
   "outputs": [
    {
     "data": {
      "text/plain": [
       "'626,282.69'"
      ]
     },
     "execution_count": 16,
     "metadata": {},
     "output_type": "execute_result"
    }
   ],
   "source": [
    "#credit no credit\n",
    "noCredit = re.sub(extractAmount(numberSeries, greedy = False), '', numberSeries)\n",
    "summaryDict[summaryCol[4]] = noCredit\n",
    "numberSeries = re.sub(noCredit, '', numberSeries)\n",
    "numberSeries"
   ]
  },
  {
   "cell_type": "code",
   "execution_count": 17,
   "metadata": {},
   "outputs": [],
   "source": [
    "tempNumberSeries = numberSeries\n",
    "creditAmount1 = re.search('(\\d{2}\\,\\d+\\.\\d{2})', numberSeries).group(1)\n",
    "noDebit1 = re.sub(creditAmount1, '', tempNumberSeries)\n",
    "creditAmount2 = re.search('(\\d{1}\\,\\d+\\.\\d{2})', numberSeries).group(1)\n",
    "noDebit2 = re.sub(creditAmount2, '', tempNumberSeries)"
   ]
  },
  {
   "cell_type": "code",
   "execution_count": 18,
   "metadata": {},
   "outputs": [
    {
     "data": {
      "text/plain": [
       "(['6', '62'], ['26,282.69', '6,282.69'])"
      ]
     },
     "execution_count": 18,
     "metadata": {},
     "output_type": "execute_result"
    }
   ],
   "source": [
    "noDebitList = [noDebit1, noDebit2]\n",
    "creditAmountList = [creditAmount1, creditAmount2]\n",
    "noDebitList, creditAmountList"
   ]
  },
  {
   "cell_type": "markdown",
   "metadata": {},
   "source": [
    "### extract all tables and process content separately"
   ]
  },
  {
   "cell_type": "code",
   "execution_count": 19,
   "metadata": {},
   "outputs": [],
   "source": [
    "def returnTableList(no):\n",
    "    tempList = []\n",
    "    textCopy = text\n",
    "#     for i in range(1, no + 1):\n",
    "    for i in range(1, 3):\n",
    "        table, remain = extractText(textCopy, 'Page %s of %s'%(i, no), 'Penyata ini dicetak melalui komputer.')\n",
    "        index = remain.index('Penyata ini dicetak melalui komputer.')\n",
    "        termLen = len('Penyata ini dicetak melalui komputer.')\n",
    "        textCopy = remain[index + termLen:]\n",
    "        table = re.sub(\"TARIKHURUS NIAGADEBITKREDITBAKIDATETRANSACTIONDEBITCREDITBALANCE\", '', table)\n",
    "        tempList.append(table)\n",
    "    return tempList"
   ]
  },
  {
   "cell_type": "code",
   "execution_count": 20,
   "metadata": {},
   "outputs": [
    {
     "data": {
      "text/plain": [
       "['06/11Balance From Last Statement19,775,566.4107/1126,282.6919,801,849.10SI CR FROM 3999XXXXXX8,688.7819,793,160.32DR-ECP 000001 3207971832PR07112002SALARY OCT 202032,443.3719,760,716.95DR-ECP 000001 3207971832PR07112003SALARY OCT 202066,430.8619,694,286.09DR-ECP 000001 3207971832PR07112001SALARY OCT 20200.4019,694,285.69HANDLING CHRG 000006FEE 3207971832PR07112002SALARY OCT 2020Balance C/F19,694,285.69',\n",
       " \"07/11Balance B/F19,694,285.690.5019,694,285.19HANDLING CHRG 000007FEE 3207971832PR07112003SALARY OCT 20202.9019,694,282.29HANDLING CHRG 000031FEE 3207971832PR07112001SALARY OCT 2020Closing Balance In This Statement19,694,282.29Baki Harian Dan Penutup Meliputi Semua Cek Yang Telah Didepositkan, Dijelaskan Dan Yang Belum Dijelaskan.Terima Kasih Kerana Berurus Niaga Dengan Public Bank.  Kecemerlangan Adalah Iltizam Kami.Kemusykilan anda mengenai perbankan DIJAWAB! Untuk maklumat lanjut, sila layari www.bankinginfo.com.my.Daily And Closing Balances Include All Cheques Deposited, Cleared And Uncleared.Thank You For Banking With Public Bank.  Excellence Is Our Commitment.Your banking questions ANSWERED! For more info, log on to www.bankinginfo.com.my.Anda boleh melihat Notis Privasi Public Bank di laman web www.pbebank.com.You may view Public Bank's Privacy Notice at www.pbebank.com.\"]"
      ]
     },
     "execution_count": 20,
     "metadata": {},
     "output_type": "execute_result"
    }
   ],
   "source": [
    "tableList = returnTableList(noPage)\n",
    "tableList"
   ]
  },
  {
   "cell_type": "code",
   "execution_count": 168,
   "metadata": {},
   "outputs": [
    {
     "data": {
      "text/plain": [
       "'06/11Balance From Last Statement19,775,566.4107/1126,282.6919,801,849.10SI CR FROM 3999XXXXXX8,688.7819,793,160.32DR-ECP 000001 3207971832PR07112002SALARY OCT 202032,443.3719,760,716.95DR-ECP 000001 3207971832PR07112003SALARY OCT 202066,430.8619,694,286.09DR-ECP 000001 3207971832PR07112001SALARY OCT 20200.4019,694,285.69HANDLING CHRG 000006FEE 3207971832PR07112002SALARY OCT 2020Balance C/F19,694,285.69'"
      ]
     },
     "execution_count": 168,
     "metadata": {},
     "output_type": "execute_result"
    }
   ],
   "source": [
    "#extract content of table from text\n",
    "table = tableList[0]\n",
    "table"
   ]
  },
  {
   "cell_type": "code",
   "execution_count": 196,
   "metadata": {},
   "outputs": [],
   "source": [
    "#extract first line of transaction\n",
    "\n",
    "#trx date, cheque no., ref1, ref2, ref3, ref4, credit amount, debit amount, balance\n",
    "resultList = []\n",
    "\n",
    "#extract content of first table from text\n",
    "table = tableList[0]\n",
    "\n",
    "#extract balance amount\n",
    "balanceAmount, tempText = extractText(table, \"Balance From Last Statement\", date)\n",
    "\n",
    "#store record of balance from last statement\n",
    "resultList.append([previousDate, '','', '','', \"Balance From Last Statement\", '', '', balanceAmount])"
   ]
  },
  {
   "cell_type": "code",
   "execution_count": 182,
   "metadata": {},
   "outputs": [
    {
     "data": {
      "text/plain": [
       "'07/1126,282.6919,801,849.10SI CR FROM 3999XXXXXX8,688.7819,793,160.32DR-ECP 000001 3207971832PR07112002SALARY OCT 202032,443.3719,760,716.95DR-ECP 000001 3207971832PR07112003SALARY OCT 202066,430.8619,694,286.09DR-ECP 000001 3207971832PR07112001SALARY OCT 20200.4019,694,285.69HANDLING CHRG 000006FEE 3207971832PR07112002SALARY OCT 2020Balance C/F19,694,285.69'"
      ]
     },
     "execution_count": 182,
     "metadata": {},
     "output_type": "execute_result"
    }
   ],
   "source": [
    "tempText"
   ]
  },
  {
   "cell_type": "code",
   "execution_count": 42,
   "metadata": {},
   "outputs": [],
   "source": [
    "def extractText(desc, startStr, endStr):\n",
    "    try:\n",
    "        startStrIndex = desc.index(startStr)\n",
    "        startStrLen = len(startStr)\n",
    "        endStrIndex = desc.index(endStr)         \n",
    "        if startStr == '':\n",
    "            result = desc[:endStrIndex]\n",
    "            return result\n",
    "        elif endStr!='':\n",
    "            result = desc[startStrIndex + startStrLen:endStrIndex]\n",
    "            remainDesc = desc[endStrIndex:]\n",
    "            return result, remainDesc\n",
    "        else:\n",
    "            result = desc[startStrIndex + startStrLen:]\n",
    "            return result\n",
    "        \n",
    "    except Exception as e:\n",
    "#         print(e)\n",
    "        print(\"Failed to extract text\")"
   ]
  },
  {
   "cell_type": "code",
   "execution_count": 186,
   "metadata": {},
   "outputs": [],
   "source": [
    "#extract amountList and descList\n",
    "#steps: \n",
    "#1. extract first and second number, store first number in descList\n",
    "#2. extract desc between first and second number\n",
    "#3. store desc in descList\n",
    "#repeat 1 till 3 until closing balance's line\n",
    "\n",
    "amountList = []\n",
    "descList = []\n",
    "closingLine = 0\n",
    "\n",
    "# for no, table in enumerate([tableList[0]]):\n",
    "for no, table in enumerate(tableList):\n",
    "    if no == 0:\n",
    "        tempText = tempText\n",
    "    else:\n",
    "        tempText = table\n",
    "    # for i in range(3):\n",
    "    while closingLine == 0:\n",
    "        #remove date first\n",
    "        if re.search(date, tempText):\n",
    "            tempText = re.sub(date, '', tempText)\n",
    "        #extract amount first\n",
    "        tempAmount1 = extractAmount(tempText)\n",
    "        #store amount\n",
    "        amountList.append(tempAmount1)\n",
    "        #temporary subbed text to get second amount\n",
    "        tempSubText = re.sub(tempAmount1, '', tempText)\n",
    "        tempAmount2 = extractAmount(tempSubText)\n",
    "        tempDesc = extractText(tempSubText, '', tempAmount2)\n",
    "        \n",
    "        #if Balance C/F, last line of transaction for that page\n",
    "        if re.search(r\"Balance C/F\", str(tempDesc)):\n",
    "            tempDesc = re.sub(r\"Balance C/F\", \"\", str(tempDesc))\n",
    "            amountList.append(tempAmount2)\n",
    "            descList.append(tempDesc)\n",
    "            descList.append(\"Balance C/F\")\n",
    "            break\n",
    "            \n",
    "        #if Balance B/F, first line of transaction for that page\n",
    "        elif re.search(r\"Balance B/F\", str(tempDesc)):\n",
    "            tempDesc = re.sub(r\"Balance B/F\", \"\", str(tempDesc))\n",
    "            descList.append(\"Balance B/F\")\n",
    "            tempAmount1 = extractAmount(re.sub(date, '', tempText), greedy = False)\n",
    "            amountList[-1] = tempAmount1\n",
    "            tempAmount1Index = tempText.index(tempAmount1)\n",
    "            tempAmount1Len = len(tempAmount1)\n",
    "            tempText = tempText[tempAmount1Index+tempAmount1Len:]\n",
    "            \n",
    "        #if last line for whole file\n",
    "        elif re.search(\"Closing Balance In This Statement\", str(tempDesc)):\n",
    "            closingAmount = tempAmount2\n",
    "            closingAmountIndex = tempSubText.index(closingAmount)\n",
    "            lastDesc = tempSubText[:closingAmountIndex]\n",
    "            #sub closing amount with '' in lastDesc\n",
    "            lastDesc = re.sub(\"Closing Balance In This Statement\", '', lastDesc)\n",
    "            descList.append(lastDesc)\n",
    "\n",
    "            #store last line - amount and desc\n",
    "            amountList.append(closingAmount)\n",
    "            descList.append(\"Closing Balance In This Statement\")\n",
    "#             closingLine = 1\n",
    "            break\n",
    "        #extracted all ady\n",
    "        elif not tempAmount2:\n",
    "#             closingLine = 1\n",
    "            break\n",
    "        else:\n",
    "            tempText = re.sub(tempDesc, '', tempSubText)\n",
    "            descList.append(tempDesc)"
   ]
  },
  {
   "cell_type": "code",
   "execution_count": 187,
   "metadata": {},
   "outputs": [
    {
     "data": {
      "text/plain": [
       "(['26,282.6919,801,849.10',\n",
       "  '8,688.7819,793,160.32',\n",
       "  '202032,443.3719,760,716.95',\n",
       "  '202066,430.8619,694,286.09',\n",
       "  '20200.4019,694,285.69',\n",
       "  '19,694,285.69',\n",
       "  '19,694,285.69',\n",
       "  '0.5019,694,285.19',\n",
       "  '20202.9019,694,282.29',\n",
       "  '19,694,282.29'],\n",
       " ['SI CR FROM 3999XXXXXX',\n",
       "  'DR-ECP 000001 3207971832PR07112002SALARY OCT ',\n",
       "  'DR-ECP 000001 3207971832PR07112003SALARY OCT ',\n",
       "  'DR-ECP 000001 3207971832PR07112001SALARY OCT ',\n",
       "  'HANDLING CHRG 000006FEE 3207971832PR07112002SALARY OCT 2020',\n",
       "  'Balance C/F',\n",
       "  'Balance B/F',\n",
       "  'HANDLING CHRG 000007FEE 3207971832PR07112003SALARY OCT ',\n",
       "  'HANDLING CHRG 000031FEE 3207971832PR07112001SALARY OCT 2020',\n",
       "  'Closing Balance In This Statement'])"
      ]
     },
     "execution_count": 187,
     "metadata": {},
     "output_type": "execute_result"
    }
   ],
   "source": [
    "amountList, descList"
   ]
  },
  {
   "cell_type": "code",
   "execution_count": 130,
   "metadata": {},
   "outputs": [
    {
     "data": {
      "text/plain": [
       "\"07/11Balance B/F19,694,285.690.5019,694,285.19HANDLING CHRG 000007FEE 3207971832PR07112003SALARY OCT 20202.9019,694,282.29HANDLING CHRG 000031FEE 3207971832PR07112001SALARY OCT 2020Closing Balance In This Statement19,694,282.29Baki Harian Dan Penutup Meliputi Semua Cek Yang Telah Didepositkan, Dijelaskan Dan Yang Belum Dijelaskan.Terima Kasih Kerana Berurus Niaga Dengan Public Bank.  Kecemerlangan Adalah Iltizam Kami.Kemusykilan anda mengenai perbankan DIJAWAB! Untuk maklumat lanjut, sila layari www.bankinginfo.com.my.Daily And Closing Balances Include All Cheques Deposited, Cleared And Uncleared.Thank You For Banking With Public Bank.  Excellence Is Our Commitment.Your banking questions ANSWERED! For more info, log on to www.bankinginfo.com.my.Anda boleh melihat Notis Privasi Public Bank di laman web www.pbebank.com.You may view Public Bank's Privacy Notice at www.pbebank.com.\""
      ]
     },
     "execution_count": 130,
     "metadata": {},
     "output_type": "execute_result"
    }
   ],
   "source": [
    "tableList[1]"
   ]
  },
  {
   "cell_type": "markdown",
   "metadata": {},
   "source": [
    "### split amount in amountList and desc in descList"
   ]
  },
  {
   "cell_type": "code",
   "execution_count": 46,
   "metadata": {},
   "outputs": [],
   "source": [
    "def splitAmount(desc):\n",
    "    try:\n",
    "        amountPattern = '(.*?\\.\\d{2}?)'\n",
    "        result = re.search(amountPattern, desc).group(1)\n",
    "        desc2 = re.sub(result, '', desc)\n",
    "        return result, desc2\n",
    "    except Exception as e:\n",
    "        print(e)\n",
    "        print(\"Wrong amount pattern\")"
   ]
  },
  {
   "cell_type": "code",
   "execution_count": 190,
   "metadata": {},
   "outputs": [
    {
     "data": {
      "text/plain": [
       "[('26,282.69', '19,801,849.10'),\n",
       " ('8,688.78', '19,793,160.32'),\n",
       " ('202032,443.37', '19,760,716.95'),\n",
       " ('202066,430.86', '19,694,286.09'),\n",
       " ('20200.40', '19,694,285.69'),\n",
       " ('19,694,285.69', ''),\n",
       " ('19,694,285.69', ''),\n",
       " ('0.50', '19,694,285.19'),\n",
       " ('20202.90', '19,694,282.29'),\n",
       " ('19,694,282.29', '')]"
      ]
     },
     "execution_count": 190,
     "metadata": {},
     "output_type": "execute_result"
    }
   ],
   "source": [
    "splitAmountList = [splitAmount(i) for i in amountList]\n",
    "splitAmountList"
   ]
  },
  {
   "cell_type": "code",
   "execution_count": 152,
   "metadata": {},
   "outputs": [],
   "source": [
    "def checkCreditDebit(amountTuple, previousBalance):\n",
    "    amount1 = float(re.sub(',', '', amountTuple[0]))\n",
    "    currentBalance = amountTuple[1]\n",
    "    if currentBalance !='':\n",
    "        currentBalance = float(re.sub(',', '', currentBalance))\n",
    "        previousBalance = float(re.sub(',', '', previousBalance))\n",
    "        if currentBalance - previousBalance == amount1:\n",
    "            amountTuple = ('', round(amount1, 2), currentBalance)\n",
    "        elif previousBalance - currentBalance == amount1:\n",
    "            amountTuple = (round(amount1, 2), '', currentBalance)\n",
    "        #if amount 1 is wrong\n",
    "        elif currentBalance > previousBalance:\n",
    "            credit  = currentBalance - previousBalance\n",
    "            amountTuple = ('', round(credit,2), currentBalance)\n",
    "        elif previousBalance > currentBalance:\n",
    "            debit  = previousBalance - currentBalance\n",
    "            amountTuple = (round(debit,2), '', currentBalance)            \n",
    "    else:\n",
    "        amountTuple = ('', '', amount1)\n",
    "    return amountTuple, str(amountTuple[2])"
   ]
  },
  {
   "cell_type": "code",
   "execution_count": 191,
   "metadata": {},
   "outputs": [
    {
     "data": {
      "text/plain": [
       "[('', 26282.69, 19801849.1),\n",
       " (8688.78, '', 19793160.32),\n",
       " (32443.37, '', 19760716.95),\n",
       " (66430.86, '', 19694286.09),\n",
       " (0.4, '', 19694285.69),\n",
       " ('', '', 19694285.69),\n",
       " ('', '', 19694285.69),\n",
       " (0.5, '', 19694285.19),\n",
       " (2.9, '', 19694282.29),\n",
       " ('', '', 19694282.29)]"
      ]
     },
     "execution_count": 191,
     "metadata": {},
     "output_type": "execute_result"
    }
   ],
   "source": [
    "#categorize one amount as credit/debit\n",
    "splitAmountList2 = []\n",
    "for no, i in enumerate(splitAmountList):\n",
    "    if no == 0:\n",
    "        resultTuple, previousBalanceAmount = checkCreditDebit(i, balanceAmount)\n",
    "        splitAmountList2.append(resultTuple)\n",
    "    else:\n",
    "        resultTuple, previousBalanceAmount = checkCreditDebit(i, previousBalanceAmount)\n",
    "        splitAmountList2.append(resultTuple)\n",
    "splitAmountList2"
   ]
  },
  {
   "cell_type": "code",
   "execution_count": 156,
   "metadata": {},
   "outputs": [],
   "source": [
    "#regex pattern based on transDesc\n",
    "transTypePatternDict = {'INSTANT TRSF CR':'(.*CR)\\s*(\\d{6})(.+)',\n",
    "                       'TSFR FUND DR-ATM/EFT':'(TSFR FUND DR-ATM/EFT)\\s*(\\d{6})(.+)'}\n",
    "\n",
    "def splitStr(desc):\n",
    "    foundPattern = 0\n",
    "    for transType in transTypePatternDict:\n",
    "        if re.search(transTypePatternDict[transType], desc):\n",
    "            pattern = transTypePatternDict[transType]\n",
    "            transType = re.search(pattern, desc).group(1)\n",
    "            chequeNo = re.search(pattern, desc).group(2)\n",
    "            ref1  = re.search(pattern, desc).group(3)\n",
    "            foundPattern = 1\n",
    "            finalResult = [chequeNo, transType, ref1] + ['']*2\n",
    "            break\n",
    "    if foundPattern == 0:\n",
    "        finalResult = ['']*2 + [desc] + ['']*2\n",
    "    #[chequeNo, transactionDescType, ref1, ref2, ref3]\n",
    "    return finalResult"
   ]
  },
  {
   "cell_type": "code",
   "execution_count": 454,
   "metadata": {},
   "outputs": [
    {
     "name": "stdout",
     "output_type": "stream",
     "text": [
      "['019141', 'INSTANT TRSF CR', 'BEATRICE JOHNNY ESHOP']\n",
      "['019141', 'INSTANT TRSF CR', 'BEATRICE JOHNNY ESHOP', '', '']\n",
      "\n",
      "\n",
      "['762178', 'TSFR FUND DR-ATM/EFT', '3812XXXXXX DATO LIN SOW YINGCONSULTANT FEE']\n",
      "['762178', 'TSFR FUND DR-ATM/EFT', '3812XXXXXX DATO LIN SOW YINGCONSULTANT FEE', '', '']\n"
     ]
    }
   ],
   "source": [
    "#INSTANT TRSF CR pattern\n",
    "pattern = '(.*CR)\\s*(\\d{6})(.+)'\n",
    "example = 'INSTANT TRSF CR 019141BEATRICE JOHNNY ESHOP'\n",
    "transType = re.search(pattern, example).group(1)\n",
    "chequeNo = re.search(pattern, example).group(2)\n",
    "ref1  = re.search(pattern, example).group(3)\n",
    "print([chequeNo, transType, ref1])\n",
    "print(splitStr(example))\n",
    "print('\\n')\n",
    "\n",
    "#TSFR FUND DR-ATM/EFT pattern\n",
    "pattern = '(TSFR FUND DR-ATM/EFT)\\s*(\\d{6})(.+)'\n",
    "example = 'TSFR FUND DR-ATM/EFT 7621783812XXXXXX DATO LIN SOW YINGCONSULTANT FEE'\n",
    "transType = re.search(pattern, example).group(1)\n",
    "chequeNo = re.search(pattern, example).group(2)\n",
    "ref1  = re.search(pattern, example).group(3)\n",
    "print([chequeNo, transType, ref1])\n",
    "print(splitStr(example))"
   ]
  },
  {
   "cell_type": "code",
   "execution_count": 192,
   "metadata": {},
   "outputs": [
    {
     "data": {
      "text/plain": [
       "[['', '', 'SI CR FROM 3999XXXXXX', '', ''],\n",
       " ['', '', 'DR-ECP 000001 3207971832PR07112002SALARY OCT ', '', ''],\n",
       " ['', '', 'DR-ECP 000001 3207971832PR07112003SALARY OCT ', '', ''],\n",
       " ['', '', 'DR-ECP 000001 3207971832PR07112001SALARY OCT ', '', ''],\n",
       " ['',\n",
       "  '',\n",
       "  'HANDLING CHRG 000006FEE 3207971832PR07112002SALARY OCT 2020',\n",
       "  '',\n",
       "  ''],\n",
       " ['', '', 'Balance C/F', '', ''],\n",
       " ['', '', 'Balance B/F', '', ''],\n",
       " ['', '', 'HANDLING CHRG 000007FEE 3207971832PR07112003SALARY OCT ', '', ''],\n",
       " ['',\n",
       "  '',\n",
       "  'HANDLING CHRG 000031FEE 3207971832PR07112001SALARY OCT 2020',\n",
       "  '',\n",
       "  ''],\n",
       " ['', '', 'Closing Balance In This Statement', '', '']]"
      ]
     },
     "execution_count": 192,
     "metadata": {},
     "output_type": "execute_result"
    }
   ],
   "source": [
    "splitStrList = [splitStr(i) for i in descList]\n",
    "splitStrList"
   ]
  },
  {
   "cell_type": "markdown",
   "metadata": {},
   "source": [
    "### concolidating result and form table"
   ]
  },
  {
   "cell_type": "code",
   "execution_count": 160,
   "metadata": {},
   "outputs": [],
   "source": [
    "#column names\n",
    "colList = ['Trn. Date', 'Cheque No/Ref No', 'Transaction Description',\n",
    "           'Debit Amount', 'Credit Amount', \n",
    "           'Reference 1', 'Reference 2', 'Reference 3', 'Balance']\n",
    "\n",
    "for no, finalStrList in enumerate(splitStrList):\n",
    "    tempList =  [date] + [i for i in finalStrList[:2]]\n",
    "    tempList += [i for i in splitAmountList2[no][:2]] + [i for i in finalStrList[2:]] + [splitAmountList2[no][-1]]\n",
    "    resultList.append(tempList)"
   ]
  },
  {
   "cell_type": "code",
   "execution_count": 198,
   "metadata": {},
   "outputs": [
    {
     "data": {
      "text/html": [
       "<div>\n",
       "<style scoped>\n",
       "    .dataframe tbody tr th:only-of-type {\n",
       "        vertical-align: middle;\n",
       "    }\n",
       "\n",
       "    .dataframe tbody tr th {\n",
       "        vertical-align: top;\n",
       "    }\n",
       "\n",
       "    .dataframe thead th {\n",
       "        text-align: right;\n",
       "    }\n",
       "</style>\n",
       "<table border=\"1\" class=\"dataframe\">\n",
       "  <thead>\n",
       "    <tr style=\"text-align: right;\">\n",
       "      <th></th>\n",
       "      <th>Trn. Date</th>\n",
       "      <th>Cheque No/Ref No</th>\n",
       "      <th>Transaction Description</th>\n",
       "      <th>Debit Amount</th>\n",
       "      <th>Credit Amount</th>\n",
       "      <th>Reference 1</th>\n",
       "      <th>Reference 2</th>\n",
       "      <th>Reference 3</th>\n",
       "      <th>Balance</th>\n",
       "    </tr>\n",
       "  </thead>\n",
       "  <tbody>\n",
       "    <tr>\n",
       "      <th>0</th>\n",
       "      <td>06/11</td>\n",
       "      <td></td>\n",
       "      <td></td>\n",
       "      <td></td>\n",
       "      <td></td>\n",
       "      <td>Balance From Last Statement</td>\n",
       "      <td></td>\n",
       "      <td></td>\n",
       "      <td>19,775,566.41</td>\n",
       "    </tr>\n",
       "    <tr>\n",
       "      <th>1</th>\n",
       "      <td>07/11</td>\n",
       "      <td></td>\n",
       "      <td></td>\n",
       "      <td></td>\n",
       "      <td>26282.7</td>\n",
       "      <td>SI CR FROM 3999XXXXXX</td>\n",
       "      <td></td>\n",
       "      <td></td>\n",
       "      <td>1.98018e+07</td>\n",
       "    </tr>\n",
       "    <tr>\n",
       "      <th>2</th>\n",
       "      <td>07/11</td>\n",
       "      <td></td>\n",
       "      <td></td>\n",
       "      <td>8688.78</td>\n",
       "      <td></td>\n",
       "      <td>DR-ECP 000001 3207971832PR07112002SALARY OCT</td>\n",
       "      <td></td>\n",
       "      <td></td>\n",
       "      <td>1.97932e+07</td>\n",
       "    </tr>\n",
       "    <tr>\n",
       "      <th>3</th>\n",
       "      <td>07/11</td>\n",
       "      <td></td>\n",
       "      <td></td>\n",
       "      <td>32443.4</td>\n",
       "      <td></td>\n",
       "      <td>DR-ECP 000001 3207971832PR07112003SALARY OCT</td>\n",
       "      <td></td>\n",
       "      <td></td>\n",
       "      <td>1.97607e+07</td>\n",
       "    </tr>\n",
       "    <tr>\n",
       "      <th>4</th>\n",
       "      <td>07/11</td>\n",
       "      <td></td>\n",
       "      <td></td>\n",
       "      <td>66430.9</td>\n",
       "      <td></td>\n",
       "      <td>DR-ECP 000001 3207971832PR07112001SALARY OCT</td>\n",
       "      <td></td>\n",
       "      <td></td>\n",
       "      <td>1.96943e+07</td>\n",
       "    </tr>\n",
       "    <tr>\n",
       "      <th>5</th>\n",
       "      <td>07/11</td>\n",
       "      <td></td>\n",
       "      <td></td>\n",
       "      <td>0.4</td>\n",
       "      <td></td>\n",
       "      <td>HANDLING CHRG 000006FEE 3207971832PR07112002SA...</td>\n",
       "      <td></td>\n",
       "      <td></td>\n",
       "      <td>1.96943e+07</td>\n",
       "    </tr>\n",
       "    <tr>\n",
       "      <th>6</th>\n",
       "      <td>07/11</td>\n",
       "      <td></td>\n",
       "      <td></td>\n",
       "      <td></td>\n",
       "      <td></td>\n",
       "      <td>Balance C/F</td>\n",
       "      <td></td>\n",
       "      <td></td>\n",
       "      <td>1.96943e+07</td>\n",
       "    </tr>\n",
       "    <tr>\n",
       "      <th>7</th>\n",
       "      <td>07/11</td>\n",
       "      <td></td>\n",
       "      <td></td>\n",
       "      <td></td>\n",
       "      <td></td>\n",
       "      <td>Balance B/F</td>\n",
       "      <td></td>\n",
       "      <td></td>\n",
       "      <td>1.96943e+07</td>\n",
       "    </tr>\n",
       "    <tr>\n",
       "      <th>8</th>\n",
       "      <td>07/11</td>\n",
       "      <td></td>\n",
       "      <td></td>\n",
       "      <td>0.5</td>\n",
       "      <td></td>\n",
       "      <td>HANDLING CHRG 000007FEE 3207971832PR07112003SA...</td>\n",
       "      <td></td>\n",
       "      <td></td>\n",
       "      <td>1.96943e+07</td>\n",
       "    </tr>\n",
       "    <tr>\n",
       "      <th>9</th>\n",
       "      <td>07/11</td>\n",
       "      <td></td>\n",
       "      <td></td>\n",
       "      <td>2.9</td>\n",
       "      <td></td>\n",
       "      <td>HANDLING CHRG 000031FEE 3207971832PR07112001SA...</td>\n",
       "      <td></td>\n",
       "      <td></td>\n",
       "      <td>1.96943e+07</td>\n",
       "    </tr>\n",
       "    <tr>\n",
       "      <th>10</th>\n",
       "      <td>07/11</td>\n",
       "      <td></td>\n",
       "      <td></td>\n",
       "      <td></td>\n",
       "      <td></td>\n",
       "      <td>Closing Balance In This Statement</td>\n",
       "      <td></td>\n",
       "      <td></td>\n",
       "      <td>1.96943e+07</td>\n",
       "    </tr>\n",
       "  </tbody>\n",
       "</table>\n",
       "</div>"
      ],
      "text/plain": [
       "   Trn. Date Cheque No/Ref No Transaction Description Debit Amount  \\\n",
       "0      06/11                                                         \n",
       "1      07/11                                                         \n",
       "2      07/11                                               8688.78   \n",
       "3      07/11                                               32443.4   \n",
       "4      07/11                                               66430.9   \n",
       "5      07/11                                                   0.4   \n",
       "6      07/11                                                         \n",
       "7      07/11                                                         \n",
       "8      07/11                                                   0.5   \n",
       "9      07/11                                                   2.9   \n",
       "10     07/11                                                         \n",
       "\n",
       "   Credit Amount                                        Reference 1  \\\n",
       "0                                       Balance From Last Statement   \n",
       "1        26282.7                              SI CR FROM 3999XXXXXX   \n",
       "2                     DR-ECP 000001 3207971832PR07112002SALARY OCT    \n",
       "3                     DR-ECP 000001 3207971832PR07112003SALARY OCT    \n",
       "4                     DR-ECP 000001 3207971832PR07112001SALARY OCT    \n",
       "5                 HANDLING CHRG 000006FEE 3207971832PR07112002SA...   \n",
       "6                                                       Balance C/F   \n",
       "7                                                       Balance B/F   \n",
       "8                 HANDLING CHRG 000007FEE 3207971832PR07112003SA...   \n",
       "9                 HANDLING CHRG 000031FEE 3207971832PR07112001SA...   \n",
       "10                                Closing Balance In This Statement   \n",
       "\n",
       "   Reference 2 Reference 3        Balance  \n",
       "0                           19,775,566.41  \n",
       "1                             1.98018e+07  \n",
       "2                             1.97932e+07  \n",
       "3                             1.97607e+07  \n",
       "4                             1.96943e+07  \n",
       "5                             1.96943e+07  \n",
       "6                             1.96943e+07  \n",
       "7                             1.96943e+07  \n",
       "8                             1.96943e+07  \n",
       "9                             1.96943e+07  \n",
       "10                            1.96943e+07  "
      ]
     },
     "execution_count": 198,
     "metadata": {},
     "output_type": "execute_result"
    }
   ],
   "source": [
    "df = pd.DataFrame(resultList, columns = colList)\n",
    "df"
   ]
  },
  {
   "cell_type": "markdown",
   "metadata": {},
   "source": [
    "### validate no debit and credit amount"
   ]
  },
  {
   "cell_type": "code",
   "execution_count": 199,
   "metadata": {},
   "outputs": [
    {
     "data": {
      "text/plain": [
       "6"
      ]
     },
     "execution_count": 199,
     "metadata": {},
     "output_type": "execute_result"
    }
   ],
   "source": [
    "trueNoDebit = df.query(\"`Debit Amount`!=''\").shape[0]\n",
    "trueNoDebit"
   ]
  },
  {
   "cell_type": "code",
   "execution_count": 200,
   "metadata": {},
   "outputs": [],
   "source": [
    "#confirm no debit\n",
    "noDebitIndex = noDebitList.index(str(trueNoDebit))\n",
    "creditAmount = creditAmountList[noDebitIndex]\n",
    "summaryDict[summaryCol[2]] = trueNoDebit\n",
    "summaryDict[summaryCol[3]] = creditAmount"
   ]
  },
  {
   "cell_type": "code",
   "execution_count": 201,
   "metadata": {},
   "outputs": [
    {
     "data": {
      "text/plain": [
       "{'Baki Penutup / Closing Balance': '19,694,282.29',\n",
       " 'Jumlah Debit / Total Debits': '107,566.81',\n",
       " 'Bil. Kredit / No. of Credits': '1',\n",
       " 'Bil. Debit / No. of Debits': 6,\n",
       " 'Jumlah Kredit / Total Credits': '26,282.69'}"
      ]
     },
     "execution_count": 201,
     "metadata": {},
     "output_type": "execute_result"
    }
   ],
   "source": [
    "summaryDict"
   ]
  },
  {
   "cell_type": "markdown",
   "metadata": {},
   "source": [
    "### Write to excel file"
   ]
  },
  {
   "cell_type": "code",
   "execution_count": 202,
   "metadata": {},
   "outputs": [],
   "source": [
    "import xlsxwriter \n",
    "  \n",
    "\n",
    "workbook = xlsxwriter.Workbook(excelFile)\n",
    "worksheet = workbook.add_worksheet() \n",
    "\n",
    "# Rows and columns are zero indexed. \n",
    "row = 0\n",
    "\n",
    "for col in accountInfoDict : \n",
    "  \n",
    "    # write operation perform \n",
    "    worksheet.write(row, 0, col + ':')\n",
    "    worksheet.write(row, 1, accountInfoDict[col])\n",
    "  \n",
    "    # incrementing the value of row by one \n",
    "    # with each iteratons. \n",
    "    row += 1\n",
    "    \n",
    "for col in summaryDict : \n",
    "  \n",
    "    # write operation perform \n",
    "    worksheet.write(row, 0, col + ':')\n",
    "    worksheet.write(row, 1, summaryDict[col])\n",
    "  \n",
    "    # incrementing the value of row by one \n",
    "    # with each iteratons. \n",
    "    row += 1\n",
    "    \n",
    "workbook.close()\n",
    "\n",
    "from openpyxl import load_workbook\n",
    "#write pandas \n",
    "writer = pd.ExcelWriter(excelFile, engine='openpyxl')\n",
    "writer.book = load_workbook(excelFile)\n",
    "# copy existing sheets\n",
    "writer.sheets = dict((ws.title, ws) for ws in writer.book.worksheets)\n",
    "reader = pd.read_excel(excelFile)\n",
    "df.to_excel(writer, sheet_name='Sheet1', startrow = len(reader) + 2, header = True, index = False)\n",
    "writer.save()"
   ]
  },
  {
   "cell_type": "code",
   "execution_count": null,
   "metadata": {},
   "outputs": [],
   "source": []
  }
 ],
 "metadata": {
  "kernelspec": {
   "display_name": "Python 3",
   "language": "python",
   "name": "python3"
  },
  "language_info": {
   "codemirror_mode": {
    "name": "ipython",
    "version": 3
   },
   "file_extension": ".py",
   "mimetype": "text/x-python",
   "name": "python",
   "nbconvert_exporter": "python",
   "pygments_lexer": "ipython3",
   "version": "3.7.6"
  }
 },
 "nbformat": 4,
 "nbformat_minor": 4
}
