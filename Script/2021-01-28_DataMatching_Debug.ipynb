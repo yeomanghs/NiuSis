{
 "cells": [
  {
   "cell_type": "code",
   "execution_count": 49,
   "metadata": {},
   "outputs": [],
   "source": [
    "import pandas as pd\n",
    "import re\n",
    "import openpyxl \n",
    "import numpy as np\n",
    "from timeit import default_timer as timer\n",
    "\n",
    "pd.set_option('display.max_columns', 100)\n",
    "pd.set_option('display.max_rows', 100)\n",
    "\n",
    "#predefine parameters\n",
    "filterTransDesc = \"HANDLING CHRG\"\n",
    "\n",
    "#name col to remove rows with missing na or to match bs\n",
    "payoutNameCol = 'Member Name'\n",
    "merchantNameCol = 'Merchant'\n",
    "merchantBankNameCol = 'Bank Acc Name'\n",
    "billPaymentNameCol = \"Name\"\n",
    "\n",
    "#col of payout to match amount (payout, merchant and bill payment must have)\n",
    "poAmountCol = \"Amount\"\n",
    "#col of final output as name\n",
    "poNameCol = \"Member Name\"\n",
    "bsName = \"BS Name\"\n",
    "\n",
    "#cols to match in bank statement\n",
    "bsColMatchList = ['Reference 1', 'Reference 2', 'Reference 3', 'Reference 4']\n",
    "bsAmountCol = \"Debit Amount\"\n",
    "\n",
    "#index col to track rows\n",
    "euIndex = \"EU_Index\"\n",
    "copIndex = \"COP_Index\"\n",
    "manageCOPIndex = \"ManageCOP_Index\"\n",
    "merchantIndex = \"Merchant_Index\"\n",
    "billPaymentIndex = \"BP_Index\"\n",
    "bsIndex = \"BS_Index\"\n",
    "\n",
    "#ruleDict, which file type to use which set of rules\n",
    "ruleDict = {\"PayOut\":[1, 2, 3, 4, 6],\n",
    "           \"Merchant\":[1, 2, 3, 4],\n",
    "           \"BillPayment\":[5]}"
   ]
  },
  {
   "cell_type": "code",
   "execution_count": 26,
   "metadata": {},
   "outputs": [
    {
     "name": "stdout",
     "output_type": "stream",
     "text": [
      "Checking worksheet names \n",
      "\n",
      "All worksheet names are found\n"
     ]
    }
   ],
   "source": [
    "#check if required worksheet names are there and return them if so \n",
    "def checkWorksheetName(file):\n",
    "    print(\"Checking worksheet names \\n\")\n",
    "    \n",
    "    wb = openpyxl.load_workbook(file)\n",
    "    wsList = wb.sheetnames\n",
    "    try:\n",
    "        EU = [i for i in wsList if re.search('EU[^-]', i)][0]\n",
    "        COP = [i for i in wsList if re.search('COP[^-]', i)][0]\n",
    "        ManageCOP = [i for i in wsList if re.search('MANAGE COP[^-]', i)][0]\n",
    "        Merchant = [i for i in wsList if re.search('MERCHANT[^-]', i)][0]\n",
    "        BillPayment = [i for i in wsList if re.search('BILL PAYMENT[^-]', i)][0]\n",
    "        \n",
    "        print(\"All worksheet names are found\")\n",
    "        return EU, COP, ManageCOP, Merchant, BillPayment\n",
    "    except Exception as e:\n",
    "        print(\"Failed to find worksheet names for all \\n\")\n",
    "        print(e)\n",
    "\n",
    "payoutExcelFile = \"Quinton_Payout/PAYOUT - 06.08.2020.xlsx\"\n",
    "# wb = openpyxl.load_workbook(payoutExcelFile)\n",
    "\n",
    "EU_WsName, COP_WsName, ManageCOP_WsName, Merchant_WsName, BillPayment_WsName = checkWorksheetName(payoutExcelFile)"
   ]
  },
  {
   "cell_type": "code",
   "execution_count": 6,
   "metadata": {},
   "outputs": [],
   "source": [
    "#reconciled payout\n",
    "excelFile = \"Quinton_Reconciliation Result/Reconciliation_20200806.xlsx\"\n",
    "wsName = \"Reconciled\"\n",
    "dfReconciled = pd.read_excel(excelFile, sheet_name = wsName)"
   ]
  },
  {
   "cell_type": "code",
   "execution_count": 27,
   "metadata": {},
   "outputs": [],
   "source": [
    "#read file\n",
    "\n",
    "#read payout files - EU, COP and ManageCOP\n",
    "dfEU = pd.read_excel(payoutExcelFile, sheet_name = EU_WsName)\n",
    "#remove empty member name\n",
    "dfEU = dfEU[pd.notnull(dfEU[payoutNameCol])]\n",
    "dfEU['DataType'] = \"EU\" \n",
    "\n",
    "dfCOP = pd.read_excel(payoutExcelFile, sheet_name = COP_WsName)\n",
    "#remove empty member name\n",
    "dfCOP = dfCOP[pd.notnull(dfCOP[payoutNameCol])]\n",
    "dfCOP['DataType'] = \"COP\" \n",
    "\n",
    "dfManageCOP = pd.read_excel(payoutExcelFile, sheet_name = ManageCOP_WsName)\n",
    "#remove empty member name\n",
    "dfManageCOP = dfManageCOP[pd.notnull(dfManageCOP[payoutNameCol])]\n",
    "dfManageCOP['DataType'] = \"ManageCOP\" \n",
    "\n",
    "#merchant file\n",
    "dfMerchant = pd.read_excel(payoutExcelFile, sheet_name = Merchant_WsName)\n",
    "#remove empty merchant col\n",
    "dfMerchant = dfMerchant[pd.notnull(dfMerchant[merchantNameCol])]\n",
    "dfMerchant['DataType'] = \"Merchant\" \n",
    "\n",
    "dfBillPayment = pd.read_excel(payoutExcelFile, sheet_name = BillPayment_WsName)\n",
    "#remove empty name\n",
    "dfBillPayment = dfBillPayment[pd.notnull(dfBillPayment[billPaymentNameCol])]\n",
    "dfBillPayment['DataType'] = \"BillPayment\" "
   ]
  },
  {
   "cell_type": "code",
   "execution_count": 28,
   "metadata": {},
   "outputs": [],
   "source": [
    "#create index\n",
    "dfEU[euIndex] = np.arange(dfEU.shape[0])\n",
    "dfCOP[copIndex] = np.arange(dfCOP.shape[0])\n",
    "dfManageCOP[manageCOPIndex] = np.arange(dfManageCOP.shape[0])\n",
    "dfMerchant[merchantIndex] = np.arange(dfMerchant.shape[0])\n",
    "dfBillPayment[billPaymentIndex] = np.arange(dfBillPayment.shape[0])"
   ]
  },
  {
   "cell_type": "code",
   "execution_count": 11,
   "metadata": {},
   "outputs": [],
   "source": [
    "bsExcelFile = \"Quinton_Bank Statement/08.06 3207971832Statement.csv\"\n",
    "# dfBankStatement = pd.read_csv(bsExcelFile, skiprows = 17)\n",
    "\n",
    "#read and process bank statement file\n",
    "def processBankStatement(file):\n",
    "    print(\"Processing bank statement files \\n\")\n",
    "    try:\n",
    "        #read file\n",
    "        df = pd.read_csv(bsExcelFile, skiprows = 17)\n",
    "        #get column names\n",
    "        bsColList = df.columns\n",
    "        #clean rows\n",
    "        cleanRows = []\n",
    "        for row in df.iterrows():\n",
    "            #index\n",
    "            if type(row[0]) == str:\n",
    "                tempList = [re.sub(\"=|\\\"\", \"\", row[0])]\n",
    "            else:\n",
    "                tempList = [row[0]]\n",
    "            #other values\n",
    "            tempList+=[re.sub(\"=|\\\"\", \"\", value) if type(value) == str else value for value in row[1]][:-1]\n",
    "            cleanRows.append(tempList)\n",
    "            \n",
    "        df2 = pd.DataFrame(cleanRows)\n",
    "        df2.columns = bsColList\n",
    "        print(\"Finished processing bank statement\")\n",
    "        \n",
    "        return df2\n",
    "    except Exception as e:\n",
    "        print(\"Failed to read/process bank statement file \\n\")\n",
    "        print(e)"
   ]
  },
  {
   "cell_type": "code",
   "execution_count": 12,
   "metadata": {},
   "outputs": [],
   "source": [
    "bsColList = dfBankStatement.columns\n",
    "\n",
    "cleanRows = []\n",
    "for row in dfBankStatement.iterrows():\n",
    "    #index\n",
    "    if type(row[0]) == str:\n",
    "        tempList = [re.sub(\"=|\\\"\", \"\", row[0])]\n",
    "    else:\n",
    "        tempList = [row[0]]\n",
    "    #other values\n",
    "    tempList+=[re.sub(\"=|\\\"\", \"\", value) if type(value) == str else value for value in row[1]][:-1]\n",
    "    \n",
    "    cleanRows.append(tempList)\n",
    "    \n",
    "dfBankStatement2 = pd.DataFrame(cleanRows)\n",
    "dfBankStatement2.columns = bsColList"
   ]
  },
  {
   "cell_type": "code",
   "execution_count": 13,
   "metadata": {},
   "outputs": [
    {
     "name": "stdout",
     "output_type": "stream",
     "text": [
      "Processing bank statement files \n",
      "\n",
      "Finished processing bank statement\n"
     ]
    }
   ],
   "source": [
    "dfBankStatement = processBankStatement(bsExcelFile)"
   ]
  },
  {
   "cell_type": "code",
   "execution_count": 14,
   "metadata": {},
   "outputs": [],
   "source": [
    "dfBankStatement = dfBankStatement.query('`Transaction Description`!= \"%s\"'%filterTransDesc)\n",
    "dfBankStatement[bsIndex] = np.arange(dfBankStatement.shape[0])"
   ]
  },
  {
   "cell_type": "code",
   "execution_count": 15,
   "metadata": {},
   "outputs": [],
   "source": [
    "#check if each col to use/match in bs exists in bs table\n",
    "def checkBSCols(df, cols):\n",
    "    checkCol = [i for i in cols if i in df.columns]\n",
    "    if len(checkCol) != len(cols):\n",
    "        return False\n",
    "    else:\n",
    "        return True"
   ]
  },
  {
   "cell_type": "code",
   "execution_count": 16,
   "metadata": {},
   "outputs": [
    {
     "data": {
      "text/plain": [
       "True"
      ]
     },
     "execution_count": 16,
     "metadata": {},
     "output_type": "execute_result"
    }
   ],
   "source": [
    "checkBSCols(dfBankStatement, bsColMatchList + [bsAmountCol])"
   ]
  },
  {
   "cell_type": "code",
   "execution_count": 17,
   "metadata": {},
   "outputs": [],
   "source": [
    "colList = [bsIndex] + bsColMatchList + [bsAmountCol]\n",
    "dfBankStatementFinal = dfBankStatement[colList].copy()"
   ]
  },
  {
   "cell_type": "markdown",
   "metadata": {},
   "source": [
    "### Exact Match"
   ]
  },
  {
   "cell_type": "code",
   "execution_count": 120,
   "metadata": {},
   "outputs": [],
   "source": [
    "def exactMatch(df, indexName, nameCol):\n",
    "    startTime = timer()\n",
    "    mergeList = []\n",
    "    indexList = list(df[pd.notnull(df[nameCol])][indexName].values)\n",
    "    for col in bsColMatchList:\n",
    "        dfTemp = df[df[indexName].isin(indexList)].copy()\n",
    "        dfMerged = dfTemp.merge(dfBankStatementFinal, how = 'inner', left_on = [nameCol, poAmountCol],\n",
    "                                                            right_on = [col, bsAmountCol])\n",
    "        dfMerged2 = dfMerged[(pd.notnull(dfMerged[nameCol])) & (pd.notnull(dfMerged[col]))].copy()\n",
    "        dfMerged2.rename(columns = {col: bsName, nameCol : poNameCol}, inplace = True)\n",
    "        mergeList.append(dfMerged2)\n",
    "        #update index list\n",
    "\n",
    "    \n",
    "    dfMergedFinal = pd.concat(mergeList).copy()[[indexName, poNameCol, poAmountCol, \n",
    "                                                 bsIndex, bsName, bsAmountCol, \"DataType\"]]\n",
    "#     dfMergedFinal = pd.concat(mergeList).copy()\n",
    "    dfMergedFinal['MatchCategory'] = \"ExactMatch\"\n",
    "    endTime = timer()\n",
    "    print(\"Total time: %0.4fs\" % (endTime - startTime))\n",
    "    return dfMergedFinal"
   ]
  },
  {
   "cell_type": "code",
   "execution_count": 121,
   "metadata": {},
   "outputs": [
    {
     "name": "stdout",
     "output_type": "stream",
     "text": [
      "Total time: 0.0770s\n"
     ]
    },
    {
     "data": {
      "text/plain": [
       "(487, 8)"
      ]
     },
     "execution_count": 121,
     "metadata": {},
     "output_type": "execute_result"
    }
   ],
   "source": [
    "#exact matching for payout file\n",
    "#EU\n",
    "dfExactMatchEU = exactMatch(dfEU, euIndex, payoutNameCol)\n",
    "#find no match list\n",
    "noMatchEUList = set(dfEU[euIndex].values)\\\n",
    "                    .difference(set(dfExactMatchEU[euIndex].values))\n",
    "dfExactMatchEU.shape"
   ]
  },
  {
   "cell_type": "code",
   "execution_count": 122,
   "metadata": {},
   "outputs": [
    {
     "name": "stdout",
     "output_type": "stream",
     "text": [
      "Total time: 0.0820s\n"
     ]
    },
    {
     "data": {
      "text/plain": [
       "(397, 8)"
      ]
     },
     "execution_count": 122,
     "metadata": {},
     "output_type": "execute_result"
    }
   ],
   "source": [
    "#COP\n",
    "dfExactMatchCOP = exactMatch(dfCOP, copIndex, payoutNameCol)\n",
    "#find no match list\n",
    "noMatchCOPList = set(dfCOP[copIndex].values)\\\n",
    "                    .difference(set(dfExactMatchCOP[copIndex].values))\n",
    "dfExactMatchCOP.shape"
   ]
  },
  {
   "cell_type": "code",
   "execution_count": 123,
   "metadata": {},
   "outputs": [
    {
     "name": "stdout",
     "output_type": "stream",
     "text": [
      "Total time: 0.0829s\n"
     ]
    },
    {
     "data": {
      "text/plain": [
       "(0, 8)"
      ]
     },
     "execution_count": 123,
     "metadata": {},
     "output_type": "execute_result"
    }
   ],
   "source": [
    "#Manage COP\n",
    "dfExactMatchManageCOP = exactMatch(dfManageCOP, manageCOPIndex, payoutNameCol)\n",
    "#find no match list\n",
    "noMatchManageCOPList = set(dfManageCOP[manageCOPIndex].values)\\\n",
    "                    .difference(set(dfExactMatchManageCOP[manageCOPIndex].values))\n",
    "dfExactMatchManageCOP.shape"
   ]
  },
  {
   "cell_type": "code",
   "execution_count": 124,
   "metadata": {},
   "outputs": [
    {
     "name": "stdout",
     "output_type": "stream",
     "text": [
      "Total time: 0.0719s\n"
     ]
    },
    {
     "data": {
      "text/plain": [
       "(0, 8)"
      ]
     },
     "execution_count": 124,
     "metadata": {},
     "output_type": "execute_result"
    }
   ],
   "source": [
    "#exact matching for bill payment file\n",
    "dfExactMatchBP = exactMatch(dfBillPayment, billPaymentIndex, billPaymentNameCol)\n",
    "#find no match list\n",
    "noMatchBPList = set(dfBillPayment[billPaymentIndex].values)\\\n",
    "                        .difference(set(dfExactMatchBP[billPaymentIndex].values))\n",
    "dfExactMatchBP.shape"
   ]
  },
  {
   "cell_type": "code",
   "execution_count": 125,
   "metadata": {},
   "outputs": [
    {
     "name": "stdout",
     "output_type": "stream",
     "text": [
      "Total time: 0.0823s\n",
      "Total time: 0.0954s\n"
     ]
    },
    {
     "data": {
      "text/plain": [
       "(386, 8)"
      ]
     },
     "execution_count": 125,
     "metadata": {},
     "output_type": "execute_result"
    }
   ],
   "source": [
    "#exact matching for merchant file\n",
    "exactMatchMerchantList = []\n",
    "for colName in [merchantNameCol, merchantBankNameCol]:\n",
    "    dfExactMatchMerchant = exactMatch(dfMerchant, merchantIndex, colName)\n",
    "    exactMatchMerchantList.append(dfExactMatchMerchant)\n",
    "\n",
    "dfExactMatchMerchant = pd.concat(exactMatchMerchantList).copy()\n",
    "dfExactMatchMerchant.drop_duplicates(subset=[merchantIndex, bsIndex], inplace = True)\n",
    "\n",
    "#harmonize no match list\n",
    "noMatchMerchantList = set(dfMerchant[merchantIndex].values)\\\n",
    "                        .difference(set(dfExactMatchMerchant[merchantIndex].values))\n",
    "dfExactMatchMerchant.shape"
   ]
  },
  {
   "cell_type": "code",
   "execution_count": 126,
   "metadata": {},
   "outputs": [
    {
     "data": {
      "text/plain": [
       "(1270, 12)"
      ]
     },
     "execution_count": 126,
     "metadata": {},
     "output_type": "execute_result"
    }
   ],
   "source": [
    "#combine all exact matches\n",
    "dfExactMatchFinal = pd.concat([dfExactMatchEU, dfExactMatchCOP, dfExactMatchManageCOP,\n",
    "                               dfExactMatchBP, dfExactMatchMerchant]).copy()\n",
    "matchedBSIndex = dfExactMatchFinal[bsIndex].values\n",
    "dfExactMatchFinal.shape"
   ]
  },
  {
   "cell_type": "code",
   "execution_count": 127,
   "metadata": {},
   "outputs": [],
   "source": [
    "csvFile = \"2021-01-24_ExactMatch.csv\"\n",
    "dfExactMatchFinal.to_csv(csvFile, index = False)"
   ]
  },
  {
   "cell_type": "code",
   "execution_count": 128,
   "metadata": {},
   "outputs": [
    {
     "data": {
      "text/plain": [
       "103"
      ]
     },
     "execution_count": 128,
     "metadata": {},
     "output_type": "execute_result"
    }
   ],
   "source": [
    "#get unmatched list EU for partial matching purpose\n",
    "noMatchEUlist = set(dfEU[euIndex].values).difference(set(dfExactMatchEU[euIndex].values))\n",
    "len(noMatchEUlist)"
   ]
  },
  {
   "cell_type": "code",
   "execution_count": 129,
   "metadata": {},
   "outputs": [
    {
     "data": {
      "text/plain": [
       "322"
      ]
     },
     "execution_count": 129,
     "metadata": {},
     "output_type": "execute_result"
    }
   ],
   "source": [
    "#get unmatched list COP for partial matching purpose\n",
    "noMatchCOPlist = set(dfCOP[copIndex].values).difference(set(dfExactMatchCOP[copIndex].values))\n",
    "len(noMatchCOPlist)"
   ]
  },
  {
   "cell_type": "code",
   "execution_count": 130,
   "metadata": {},
   "outputs": [
    {
     "data": {
      "text/plain": [
       "14"
      ]
     },
     "execution_count": 130,
     "metadata": {},
     "output_type": "execute_result"
    }
   ],
   "source": [
    "#get unmatched list manage COP for partial matching purpose\n",
    "noMatchManageCOPlist = set(dfManageCOP[manageCOPIndex].values).difference(set(dfExactMatchManageCOP[manageCOPIndex].values))\n",
    "len(noMatchManageCOPlist)"
   ]
  },
  {
   "cell_type": "code",
   "execution_count": 131,
   "metadata": {},
   "outputs": [
    {
     "data": {
      "text/plain": [
       "243"
      ]
     },
     "execution_count": 131,
     "metadata": {},
     "output_type": "execute_result"
    }
   ],
   "source": [
    "#get unmatched list BP for partial matching purpose\n",
    "noMatchBPlist = set(dfBillPayment[billPaymentIndex].values).difference(set(dfExactMatchBP[billPaymentIndex].values))\n",
    "len(noMatchBPlist)"
   ]
  },
  {
   "cell_type": "code",
   "execution_count": 132,
   "metadata": {},
   "outputs": [
    {
     "data": {
      "text/plain": [
       "276"
      ]
     },
     "execution_count": 132,
     "metadata": {},
     "output_type": "execute_result"
    }
   ],
   "source": [
    "#get unmatched list merchant for partial matching purpose\n",
    "noMatchMerchantlist = set(dfMerchant[merchantIndex].values).difference(set(dfExactMatchMerchant[merchantIndex].values))\n",
    "len(noMatchMerchantlist)"
   ]
  },
  {
   "cell_type": "markdown",
   "metadata": {},
   "source": [
    "### partial match"
   ]
  },
  {
   "cell_type": "code",
   "execution_count": 185,
   "metadata": {},
   "outputs": [],
   "source": [
    "def matchFirst2Terms(name, series):\n",
    "    ruleName = \"matchFirst2Terms\"\n",
    "    #match series with first 1 or 2 terms of names\n",
    "    if len(name.split(' ')) >= 3:\n",
    "        match = ' '.join(name.split(' ')[:2])\n",
    "        resultArray = series.map(lambda x:ruleName if re.search('%s'%match, str(x), flags = re.IGNORECASE)\n",
    "                                else \"False\").values\n",
    "    elif len(name.split(' ')) == 2:\n",
    "        match = name.split(' ')[0]\n",
    "        resultArray = series.map(lambda x:ruleName if re.search('%s'%match, re.sub(\" \",\"\",str(x)), flags = re.IGNORECASE)\n",
    "                                else \"False\").values\n",
    "    else:\n",
    "        resultArray = np.full(len(series), \"False\")\n",
    "\n",
    "    return resultArray\n",
    "\n",
    "# def matchTruncated(name, series):\n",
    "#     ruleName = \"matchTruncated\"\n",
    "#     #match series with truncated name if there is \n",
    "#     rule1 =  series\\\n",
    "#             .map(lambda x: True if re.search('%s'%re.escape(str(name)), str(x), flags = re.IGNORECASE) \n",
    "#                  and str(x) not in ['', 'nan'] else False).values\n",
    "#     #match name with truncated name in the series if there is\n",
    "#     rule2 = series\\\n",
    "#                 .map(lambda x: True if re.search('%s'%re.escape(str(x)), str(name), flags = re.IGNORECASE) \n",
    "#                      and str(x) not in ['','nan'] else False).values\n",
    "#     resultArray = (rule1|rule2)\n",
    "#     resultArray = np.where(resultArray, ruleName, \"False\")\n",
    "    \n",
    "#     return resultArray\n",
    "\n",
    "#edited - 2021-01-28\n",
    "def matchTruncated(name, series):\n",
    "    ruleName = \"matchTruncated\"\n",
    "    #match series with truncated name if there is \n",
    "    cleanName = re.sub(\" binti \", \" bt \", str(name), flags = re.IGNORECASE)\n",
    "    rule1 =  series\\\n",
    "            .map(lambda x: True if re.search('%s'%re.escape(str(name)), str(x), flags = re.IGNORECASE) \n",
    "                 and str(x) not in ['', 'nan'] else False).values\n",
    "    #match name with truncated name in the series if there is\n",
    "    rule2 = series\\\n",
    "                .map(lambda x: True if re.search('%s'%re.escape(re.sub(\"ENCIK |COP REFUND\", '', \n",
    "                                                                re.sub(\" binti \", \" bt \", str(x), flags = re.I), \n",
    "                                                                       flags = re.IGNORECASE).strip()), \n",
    "                                                 str(name), flags = re.IGNORECASE) \n",
    "                     and re.sub(\"ENCIK |COP REFUND\", '', \n",
    "                                re.sub(\" binti \", \" bt \", str(x), flags = re.I), \n",
    "                            flags = re.IGNORECASE).strip() not in ['', 'nan'] else False).values\n",
    "    resultArray = (rule1|rule2)\n",
    "    resultArray = np.where(resultArray, ruleName, \"False\")\n",
    "    \n",
    "    return resultArray\n",
    "\n",
    "def noSpacenoCopRefund(name, series):\n",
    "    ruleName = \"noSpacenoCopRefund\"\n",
    "    #remove cop refund and remove space for BS reference to match wth name\n",
    "    rule1 = series.map(lambda x:True if re.search('%s'%re.escape(str(name)), \n",
    "                            re.sub(' ','',re.sub(\"COP REFUND\", '',str(x))), flags = re.IGNORECASE)\n",
    "                                else False).values\n",
    "    rule2 = series.map(lambda x:True if re.search('%s'%re.escape(re.sub(' ','',re.sub(\"COP REFUND\", '',str(x)))), \n",
    "                        str(name), flags = re.IGNORECASE) and re.sub(' ','',re.sub(\"COP REFUND\", '',str(x)))!=''\n",
    "                            else False).values\n",
    "    resultArray = (rule1|rule2)\n",
    "    resultArray = np.where(resultArray, ruleName, \"False\")\n",
    "    return resultArray\n",
    "\n",
    "def matchAccountLast4Digit(accountNo, series):\n",
    "    ruleName = \"matchAccountLast4Digit\"\n",
    "    resultArray = series.map(lambda x:ruleName if re.search('%s'%accountNo, str(x), flags = re.IGNORECASE)\n",
    "                                        and len(accountNo) == 4 else \"False\").values\n",
    "    return resultArray\n",
    "\n",
    "def matchBillTypeRef(billType, series):\n",
    "    ruleName = \"matchBillTypeRef\"\n",
    "    if billType == '':\n",
    "        resultArray = np.full(len(series), \"False\")\n",
    "        reason = \"\"\n",
    "    else:\n",
    "        #if can find billtype - Indah water in reference \n",
    "        rule1 =  series\\\n",
    "                .map(lambda x: True if re.search('%s'%billType, str(x), flags = re.IGNORECASE) \n",
    "                     and str(x) not in  ['', 'nan'] else False).values\n",
    "        #if billtype is PAIP and Pengurusan air pahan in reference\n",
    "        rule2 = series\\\n",
    "                .map(lambda x: True if re.search('%s'%\"PENGURUSAN AIR PAHAN\", str(x), flags = re.IGNORECASE) \n",
    "                     and billType == 'PAIP' else False).values\n",
    "        #if billtype is PBA and perbadanan bekalan air in reference\n",
    "        rule3 = series\\\n",
    "                .map(lambda x: True if re.search('%s'%\"perbadanan bekalan air\", str(x), flags = re.IGNORECASE) \n",
    "                     and billType == 'PBA' else False).values\n",
    "        resultArray = (rule1|rule2|rule3)\n",
    "\n",
    "        resultArray = np.where(resultArray, ruleName, \"False\")\n",
    "    return resultArray\n",
    "\n",
    "def matchUniqueAmount(amount, series):\n",
    "    ruleName = \"matchUniqueAmount\"\n",
    "    #if only unique match in bs for amount\n",
    "    resultArray = series.map(lambda x:True if x == amount else False).values\n",
    "    if sum(resultArray) == 1:\n",
    "        return np.full(len(series), ruleName)\n",
    "    else:\n",
    "        return np.full(len(series), \"False\")\n",
    "\n",
    "def partialMatch(df, notMatchIndex, indexCol, nameCol, ruleType):\n",
    "    matchResult = []\n",
    "    startTime = timer()\n",
    "    for index in notMatchIndex:\n",
    "        #instantiate rule\n",
    "        dfSubset = df.query('%s == %s'%(indexCol, index))\n",
    "        if len(dfSubset[nameCol].values) != 0:\n",
    "            POname = dfSubset[nameCol].values[0]\n",
    "            POname = re.sub(\"\\u200b\", \"\", POname)\n",
    "            POamount = dfSubset[poAmountCol].values[0]\n",
    "            #merchant, other payout\n",
    "            if \"Bank Acc\" in dfSubset.columns:\n",
    "                AccountNo = re.sub(' |-|\\.0','', str(dfSubset['Bank Acc'].values[0]))[-4:]\n",
    "            #bill payment\n",
    "            elif \"Acc Number\" in dfSubset.columns:\n",
    "                AccountNo = re.sub(' |-|\\.0','', str(dfSubset['Acc Number'].values[0]))[-4:]\n",
    "            else:\n",
    "                AccountNo = ''\n",
    "            if 'Bill Type' in dfSubset.columns:\n",
    "                BillType = dfSubset['Bill Type'].values[0]\n",
    "            else:\n",
    "                BillType = ''\n",
    "            for col in ['Reference 1', 'Reference 2', 'Reference 3', 'Reference 4']:\n",
    "                match1 = matchTruncated(POname, dfBankStatementFinal[col])\n",
    "                match2 = matchFirst2Terms(POname, dfBankStatementFinal[col])\n",
    "                match3 = noSpacenoCopRefund(POname, dfBankStatementFinal[col])\n",
    "                match4 = matchAccountLast4Digit(AccountNo, dfBankStatementFinal[col])\n",
    "                match5 = matchBillTypeRef(BillType, dfBankStatementFinal[col])\n",
    "                match6 = matchUniqueAmount(POamount, dfBankStatementFinal[bsAmountCol])\n",
    "                ruleStr1 = \"|\".join(['(match%s!=\"False\")'%i for i in ruleDict[ruleType]])\n",
    "                checkRule = eval(ruleStr1)\n",
    "                #assign bool statement to checkRule\n",
    "                dfMatch = dfBankStatementFinal[(dfBankStatementFinal[bsAmountCol] == POamount) & (checkRule)]\n",
    "                ruleStr1 = '[' + ','.join(['match%s'%i for i in ruleDict[ruleType]]) + ']'\n",
    "                #assign list to ruleList\n",
    "                ruleList = eval(ruleStr1)\n",
    "                if dfMatch.shape[0] == 1:\n",
    "                    BSname = dfMatch[col].values[0]\n",
    "                    BSamount = dfMatch[bsAmountCol].values[0]   \n",
    "                    BSindex = dfMatch[bsIndex].values[0]\n",
    "                    rule = ','.join([i[BSindex] for i in ruleList if i[BSindex]!=\"False\"])\n",
    "                    matchResult.append([index, POname, POamount, BSindex, BSname, BSamount, rule])\n",
    "    #             more than 1 match\n",
    "                elif dfMatch.shape[0] > 1:\n",
    "                    for no, name in enumerate(dfMatch[col].values):\n",
    "                        BSname = name\n",
    "                        BSamount = dfMatch[bsAmountCol].values[no]\n",
    "                        BSindex = dfMatch[bsIndex].values[no]\n",
    "                        rule = ','.join([i[BSindex] for i in ruleList if i[BSindex]!=\"False\"])\n",
    "                        #nid to remove duplicate after consolidation\n",
    "                        matchResult.append([index, POname, POamount, BSindex, BSname, BSamount, rule])\n",
    "\n",
    "    endTime = timer()\n",
    "    print(\"Total time: %0.4fs\" % (endTime - startTime))\n",
    "    return matchResult\n",
    "\n",
    "def constructTable(matchResult, df, indexName, nameCol, dType):\n",
    "    pandaList = []\n",
    "    for i in matchResult:\n",
    "        pandaList.append(i)\n",
    "    \n",
    "    dfMatchFinal = pd.DataFrame(pandaList)\n",
    "    if dfMatchFinal.shape[0]!=0:\n",
    "        #[index, POname, POamount, BSindex, BSname, BSamount, rule]\n",
    "        dfMatchFinal.columns = [indexName, poNameCol, poAmountCol, bsIndex, bsName, bsAmountCol, 'Reason']\n",
    "        dfMatchFinal['MatchCategory'] = \"PartialMatch\"\n",
    "        dfMatchFinal['DataType'] = dType\n",
    "        return dfMatchFinal\n",
    "    else:\n",
    "        return None"
   ]
  },
  {
   "cell_type": "code",
   "execution_count": 186,
   "metadata": {},
   "outputs": [
    {
     "name": "stdout",
     "output_type": "stream",
     "text": [
      "Total time: 321.0800s\n"
     ]
    },
    {
     "data": {
      "text/plain": [
       "95"
      ]
     },
     "execution_count": 186,
     "metadata": {},
     "output_type": "execute_result"
    }
   ],
   "source": [
    "#edited\n",
    "matchResultEU = partialMatch(dfEU, noMatchEUlist, \n",
    "                             euIndex, payoutNameCol, ruleType = \"PayOut\")\n",
    "\n",
    "dfPartialMatchEU = constructTable(matchResultEU, dfEU, euIndex, poNameCol, 'EU')\n",
    "\n",
    "dfPartialMatchEU.drop_duplicates(euIndex, inplace = True)\n",
    "\n",
    "dfPartialMatchEU.shape[0]"
   ]
  },
  {
   "cell_type": "code",
   "execution_count": 37,
   "metadata": {},
   "outputs": [
    {
     "name": "stdout",
     "output_type": "stream",
     "text": [
      "Total time: 104.1276s\n"
     ]
    },
    {
     "data": {
      "text/plain": [
       "95"
      ]
     },
     "execution_count": 37,
     "metadata": {},
     "output_type": "execute_result"
    }
   ],
   "source": [
    "matchResultEU = partialMatch(dfEU, noMatchEUlist, \n",
    "                             euIndex, payoutNameCol, ruleType = \"PayOut\")\n",
    "\n",
    "dfPartialMatchEU = constructTable(matchResultEU, dfEU, euIndex, poNameCol, 'EU')\n",
    "\n",
    "dfPartialMatchEU.drop_duplicates(euIndex, inplace = True)\n",
    "\n",
    "dfPartialMatchEU.shape[0]"
   ]
  },
  {
   "cell_type": "code",
   "execution_count": 187,
   "metadata": {},
   "outputs": [
    {
     "name": "stdout",
     "output_type": "stream",
     "text": [
      "Total time: 1000.3409s\n"
     ]
    },
    {
     "data": {
      "text/plain": [
       "312"
      ]
     },
     "execution_count": 187,
     "metadata": {},
     "output_type": "execute_result"
    }
   ],
   "source": [
    "#edited\n",
    "matchResultCOP = partialMatch(dfCOP, noMatchCOPlist, \n",
    "                             copIndex, payoutNameCol, ruleType = \"PayOut\")\n",
    "\n",
    "dfPartialMatchCOP = constructTable(matchResultCOP, dfCOP, copIndex, poNameCol, 'COP')\n",
    "\n",
    "dfPartialMatchCOP.drop_duplicates(copIndex, inplace = True)\n",
    "\n",
    "dfPartialMatchCOP.shape[0]"
   ]
  },
  {
   "cell_type": "code",
   "execution_count": 38,
   "metadata": {},
   "outputs": [
    {
     "name": "stdout",
     "output_type": "stream",
     "text": [
      "Total time: 314.8384s\n"
     ]
    },
    {
     "data": {
      "text/plain": [
       "308"
      ]
     },
     "execution_count": 38,
     "metadata": {},
     "output_type": "execute_result"
    }
   ],
   "source": [
    "matchResultCOP = partialMatch(dfCOP, noMatchCOPlist, \n",
    "                             copIndex, payoutNameCol, ruleType = \"PayOut\")\n",
    "\n",
    "dfPartialMatchCOP = constructTable(matchResultCOP, dfCOP, copIndex, poNameCol, 'COP')\n",
    "\n",
    "dfPartialMatchCOP.drop_duplicates(copIndex, inplace = True)\n",
    "\n",
    "dfPartialMatchCOP.shape[0]"
   ]
  },
  {
   "cell_type": "code",
   "execution_count": 188,
   "metadata": {},
   "outputs": [
    {
     "name": "stdout",
     "output_type": "stream",
     "text": [
      "Total time: 44.7978s\n"
     ]
    },
    {
     "data": {
      "text/plain": [
       "14"
      ]
     },
     "execution_count": 188,
     "metadata": {},
     "output_type": "execute_result"
    }
   ],
   "source": [
    "#edited\n",
    "matchResultManageCOP = partialMatch(dfManageCOP, noMatchManageCOPList, \n",
    "                                    manageCOPIndex, payoutNameCol, ruleType = \"PayOut\")\n",
    "\n",
    "dfPartialMatchManageCOP = constructTable(matchResultManageCOP, dfManageCOP, manageCOPIndex, poNameCol, 'ManageCOP')\n",
    "\n",
    "dfPartialMatchManageCOP.drop_duplicates(manageCOPIndex, inplace = True)\n",
    "\n",
    "dfPartialMatchManageCOP.shape[0]"
   ]
  },
  {
   "cell_type": "code",
   "execution_count": 39,
   "metadata": {},
   "outputs": [
    {
     "name": "stdout",
     "output_type": "stream",
     "text": [
      "Total time: 9.8473s\n"
     ]
    },
    {
     "data": {
      "text/plain": [
       "9"
      ]
     },
     "execution_count": 39,
     "metadata": {},
     "output_type": "execute_result"
    }
   ],
   "source": [
    "matchResultManageCOP = partialMatch(dfManageCOP, noMatchCOPlist, \n",
    "                                    manageCOPIndex, payoutNameCol, ruleType = \"PayOut\")\n",
    "\n",
    "dfPartialMatchManageCOP = constructTable(matchResultManageCOP, dfManageCOP, manageCOPIndex, poNameCol, 'ManageCOP')\n",
    "\n",
    "dfPartialMatchManageCOP.drop_duplicates(manageCOPIndex, inplace = True)\n",
    "\n",
    "dfPartialMatchManageCOP.shape[0]"
   ]
  },
  {
   "cell_type": "code",
   "execution_count": 189,
   "metadata": {},
   "outputs": [
    {
     "name": "stdout",
     "output_type": "stream",
     "text": [
      "Total time: 822.6159s\n"
     ]
    },
    {
     "data": {
      "text/plain": [
       "17"
      ]
     },
     "execution_count": 189,
     "metadata": {},
     "output_type": "execute_result"
    }
   ],
   "source": [
    "#edited\n",
    "matchResultBP = partialMatch(dfBillPayment, noMatchBPlist, \n",
    "                             billPaymentIndex, billPaymentNameCol, ruleType = \"BillPayment\")\n",
    "\n",
    "dfPartialMatchBP = constructTable(matchResultBP, dfBillPayment, billPaymentIndex, billPaymentNameCol, 'BillPayment')\n",
    "#ll only keep d first record of multiple matches\n",
    "dfPartialMatchBP.drop_duplicates(billPaymentIndex, inplace = True)\n",
    "\n",
    "dfPartialMatchBP.shape[0]"
   ]
  },
  {
   "cell_type": "code",
   "execution_count": 40,
   "metadata": {},
   "outputs": [
    {
     "name": "stdout",
     "output_type": "stream",
     "text": [
      "Total time: 255.2029s\n"
     ]
    },
    {
     "data": {
      "text/plain": [
       "17"
      ]
     },
     "execution_count": 40,
     "metadata": {},
     "output_type": "execute_result"
    }
   ],
   "source": [
    "matchResultBP = partialMatch(dfBillPayment, noMatchBPlist, \n",
    "                             billPaymentIndex, billPaymentNameCol, ruleType = \"BillPayment\")\n",
    "\n",
    "dfPartialMatchBP = constructTable(matchResultBP, dfBillPayment, billPaymentIndex, billPaymentNameCol, 'BillPayment')\n",
    "#ll only keep d first record of multiple matches\n",
    "dfPartialMatchBP.drop_duplicates(billPaymentIndex, inplace = True)\n",
    "\n",
    "dfPartialMatchBP.shape[0]"
   ]
  },
  {
   "cell_type": "code",
   "execution_count": 190,
   "metadata": {},
   "outputs": [
    {
     "name": "stdout",
     "output_type": "stream",
     "text": [
      "Total time: 864.8506s\n",
      "Total time: 863.6937s\n"
     ]
    },
    {
     "data": {
      "text/plain": [
       "281"
      ]
     },
     "execution_count": 190,
     "metadata": {},
     "output_type": "execute_result"
    }
   ],
   "source": [
    "#edited\n",
    "MerchantList = []\n",
    "for colName in ['Merchant', 'Bank Acc Name']:\n",
    "    matchResultMerchant = partialMatch(dfMerchant, noMatchMerchantList, merchantIndex, colName, ruleType = \"Merchant\")\n",
    "    dfPartialMatchMerchant = constructTable(matchResultMerchant, dfMerchant, merchantIndex, colName, 'Merchant')\n",
    "    MerchantList.append(dfPartialMatchMerchant)\n",
    "    \n",
    "dfPartialMatchMerchant = pd.concat(MerchantList).copy()\n",
    "dfPartialMatchMerchant.drop_duplicates(subset=['Merchant_Index', 'BS_Index'], inplace = True)\n",
    "dfPartialMatchMerchant.shape[0]"
   ]
  },
  {
   "cell_type": "code",
   "execution_count": 41,
   "metadata": {},
   "outputs": [
    {
     "name": "stdout",
     "output_type": "stream",
     "text": [
      "Total time: 264.2156s\n",
      "Total time: 262.9911s\n"
     ]
    },
    {
     "data": {
      "text/plain": [
       "281"
      ]
     },
     "execution_count": 41,
     "metadata": {},
     "output_type": "execute_result"
    }
   ],
   "source": [
    "MerchantList = []\n",
    "for colName in ['Merchant', 'Bank Acc Name']:\n",
    "    matchResultMerchant = partialMatch(dfMerchant, noMatchMerchantList, merchantIndex, colName, ruleType = \"Merchant\")\n",
    "    dfPartialMatchMerchant = constructTable(matchResultMerchant, dfMerchant, merchantIndex, colName, 'Merchant')\n",
    "    MerchantList.append(dfPartialMatchMerchant)\n",
    "    \n",
    "dfPartialMatchMerchant = pd.concat(MerchantList).copy()\n",
    "dfPartialMatchMerchant.drop_duplicates(subset=['Merchant_Index', 'BS_Index'], inplace = True)\n",
    "dfPartialMatchMerchant.shape[0]"
   ]
  },
  {
   "cell_type": "code",
   "execution_count": 191,
   "metadata": {},
   "outputs": [
    {
     "data": {
      "text/plain": [
       "(719, 13)"
      ]
     },
     "execution_count": 191,
     "metadata": {},
     "output_type": "execute_result"
    }
   ],
   "source": [
    "#combine all partial matches - edited\n",
    "dfPartialMatchFinal = pd.concat([dfPartialMatchEU, dfPartialMatchCOP, dfPartialMatchManageCOP,\n",
    "                                 dfPartialMatchBP, dfPartialMatchMerchant]).copy()\n",
    "dfPartialMatchFinal.shape"
   ]
  },
  {
   "cell_type": "code",
   "execution_count": 42,
   "metadata": {},
   "outputs": [],
   "source": [
    "#combine all partial matches\n",
    "dfPartialMatchFinal = pd.concat([dfPartialMatchEU, dfPartialMatchCOP, dfPartialMatchManageCOP,\n",
    "                                 dfPartialMatchBP, dfPartialMatchMerchant]).copy()"
   ]
  },
  {
   "cell_type": "code",
   "execution_count": 43,
   "metadata": {
    "scrolled": true
   },
   "outputs": [
    {
     "data": {
      "text/plain": [
       "(710, 13)"
      ]
     },
     "execution_count": 43,
     "metadata": {},
     "output_type": "execute_result"
    }
   ],
   "source": [
    "dfPartialMatchFinal.shape"
   ]
  },
  {
   "cell_type": "code",
   "execution_count": 192,
   "metadata": {},
   "outputs": [],
   "source": [
    "csvFile = \"2021-01-28_PartialMatch.csv\"\n",
    "dfPartialMatchFinal.to_csv(csvFile, index = False)"
   ]
  },
  {
   "cell_type": "code",
   "execution_count": 211,
   "metadata": {},
   "outputs": [
    {
     "data": {
      "text/plain": [
       "(1989, 13)"
      ]
     },
     "execution_count": 211,
     "metadata": {},
     "output_type": "execute_result"
    }
   ],
   "source": [
    "#merge exact and partial match\n",
    "\n",
    "dfMerge = pd.concat([dfExactMatchFinal, dfPartialMatchFinal]).copy()\n",
    "dfMerge.shape"
   ]
  },
  {
   "cell_type": "markdown",
   "metadata": {},
   "source": [
    "### Summary"
   ]
  },
  {
   "cell_type": "code",
   "execution_count": 212,
   "metadata": {},
   "outputs": [
    {
     "data": {
      "text/plain": [
       "Index(['EU_Index', 'Member Name', 'Amount', 'BS_Index', 'BS Name',\n",
       "       'Debit Amount', 'DataType', 'MatchCategory', 'COP_Index',\n",
       "       'ManageCOP_Index', 'BP_Index', 'Merchant_Index', 'Reason'],\n",
       "      dtype='object')"
      ]
     },
     "execution_count": 212,
     "metadata": {},
     "output_type": "execute_result"
    }
   ],
   "source": [
    "dfMerge.columns"
   ]
  },
  {
   "cell_type": "code",
   "execution_count": 213,
   "metadata": {},
   "outputs": [],
   "source": [
    "reconciledEUIndex = dfMerge[pd.notnull(dfMerge['EU_Index'])]['EU_Index'].values\n",
    "reconciledCOPIndex = dfMerge[pd.notnull(dfMerge['COP_Index'])]['COP_Index'].values\n",
    "reconciledManageCOPIndex = dfMerge[pd.notnull(dfMerge['ManageCOP_Index'])]['ManageCOP_Index'].values\n",
    "reconciledBillPaymentIndex = dfMerge[pd.notnull(dfMerge['BP_Index'])]['BP_Index'].values\n",
    "reconciledMerchantIndex = dfMerge[pd.notnull(dfMerge['Merchant_Index'])]['Merchant_Index'].values\n",
    "reconciledBankStatementIndex = dfMerge[pd.notnull(dfMerge['BS_Index'])]['BS_Index'].values\n",
    "\n",
    "reconciledEU_Sum = dfEU[dfEU['EU_Index'].isin(reconciledEUIndex)]['Amount'].sum()\n",
    "reconciledCOP_Sum  = dfCOP[dfCOP['COP_Index'].isin(reconciledCOPIndex)]['Amount'].sum()\n",
    "reconciledManageCOP_Sum  = dfManageCOP[dfManageCOP['ManageCOP_Index'].isin(reconciledManageCOPIndex)]['Amount'].sum()\n",
    "reconciledBillPayment_Sum  = dfBillPayment[dfBillPayment['BP_Index'].isin(reconciledBillPaymentIndex)]['Amount'].sum()\n",
    "reconciledMerchant_Sum  = dfMerchant[dfMerchant['Merchant_Index'].isin(reconciledMerchantIndex)]['Amount'].sum()\n",
    "\n",
    "noReconciledEU_Sum = dfEU[~dfEU['EU_Index'].isin(reconciledEUIndex)]['Amount'].sum()\n",
    "noReconciledCOP_Sum  = dfCOP[~dfCOP['COP_Index'].isin(reconciledCOPIndex)]['Amount'].sum()\n",
    "noReconciledManageCOP_Sum  = dfManageCOP[~dfManageCOP['ManageCOP_Index'].isin(reconciledManageCOPIndex)]['Amount'].sum()\n",
    "noReconciledBillPayment_Sum  = dfBillPayment[~dfBillPayment['BP_Index'].isin(reconciledBillPaymentIndex)]['Amount'].sum()\n",
    "noReconciledMerchant_Sum  = dfMerchant[~dfMerchant['Merchant_Index'].isin(reconciledMerchantIndex)]['Amount'].sum()\n",
    "noReconciledBankStatement_Sum = dfBankStatementFinal[~dfBankStatementFinal['BS_Index'].isin(reconciledBankStatementIndex)]['Debit Amount'].sum()\n",
    "\n",
    "pendingEU_Sum = dfEU[dfEU['Status'] == \"Pending\"]['Amount'].sum()\n",
    "pendingCOP_Sum = dfCOP[dfCOP['Status'] == \"Pending\"]['Amount'].sum()\n",
    "pendingManageCOP_Sum = dfManageCOP[dfManageCOP['Status'] == \"Pending\"]['Amount'].sum()\n",
    "pendingMerchant_Sum = dfMerchant[dfMerchant['Status'] == \"Pending\"]['Amount'].sum()\n",
    "billPayment_Sum = dfBillPayment['Amount'].sum()"
   ]
  },
  {
   "cell_type": "code",
   "execution_count": 255,
   "metadata": {},
   "outputs": [],
   "source": [
    "tableList = []\n",
    "tableList.append([\"Journal\", \"BS vs Payout (A)\", \"In BS, not in Payout (B)\", \"Not in BS (C)\"])\n",
    "\n",
    "tableList.append(['EU', reconciledEU_Sum, \"\", noReconciledEU_Sum])\n",
    "tableList.append(['COP', \"{:.2f}\".format(reconciledCOP_Sum), \"\", noReconciledCOP_Sum])\n",
    "tableList.append(['Manage COP', reconciledManageCOP_Sum, \"\", \n",
    "                  noReconciledManageCOP_Sum])\n",
    "tableList.append(['Bill Payment', reconciledBillPayment_Sum, \"\", \n",
    "                  noReconciledBillPayment_Sum])\n",
    "tableList.append(['Merchant', reconciledMerchant_Sum, \"\", \n",
    "                  noReconciledMerchant_Sum])\n",
    "tableList.append(['DIS', \"\", \"\", \"\"])\n",
    "tableList.append(['QS DIS', \"\", \"\", \"\"])\n",
    "HandlingSum = 0\n",
    "tableList.append(['Handling Charges', HandlingSum, \"\", \"\"])\n",
    "tableList.append(['Misc', \"\", noReconciledBankStatement_Sum, \"\"])\n",
    "totalReconciled = reconciledEU_Sum + reconciledCOP_Sum + reconciledManageCOP_Sum\\\n",
    "                  + reconciledBillPayment_Sum + reconciledMerchant_Sum\n",
    "totalnoReconciled = noReconciledEU_Sum + noReconciledCOP_Sum + \\\n",
    "                    noReconciledManageCOP_Sum + noReconciledBillPayment_Sum + \\\n",
    "                    noReconciledMerchant_Sum\n",
    "tableList.append(['Total', \"{:.2f}\".format(totalReconciled), \"{:.2f}\".format(noReconciledBankStatement_Sum),\n",
    "                  \"{:.2f}\".format(totalnoReconciled)])\n",
    "tableList.append(['Total (A)+(B) / (A)+(C)', \n",
    "                  \"{:.2f}\".format(totalReconciled + noReconciledBankStatement_Sum),\n",
    "                 \"\", \"{:.2f}\".format(totalReconciled + totalnoReconciled)])\n",
    "pendingTotal = pendingEU_Sum + pendingCOP_Sum + pendingManageCOP_Sum\\\n",
    "                + pendingMerchant_Sum + billPayment_Sum\n",
    "tableList.append(['As per BS / Payout', \"({:.2f})\".format(totalReconciled + noReconciledBankStatement_Sum),\n",
    "                                  \"\", \"({:.2f})\".format(pendingTotal)])\n",
    "tableList.append(['Variance', \"\", \"\", totalReconciled + totalnoReconciled - pendingTotal])"
   ]
  },
  {
   "cell_type": "code",
   "execution_count": 267,
   "metadata": {},
   "outputs": [
    {
     "data": {
      "text/html": [
       "<div>\n",
       "<style scoped>\n",
       "    .dataframe tbody tr th:only-of-type {\n",
       "        vertical-align: middle;\n",
       "    }\n",
       "\n",
       "    .dataframe tbody tr th {\n",
       "        vertical-align: top;\n",
       "    }\n",
       "\n",
       "    .dataframe thead th {\n",
       "        text-align: right;\n",
       "    }\n",
       "</style>\n",
       "<table border=\"1\" class=\"dataframe\">\n",
       "  <thead>\n",
       "    <tr style=\"text-align: right;\">\n",
       "      <th></th>\n",
       "      <th></th>\n",
       "      <th>Reconciled</th>\n",
       "      <th>No reconciled</th>\n",
       "      <th>No reconciled2</th>\n",
       "    </tr>\n",
       "  </thead>\n",
       "  <tbody>\n",
       "    <tr>\n",
       "      <th>0</th>\n",
       "      <td>Journal</td>\n",
       "      <td>BS vs Payout (A)</td>\n",
       "      <td>In BS, not in Payout (B)</td>\n",
       "      <td>Not in BS (C)</td>\n",
       "    </tr>\n",
       "    <tr>\n",
       "      <th>1</th>\n",
       "      <td>EU</td>\n",
       "      <td>577492</td>\n",
       "      <td></td>\n",
       "      <td>5692</td>\n",
       "    </tr>\n",
       "    <tr>\n",
       "      <th>2</th>\n",
       "      <td>COP</td>\n",
       "      <td>3132305.00</td>\n",
       "      <td></td>\n",
       "      <td>30296</td>\n",
       "    </tr>\n",
       "    <tr>\n",
       "      <th>3</th>\n",
       "      <td>Manage COP</td>\n",
       "      <td>14785</td>\n",
       "      <td></td>\n",
       "      <td>0</td>\n",
       "    </tr>\n",
       "    <tr>\n",
       "      <th>4</th>\n",
       "      <td>Bill Payment</td>\n",
       "      <td>1818.64</td>\n",
       "      <td></td>\n",
       "      <td>46633.1</td>\n",
       "    </tr>\n",
       "    <tr>\n",
       "      <th>5</th>\n",
       "      <td>Merchant</td>\n",
       "      <td>705141</td>\n",
       "      <td></td>\n",
       "      <td>5176</td>\n",
       "    </tr>\n",
       "    <tr>\n",
       "      <th>6</th>\n",
       "      <td>DIS</td>\n",
       "      <td></td>\n",
       "      <td></td>\n",
       "      <td></td>\n",
       "    </tr>\n",
       "    <tr>\n",
       "      <th>7</th>\n",
       "      <td>QS DIS</td>\n",
       "      <td></td>\n",
       "      <td></td>\n",
       "      <td></td>\n",
       "    </tr>\n",
       "    <tr>\n",
       "      <th>8</th>\n",
       "      <td>Handling Charges</td>\n",
       "      <td>0</td>\n",
       "      <td></td>\n",
       "      <td></td>\n",
       "    </tr>\n",
       "    <tr>\n",
       "      <th>9</th>\n",
       "      <td>Misc</td>\n",
       "      <td></td>\n",
       "      <td>6.1052e+06</td>\n",
       "      <td></td>\n",
       "    </tr>\n",
       "    <tr>\n",
       "      <th>10</th>\n",
       "      <td>Total</td>\n",
       "      <td>4431541.62</td>\n",
       "      <td>6105196.87</td>\n",
       "      <td>87797.07</td>\n",
       "    </tr>\n",
       "    <tr>\n",
       "      <th>11</th>\n",
       "      <td>Total (A)+(B) / (A)+(C)</td>\n",
       "      <td>10536738.49</td>\n",
       "      <td></td>\n",
       "      <td>4519338.69</td>\n",
       "    </tr>\n",
       "    <tr>\n",
       "      <th>12</th>\n",
       "      <td>As per BS / Payout</td>\n",
       "      <td>(10536738.49)</td>\n",
       "      <td></td>\n",
       "      <td>(4519338.69)</td>\n",
       "    </tr>\n",
       "    <tr>\n",
       "      <th>13</th>\n",
       "      <td>Variance</td>\n",
       "      <td></td>\n",
       "      <td></td>\n",
       "      <td>0</td>\n",
       "    </tr>\n",
       "  </tbody>\n",
       "</table>\n",
       "</div>"
      ],
      "text/plain": [
       "                                   Reconciled             No reconciled  \\\n",
       "0                   Journal  BS vs Payout (A)  In BS, not in Payout (B)   \n",
       "1                        EU            577492                             \n",
       "2                       COP        3132305.00                             \n",
       "3                Manage COP             14785                             \n",
       "4              Bill Payment           1818.64                             \n",
       "5                  Merchant            705141                             \n",
       "6                       DIS                                               \n",
       "7                    QS DIS                                               \n",
       "8          Handling Charges                 0                             \n",
       "9                      Misc                                  6.1052e+06   \n",
       "10                    Total        4431541.62                6105196.87   \n",
       "11  Total (A)+(B) / (A)+(C)       10536738.49                             \n",
       "12       As per BS / Payout     (10536738.49)                             \n",
       "13                 Variance                                               \n",
       "\n",
       "   No reconciled2  \n",
       "0   Not in BS (C)  \n",
       "1            5692  \n",
       "2           30296  \n",
       "3               0  \n",
       "4         46633.1  \n",
       "5            5176  \n",
       "6                  \n",
       "7                  \n",
       "8                  \n",
       "9                  \n",
       "10       87797.07  \n",
       "11     4519338.69  \n",
       "12   (4519338.69)  \n",
       "13              0  "
      ]
     },
     "execution_count": 267,
     "metadata": {},
     "output_type": "execute_result"
    }
   ],
   "source": [
    "summaryTable = pd.DataFrame(tableList)\n",
    "summaryTable.columns = [\"\", \"Reconciled\", \"No reconciled\", \"No reconciled2\"]\n",
    "summaryTable"
   ]
  },
  {
   "cell_type": "markdown",
   "metadata": {},
   "source": [
    "### Validation"
   ]
  },
  {
   "cell_type": "code",
   "execution_count": 3,
   "metadata": {},
   "outputs": [],
   "source": [
    "csvFile = \"2021-01-24_ExactMatch.csv\"\n",
    "dfExactMatchFinal = pd.read_csv(csvFile)\n",
    "\n",
    "csvFile = \"2021-01-26_PartialMatch.csv\"\n",
    "dfPartialMatchFinal = pd.read_csv(csvFile)"
   ]
  },
  {
   "cell_type": "code",
   "execution_count": 193,
   "metadata": {},
   "outputs": [],
   "source": [
    "dfMerge = pd.concat([dfExactMatchFinal, dfPartialMatchFinal]).copy()"
   ]
  },
  {
   "cell_type": "code",
   "execution_count": 194,
   "metadata": {},
   "outputs": [
    {
     "data": {
      "text/plain": [
       "(1989, 13)"
      ]
     },
     "execution_count": 194,
     "metadata": {},
     "output_type": "execute_result"
    }
   ],
   "source": [
    "dfMerge.shape"
   ]
  },
  {
   "cell_type": "code",
   "execution_count": 195,
   "metadata": {},
   "outputs": [
    {
     "data": {
      "text/plain": [
       "(1920, 16)"
      ]
     },
     "execution_count": 195,
     "metadata": {},
     "output_type": "execute_result"
    }
   ],
   "source": [
    "dfReconciled.shape"
   ]
  },
  {
   "cell_type": "code",
   "execution_count": 51,
   "metadata": {},
   "outputs": [
    {
     "data": {
      "text/plain": [
       "Index(['Country', 'Withdraw Date', 'Username', 'Member Name', 'Withdraw',\n",
       "       'Combined Name', 'Package', 'Bank', 'Bank Acc', 'Bank-in Slip',\n",
       "       'Bank-in By', 'Bank-in Date', 'Remarks', 'Status', 'Amount',\n",
       "       'Remarks.1'],\n",
       "      dtype='object')"
      ]
     },
     "execution_count": 51,
     "metadata": {},
     "output_type": "execute_result"
    }
   ],
   "source": [
    "dfReconciled.columns"
   ]
  },
  {
   "cell_type": "code",
   "execution_count": 196,
   "metadata": {},
   "outputs": [],
   "source": [
    "reconcileList = dfReconciled['Member Name']\n",
    "\n",
    "matchList = dfMerge['Member Name']\n",
    "\n",
    "userList = dfReconciled['Username']"
   ]
  },
  {
   "cell_type": "code",
   "execution_count": 175,
   "metadata": {},
   "outputs": [
    {
     "data": {
      "text/plain": [
       "1723"
      ]
     },
     "execution_count": 175,
     "metadata": {},
     "output_type": "execute_result"
    }
   ],
   "source": [
    "len(set(matchList))"
   ]
  },
  {
   "cell_type": "code",
   "execution_count": 176,
   "metadata": {},
   "outputs": [
    {
     "data": {
      "text/plain": [
       "1710"
      ]
     },
     "execution_count": 176,
     "metadata": {},
     "output_type": "execute_result"
    }
   ],
   "source": [
    "len(set(reconcileList))"
   ]
  },
  {
   "cell_type": "code",
   "execution_count": 197,
   "metadata": {},
   "outputs": [],
   "source": [
    "matchMoreList = [i for i in matchList if i not in set(reconcileList) and i not in set(dfReconciled['Username'])]\n",
    "\n",
    "reconcileMoreList = [i for no, i in enumerate(reconcileList) if i not in set(matchList) and \n",
    "                     userList[no] not in set(matchList)]"
   ]
  },
  {
   "cell_type": "code",
   "execution_count": 198,
   "metadata": {},
   "outputs": [
    {
     "data": {
      "text/plain": [
       "12"
      ]
     },
     "execution_count": 198,
     "metadata": {},
     "output_type": "execute_result"
    }
   ],
   "source": [
    "len(set(matchMoreList))"
   ]
  },
  {
   "cell_type": "code",
   "execution_count": 199,
   "metadata": {},
   "outputs": [
    {
     "data": {
      "text/plain": [
       "3"
      ]
     },
     "execution_count": 199,
     "metadata": {},
     "output_type": "execute_result"
    }
   ],
   "source": [
    "len(set(reconcileMoreList))"
   ]
  },
  {
   "cell_type": "code",
   "execution_count": 200,
   "metadata": {
    "scrolled": false
   },
   "outputs": [],
   "source": [
    "#reconcile has more\n",
    "dfReconciledMore = dfReconciled.query(\"`Member Name` in @reconcileMoreList\").iloc[:-2,]\n",
    "csvFile = \"2021-01-28_ReconcileMore_v2.csv\"\n",
    "# dfReconciledMore.to_csv(csvFile, index = False)"
   ]
  },
  {
   "cell_type": "code",
   "execution_count": 201,
   "metadata": {},
   "outputs": [
    {
     "data": {
      "text/html": [
       "<div>\n",
       "<style scoped>\n",
       "    .dataframe tbody tr th:only-of-type {\n",
       "        vertical-align: middle;\n",
       "    }\n",
       "\n",
       "    .dataframe tbody tr th {\n",
       "        vertical-align: top;\n",
       "    }\n",
       "\n",
       "    .dataframe thead th {\n",
       "        text-align: right;\n",
       "    }\n",
       "</style>\n",
       "<table border=\"1\" class=\"dataframe\">\n",
       "  <thead>\n",
       "    <tr style=\"text-align: right;\">\n",
       "      <th></th>\n",
       "      <th>Country</th>\n",
       "      <th>Withdraw Date</th>\n",
       "      <th>Username</th>\n",
       "      <th>Member Name</th>\n",
       "      <th>Withdraw</th>\n",
       "      <th>Combined Name</th>\n",
       "      <th>Package</th>\n",
       "      <th>Bank</th>\n",
       "      <th>Bank Acc</th>\n",
       "      <th>Bank-in Slip</th>\n",
       "      <th>Bank-in By</th>\n",
       "      <th>Bank-in Date</th>\n",
       "      <th>Remarks</th>\n",
       "      <th>Status</th>\n",
       "      <th>Amount</th>\n",
       "      <th>Remarks.1</th>\n",
       "    </tr>\n",
       "  </thead>\n",
       "  <tbody>\n",
       "    <tr>\n",
       "      <th>1380</th>\n",
       "      <td>MALAYSIA</td>\n",
       "      <td>2020-08-03</td>\n",
       "      <td>yokeng</td>\n",
       "      <td>Wee Yok Eng @ Wee Eng Eng</td>\n",
       "      <td>BASIC</td>\n",
       "      <td>Wee Yok Eng @ Wee Eng Eng BASIC</td>\n",
       "      <td>BASIC</td>\n",
       "      <td>RHB</td>\n",
       "      <td>21301000083322</td>\n",
       "      <td>NaN</td>\n",
       "      <td>NaN</td>\n",
       "      <td>NaN</td>\n",
       "      <td>NaN</td>\n",
       "      <td>Pending</td>\n",
       "      <td>2600.0</td>\n",
       "      <td>COP_20200803</td>\n",
       "    </tr>\n",
       "    <tr>\n",
       "      <th>1872</th>\n",
       "      <td>MALAYSIA</td>\n",
       "      <td>2020-08-03</td>\n",
       "      <td>Helmy448</td>\n",
       "      <td>Mohamad Helmi Mohamad Yusof</td>\n",
       "      <td>BASIC</td>\n",
       "      <td>Mohamad Helmi Mohamad Yusof BASIC</td>\n",
       "      <td>BASIC</td>\n",
       "      <td>CIMB-MALAYSIA</td>\n",
       "      <td>7621375166</td>\n",
       "      <td>NaN</td>\n",
       "      <td>NaN</td>\n",
       "      <td>NaN</td>\n",
       "      <td>NaN</td>\n",
       "      <td>Pending</td>\n",
       "      <td>10000.0</td>\n",
       "      <td>COP_20200803</td>\n",
       "    </tr>\n",
       "  </tbody>\n",
       "</table>\n",
       "</div>"
      ],
      "text/plain": [
       "       Country Withdraw Date  Username                  Member Name Withdraw  \\\n",
       "1380  MALAYSIA    2020-08-03    yokeng    Wee Yok Eng @ Wee Eng Eng    BASIC   \n",
       "1872  MALAYSIA    2020-08-03  Helmy448  Mohamad Helmi Mohamad Yusof    BASIC   \n",
       "\n",
       "                          Combined Name Package           Bank  \\\n",
       "1380    Wee Yok Eng @ Wee Eng Eng BASIC   BASIC            RHB   \n",
       "1872  Mohamad Helmi Mohamad Yusof BASIC   BASIC  CIMB-MALAYSIA   \n",
       "\n",
       "            Bank Acc  Bank-in Slip  Bank-in By  Bank-in Date  Remarks  \\\n",
       "1380  21301000083322           NaN         NaN           NaN      NaN   \n",
       "1872      7621375166           NaN         NaN           NaN      NaN   \n",
       "\n",
       "       Status   Amount     Remarks.1  \n",
       "1380  Pending   2600.0  COP_20200803  \n",
       "1872  Pending  10000.0  COP_20200803  "
      ]
     },
     "execution_count": 201,
     "metadata": {},
     "output_type": "execute_result"
    }
   ],
   "source": [
    "dfReconciledMore"
   ]
  },
  {
   "cell_type": "code",
   "execution_count": 150,
   "metadata": {},
   "outputs": [
    {
     "data": {
      "text/plain": [
       "(3, 16)"
      ]
     },
     "execution_count": 150,
     "metadata": {},
     "output_type": "execute_result"
    }
   ],
   "source": [
    "dfReconciledMore.shape"
   ]
  },
  {
   "cell_type": "code",
   "execution_count": 202,
   "metadata": {
    "scrolled": false
   },
   "outputs": [],
   "source": [
    "#match has more\n",
    "dfMergeMore = dfMerge.query(\"`Member Name` in @matchMoreList\")\n",
    "csvFile = \"2021-01-28_MatchMore_v2.csv\"\n",
    "dfMergeMore.to_csv(csvFile, index = False)"
   ]
  },
  {
   "cell_type": "code",
   "execution_count": 260,
   "metadata": {},
   "outputs": [],
   "source": [
    "from styleframe import StyleFrame"
   ]
  },
  {
   "cell_type": "code",
   "execution_count": 259,
   "metadata": {
    "collapsed": true
   },
   "outputs": [
    {
     "name": "stdout",
     "output_type": "stream",
     "text": [
      "Collecting styleframe\n",
      "  Downloading styleframe-3.0.6-py3-none-any.whl (32 kB)\n",
      "Requirement already satisfied: jsonschema in d:\\users\\figohjs\\anaconda3\\lib\\site-packages (from styleframe) (3.2.0)\n",
      "Requirement already satisfied: openpyxl<3.0.6,>=2.5 in d:\\users\\figohjs\\anaconda3\\lib\\site-packages (from styleframe) (3.0.3)\n",
      "Collecting colour<0.2,>=0.1.5\n",
      "  Downloading colour-0.1.5-py2.py3-none-any.whl (23 kB)\n",
      "Requirement already satisfied: xlrd<1.3.0,>=1.0.0 in d:\\users\\figohjs\\anaconda3\\lib\\site-packages (from styleframe) (1.2.0)\n",
      "Requirement already satisfied: pandas<1.2.0 in d:\\users\\figohjs\\anaconda3\\lib\\site-packages (from styleframe) (1.0.1)\n",
      "Requirement already satisfied: importlib-metadata; python_version < \"3.8\" in d:\\users\\figohjs\\anaconda3\\lib\\site-packages (from jsonschema->styleframe) (1.5.0)\n",
      "Requirement already satisfied: six>=1.11.0 in d:\\users\\figohjs\\anaconda3\\lib\\site-packages (from jsonschema->styleframe) (1.14.0)\n",
      "Requirement already satisfied: pyrsistent>=0.14.0 in d:\\users\\figohjs\\anaconda3\\lib\\site-packages (from jsonschema->styleframe) (0.15.7)\n",
      "Requirement already satisfied: setuptools in d:\\users\\figohjs\\anaconda3\\lib\\site-packages (from jsonschema->styleframe) (45.2.0.post20200210)\n",
      "Requirement already satisfied: attrs>=17.4.0 in d:\\users\\figohjs\\anaconda3\\lib\\site-packages (from jsonschema->styleframe) (19.3.0)\n",
      "Requirement already satisfied: et-xmlfile in d:\\users\\figohjs\\anaconda3\\lib\\site-packages (from openpyxl<3.0.6,>=2.5->styleframe) (1.0.1)\n",
      "Requirement already satisfied: jdcal in d:\\users\\figohjs\\anaconda3\\lib\\site-packages (from openpyxl<3.0.6,>=2.5->styleframe) (1.4.1)\n",
      "Requirement already satisfied: python-dateutil>=2.6.1 in d:\\users\\figohjs\\anaconda3\\lib\\site-packages (from pandas<1.2.0->styleframe) (2.8.1)\n",
      "Requirement already satisfied: numpy>=1.13.3 in d:\\users\\figohjs\\anaconda3\\lib\\site-packages (from pandas<1.2.0->styleframe) (1.18.1)\n",
      "Requirement already satisfied: pytz>=2017.2 in d:\\users\\figohjs\\anaconda3\\lib\\site-packages (from pandas<1.2.0->styleframe) (2019.3)\n",
      "Requirement already satisfied: zipp>=0.5 in d:\\users\\figohjs\\anaconda3\\lib\\site-packages (from importlib-metadata; python_version < \"3.8\"->jsonschema->styleframe) (2.2.0)\n",
      "Installing collected packages: colour, styleframe\n",
      "Successfully installed colour-0.1.5 styleframe-3.0.6\n"
     ]
    }
   ],
   "source": [
    "!pip install styleframe"
   ]
  },
  {
   "cell_type": "code",
   "execution_count": 273,
   "metadata": {},
   "outputs": [],
   "source": [
    "excelFile = \"2021-01-28_0806Compare.xlsx\"\n",
    "with pd.ExcelWriter(excelFile) as writer:\n",
    "    summaryTable.to_excel(writer, sheet_name = \"Summary\")\n",
    "    dfMerge.to_excel(writer, sheet_name = \"MachineMatchResult\")\n",
    "    dfReconciledMore.to_excel(writer, sheet_name = \"SisReconcileMore\")\n",
    "    dfMergeMore.to_excel(writer, sheet_name = 'MachineMatchMore')\n",
    "    dfEU.to_excel(writer, sheet_name = 'EU')\n",
    "    dfCOP.to_excel(writer, sheet_name = \"COP\")\n",
    "    dfManageCOP.to_excel(writer, sheet_name = \"ManageCOP\")\n",
    "    dfBillPayment.to_excel(writer, sheet_name = \"BillPayment\")\n",
    "    dfMerchant.to_excel(writer, sheet_name = \"Merchant\")\n",
    "    dfBankStatementFinal.to_excel(writer, sheet_name = \"BankStatement\")"
   ]
  },
  {
   "cell_type": "code",
   "execution_count": 271,
   "metadata": {},
   "outputs": [],
   "source": [
    "#autofit\n",
    "excelFile = \"test.xlsx\"\n",
    "with StyleFrame.ExcelWriter(excelFile) as writer:\n",
    "    sf = StyleFrame(summaryTable)\n",
    "#     sf.set_column_width(columns=['aaaaaaaaaaa', 'bbbbbbbbb'],\n",
    "#                     width=35.3)\n",
    "    sf.to_excel(excel_writer = writer, \n",
    "                best_fit = list(summaryTable.columns), sheet_name = \"Summary\")"
   ]
  },
  {
   "cell_type": "markdown",
   "metadata": {},
   "source": [
    "### Debug - 2021-01-28"
   ]
  },
  {
   "cell_type": "code",
   "execution_count": 46,
   "metadata": {},
   "outputs": [],
   "source": [
    "bsExcelFile = \"Quinton_Bank Statement/08.06 3207971832Statement.csv\"\n",
    "# dfBankStatement = pd.read_csv(bsExcelFile, skiprows = 17)\n",
    "\n",
    "#read and process bank statement file\n",
    "def processBankStatement(file):\n",
    "    print(\"Processing bank statement files \\n\")\n",
    "    try:\n",
    "        #read file\n",
    "        df = pd.read_csv(bsExcelFile, skiprows = 17)\n",
    "        #get column names\n",
    "        bsColList = df.columns\n",
    "        #clean rows\n",
    "        cleanRows = []\n",
    "        for row in df.iterrows():\n",
    "            #index\n",
    "            if type(row[0]) == str:\n",
    "                tempList = [re.sub(\"=|\\\"\", \"\", row[0])]\n",
    "            else:\n",
    "                tempList = [row[0]]\n",
    "            #other values\n",
    "            tempList+=[re.sub(\"=|\\\"\", \"\", value) if type(value) == str else value for value in row[1]][:-1]\n",
    "            cleanRows.append(tempList)\n",
    "            \n",
    "        df2 = pd.DataFrame(cleanRows)\n",
    "        df2.columns = bsColList\n",
    "        print(\"Finished processing bank statement\")\n",
    "        \n",
    "        return df2\n",
    "    except Exception as e:\n",
    "        print(\"Failed to read/process bank statement file \\n\")\n",
    "        print(e)"
   ]
  },
  {
   "cell_type": "code",
   "execution_count": 47,
   "metadata": {},
   "outputs": [
    {
     "name": "stdout",
     "output_type": "stream",
     "text": [
      "Processing bank statement files \n",
      "\n",
      "Finished processing bank statement\n"
     ]
    }
   ],
   "source": [
    "dfBankStatement = processBankStatement(bsExcelFile)\n",
    "dfBankStatement = dfBankStatement.query('`Transaction Description`!= \"%s\"'%filterTransDesc)\n",
    "dfBankStatement[bsIndex] = np.arange(dfBankStatement.shape[0])\n",
    "colList = [bsIndex] + bsColMatchList + [bsAmountCol]\n",
    "dfBankStatementFinal = dfBankStatement[colList].copy()"
   ]
  },
  {
   "cell_type": "code",
   "execution_count": 159,
   "metadata": {
    "scrolled": true
   },
   "outputs": [],
   "source": [
    "def matchFirst2Terms(name, series):\n",
    "    ruleName = \"matchFirst2Terms\"\n",
    "    #match series with first 1 or 2 terms of names\n",
    "    if len(name.split(' ')) >= 3:\n",
    "        match = ' '.join(name.split(' ')[:2])\n",
    "        resultArray = series.map(lambda x:ruleName if re.search('%s'%match, str(x), flags = re.IGNORECASE)\n",
    "                                else \"False\").values\n",
    "    elif len(name.split(' ')) == 2:\n",
    "        match = name.split(' ')[0]\n",
    "        resultArray = series.map(lambda x:ruleName if re.search('%s'%match, re.sub(\" \",\"\",str(x)), flags = re.IGNORECASE)\n",
    "                                else \"False\").values\n",
    "    else:\n",
    "        resultArray = np.full(len(series), \"False\")\n",
    "\n",
    "    return resultArray\n",
    "\n",
    "def matchTruncated(name, series):\n",
    "    ruleName = \"matchTruncated\"\n",
    "    #match series with truncated name if there is \n",
    "    cleanName = re.sub(\" binti \", \" bt \", str(name), flags = re.IGNORECASE)\n",
    "    rule1 =  series\\\n",
    "            .map(lambda x: True if re.search('%s'%re.escape(str(name)), str(x), flags = re.IGNORECASE) \n",
    "                 and str(x) not in ['', 'nan'] else False).values\n",
    "    #match name with truncated name in the series if there is\n",
    "    rule2 = series\\\n",
    "                .map(lambda x: True if re.search('%s'%re.escape(re.sub(\"ENCIK |COP REFUND\", '', \n",
    "                                                                re.sub(\" binti \", \" bt \", str(x), flags = re.I), \n",
    "                                                                       flags = re.IGNORECASE).strip()), \n",
    "                                                 str(name), flags = re.IGNORECASE) \n",
    "                     and str(x) not in ['', 'nan'] else False).values\n",
    "    resultArray = (rule1|rule2)\n",
    "    resultArray = np.where(resultArray, ruleName, \"False\")\n",
    "    \n",
    "    return resultArray\n",
    "\n",
    "def noSpacenoCopRefund(name, series):\n",
    "    ruleName = \"noSpacenoCopRefund\"\n",
    "    #remove cop refund and remove space for BS reference to match wth name\n",
    "    rule1 = series.map(lambda x:True if re.search('%s'%re.escape(str(name)), \n",
    "                            re.sub(' ','',re.sub(\"COP REFUND\", '',str(x))), flags = re.IGNORECASE)\n",
    "                                else False).values\n",
    "    rule2 = series.map(lambda x:True if re.search('%s'%re.escape(re.sub(' ','',re.sub(\"COP REFUND\", '',str(x)))), \n",
    "                        str(name), flags = re.IGNORECASE) and re.sub(' ','',re.sub(\"COP REFUND\", '',str(x)))!=''\n",
    "                            else False).values\n",
    "    resultArray = (rule1|rule2)\n",
    "    resultArray = np.where(resultArray, ruleName, \"False\")\n",
    "    return resultArray\n",
    "\n",
    "def matchAccountLast4Digit(accountNo, series):\n",
    "    ruleName = \"matchAccountLast4Digit\"\n",
    "    resultArray = series.map(lambda x:ruleName if re.search('%s'%accountNo, str(x), flags = re.IGNORECASE)\n",
    "                                        and len(accountNo) == 4 else \"False\").values\n",
    "    return resultArray\n",
    "\n",
    "def matchBillTypeRef(billType, series):\n",
    "    ruleName = \"matchBillTypeRef\"\n",
    "    if billType == '':\n",
    "        resultArray = np.full(len(series), \"False\")\n",
    "        reason = \"\"\n",
    "    else:\n",
    "        #if can find billtype - Indah water in reference \n",
    "        rule1 =  series\\\n",
    "                .map(lambda x: True if re.search('%s'%billType, str(x), flags = re.IGNORECASE) \n",
    "                     and str(x) not in  ['', 'nan'] else False).values\n",
    "        #if billtype is PAIP and Pengurusan air pahan in reference\n",
    "        rule2 = series\\\n",
    "                .map(lambda x: True if re.search('%s'%\"PENGURUSAN AIR PAHAN\", str(x), flags = re.IGNORECASE) \n",
    "                     and billType == 'PAIP' else False).values\n",
    "        #if billtype is PBA and perbadanan bekalan air in reference\n",
    "        rule3 = series\\\n",
    "                .map(lambda x: True if re.search('%s'%\"perbadanan bekalan a\", str(x), flags = re.IGNORECASE) \n",
    "                     and billType == 'PBA' else False).values\n",
    "        resultArray = (rule1|rule2|rule3)\n",
    "\n",
    "        resultArray = np.where(resultArray, ruleName, \"False\")\n",
    "    return resultArray\n",
    "\n",
    "def matchUniqueAmount(amount, series):\n",
    "    ruleName = \"matchUniqueAmount\"\n",
    "    #if only unique match in bs for amount\n",
    "    resultArray = series.map(lambda x:True if x == amount else False).values\n",
    "    if sum(resultArray) == 1:\n",
    "        return np.full(len(series), ruleName)\n",
    "    else:\n",
    "        return np.full(len(series), \"False\")\n"
   ]
  },
  {
   "cell_type": "markdown",
   "metadata": {},
   "source": [
    "#### COP"
   ]
  },
  {
   "cell_type": "code",
   "execution_count": 160,
   "metadata": {},
   "outputs": [
    {
     "name": "stdout",
     "output_type": "stream",
     "text": [
      "Total time: 12.0741s\n"
     ]
    }
   ],
   "source": [
    "nameCol = 'Member Name'\n",
    "indexCol = 'COP_Index'\n",
    "ruleType = \"PayOut\"\n",
    "matchResult = []\n",
    "startTime = timer()\n",
    "for index in [301, 404, 464, 617]:\n",
    "    #instantiate rule\n",
    "    dfSubset = dfCOP.query('%s == %s'%(indexCol, index))\n",
    "    if len(dfSubset[nameCol].values) != 0:\n",
    "        POname = dfSubset[nameCol].values[0]\n",
    "        POname = re.sub(\"\\u200b\", \"\", POname)\n",
    "        POamount = dfSubset[poAmountCol].values[0]\n",
    "        #merchant, other payout\n",
    "        if \"Bank Acc\" in dfSubset.columns:\n",
    "            AccountNo = re.sub(' |-|\\.0','', str(dfSubset['Bank Acc'].values[0]))[-4:]\n",
    "        #bill payment\n",
    "        elif \"Acc Number\" in dfSubset.columns:\n",
    "            AccountNo = re.sub(' |-|\\.0','', str(dfSubset['Acc Number'].values[0]))[-4:]\n",
    "        else:\n",
    "            AccountNo = ''\n",
    "        if 'Bill Type' in dfSubset.columns:\n",
    "            BillType = dfSubset['Bill Type'].values[0]\n",
    "        else:\n",
    "            BillType = ''\n",
    "        for col in ['Reference 1', 'Reference 2', 'Reference 3', 'Reference 4']:\n",
    "            match1 = matchTruncated(POname, dfBankStatementFinal[col])\n",
    "            match2 = matchFirst2Terms(POname, dfBankStatementFinal[col])\n",
    "            match3 = noSpacenoCopRefund(POname, dfBankStatementFinal[col])\n",
    "            match4 = matchAccountLast4Digit(AccountNo, dfBankStatementFinal[col])\n",
    "            match5 = matchBillTypeRef(BillType, dfBankStatementFinal[col])\n",
    "            match6 = matchUniqueAmount(POamount, dfBankStatementFinal[bsAmountCol])\n",
    "            ruleStr1 = \"|\".join(['(match%s!=\"False\")'%i for i in ruleDict[ruleType]])\n",
    "            checkRule = eval(ruleStr1)\n",
    "            #assign bool statement to checkRule\n",
    "            dfMatch = dfBankStatementFinal[(dfBankStatementFinal[bsAmountCol] == POamount) & (checkRule)]\n",
    "            ruleStr1 = '[' + ','.join(['match%s'%i for i in ruleDict[ruleType]]) + ']'\n",
    "            #assign list to ruleList\n",
    "            ruleList = eval(ruleStr1)\n",
    "            if dfMatch.shape[0] == 1:\n",
    "                BSname = dfMatch[col].values[0]\n",
    "                BSamount = dfMatch[bsAmountCol].values[0]   \n",
    "                BSindex = dfMatch[bsIndex].values[0]\n",
    "                rule = ','.join([i[BSindex] for i in ruleList if i[BSindex]!=\"False\"])\n",
    "                matchResult.append([index, POname, POamount, BSindex, BSname, BSamount, rule])\n",
    "#             more than 1 match\n",
    "            elif dfMatch.shape[0] > 1:\n",
    "                for no, name in enumerate(dfMatch[col].values):\n",
    "                    BSname = name\n",
    "                    BSamount = dfMatch[bsAmountCol].values[no]\n",
    "                    BSindex = dfMatch[bsIndex].values[no]\n",
    "                    rule = ','.join([i[BSindex] for i in ruleList if i[BSindex]!=\"False\"])\n",
    "                    #nid to remove duplicate after consolidation\n",
    "                    matchResult.append([index, POname, POamount, BSindex, BSname, BSamount, rule])\n",
    "\n",
    "endTime = timer()\n",
    "print(\"Total time: %0.4fs\" % (endTime - startTime))"
   ]
  },
  {
   "cell_type": "code",
   "execution_count": 117,
   "metadata": {},
   "outputs": [
    {
     "data": {
      "text/plain": [
       "[[301,\n",
       "  'Vivian Chan siew yun',\n",
       "  1360.0,\n",
       "  4046,\n",
       "  'CHAN SIEW YUN       COP REFUND',\n",
       "  1360.0,\n",
       "  'matchTruncated'],\n",
       " [404,\n",
       "  'Margareta bt kimon',\n",
       "  1599.0,\n",
       "  4219,\n",
       "  'MARGARETA BINTI KIMOCOP REFUND',\n",
       "  1599.0,\n",
       "  'matchTruncated'],\n",
       " [404,\n",
       "  'Margareta bt kimon',\n",
       "  1599.0,\n",
       "  4213,\n",
       "  'COP REFUND',\n",
       "  1599.0,\n",
       "  'matchTruncated'],\n",
       " [464,\n",
       "  'Mohamad HAIRIZAN bin ismail',\n",
       "  1400.0,\n",
       "  4081,\n",
       "  'ENCIK MOHAMAD HAIRIZCOP REFUND',\n",
       "  1400.0,\n",
       "  'matchTruncated'],\n",
       " [617,\n",
       "  'Mohammad Rahmat bin Musa',\n",
       "  5100.0,\n",
       "  5480,\n",
       "  'MOHAMMAD RAHM       COP REFUND',\n",
       "  5100.0,\n",
       "  'matchTruncated'],\n",
       " [617,\n",
       "  'Mohammad Rahmat bin Musa',\n",
       "  5100.0,\n",
       "  5479,\n",
       "  'COP REFUND',\n",
       "  5100.0,\n",
       "  'matchTruncated']]"
      ]
     },
     "execution_count": 117,
     "metadata": {},
     "output_type": "execute_result"
    }
   ],
   "source": [
    "matchResult"
   ]
  },
  {
   "cell_type": "code",
   "execution_count": 41,
   "metadata": {},
   "outputs": [
    {
     "data": {
      "text/html": [
       "<div>\n",
       "<style scoped>\n",
       "    .dataframe tbody tr th:only-of-type {\n",
       "        vertical-align: middle;\n",
       "    }\n",
       "\n",
       "    .dataframe tbody tr th {\n",
       "        vertical-align: top;\n",
       "    }\n",
       "\n",
       "    .dataframe thead th {\n",
       "        text-align: right;\n",
       "    }\n",
       "</style>\n",
       "<table border=\"1\" class=\"dataframe\">\n",
       "  <thead>\n",
       "    <tr style=\"text-align: right;\">\n",
       "      <th></th>\n",
       "      <th>Country</th>\n",
       "      <th>Withdraw Date</th>\n",
       "      <th>Username</th>\n",
       "      <th>Member Name</th>\n",
       "      <th>Withdraw</th>\n",
       "      <th>Package</th>\n",
       "      <th>Bank</th>\n",
       "      <th>Bank Acc</th>\n",
       "      <th>Bank-in Slip</th>\n",
       "      <th>Bank-in By</th>\n",
       "      <th>Bank-in Date</th>\n",
       "      <th>Remarks</th>\n",
       "      <th>Status</th>\n",
       "      <th>Amount</th>\n",
       "      <th>Unnamed: 14</th>\n",
       "      <th>Unnamed: 15</th>\n",
       "      <th>DataType</th>\n",
       "      <th>COP_Index</th>\n",
       "    </tr>\n",
       "  </thead>\n",
       "  <tbody>\n",
       "    <tr>\n",
       "      <th>301</th>\n",
       "      <td>MALAYSIA</td>\n",
       "      <td>44046.0</td>\n",
       "      <td>vivianchan</td>\n",
       "      <td>Vivian Chan siew yun</td>\n",
       "      <td>BASIC</td>\n",
       "      <td>BASIC</td>\n",
       "      <td>CIMB-MALAYSIA</td>\n",
       "      <td>7025759848</td>\n",
       "      <td>NaN</td>\n",
       "      <td>NaN</td>\n",
       "      <td>NaN</td>\n",
       "      <td>NaN</td>\n",
       "      <td>Pending</td>\n",
       "      <td>1360.0</td>\n",
       "      <td>Edit</td>\n",
       "      <td>Reject</td>\n",
       "      <td>COP</td>\n",
       "      <td>301</td>\n",
       "    </tr>\n",
       "  </tbody>\n",
       "</table>\n",
       "</div>"
      ],
      "text/plain": [
       "      Country  Withdraw Date    Username           Member Name Withdraw  \\\n",
       "301  MALAYSIA        44046.0  vivianchan  Vivian Chan siew yun    BASIC   \n",
       "\n",
       "    Package           Bank    Bank Acc  Bank-in Slip  Bank-in By  \\\n",
       "301   BASIC  CIMB-MALAYSIA  7025759848           NaN         NaN   \n",
       "\n",
       "     Bank-in Date  Remarks   Status  Amount Unnamed: 14 Unnamed: 15 DataType  \\\n",
       "301           NaN      NaN  Pending  1360.0        Edit      Reject      COP   \n",
       "\n",
       "     COP_Index  \n",
       "301        301  "
      ]
     },
     "execution_count": 41,
     "metadata": {},
     "output_type": "execute_result"
    }
   ],
   "source": [
    "dfCOP.query(\"`Member Name` == 'Vivian Chan siew yun'\")"
   ]
  },
  {
   "cell_type": "code",
   "execution_count": 69,
   "metadata": {},
   "outputs": [
    {
     "data": {
      "text/html": [
       "<div>\n",
       "<style scoped>\n",
       "    .dataframe tbody tr th:only-of-type {\n",
       "        vertical-align: middle;\n",
       "    }\n",
       "\n",
       "    .dataframe tbody tr th {\n",
       "        vertical-align: top;\n",
       "    }\n",
       "\n",
       "    .dataframe thead th {\n",
       "        text-align: right;\n",
       "    }\n",
       "</style>\n",
       "<table border=\"1\" class=\"dataframe\">\n",
       "  <thead>\n",
       "    <tr style=\"text-align: right;\">\n",
       "      <th></th>\n",
       "      <th>Country</th>\n",
       "      <th>Withdraw Date</th>\n",
       "      <th>Username</th>\n",
       "      <th>Member Name</th>\n",
       "      <th>Withdraw</th>\n",
       "      <th>Package</th>\n",
       "      <th>Bank</th>\n",
       "      <th>Bank Acc</th>\n",
       "      <th>Bank-in Slip</th>\n",
       "      <th>Bank-in By</th>\n",
       "      <th>Bank-in Date</th>\n",
       "      <th>Remarks</th>\n",
       "      <th>Status</th>\n",
       "      <th>Amount</th>\n",
       "      <th>Unnamed: 14</th>\n",
       "      <th>Unnamed: 15</th>\n",
       "      <th>DataType</th>\n",
       "      <th>COP_Index</th>\n",
       "    </tr>\n",
       "  </thead>\n",
       "  <tbody>\n",
       "    <tr>\n",
       "      <th>617</th>\n",
       "      <td>MALAYSIA</td>\n",
       "      <td>44046.0</td>\n",
       "      <td>easymillion</td>\n",
       "      <td>Mohammad Rahmat bin Musa</td>\n",
       "      <td>BASIC</td>\n",
       "      <td>BASIC</td>\n",
       "      <td>RHB</td>\n",
       "      <td>11301000266295</td>\n",
       "      <td>NaN</td>\n",
       "      <td>NaN</td>\n",
       "      <td>NaN</td>\n",
       "      <td>NaN</td>\n",
       "      <td>Pending</td>\n",
       "      <td>5100.0</td>\n",
       "      <td>Edit</td>\n",
       "      <td>Reject</td>\n",
       "      <td>COP</td>\n",
       "      <td>617</td>\n",
       "    </tr>\n",
       "  </tbody>\n",
       "</table>\n",
       "</div>"
      ],
      "text/plain": [
       "      Country  Withdraw Date     Username               Member Name Withdraw  \\\n",
       "617  MALAYSIA        44046.0  easymillion  Mohammad Rahmat bin Musa    BASIC   \n",
       "\n",
       "    Package Bank        Bank Acc  Bank-in Slip  Bank-in By  Bank-in Date  \\\n",
       "617   BASIC  RHB  11301000266295           NaN         NaN           NaN   \n",
       "\n",
       "     Remarks   Status  Amount Unnamed: 14 Unnamed: 15 DataType  COP_Index  \n",
       "617      NaN  Pending  5100.0        Edit      Reject      COP        617  "
      ]
     },
     "execution_count": 69,
     "metadata": {},
     "output_type": "execute_result"
    }
   ],
   "source": [
    "dfCOP.query(\"`Member Name` == 'Mohammad Rahmat bin Musa'\")"
   ]
  },
  {
   "cell_type": "code",
   "execution_count": 76,
   "metadata": {},
   "outputs": [
    {
     "data": {
      "text/html": [
       "<div>\n",
       "<style scoped>\n",
       "    .dataframe tbody tr th:only-of-type {\n",
       "        vertical-align: middle;\n",
       "    }\n",
       "\n",
       "    .dataframe tbody tr th {\n",
       "        vertical-align: top;\n",
       "    }\n",
       "\n",
       "    .dataframe thead th {\n",
       "        text-align: right;\n",
       "    }\n",
       "</style>\n",
       "<table border=\"1\" class=\"dataframe\">\n",
       "  <thead>\n",
       "    <tr style=\"text-align: right;\">\n",
       "      <th></th>\n",
       "      <th>Country</th>\n",
       "      <th>Withdraw Date</th>\n",
       "      <th>Username</th>\n",
       "      <th>Member Name</th>\n",
       "      <th>Withdraw</th>\n",
       "      <th>Package</th>\n",
       "      <th>Bank</th>\n",
       "      <th>Bank Acc</th>\n",
       "      <th>Bank-in Slip</th>\n",
       "      <th>Bank-in By</th>\n",
       "      <th>Bank-in Date</th>\n",
       "      <th>Remarks</th>\n",
       "      <th>Status</th>\n",
       "      <th>Amount</th>\n",
       "      <th>Unnamed: 14</th>\n",
       "      <th>Unnamed: 15</th>\n",
       "      <th>DataType</th>\n",
       "      <th>COP_Index</th>\n",
       "    </tr>\n",
       "  </thead>\n",
       "  <tbody>\n",
       "    <tr>\n",
       "      <th>464</th>\n",
       "      <td>MALAYSIA</td>\n",
       "      <td>44046.0</td>\n",
       "      <td>Mhairizan</td>\n",
       "      <td>Mohamad HAIRIZAN bin ismail</td>\n",
       "      <td>BASIC</td>\n",
       "      <td>BASIC</td>\n",
       "      <td>Bank Islam</td>\n",
       "      <td>13026020224829</td>\n",
       "      <td>NaN</td>\n",
       "      <td>NaN</td>\n",
       "      <td>NaN</td>\n",
       "      <td>NaN</td>\n",
       "      <td>Pending</td>\n",
       "      <td>1400.0</td>\n",
       "      <td>Edit</td>\n",
       "      <td>Reject</td>\n",
       "      <td>COP</td>\n",
       "      <td>464</td>\n",
       "    </tr>\n",
       "  </tbody>\n",
       "</table>\n",
       "</div>"
      ],
      "text/plain": [
       "      Country  Withdraw Date   Username                  Member Name Withdraw  \\\n",
       "464  MALAYSIA        44046.0  Mhairizan  Mohamad HAIRIZAN bin ismail    BASIC   \n",
       "\n",
       "    Package        Bank        Bank Acc  Bank-in Slip  Bank-in By  \\\n",
       "464   BASIC  Bank Islam  13026020224829           NaN         NaN   \n",
       "\n",
       "     Bank-in Date  Remarks   Status  Amount Unnamed: 14 Unnamed: 15 DataType  \\\n",
       "464           NaN      NaN  Pending  1400.0        Edit      Reject      COP   \n",
       "\n",
       "     COP_Index  \n",
       "464        464  "
      ]
     },
     "execution_count": 76,
     "metadata": {},
     "output_type": "execute_result"
    }
   ],
   "source": [
    "dfCOP.query(\"`Member Name` == 'Mohamad HAIRIZAN bin ismail'\")"
   ]
  },
  {
   "cell_type": "code",
   "execution_count": 115,
   "metadata": {},
   "outputs": [
    {
     "data": {
      "text/html": [
       "<div>\n",
       "<style scoped>\n",
       "    .dataframe tbody tr th:only-of-type {\n",
       "        vertical-align: middle;\n",
       "    }\n",
       "\n",
       "    .dataframe tbody tr th {\n",
       "        vertical-align: top;\n",
       "    }\n",
       "\n",
       "    .dataframe thead th {\n",
       "        text-align: right;\n",
       "    }\n",
       "</style>\n",
       "<table border=\"1\" class=\"dataframe\">\n",
       "  <thead>\n",
       "    <tr style=\"text-align: right;\">\n",
       "      <th></th>\n",
       "      <th>Country</th>\n",
       "      <th>Withdraw Date</th>\n",
       "      <th>Username</th>\n",
       "      <th>Member Name</th>\n",
       "      <th>Withdraw</th>\n",
       "      <th>Package</th>\n",
       "      <th>Bank</th>\n",
       "      <th>Bank Acc</th>\n",
       "      <th>Bank-in Slip</th>\n",
       "      <th>Bank-in By</th>\n",
       "      <th>Bank-in Date</th>\n",
       "      <th>Remarks</th>\n",
       "      <th>Status</th>\n",
       "      <th>Amount</th>\n",
       "      <th>Unnamed: 14</th>\n",
       "      <th>Unnamed: 15</th>\n",
       "      <th>DataType</th>\n",
       "      <th>COP_Index</th>\n",
       "    </tr>\n",
       "  </thead>\n",
       "  <tbody>\n",
       "    <tr>\n",
       "      <th>404</th>\n",
       "      <td>MALAYSIA</td>\n",
       "      <td>44046.0</td>\n",
       "      <td>Mangga</td>\n",
       "      <td>Margareta bt kimon</td>\n",
       "      <td>BASIC</td>\n",
       "      <td>BASIC</td>\n",
       "      <td>CIMB-MALAYSIA</td>\n",
       "      <td>7629118064</td>\n",
       "      <td>NaN</td>\n",
       "      <td>NaN</td>\n",
       "      <td>NaN</td>\n",
       "      <td>NaN</td>\n",
       "      <td>Pending</td>\n",
       "      <td>1599.0</td>\n",
       "      <td>Edit</td>\n",
       "      <td>Reject</td>\n",
       "      <td>COP</td>\n",
       "      <td>404</td>\n",
       "    </tr>\n",
       "  </tbody>\n",
       "</table>\n",
       "</div>"
      ],
      "text/plain": [
       "      Country  Withdraw Date Username         Member Name Withdraw Package  \\\n",
       "404  MALAYSIA        44046.0   Mangga  Margareta bt kimon    BASIC   BASIC   \n",
       "\n",
       "              Bank    Bank Acc  Bank-in Slip  Bank-in By  Bank-in Date  \\\n",
       "404  CIMB-MALAYSIA  7629118064           NaN         NaN           NaN   \n",
       "\n",
       "     Remarks   Status  Amount Unnamed: 14 Unnamed: 15 DataType  COP_Index  \n",
       "404      NaN  Pending  1599.0        Edit      Reject      COP        404  "
      ]
     },
     "execution_count": 115,
     "metadata": {},
     "output_type": "execute_result"
    }
   ],
   "source": [
    "dfCOP.query(\"`Member Name` == 'Margareta bt kimon'\")"
   ]
  },
  {
   "cell_type": "code",
   "execution_count": 96,
   "metadata": {},
   "outputs": [
    {
     "data": {
      "text/plain": [
       "array(['CHAN SIEW YUN       COP REFUND'], dtype=object)"
      ]
     },
     "execution_count": 96,
     "metadata": {},
     "output_type": "execute_result"
    }
   ],
   "source": [
    "dfBankStatementFinal.query(\"`Reference 1` == 'CHAN SIEW YUN       COP REFUND'\")['Reference 1'].values"
   ]
  },
  {
   "cell_type": "markdown",
   "metadata": {},
   "source": [
    "#### Manage COP"
   ]
  },
  {
   "cell_type": "code",
   "execution_count": 161,
   "metadata": {},
   "outputs": [
    {
     "name": "stdout",
     "output_type": "stream",
     "text": [
      "Total time: 2.9412s\n"
     ]
    }
   ],
   "source": [
    "nameCol = 'Member Name'\n",
    "indexCol = 'ManageCOP_Index'\n",
    "ruleType = \"PayOut\"\n",
    "matchResult = []\n",
    "startTime = timer()\n",
    "for index in [0]:\n",
    "    #instantiate rule\n",
    "    dfSubset = dfManageCOP.query('%s == %s'%(indexCol, index))\n",
    "    if len(dfSubset[nameCol].values) != 0:\n",
    "        POname = dfSubset[nameCol].values[0]\n",
    "        POname = re.sub(\"\\u200b\", \"\", POname)\n",
    "        POamount = dfSubset[poAmountCol].values[0]\n",
    "        #merchant, other payout\n",
    "        if \"Bank Acc\" in dfSubset.columns:\n",
    "            AccountNo = re.sub(' |-|\\.0','', str(dfSubset['Bank Acc'].values[0]))[-4:]\n",
    "        #bill payment\n",
    "        elif \"Acc Number\" in dfSubset.columns:\n",
    "            AccountNo = re.sub(' |-|\\.0','', str(dfSubset['Acc Number'].values[0]))[-4:]\n",
    "        else:\n",
    "            AccountNo = ''\n",
    "        if 'Bill Type' in dfSubset.columns:\n",
    "            BillType = dfSubset['Bill Type'].values[0]\n",
    "        else:\n",
    "            BillType = ''\n",
    "        for col in ['Reference 1', 'Reference 2', 'Reference 3', 'Reference 4']:\n",
    "            match1 = matchTruncated(POname, dfBankStatementFinal[col])\n",
    "            match2 = matchFirst2Terms(POname, dfBankStatementFinal[col])\n",
    "            match3 = noSpacenoCopRefund(POname, dfBankStatementFinal[col])\n",
    "            match4 = matchAccountLast4Digit(AccountNo, dfBankStatementFinal[col])\n",
    "            match5 = matchBillTypeRef(BillType, dfBankStatementFinal[col])\n",
    "            match6 = matchUniqueAmount(POamount, dfBankStatementFinal[bsAmountCol])\n",
    "            ruleStr1 = \"|\".join(['(match%s!=\"False\")'%i for i in ruleDict[ruleType]])\n",
    "            checkRule = eval(ruleStr1)\n",
    "            #assign bool statement to checkRule\n",
    "            dfMatch = dfBankStatementFinal[(dfBankStatementFinal[bsAmountCol] == POamount) & (checkRule)]\n",
    "            ruleStr1 = '[' + ','.join(['match%s'%i for i in ruleDict[ruleType]]) + ']'\n",
    "            #assign list to ruleList\n",
    "            ruleList = eval(ruleStr1)\n",
    "            if dfMatch.shape[0] == 1:\n",
    "                BSname = dfMatch[col].values[0]\n",
    "                BSamount = dfMatch[bsAmountCol].values[0]   \n",
    "                BSindex = dfMatch[bsIndex].values[0]\n",
    "                rule = ','.join([i[BSindex] for i in ruleList if i[BSindex]!=\"False\"])\n",
    "                matchResult.append([index, POname, POamount, BSindex, BSname, BSamount, rule])\n",
    "#             more than 1 match\n",
    "            elif dfMatch.shape[0] > 1:\n",
    "                for no, name in enumerate(dfMatch[col].values):\n",
    "                    BSname = name\n",
    "                    BSamount = dfMatch[bsAmountCol].values[no]\n",
    "                    BSindex = dfMatch[bsIndex].values[no]\n",
    "                    rule = ','.join([i[BSindex] for i in ruleList if i[BSindex]!=\"False\"])\n",
    "                    #nid to remove duplicate after consolidation\n",
    "                    matchResult.append([index, POname, POamount, BSindex, BSname, BSamount, rule])\n",
    "\n",
    "endTime = timer()\n",
    "print(\"Total time: %0.4fs\" % (endTime - startTime))"
   ]
  },
  {
   "cell_type": "code",
   "execution_count": 165,
   "metadata": {},
   "outputs": [
    {
     "data": {
      "text/plain": [
       "False"
      ]
     },
     "execution_count": 165,
     "metadata": {},
     "output_type": "execute_result"
    }
   ],
   "source": [
    "4 in noMatchCOPlist"
   ]
  },
  {
   "cell_type": "code",
   "execution_count": 162,
   "metadata": {},
   "outputs": [
    {
     "data": {
      "text/plain": [
       "[[0,\n",
       "  'Chong Su moi',\n",
       "  1949.0,\n",
       "  4498,\n",
       "  'XXXXXX9608          CHONG SU MOI',\n",
       "  1949.0,\n",
       "  'matchTruncated,matchFirst2Terms,matchAccountLast4Digit,matchUniqueAmount'],\n",
       " [0,\n",
       "  'Chong Su moi',\n",
       "  1949.0,\n",
       "  4498,\n",
       "  'COP REFUND',\n",
       "  1949.0,\n",
       "  'matchTruncated,matchUniqueAmount'],\n",
       " [0, 'Chong Su moi', 1949.0, 4498, '', 1949.0, 'matchUniqueAmount'],\n",
       " [0, 'Chong Su moi', 1949.0, 4498, '', 1949.0, 'matchUniqueAmount']]"
      ]
     },
     "execution_count": 162,
     "metadata": {},
     "output_type": "execute_result"
    }
   ],
   "source": [
    "matchResult"
   ]
  },
  {
   "cell_type": "code",
   "execution_count": 80,
   "metadata": {},
   "outputs": [
    {
     "data": {
      "text/html": [
       "<div>\n",
       "<style scoped>\n",
       "    .dataframe tbody tr th:only-of-type {\n",
       "        vertical-align: middle;\n",
       "    }\n",
       "\n",
       "    .dataframe tbody tr th {\n",
       "        vertical-align: top;\n",
       "    }\n",
       "\n",
       "    .dataframe thead th {\n",
       "        text-align: right;\n",
       "    }\n",
       "</style>\n",
       "<table border=\"1\" class=\"dataframe\">\n",
       "  <thead>\n",
       "    <tr style=\"text-align: right;\">\n",
       "      <th></th>\n",
       "      <th>Country</th>\n",
       "      <th>Withdraw Date</th>\n",
       "      <th>Username</th>\n",
       "      <th>Member Name</th>\n",
       "      <th>Package</th>\n",
       "      <th>Bank</th>\n",
       "      <th>Bank Acc</th>\n",
       "      <th>Bank-in Slip</th>\n",
       "      <th>Bank-in By</th>\n",
       "      <th>Bank-in Date</th>\n",
       "      <th>Remarks</th>\n",
       "      <th>Status</th>\n",
       "      <th>Amount</th>\n",
       "      <th>Unnamed: 13</th>\n",
       "      <th>Unnamed: 14</th>\n",
       "      <th>DataType</th>\n",
       "      <th>ManageCOP_Index</th>\n",
       "    </tr>\n",
       "  </thead>\n",
       "  <tbody>\n",
       "    <tr>\n",
       "      <th>8</th>\n",
       "      <td>MALAYSIA</td>\n",
       "      <td>2020-08-03 00:00:00</td>\n",
       "      <td>KIMHOW0930</td>\n",
       "      <td>LIM KIM HOW</td>\n",
       "      <td>BASIC</td>\n",
       "      <td>MAYBANK BERHAD</td>\n",
       "      <td>1.612111e+11</td>\n",
       "      <td>NaN</td>\n",
       "      <td>NaN</td>\n",
       "      <td>NaN</td>\n",
       "      <td>NaN</td>\n",
       "      <td>Pending</td>\n",
       "      <td>485.0</td>\n",
       "      <td>Edit</td>\n",
       "      <td>Reject</td>\n",
       "      <td>ManageCOP</td>\n",
       "      <td>4</td>\n",
       "    </tr>\n",
       "  </tbody>\n",
       "</table>\n",
       "</div>"
      ],
      "text/plain": [
       "    Country        Withdraw Date    Username  Member Name Package  \\\n",
       "8  MALAYSIA  2020-08-03 00:00:00  KIMHOW0930  LIM KIM HOW   BASIC   \n",
       "\n",
       "             Bank      Bank Acc  Bank-in Slip  Bank-in By  Bank-in Date  \\\n",
       "8  MAYBANK BERHAD  1.612111e+11           NaN         NaN           NaN   \n",
       "\n",
       "   Remarks   Status  Amount Unnamed: 13 Unnamed: 14   DataType  \\\n",
       "8      NaN  Pending   485.0        Edit      Reject  ManageCOP   \n",
       "\n",
       "   ManageCOP_Index  \n",
       "8                4  "
      ]
     },
     "execution_count": 80,
     "metadata": {},
     "output_type": "execute_result"
    }
   ],
   "source": [
    "dfManageCOP.query(\"`Member Name` == 'LIM KIM HOW'\")"
   ]
  },
  {
   "cell_type": "code",
   "execution_count": 86,
   "metadata": {},
   "outputs": [
    {
     "data": {
      "text/html": [
       "<div>\n",
       "<style scoped>\n",
       "    .dataframe tbody tr th:only-of-type {\n",
       "        vertical-align: middle;\n",
       "    }\n",
       "\n",
       "    .dataframe tbody tr th {\n",
       "        vertical-align: top;\n",
       "    }\n",
       "\n",
       "    .dataframe thead th {\n",
       "        text-align: right;\n",
       "    }\n",
       "</style>\n",
       "<table border=\"1\" class=\"dataframe\">\n",
       "  <thead>\n",
       "    <tr style=\"text-align: right;\">\n",
       "      <th></th>\n",
       "      <th>Country</th>\n",
       "      <th>Withdraw Date</th>\n",
       "      <th>Username</th>\n",
       "      <th>Member Name</th>\n",
       "      <th>Package</th>\n",
       "      <th>Bank</th>\n",
       "      <th>Bank Acc</th>\n",
       "      <th>Bank-in Slip</th>\n",
       "      <th>Bank-in By</th>\n",
       "      <th>Bank-in Date</th>\n",
       "      <th>Remarks</th>\n",
       "      <th>Status</th>\n",
       "      <th>Amount</th>\n",
       "      <th>Unnamed: 13</th>\n",
       "      <th>Unnamed: 14</th>\n",
       "      <th>DataType</th>\n",
       "      <th>ManageCOP_Index</th>\n",
       "    </tr>\n",
       "  </thead>\n",
       "  <tbody>\n",
       "    <tr>\n",
       "      <th>0</th>\n",
       "      <td>MALAYSIA</td>\n",
       "      <td>2020-08-03 00:00:00</td>\n",
       "      <td>viviansumoi</td>\n",
       "      <td>Chong Su moi</td>\n",
       "      <td>PLATINUM</td>\n",
       "      <td>Public Bank Berhad</td>\n",
       "      <td>6.324120e+09</td>\n",
       "      <td>NaN</td>\n",
       "      <td>NaN</td>\n",
       "      <td>NaN</td>\n",
       "      <td>NaN</td>\n",
       "      <td>Pending</td>\n",
       "      <td>1949.0</td>\n",
       "      <td>Edit</td>\n",
       "      <td>Reject</td>\n",
       "      <td>ManageCOP</td>\n",
       "      <td>0</td>\n",
       "    </tr>\n",
       "  </tbody>\n",
       "</table>\n",
       "</div>"
      ],
      "text/plain": [
       "    Country        Withdraw Date     Username   Member Name   Package  \\\n",
       "0  MALAYSIA  2020-08-03 00:00:00  viviansumoi  Chong Su moi  PLATINUM   \n",
       "\n",
       "                 Bank      Bank Acc  Bank-in Slip  Bank-in By  Bank-in Date  \\\n",
       "0  Public Bank Berhad  6.324120e+09           NaN         NaN           NaN   \n",
       "\n",
       "   Remarks   Status  Amount Unnamed: 13 Unnamed: 14   DataType  \\\n",
       "0      NaN  Pending  1949.0        Edit      Reject  ManageCOP   \n",
       "\n",
       "   ManageCOP_Index  \n",
       "0                0  "
      ]
     },
     "execution_count": 86,
     "metadata": {},
     "output_type": "execute_result"
    }
   ],
   "source": [
    "dfManageCOP.query(\"`Member Name` == 'Chong Su moi'\")"
   ]
  },
  {
   "cell_type": "code",
   "execution_count": null,
   "metadata": {},
   "outputs": [],
   "source": []
  }
 ],
 "metadata": {
  "kernelspec": {
   "display_name": "Python 3",
   "language": "python",
   "name": "python3"
  },
  "language_info": {
   "codemirror_mode": {
    "name": "ipython",
    "version": 3
   },
   "file_extension": ".py",
   "mimetype": "text/x-python",
   "name": "python",
   "nbconvert_exporter": "python",
   "pygments_lexer": "ipython3",
   "version": "3.7.6"
  }
 },
 "nbformat": 4,
 "nbformat_minor": 4
}
