{
 "cells": [
  {
   "cell_type": "code",
   "execution_count": 1,
   "metadata": {},
   "outputs": [],
   "source": [
    "import pandas as pd\n",
    "import re\n",
    "import openpyxl \n",
    "import numpy as np\n",
    "from timeit import default_timer as timer\n",
    "from datetime import datetime\n",
    "import os\n",
    "\n",
    "pd.set_option('display.max_columns', 100)\n",
    "pd.set_option('display.max_rows', 100)"
   ]
  },
  {
   "cell_type": "markdown",
   "metadata": {},
   "source": [
    "### Define parameter"
   ]
  },
  {
   "cell_type": "code",
   "execution_count": 344,
   "metadata": {},
   "outputs": [
    {
     "data": {
      "text/plain": [
       "datetime.datetime(1900, 12, 31, 0, 0)"
      ]
     },
     "execution_count": 344,
     "metadata": {},
     "output_type": "execute_result"
    }
   ],
   "source": [
    "#predefine parameters\n",
    "filterTransDesc = \"HANDLING CHRG\"\n",
    "\n",
    "#name col to remove rows with missing na or to match bs\n",
    "payoutNameCol = 'Member Name'\n",
    "merchantNameCol = 'Merchant'\n",
    "merchantBankNameCol = 'Bank Acc Name'\n",
    "billPaymentNameCol = \"Name\"\n",
    "\n",
    "#col of payout to match amount (payout, merchant and bill payment must have)\n",
    "poAmountCol = \"Amount\"\n",
    "#col of final output as name\n",
    "poNameCol = \"Member Name\"\n",
    "bsName = \"BS Name\"\n",
    "\n",
    "#cols to match in bank statement\n",
    "# bsColMatchList = ['Reference 1', 'Reference 2', 'Reference 3', 'Reference 4']\n",
    "bsMatchCol = \"Reference 2\"\n",
    "bsAmountCol = \"Debit Amount\"\n",
    "\n",
    "#index col to track rows\n",
    "euIndex = \"EU_Index\"\n",
    "copIndex = \"COP_Index\"\n",
    "manageCOPIndex = \"ManageCOP_Index\"\n",
    "merchantIndex = \"Merchant_Index\"\n",
    "billPaymentIndex = \"BP_Index\"\n",
    "bsIndex = \"BS_Index\"\n",
    "\n",
    "#ruleDict, which file type to use which set of rules\n",
    "ruleDict = {\"General\":[1, 2, 3, 4, 6],\n",
    "           \"Merchant\":[1, 2, 3, 4],\n",
    "           \"BillPayment\":[2, 5]}\n",
    "\n",
    "# payoutExcelFile = \"Quinton_Payout_202011/PAYOUT - 19.11.2020 .xlsx\"\n",
    "payoutExcelFile = \"Quinton_Payout_202012/PAYOUT - 31.12.2020.xlsx\"\n",
    "\n",
    "#get date\n",
    "date = re.search('^.*?(\\d+\\.\\d+)',payoutExcelFile.split('-')[1]).group(1)\n",
    "date = datetime.strptime(date, '%d.%m')\n",
    "date"
   ]
  },
  {
   "cell_type": "code",
   "execution_count": 205,
   "metadata": {},
   "outputs": [
    {
     "data": {
      "text/plain": [
       "['PAYOUT - 01.12.2020.xlsx',\n",
       " 'PAYOUT - 02.12.2020.xlsx',\n",
       " 'PAYOUT - 03.12.2020.xlsx',\n",
       " 'PAYOUT - 04.12.2020.xlsx',\n",
       " 'PAYOUT - 07.12.2020.xlsx',\n",
       " 'PAYOUT - 08.12.2020.xlsx',\n",
       " 'PAYOUT - 09.12.2020.xlsx',\n",
       " 'PAYOUT - 10.12.2020.xlsx',\n",
       " 'PAYOUT - 11.12.2020.xlsx',\n",
       " 'PAYOUT - 14.12.2020.xlsx',\n",
       " 'PAYOUT - 15.12.2020.xlsx',\n",
       " 'PAYOUT - 16.12.2020.xlsx',\n",
       " 'PAYOUT - 17.12.2020.xlsx',\n",
       " 'PAYOUT - 18.12.2020.xlsx',\n",
       " 'PAYOUT - 21.12.2020.xlsx',\n",
       " 'PAYOUT - 22.12.2020.xlsx',\n",
       " 'PAYOUT - 23.12.2020.xlsx',\n",
       " 'PAYOUT - 24.12.2020.xlsx',\n",
       " 'PAYOUT - 28.12.2020.xlsx',\n",
       " 'PAYOUT - 29.12.2020.xlsx',\n",
       " 'PAYOUT - 30.12.2020.xlsx',\n",
       " 'PAYOUT - 31.12.2020.xlsx']"
      ]
     },
     "execution_count": 205,
     "metadata": {},
     "output_type": "execute_result"
    }
   ],
   "source": [
    "os.listdir(\"Quinton_Payout_202012\")"
   ]
  },
  {
   "cell_type": "markdown",
   "metadata": {},
   "source": [
    "### Read Payout"
   ]
  },
  {
   "cell_type": "code",
   "execution_count": 345,
   "metadata": {},
   "outputs": [
    {
     "name": "stdout",
     "output_type": "stream",
     "text": [
      "EU WS - 23.12-EU\n",
      "COP WS - 28.12-COP\n",
      "ManageCOP WS - 28.12-MANAGE COP\n",
      "Merchant WS - 28.12-MERCHANT \n",
      "BillPayment WS - 29.12-BILL PAYMENT \n"
     ]
    }
   ],
   "source": [
    "#get worksheet names\n",
    "wb = openpyxl.load_workbook(payoutExcelFile)\n",
    "wsList = wb.sheetnames\n",
    "\n",
    "EU_ws = [i for i in wsList if re.search('EU\\s*$', i)][0]\n",
    "#preceding cannot be manage\n",
    "COP_ws = [i for i in wsList if re.search('(?<!MANAGE[\\s\\-])COP\\s*$', i)][0]\n",
    "ManageCOP_ws = [i for i in wsList if re.search('MANAGE COP\\s*$', i)][0]\n",
    "Merchant_ws = [i for i in wsList if re.search('MERCHANT[^-]*', i)][0]\n",
    "BillPayment_ws = [i for i in wsList if re.search('BILL PAYMENT[^-]*\\s*$', i)][0]\n",
    "print(\"EU WS - %s\"%EU_ws)\n",
    "print(\"COP WS - %s\"%COP_ws)\n",
    "print(\"ManageCOP WS - %s\"%ManageCOP_ws)\n",
    "print(\"Merchant WS - %s\"%Merchant_ws)\n",
    "print(\"BillPayment WS - %s\"%BillPayment_ws)\n",
    "\n",
    "#read file\n",
    "\n",
    "#read payout files - EU, COP and ManageCOP\n",
    "dfEU = pd.read_excel(payoutExcelFile, sheet_name = EU_ws)\n",
    "#remove empty member name\n",
    "dfEU = dfEU[pd.notnull(dfEU[payoutNameCol])]\n",
    "dfEU['DataType'] = \"EU\" \n",
    "\n",
    "dfCOP = pd.read_excel(payoutExcelFile, sheet_name = COP_ws)\n",
    "#remove empty member name\n",
    "dfCOP = dfCOP[pd.notnull(dfCOP[payoutNameCol])]\n",
    "dfCOP['DataType'] = \"COP\" \n",
    "\n",
    "dfManageCOP = pd.read_excel(payoutExcelFile, sheet_name = ManageCOP_ws)\n",
    "#remove empty member name\n",
    "dfManageCOP = dfManageCOP[pd.notnull(dfManageCOP[payoutNameCol])]\n",
    "dfManageCOP['DataType'] = \"ManageCOP\" \n",
    "\n",
    "#merchant file\n",
    "dfMerchant = pd.read_excel(payoutExcelFile, sheet_name = Merchant_ws)\n",
    "#remove empty merchant col\n",
    "dfMerchant = dfMerchant[pd.notnull(dfMerchant[merchantNameCol])]\n",
    "dfMerchant['DataType'] = \"Merchant\" \n",
    "\n",
    "dfBillPayment = pd.read_excel(payoutExcelFile, sheet_name = BillPayment_ws)\n",
    "#remove empty name\n",
    "dfBillPayment = dfBillPayment[pd.notnull(dfBillPayment[billPaymentNameCol])]\n",
    "dfBillPayment['DataType'] = \"BillPayment\" \n",
    "\n",
    "#create index\n",
    "dfEU[euIndex] = np.arange(dfEU.shape[0])\n",
    "dfCOP[copIndex] = np.arange(dfCOP.shape[0])\n",
    "dfManageCOP[manageCOPIndex] = np.arange(dfManageCOP.shape[0])\n",
    "dfMerchant[merchantIndex] = np.arange(dfMerchant.shape[0])\n",
    "dfBillPayment[billPaymentIndex] = np.arange(dfBillPayment.shape[0])"
   ]
  },
  {
   "cell_type": "code",
   "execution_count": 346,
   "metadata": {},
   "outputs": [
    {
     "data": {
      "text/plain": [
       "['23.12-EU-ALL',\n",
       " '23.12-EU',\n",
       " '28.12-COP-ALL',\n",
       " '28.12-COP',\n",
       " '28.12-MANAGE COP',\n",
       " '28.12-MERCHANT ',\n",
       " '29.12-BILL PAYMENT ']"
      ]
     },
     "execution_count": 346,
     "metadata": {},
     "output_type": "execute_result"
    }
   ],
   "source": [
    "wsList"
   ]
  },
  {
   "cell_type": "markdown",
   "metadata": {},
   "source": [
    "### Read Bank statement"
   ]
  },
  {
   "cell_type": "code",
   "execution_count": 347,
   "metadata": {},
   "outputs": [
    {
     "name": "stdout",
     "output_type": "stream",
     "text": [
      "Output filename: 31_12 3207971832_2020.xlsx\n"
     ]
    }
   ],
   "source": [
    "if date.month == 11:\n",
    "    bsFolder = 'Nov2020_ManipulationResult'\n",
    "    outputFolder = \"Nov2020_MatchingResult\"\n",
    "elif date.month == 12:\n",
    "    bsFolder = \"Dec2020_ManipulationResult\"\n",
    "    outputFolder = \"Dec2020_MatchingResult\"\n",
    "bsDatePattern = date.strftime('%d_%m')\n",
    "bsExcelFile = [i for i in os.listdir(bsFolder) if re.search(bsDatePattern, i)][0]\n",
    "print(\"Output filename: %s\"%bsExcelFile)\n",
    "\n",
    "dfBankStatement = pd.read_excel(bsFolder + '/' + bsExcelFile, skiprows = 9)\n",
    "# dfBankStatement = pd.read_excel(\"03_11 3207971832_2020_addRef.xlsx\", skiprows = 9)\n",
    "\n",
    "#filter out ref1 gas \n",
    "filterTransDesc = \"HANDLING CHRG\"\n",
    "dfBankStatement2 = dfBankStatement[dfBankStatement[bsMatchCol].map(lambda x:\n",
    "                                                    False if re.search(filterTransDesc, str(x))\n",
    "                                                           else True)].copy()\n",
    "\n",
    "#create bsIndex\n",
    "dfBankStatement2[bsIndex] = np.arange(dfBankStatement2.shape[0])\n",
    "#keep track bsIndex list\n",
    "bsIndexList = dfBankStatement2[bsIndex].unique()"
   ]
  },
  {
   "cell_type": "markdown",
   "metadata": {},
   "source": [
    "### Exact Matching"
   ]
  },
  {
   "cell_type": "code",
   "execution_count": 348,
   "metadata": {},
   "outputs": [],
   "source": [
    "def ExactMatch(df, indexCol, nameCol, dfBS, dtype):\n",
    "    startTime = timer()\n",
    "    nameList = [str(i).lower() for i in df[nameCol].values]\n",
    "    amountList = df[poAmountCol].values\n",
    "    indexList = df[indexCol].values\n",
    "    \n",
    "    bsIndexCheckList = []\n",
    "    matchResult = []\n",
    "    for no, name in enumerate(nameList):\n",
    "        POindex = indexList[no]\n",
    "        POname = name\n",
    "        POname = re.sub(\"\\‘|\\’\", \"'\", str(POname))\n",
    "        POamount = amountList[no]\n",
    "        dfMatch = dfBS[(dfBS[bsMatchCol].map(lambda x:POname in x.lower() and x.lower()!='nan'))\n",
    "                        & (dfBS[bsAmountCol] == POamount)].copy()\n",
    "        if dfMatch.shape[0] == 1:\n",
    "            bsAmount = dfMatch[bsAmountCol].values[0]\n",
    "            BSindex = dfMatch[bsIndex].values[0]\n",
    "            bsName = dfMatch[bsMatchCol].values[0]\n",
    "            #[POindex, POname, POamount, BSindex, BSname, BSamount]\n",
    "            matchResult.append([POindex, POname, POamount,\n",
    "                               BSindex, bsName, bsAmount])\n",
    "            if BSindex not in bsIndexCheckList:\n",
    "                bsIndexCheckList.append(BSindex)\n",
    "            \n",
    "        elif dfMatch.shape[0] > 1:\n",
    "            for no, name in enumerate(dfMatch[bsMatchCol].values):\n",
    "                #check if same bs is used for matching\n",
    "                BSindex = dfMatch[bsIndex].values[no]\n",
    "                if BSindex not in bsIndexCheckList:\n",
    "                    BSname = dfMatch[bsMatchCol].values[no]\n",
    "                    bsAmount = dfMatch[bsAmountCol].values[no]\n",
    "                    NoRow = list(dfBS[bsIndex]).index(BSindex)\n",
    "                    #nid to remove duplicate after consolidation\n",
    "                    matchResult.append([POindex, POname, POamount, \n",
    "                                        BSindex, BSname, bsAmount])\n",
    "                    bsIndexCheckList.append(BSindex)\n",
    "                    break\n",
    "            \n",
    "    #form table\n",
    "    colList = [indexCol, nameCol, poAmountCol, \n",
    "               bsIndex, bsMatchCol, bsAmountCol]\n",
    "    dfResult = pd.DataFrame(matchResult, columns = colList).copy()\n",
    "    dfResult['MatchCategory'] = \"ExactMatch\"\n",
    "    dfResult['DataType'] = dtype\n",
    "    dfResult.rename(columns = {nameCol: payoutNameCol}, inplace = True)\n",
    "    endTime = timer()\n",
    "    print(\"Total time: %0.4fs\" % (endTime - startTime))\n",
    "    return dfResult"
   ]
  },
  {
   "cell_type": "code",
   "execution_count": 349,
   "metadata": {},
   "outputs": [
    {
     "name": "stdout",
     "output_type": "stream",
     "text": [
      "Total time: 14.0927s\n",
      "Total row - BS before match: 6362\n",
      "Total row - BS after match: 4875\n",
      "Total row - EU: 1900\n",
      "Exact Matches: 1487\n",
      "No Matches: 413\n"
     ]
    }
   ],
   "source": [
    "#EU\n",
    "#3363\n",
    "dfBankStatementTemp = dfBankStatement2[dfBankStatement2[bsIndex].isin(bsIndexList)].copy()\n",
    "# euList = [215]\n",
    "# dfEU2 = dfEU.query(\"EU_Index in @euList\")\n",
    "dfExactMatchEU = ExactMatch(dfEU, euIndex, payoutNameCol, \n",
    "                            dfBankStatementTemp, \"EU\")\n",
    "#find no match list\n",
    "noMatchEUList = set(dfEU[euIndex].values)\\\n",
    "                    .difference(set(dfExactMatchEU[euIndex].values))\n",
    "#remove bs duplicates\n",
    "dfExactMatchEU.drop_duplicates(bsIndex, inplace = True)\n",
    "\n",
    "print(\"Total row - BS before match: %s\"%len(bsIndexList))\n",
    "#update bsIndexList\n",
    "bsIndexList = [i for i in bsIndexList if i not in dfExactMatchEU['BS_Index'].unique()]\n",
    "print(\"Total row - BS after match: %s\"%len(bsIndexList))\n",
    "print(\"Total row - EU: %s\"%dfEU.shape[0])\n",
    "print(\"Exact Matches: %s\"%dfExactMatchEU.shape[0])\n",
    "print(\"No Matches: %s\"%len(noMatchEUList))"
   ]
  },
  {
   "cell_type": "code",
   "execution_count": 350,
   "metadata": {},
   "outputs": [
    {
     "name": "stdout",
     "output_type": "stream",
     "text": [
      "Total time: 10.3209s\n",
      "Total row - BS before match: 4875\n",
      "Total row - BS after match: 3538\n",
      "Total row: 1665\n",
      "Exact Matches: 1337\n",
      "No Matches: 328\n"
     ]
    }
   ],
   "source": [
    "#COP\n",
    "#294\n",
    "dfBankStatementTemp = dfBankStatement2[dfBankStatement2[bsIndex].isin(bsIndexList)].copy()\n",
    "dfExactMatchCOP = ExactMatch(dfCOP, copIndex, payoutNameCol,\n",
    "                             dfBankStatementTemp, \"COP\")\n",
    "#find no match list\n",
    "noMatchCOPList = set(dfCOP[copIndex].values)\\\n",
    "                    .difference(set(dfExactMatchCOP[copIndex].values))\n",
    "#remove bs duplicates\n",
    "dfExactMatchCOP.drop_duplicates(bsIndex, inplace = True)\n",
    "\n",
    "print(\"Total row - BS before match: %s\"%len(bsIndexList))\n",
    "#update bsIndexList\n",
    "bsIndexList = [i for i in bsIndexList if i not in dfExactMatchCOP['BS_Index'].unique()]\n",
    "print(\"Total row - BS after match: %s\"%len(bsIndexList))\n",
    "print(\"Total row: %s\"%dfCOP.shape[0])\n",
    "print(\"Exact Matches: %s\"%dfExactMatchCOP.shape[0])\n",
    "print(\"No Matches: %s\"%len(noMatchCOPList))"
   ]
  },
  {
   "cell_type": "code",
   "execution_count": 351,
   "metadata": {},
   "outputs": [
    {
     "name": "stdout",
     "output_type": "stream",
     "text": [
      "Total time: 0.0835s\n",
      "Total row - BS before match: 3538\n",
      "Total row - BS after match: 3529\n",
      "Total row: 12\n",
      "Exact Matches: 9\n",
      "No Matches: 3\n"
     ]
    }
   ],
   "source": [
    "#Manage COP\n",
    "#24\n",
    "dfBankStatementTemp = dfBankStatement2[dfBankStatement2[bsIndex].isin(bsIndexList)].copy()\n",
    "dfExactMatchManageCOP = ExactMatch(dfManageCOP, manageCOPIndex, payoutNameCol, \n",
    "                                   dfBankStatementTemp, 'ManageCOP')\n",
    "#find no match list\n",
    "noMatchManageCOPList = set(dfManageCOP[manageCOPIndex].values)\\\n",
    "                       .difference(set(dfExactMatchManageCOP[manageCOPIndex].values))\n",
    "#remove bs duplicates\n",
    "dfExactMatchManageCOP.drop_duplicates(bsIndex, inplace = True)\n",
    "\n",
    "print(\"Total row - BS before match: %s\"%len(bsIndexList))\n",
    "#update bsIndexList\n",
    "bsIndexList = [i for i in bsIndexList if i not in dfExactMatchManageCOP['BS_Index'].unique()]\n",
    "print(\"Total row - BS after match: %s\"%len(bsIndexList))\n",
    "print(\"Total row: %s\"%dfManageCOP.shape[0])\n",
    "print(\"Exact Matches: %s\"%dfExactMatchManageCOP.shape[0])\n",
    "print(\"No Matches: %s\"%len(noMatchManageCOPList))"
   ]
  },
  {
   "cell_type": "code",
   "execution_count": 352,
   "metadata": {},
   "outputs": [
    {
     "name": "stdout",
     "output_type": "stream",
     "text": [
      "Total time: 6.1156s\n",
      "Total time: 6.1771s\n",
      "Total row - BS before match: 3529\n",
      "Total row - BS after match: 2938\n",
      "Total row: 1225\n",
      "Exact Matches: 591\n",
      "No Matches: 634\n"
     ]
    }
   ],
   "source": [
    "#861\n",
    "\n",
    "#exact matching for merchant file\n",
    "dfBankStatementTemp = dfBankStatement2[dfBankStatement2[bsIndex].isin(bsIndexList)].copy()\n",
    "exactMatchMerchantList = []\n",
    "for colName in [merchantNameCol, merchantBankNameCol]:\n",
    "    dfExactMatchMerchant = ExactMatch(dfMerchant, merchantIndex, colName,\n",
    "                                      dfBankStatementTemp, \"Merchant\")\n",
    "    exactMatchMerchantList.append(dfExactMatchMerchant)\n",
    "\n",
    "dfExactMatchMerchant = pd.concat(exactMatchMerchantList).copy()\n",
    "dfExactMatchMerchant.drop_duplicates(merchantIndex, inplace = True)\n",
    "dfExactMatchMerchant.drop_duplicates(bsIndex, inplace = True)\n",
    "\n",
    "#harmonize no match list\n",
    "noMatchMerchantList = set(dfMerchant[merchantIndex].values)\\\n",
    "                        .difference(set(dfExactMatchMerchant[merchantIndex].values))\n",
    "\n",
    "print(\"Total row - BS before match: %s\"%len(bsIndexList))\n",
    "#update bsIndexList\n",
    "bsIndexList = [i for i in bsIndexList if i not in dfExactMatchMerchant['BS_Index'].unique()]\n",
    "print(\"Total row - BS after match: %s\"%len(bsIndexList))\n",
    "print(\"Total row: %s\"%dfMerchant.shape[0])\n",
    "print(\"Exact Matches: %s\"%dfExactMatchMerchant.shape[0])\n",
    "print(\"No Matches: %s\"%len(noMatchMerchantList))"
   ]
  },
  {
   "cell_type": "code",
   "execution_count": 353,
   "metadata": {},
   "outputs": [
    {
     "name": "stdout",
     "output_type": "stream",
     "text": [
      "Total time: 1.3497s\n",
      "Total time: 1.3827s\n",
      "Total row - BS before match: 2938\n",
      "Total row - BS after match: 2938\n",
      "Total row: 292\n",
      "Exact Matches: 0\n",
      "No Matches: 292\n"
     ]
    }
   ],
   "source": [
    "#exact matching for bill Payment file\n",
    "#1\n",
    "dfBankStatementTemp = dfBankStatement2[dfBankStatement2[bsIndex].isin(bsIndexList)].copy()\n",
    "exactMatchBPList = []\n",
    "for colName in [billPaymentNameCol, 'Acc Holder']:\n",
    "    dfExactMatchBP = ExactMatch(dfBillPayment, billPaymentIndex, colName,\n",
    "                                dfBankStatementTemp, \"BillPayment\")\n",
    "    exactMatchBPList.append(dfExactMatchBP)\n",
    "\n",
    "dfExactMatchBP = pd.concat(exactMatchBPList).copy()\n",
    "dfExactMatchBP.drop_duplicates(billPaymentIndex, inplace = True)\n",
    "dfExactMatchBP.drop_duplicates(bsIndex, inplace = True)\n",
    "\n",
    "#find no match list\n",
    "noMatchBPList = set(dfBillPayment[billPaymentIndex].values)\\\n",
    "                    .difference(set(dfExactMatchBP[billPaymentIndex].values))\n",
    "\n",
    "print(\"Total row - BS before match: %s\"%len(bsIndexList))\n",
    "#update bsIndexList\n",
    "bsIndexList = [i for i in bsIndexList if i not in dfExactMatchBP['BS_Index'].unique()]\n",
    "print(\"Total row - BS after match: %s\"%len(bsIndexList))\n",
    "print(\"Total row: %s\"%dfBillPayment.shape[0])\n",
    "print(\"Exact Matches: %s\"%dfExactMatchBP.shape[0])\n",
    "print(\"No Matches: %s\"%len(noMatchBPList))"
   ]
  },
  {
   "cell_type": "code",
   "execution_count": 354,
   "metadata": {},
   "outputs": [
    {
     "data": {
      "text/plain": [
       "((3424, 12), 3424, 3424)"
      ]
     },
     "execution_count": 354,
     "metadata": {},
     "output_type": "execute_result"
    }
   ],
   "source": [
    "#combine all exact matches\n",
    "dfExactMatchFinal = pd.concat([dfExactMatchEU, dfExactMatchCOP, dfExactMatchManageCOP,\n",
    "                               dfExactMatchBP, dfExactMatchMerchant]).copy()\n",
    "matchedBSIndex = dfExactMatchFinal[bsIndex].values\n",
    "\n",
    "dfExactMatchFinal.shape, len(dfExactMatchFinal[bsIndex].unique()), dfBankStatement2.shape[0]-len(bsIndexList)"
   ]
  },
  {
   "cell_type": "code",
   "execution_count": 355,
   "metadata": {},
   "outputs": [
    {
     "name": "stdout",
     "output_type": "stream",
     "text": [
      "ExactMatch/EM_31_12 3207971832_2020.xlsx\n"
     ]
    }
   ],
   "source": [
    "dfNoMatchList = pd.DataFrame([\n",
    "                            [\"EU\", noMatchEUList],\n",
    "                            [\"COP\", noMatchCOPList],\n",
    "                            [\"ManageCOP\", noMatchManageCOPList],\n",
    "                            [\"BP\", noMatchBPList],\n",
    "                            [\"Merchant\", noMatchMerchantList],\n",
    "                            [\"BS\", bsIndexList]\n",
    "                             ],\n",
    "                            columns = [\"DataType\", \"NoMatchList\"])\n",
    "\n",
    "#back up bsIndexList\n",
    "bsBackUp = bsIndexList.copy()\n",
    "\n",
    "# np.all(np.equal(bsBackUp, bsIndexList))\n",
    "\n",
    "excelFile = 'ExactMatch/' + 'EM_' + bsExcelFile\n",
    "print(excelFile)\n",
    "with pd.ExcelWriter(excelFile) as writer:\n",
    "    dfExactMatchFinal.to_excel(writer, index = False, sheet_name = \"ExactMatch\")\n",
    "    dfNoMatchList.to_excel(writer, index = False, sheet_name = \"NoMatchList\")"
   ]
  },
  {
   "cell_type": "markdown",
   "metadata": {},
   "source": [
    "### Partial Matching"
   ]
  },
  {
   "cell_type": "code",
   "execution_count": 356,
   "metadata": {},
   "outputs": [],
   "source": [
    "def matchFirst2Terms(name, series):\n",
    "    ruleName = \"matchFirst2Terms\"\n",
    "    \n",
    "    #match series with first 1 or 2 terms of names\n",
    "    if len(name.split(' ')) >= 3:\n",
    "        match = ' '.join(name.split(' ')[:2])\n",
    "        resultArray = series.map(lambda x:ruleName if re.search('[\\s\\d]%s'%re.escape(match), \n",
    "                                                                re.sub(\"\\xa0\", \"\", str(x)), flags = re.IGNORECASE)\n",
    "                                else \"False\").values\n",
    "    elif len(name.split(' ')) == 2:\n",
    "        match = name.split(' ')[0]\n",
    "        resultArray = series.map(lambda x:ruleName if re.search('[\\s\\d]%s'%re.escape(match), \n",
    "                                                                re.sub(\" |\\xa0\",\"\",str(x)), flags = re.IGNORECASE)\n",
    "                                else \"False\").values\n",
    "    else:\n",
    "        resultArray = np.full(len(series), \"False\")\n",
    "\n",
    "    return resultArray\n",
    "\n",
    "# def matchTruncated(name, series):\n",
    "#     ruleName = \"matchTruncated\"\n",
    "#     #match series with truncated name if there is \n",
    "#     cleanName = re.sub(\" binti \", \" bt \", str(name), flags = re.IGNORECASE)\n",
    "#     rule1 =  series\\\n",
    "#             .map(lambda x: True if re.search('%s'%re.escape(str(name)), str(x), flags = re.IGNORECASE) \n",
    "#                  and str(x) not in ['', 'nan'] else False).values\n",
    "#     #match name with truncated name in the series if there is\n",
    "#     rule2 = series\\\n",
    "#                 .map(lambda x: True if re.search('%s'%re.escape(re.sub(\"ENCIK |COP REFUND\", '', \n",
    "#                                                                 re.sub(\" binti \", \" bt \", str(x), flags = re.I), \n",
    "#                                                                        flags = re.IGNORECASE).strip()), \n",
    "#                                                  str(name), flags = re.IGNORECASE) \n",
    "#                      and re.sub(\"ENCIK |COP REFUND\", '', \n",
    "#                                 re.sub(\" binti \", \" bt \", str(x), flags = re.I), \n",
    "#                                 flags = re.IGNORECASE).strip() not in ['', 'nan'] else False).values\n",
    "#     resultArray = (rule1|rule2)\n",
    "#     resultArray = np.where(resultArray, ruleName, \"False\")\n",
    "    \n",
    "#     return resultArray\n",
    "\n",
    "#for merchant only\n",
    "def matchTruncated(name, series):\n",
    "    ruleName = \"matchTruncated\"\n",
    "    #match truncated name series with name if there is \n",
    "    rule1 = []\n",
    "    for value in series:\n",
    "        if re.search('.*\\d\\s*(.+?)\\s*$', str(value)):\n",
    "            truncatedName = re.search('.*\\d\\s*(.+?)\\s*$', str(value)).group(1)\n",
    "            truncatedName = re.escape(re.sub(\"COP REFUND|binti \", \"\", truncatedName, flags = re.IGNORECASE))\n",
    "            if truncatedName not in ['\\ ', 'nan'] and re.search(truncatedName, \n",
    "                                                                re.sub(\" binti \", \" \", name, flags = re.IGNORECASE), \n",
    "                                                                flags = re.IGNORECASE):\n",
    "                rule1.append(True)\n",
    "            else:\n",
    "                rule1.append(False)\n",
    "        else:\n",
    "            rule1.append(False)\n",
    "    resultArray = np.where(rule1, ruleName, \"False\")\n",
    "    return resultArray\n",
    "\n",
    "def noSpaceMatch(name, series):\n",
    "    ruleName = \"noSpaceMatch\"\n",
    "    cleanName = re.sub(\" \", \"\", str(name))\n",
    "    #remove space for BS reference to match wth name\n",
    "    rule1 = series.map(lambda x:True if re.search('%s'%re.escape(cleanName), \n",
    "                                                  re.sub(\" \", \"\", x), flags = re.IGNORECASE)\n",
    "                                    and cleanName not in ['', 'nan']\n",
    "                                else False).values\n",
    "#     rule2 = series.map(lambda x:True if re.search('%s'%re.escape(re.sub(' ','',re.sub(\"COP REFUND\", '',str(x)))), \n",
    "#                         str(name), flags = re.IGNORECASE) and re.sub(' ','',re.sub(\"COP REFUND\", '',str(x)))!=''\n",
    "#                             else False).values\n",
    "#     resultArray = (rule1|rule2)\n",
    "    resultArray = rule1\n",
    "    resultArray = np.where(resultArray, ruleName, \"False\")\n",
    "    return resultArray\n",
    "\n",
    "def matchAccountLast4Digit(accountNo, series):\n",
    "    ruleName = \"matchAccountLast4Digit\"\n",
    "    resultArray = series.map(lambda x:ruleName if re.search('%s'%accountNo, str(x), flags = re.IGNORECASE)\n",
    "                                        and len(accountNo) == 4 else \"False\").values\n",
    "    return resultArray\n",
    "\n",
    "def matchBillTypeRef(billType, series):\n",
    "    ruleName = \"matchBillTypeRef\"\n",
    "    if billType == '':\n",
    "        resultArray = np.full(len(series), \"False\")\n",
    "        reason = \"\"\n",
    "    else:\n",
    "        #if can find billtype - Indah water in reference \n",
    "        rule1 =  series\\\n",
    "                .map(lambda x: True if re.search('%s'%billType, str(x), flags = re.IGNORECASE) \n",
    "                     and str(x) not in  ['', 'nan'] else False).values\n",
    "        #if billtype is PAIP and Pengurusan air pahan in reference\n",
    "        rule2 = series\\\n",
    "                .map(lambda x: True if re.search('%s'%\"PENGURUSAN AIR PAHAN\", str(x), flags = re.IGNORECASE) \n",
    "                     and billType == 'PAIP' else False).values\n",
    "        #if billtype is PBA and perbadanan bekalan air in reference\n",
    "        rule3 = series\\\n",
    "                .map(lambda x: True if re.search('%s'%\"perbadanan bekalan air|perbadanan bekalan\", str(x), \n",
    "                                                 flags = re.IGNORECASE) \n",
    "                     and billType == 'PBA' else False).values\n",
    "        resultArray = (rule1|rule2|rule3)\n",
    "\n",
    "        resultArray = np.where(resultArray, ruleName, \"False\")\n",
    "    return resultArray\n",
    "\n",
    "def matchUniqueAmount(amount, series):\n",
    "    ruleName = \"matchUniqueAmount\"\n",
    "    #if only unique match in bs for amount\n",
    "    resultArray = series.map(lambda x:True if x == amount else False).values\n",
    "    if sum(resultArray) == 1:\n",
    "        return np.full(len(series), ruleName)\n",
    "    else:\n",
    "        return np.full(len(series), \"False\")\n",
    "\n",
    "def PartialMatch(df, indexCol, notMatchIndex, nameCol, dfBS, ruleType):\n",
    "    startTime = timer()\n",
    "    matchResult = []\n",
    "    bsIndexCheckList = []\n",
    "    df = df[df[indexCol].isin(notMatchIndex)].copy()\n",
    "    for no, row in enumerate(list(df.iterrows())):\n",
    "        #assign values to variables: POname, POamount, AccountNo, BillType\n",
    "        index = row[1][indexCol]\n",
    "        POname = row[1][nameCol]\n",
    "        POname = re.sub(\"\\u200b\", \"\", str(POname))\n",
    "        POname = re.sub(\"\\xa0\", \"\", str(POname))\n",
    "        POname = re.sub(\"\\‘|\\’\", \"'\", str(POname))\n",
    "        POamount = row[1][poAmountCol]\n",
    "        #merchant, other payout\n",
    "        if \"Bank Acc\" in df.columns:\n",
    "            AccountNo = re.sub(' |-|\\.0|\\(|\\)','', str(row[1]['Bank Acc']))[-4:]\n",
    "            match4 = matchAccountLast4Digit(AccountNo, dfBS[bsMatchCol])\n",
    "        #bill payment\n",
    "        elif \"Acc Number\" in df.columns:\n",
    "            AccountNo = re.sub(' |-|\\.0|\\(|\\)','', str(row[1]['Acc Number']))[-4:]\n",
    "            match4 = matchAccountLast4Digit(AccountNo, dfBS[bsMatchCol])\n",
    "        else:\n",
    "            AccountNo = ''\n",
    "            \n",
    "        if 'Bill Type' in df.columns:\n",
    "            BillType = row[1]['Bill Type']\n",
    "            match5 = matchBillTypeRef(BillType, dfBS[bsMatchCol])\n",
    "        else:\n",
    "            BillType = ''\n",
    "        \n",
    "        #matching rules\n",
    "        if ruleType in [\"General\", \"Merchant\"]:\n",
    "            match1 = matchTruncated(POname, dfBS[bsMatchCol])\n",
    "        match2 = matchFirst2Terms(POname, dfBS[bsMatchCol])\n",
    "#         match3 = noSpacenoCopRefund(POname, dfBankStatement2[bsMatchCol])\n",
    "        match3 = noSpaceMatch(POname, dfBS[bsMatchCol])\n",
    "        match6 = matchUniqueAmount(POamount, dfBS[bsAmountCol])\n",
    "        ruleStr = \"|\".join(['(match%s!=\"False\")'%i for i in ruleDict[ruleType]])\n",
    "        checkRule = eval(ruleStr)\n",
    "        #assign bool statement to checkRule\n",
    "        #use result of matching rules to subset dfBankStatement2\n",
    "        dfMatch = dfBS[(dfBS[bsAmountCol] == POamount) & (checkRule)].copy()\n",
    "        \n",
    "        #to copy rulename if matches \n",
    "        ruleStr = '[' + ','.join(['match%s'%i for i in ruleDict[ruleType]]) + ']'\n",
    "        #assign list to ruleList\n",
    "        ruleList = eval(ruleStr)\n",
    "\n",
    "        if dfMatch.shape[0] == 1:\n",
    "            BSname = dfMatch[bsMatchCol].values[0]\n",
    "            BSamount = dfMatch[bsAmountCol].values[0]   \n",
    "            BSindex = dfMatch[bsIndex].values[0]\n",
    "            NoRow = list(dfBS[bsIndex]).index(BSindex)\n",
    "            rule = ','.join([i[NoRow] for i in ruleList if i[NoRow]!=\"False\"])\n",
    "            if rule != \"matchAccountLast4Digit\" and rule != \"matchUniqueAmount\":\n",
    "                matchResult.append([index, POname, POamount, BSindex, BSname, BSamount, rule])\n",
    "            if BSindex not in bsIndexCheckList:\n",
    "                bsIndexCheckList.append(BSindex)\n",
    "            \n",
    "        elif dfMatch.shape[0] > 1:\n",
    "            for no, name in enumerate(dfMatch[bsMatchCol].values):\n",
    "                BSindex = dfMatch[bsIndex].values[no]\n",
    "                if BSindex not in bsIndexCheckList:\n",
    "                    BSname = dfMatch[bsMatchCol].values[no]\n",
    "                    BSamount = dfMatch[bsAmountCol].values[no]\n",
    "                    NoRow = list(dfBS[bsIndex]).index(BSindex)\n",
    "                    rule = ','.join([i[NoRow] for i in ruleList if i[NoRow]!=\"False\"])\n",
    "                    #if rule not only matchAccountLast4Digit or matchUniqueAmount\n",
    "                    if rule != \"matchAccountLast4Digit\" and rule != \"matchUniqueAmount\":\n",
    "                        matchResult.append([index, POname, POamount, BSindex, BSname, BSamount, rule])\n",
    "                        bsIndexCheckList.append(BSindex)\n",
    "                        break\n",
    "    \n",
    "    endTime = timer()\n",
    "    print(\"Total time: %0.4fs\" % (endTime - startTime))\n",
    "    return matchResult\n",
    "\n",
    "def constructTable(matchResult, df, indexName, nameCol, dType):\n",
    "    pandaList = []\n",
    "    for i in matchResult:\n",
    "        pandaList.append(i)\n",
    "    \n",
    "    dfMatchFinal = pd.DataFrame(pandaList)\n",
    "    if dfMatchFinal.shape[0]!=0:\n",
    "        #[index, POname, POamount, BSindex, BSname, BSamount, rule]\n",
    "        dfMatchFinal.columns = [indexName, poNameCol, poAmountCol, bsIndex, bsMatchCol, bsAmountCol, 'Reason']\n",
    "        dfMatchFinal['MatchCategory'] = \"PartialMatch\"\n",
    "        dfMatchFinal['DataType'] = dType\n",
    "        return dfMatchFinal\n",
    "    else:\n",
    "        return None"
   ]
  },
  {
   "cell_type": "code",
   "execution_count": 357,
   "metadata": {},
   "outputs": [
    {
     "name": "stdout",
     "output_type": "stream",
     "text": [
      "Total time: 171.1259s\n",
      "Total row - BS before match: 2938\n",
      "Total row - BS after match: 2548\n",
      "No Matches Previously: 413\n",
      "Partial Matches: 390\n"
     ]
    }
   ],
   "source": [
    "#if start from here: bsBackUp is bsIndexList \n",
    "# bsIndexList = bsBackUp\n",
    "\n",
    "#EU\n",
    "#782\n",
    "euList = [3479, 1816, 3517, \n",
    "          2418, 215, 1275, \n",
    "          2149, 3137,  3389, 554, 1534]\n",
    "# dfEU2 = dfEU.query(\"EU_Index in @euList\")\n",
    "dfBankStatementTemp = dfBankStatement2[dfBankStatement2[bsIndex].isin(bsIndexList)].copy()\n",
    "matchResultEU = PartialMatch(dfEU, euIndex, noMatchEUList,\n",
    "                            payoutNameCol, dfBankStatementTemp, ruleType = \"General\")\n",
    "\n",
    "dfPartialMatchEU = constructTable(matchResultEU, dfEU, euIndex, poNameCol, 'EU')\n",
    "\n",
    "dfPartialMatchEU.drop_duplicates(bsIndex, inplace = True)\n",
    "\n",
    "print(\"Total row - BS before match: %s\"%len(bsIndexList))\n",
    "#update bsIndexList\n",
    "bsIndexList = [i for i in bsIndexList if i not in dfPartialMatchEU['BS_Index'].unique()]\n",
    "print(\"Total row - BS after match: %s\"%len(bsIndexList))\n",
    "print(\"No Matches Previously: %s\"%len(noMatchEUList))\n",
    "print(\"Partial Matches: %s\"%dfPartialMatchEU.shape[0])"
   ]
  },
  {
   "cell_type": "code",
   "execution_count": 358,
   "metadata": {},
   "outputs": [
    {
     "name": "stdout",
     "output_type": "stream",
     "text": [
      "Total time: 107.3745s\n",
      "Total row - BS before match: 2548\n",
      "Total row - BS after match: 2228\n",
      "No Matches Previously: 328\n",
      "Partial Matches: 320\n"
     ]
    }
   ],
   "source": [
    "#COP\n",
    "bsBackUpCOP = bsIndexList\n",
    "\n",
    "#85\n",
    "dfBankStatementTemp = dfBankStatement2[dfBankStatement2[bsIndex].isin(bsIndexList)].copy()\n",
    "matchResultCOP = PartialMatch(dfCOP, copIndex, noMatchCOPList, \n",
    "                              payoutNameCol, dfBankStatementTemp, ruleType = \"General\")\n",
    "\n",
    "dfPartialMatchCOP = constructTable(matchResultCOP, dfCOP, copIndex, poNameCol, 'COP')\n",
    "\n",
    "dfPartialMatchCOP.drop_duplicates(bsIndex, inplace = True)\n",
    "\n",
    "print(\"Total row - BS before match: %s\"%len(bsIndexList))\n",
    "#update bsIndexList\n",
    "bsIndexList = [i for i in bsIndexList if i not in dfPartialMatchCOP['BS_Index'].unique()]\n",
    "print(\"Total row - BS after match: %s\"%len(bsIndexList))\n",
    "print(\"No Matches Previously: %s\"%len(noMatchCOPList))\n",
    "print(\"Partial Matches: %s\"%dfPartialMatchCOP.shape[0])"
   ]
  },
  {
   "cell_type": "code",
   "execution_count": 359,
   "metadata": {},
   "outputs": [
    {
     "name": "stdout",
     "output_type": "stream",
     "text": [
      "Total time: 0.7846s\n",
      "Total row - BS before match: 2228\n",
      "No Matches Previously: 3\n",
      "Total row - BS after match: 2225\n",
      "Partial Matches: 3\n"
     ]
    }
   ],
   "source": [
    "bsBackUpManageCOP = bsIndexList\n",
    "# bsIndexList = bsBackUpManageCOP\n",
    "#Manage COP\n",
    "#1\n",
    "dfBankStatementTemp = dfBankStatement2[dfBankStatement2[bsIndex].isin(bsIndexList)].copy()\n",
    "matchResultManageCOP = PartialMatch(dfManageCOP, manageCOPIndex, noMatchManageCOPList,\n",
    "                                   payoutNameCol, dfBankStatementTemp, ruleType = \"General\")\n",
    "\n",
    "dfPartialMatchManageCOP = constructTable(matchResultManageCOP, dfManageCOP, manageCOPIndex, poNameCol, 'ManageCOP')\n",
    "\n",
    "if type(dfPartialMatchManageCOP) == pd.DataFrame:\n",
    "    dfPartialMatchManageCOP.drop_duplicates(bsIndex, inplace = True)\n",
    "    \n",
    "print(\"Total row - BS before match: %s\"%len(bsIndexList))\n",
    "print(\"No Matches Previously: %s\"%len(noMatchManageCOPList))\n",
    "if type(dfPartialMatchManageCOP) == pd.DataFrame:\n",
    "    bsIndexList = [i for i in bsIndexList if i not in dfPartialMatchManageCOP['BS_Index'].unique()]\n",
    "    print(\"Total row - BS after match: %s\"%len(bsIndexList))\n",
    "    print(\"Partial Matches: %s\"%dfPartialMatchManageCOP.shape[0])"
   ]
  },
  {
   "cell_type": "code",
   "execution_count": 360,
   "metadata": {},
   "outputs": [
    {
     "name": "stdout",
     "output_type": "stream",
     "text": [
      "Total time: 165.1914s\n",
      "Total time: 166.1713s\n",
      "Total row - BS before match: 2225\n",
      "No Matches Previously: 634\n",
      "Total row - BS after match: 1596\n",
      "Partial Matches: 629\n"
     ]
    }
   ],
   "source": [
    "bsBackUpMerchant = bsIndexList\n",
    "\n",
    "# bsIndexList = bsBackUpMerchant\n",
    "\n",
    "#Merchant\n",
    "#774\n",
    "dfBankStatementTemp = dfBankStatement2[dfBankStatement2[bsIndex].isin(bsIndexList)].copy()\n",
    "MerchantList = []\n",
    "for colName in ['Merchant', 'Bank Acc Name']:\n",
    "    #replace noMatchMerchantList with a for testing purpose\n",
    "#     a = [1093, 1084, 224, 442, 481, 1040, 659, 1468]\n",
    "    matchResultMerchant = PartialMatch(dfMerchant, merchantIndex, noMatchMerchantList,\n",
    "                                       colName, dfBankStatementTemp, ruleType = \"Merchant\")\n",
    "    dfPartialMatchMerchant = constructTable(matchResultMerchant, dfMerchant, merchantIndex, colName, 'Merchant')\n",
    "    MerchantList.append(dfPartialMatchMerchant)\n",
    "    \n",
    "dfPartialMatchMerchant = pd.concat(MerchantList).copy()\n",
    "dfPartialMatchMerchant.drop_duplicates(merchantIndex, inplace = True)\n",
    "dfPartialMatchMerchant.drop_duplicates(bsIndex, inplace = True)\n",
    "\n",
    "print(\"Total row - BS before match: %s\"%len(bsIndexList))\n",
    "print(\"No Matches Previously: %s\"%len(noMatchMerchantList))\n",
    "# print(\"No Matches Previously: %s\"%len(a))\n",
    "bsIndexList = [i for i in bsIndexList if i not in dfPartialMatchMerchant['BS_Index'].unique()]\n",
    "print(\"Total row - BS after match: %s\"%len(bsIndexList))\n",
    "print(\"Partial Matches: %s\"%dfPartialMatchMerchant.shape[0])"
   ]
  },
  {
   "cell_type": "code",
   "execution_count": 361,
   "metadata": {},
   "outputs": [
    {
     "name": "stdout",
     "output_type": "stream",
     "text": [
      "Total time: 23.4766s\n",
      "Total time: 23.1933s\n",
      "Total row - BS before match: 1596\n",
      "No Matches Previously: 292\n",
      "Total row - BS after match: 1589\n",
      "Partial Matches: 7\n"
     ]
    }
   ],
   "source": [
    "bsBackUpBillPayment = bsIndexList\n",
    "\n",
    "#Bill Payment\n",
    "#name, acc holder\n",
    "dfBankStatementTemp = dfBankStatement2[dfBankStatement2[bsIndex].isin(bsIndexList)].copy()\n",
    "BillPaymentList = []\n",
    "for colName in [billPaymentNameCol, 'Acc Holder']:\n",
    "    matchResultBP = PartialMatch(dfBillPayment, billPaymentIndex, noMatchBPList,\n",
    "                                       colName, dfBankStatementTemp, ruleType = \"BillPayment\")\n",
    "    dfPartialMatchBP = constructTable(matchResultBP, dfBillPayment, billPaymentIndex, colName, 'BillPayment')\n",
    "    BillPaymentList.append(dfPartialMatchBP)\n",
    "    \n",
    "#ll only keep d first record of multiple matches\n",
    "dfPartialMatchBP = pd.concat(BillPaymentList).copy()\n",
    "dfPartialMatchBP.drop_duplicates(billPaymentIndex, inplace = True)\n",
    "dfPartialMatchBP.drop_duplicates(bsIndex, inplace = True)\n",
    "\n",
    "print(\"Total row - BS before match: %s\"%len(bsIndexList))\n",
    "print(\"No Matches Previously: %s\"%len(noMatchBPList))\n",
    "bsIndexList = [i for i in bsIndexList if i not in dfPartialMatchBP['BS_Index'].unique()]\n",
    "print(\"Total row - BS after match: %s\"%len(bsIndexList))\n",
    "print(\"Partial Matches: %s\"%dfPartialMatchBP.shape[0])"
   ]
  },
  {
   "cell_type": "code",
   "execution_count": 362,
   "metadata": {},
   "outputs": [],
   "source": [
    "#combine all partial matches - edited\n",
    "dfPartialMatchFinal = pd.concat([dfPartialMatchEU, dfPartialMatchCOP, dfPartialMatchManageCOP,\n",
    "                                 dfPartialMatchBP, dfPartialMatchMerchant]).copy()\n",
    "csvFile =  'PartialMatch/' + 'PM_' + bsExcelFile.split('.')[0] + '.csv'\n",
    "dfPartialMatchFinal.to_csv(csvFile, index = False)\n",
    "\n",
    "dfMatchFinal = pd.concat([dfExactMatchFinal, dfPartialMatchFinal]).copy()"
   ]
  },
  {
   "cell_type": "code",
   "execution_count": 363,
   "metadata": {},
   "outputs": [
    {
     "data": {
      "text/plain": [
       "array([nan, 'matchTruncated,matchFirst2Terms',\n",
       "       'matchTruncated,matchFirst2Terms,matchUniqueAmount',\n",
       "       'matchTruncated',\n",
       "       'matchFirst2Terms,noSpaceMatch,matchUniqueAmount',\n",
       "       'matchFirst2Terms', 'matchFirst2Terms,matchUniqueAmount',\n",
       "       'matchTruncated,matchUniqueAmount',\n",
       "       'matchFirst2Terms,noSpaceMatch',\n",
       "       'matchTruncated,matchFirst2Terms,matchAccountLast4Digit,matchUniqueAmount',\n",
       "       'matchTruncated,matchFirst2Terms,matchAccountLast4Digit',\n",
       "       'matchBillTypeRef'], dtype=object)"
      ]
     },
     "execution_count": 363,
     "metadata": {},
     "output_type": "execute_result"
    }
   ],
   "source": [
    "reasonList = ['matchUniqueAmount', 'matchAccountLast4Digit']\n",
    "\n",
    "dfMatchFinal = dfMatchFinal.query('Reason not in @reasonList')\n",
    "\n",
    "dfMatchFinal['Reason'].unique()"
   ]
  },
  {
   "cell_type": "markdown",
   "metadata": {},
   "source": [
    "### Summary"
   ]
  },
  {
   "cell_type": "code",
   "execution_count": 364,
   "metadata": {},
   "outputs": [],
   "source": [
    "reconciledEUIndex = dfMatchFinal[pd.notnull(dfMatchFinal['EU_Index'])]['EU_Index'].values\n",
    "reconciledCOPIndex = dfMatchFinal[pd.notnull(dfMatchFinal['COP_Index'])]['COP_Index'].values\n",
    "reconciledManageCOPIndex = dfMatchFinal[pd.notnull(dfMatchFinal['ManageCOP_Index'])]['ManageCOP_Index'].values\n",
    "reconciledBillPaymentIndex = dfMatchFinal[pd.notnull(dfMatchFinal['BP_Index'])]['BP_Index'].values\n",
    "reconciledMerchantIndex = dfMatchFinal[pd.notnull(dfMatchFinal['Merchant_Index'])]['Merchant_Index'].values\n",
    "# reconciledBankStatementIndex = dfMatchFinal[pd.notnull(dfMatchFinal['BS_Index'])]['BS_Index'].values\n",
    "# noMatchesBankStatementIndex = bsIndexList\n",
    "noMatchesBankStatementIndex = set(dfBankStatement2['BS_Index'].values).difference(set(dfMatchFinal['BS_Index'].values))\n",
    "\n",
    "reconciledEU_Sum = dfEU[dfEU['EU_Index'].isin(reconciledEUIndex)]['Amount'].sum()\n",
    "reconciledCOP_Sum  = dfCOP[dfCOP['COP_Index'].isin(reconciledCOPIndex)]['Amount'].sum()\n",
    "reconciledManageCOP_Sum  = dfManageCOP[dfManageCOP['ManageCOP_Index'].isin(reconciledManageCOPIndex)]['Amount'].sum()\n",
    "reconciledBillPayment_Sum  = dfBillPayment[dfBillPayment['BP_Index'].isin(reconciledBillPaymentIndex)]['Amount'].sum()\n",
    "reconciledMerchant_Sum  = dfMerchant[dfMerchant['Merchant_Index'].isin(reconciledMerchantIndex)]['Amount'].sum()\n",
    "\n",
    "noReconciledEU_Sum = dfEU[~dfEU['EU_Index'].isin(reconciledEUIndex)]['Amount'].sum()\n",
    "noReconciledCOP_Sum  = dfCOP[~dfCOP['COP_Index'].isin(reconciledCOPIndex)]['Amount'].sum()\n",
    "noReconciledManageCOP_Sum  = dfManageCOP[~dfManageCOP['ManageCOP_Index'].isin(reconciledManageCOPIndex)]['Amount'].sum()\n",
    "noReconciledBillPayment_Sum  = dfBillPayment[~dfBillPayment['BP_Index'].isin(reconciledBillPaymentIndex)]['Amount'].sum()\n",
    "noReconciledMerchant_Sum  = dfMerchant[~dfMerchant['Merchant_Index'].isin(reconciledMerchantIndex)]['Amount'].sum()\n",
    "noReconciledBankStatement_Sum = dfBankStatement2[dfBankStatement2['BS_Index'].isin(noMatchesBankStatementIndex)]['Debit Amount'].sum()\n",
    "\n",
    "# pendingEU_Sum = dfEU[dfEU['Status'] == \"Pending\"]['Amount'].sum()\n",
    "pendingEU_Sum = dfEU['Amount'].sum()\n",
    "pendingCOP_Sum = dfCOP[dfCOP['Status'] == \"Pending\"]['Amount'].sum()\n",
    "pendingManageCOP_Sum = dfManageCOP[dfManageCOP['Status'] == \"Pending\"]['Amount'].sum()\n",
    "pendingMerchant_Sum = dfMerchant[dfMerchant['Status'] == \"Pending\"]['Amount'].sum()\n",
    "billPayment_Sum = dfBillPayment['Amount'].sum()\n",
    "\n",
    "#handling charges\n",
    "dfHC = dfBankStatement[dfBankStatement['Reference 2'].map(lambda x:\n",
    "                                                    True if re.search(filterTransDesc, str(x))\n",
    "                                                           else False)].copy()\n",
    "HandlingSum = dfHC['Debit Amount'].sum()"
   ]
  },
  {
   "cell_type": "code",
   "execution_count": 365,
   "metadata": {},
   "outputs": [],
   "source": [
    "tableList = []\n",
    "tableList.append([\"Journal\", \"BS vs Payout (A)\", \"In BS, not in Payout (B)\", \"Not in BS (C)\"])\n",
    "\n",
    "tableList.append(['EU', reconciledEU_Sum, \"\", noReconciledEU_Sum])\n",
    "tableList.append(['COP', \"{:.2f}\".format(reconciledCOP_Sum), \"\", noReconciledCOP_Sum])\n",
    "tableList.append(['Manage COP', reconciledManageCOP_Sum, \"\", \n",
    "                  noReconciledManageCOP_Sum])\n",
    "tableList.append(['Bill Payment', reconciledBillPayment_Sum, \"\", \n",
    "                  noReconciledBillPayment_Sum])\n",
    "tableList.append(['Merchant', reconciledMerchant_Sum, \"\", \n",
    "                  noReconciledMerchant_Sum])\n",
    "tableList.append(['DIS', \"\", \"\", \"\"])\n",
    "tableList.append(['QS DIS', \"\", \"\", \"\"])\n",
    "tableList.append(['Handling Charges', \"\", HandlingSum, \"\"])\n",
    "tableList.append(['Misc', \"\", noReconciledBankStatement_Sum, \"\"])\n",
    "totalReconciled = reconciledEU_Sum + reconciledCOP_Sum + reconciledManageCOP_Sum\\\n",
    "                  + reconciledBillPayment_Sum + reconciledMerchant_Sum\n",
    "totalnoReconciled = noReconciledEU_Sum + noReconciledCOP_Sum + \\\n",
    "                    noReconciledManageCOP_Sum + noReconciledBillPayment_Sum + \\\n",
    "                    noReconciledMerchant_Sum \n",
    "tableList.append(['Total', \"{:.2f}\".format(totalReconciled), \"{:.2f}\".format(noReconciledBankStatement_Sum + HandlingSum),\n",
    "                  \"{:.2f}\".format(totalnoReconciled)])\n",
    "tableList.append(['Total (A)+(B) / (A)+(C)', \n",
    "                  \"{:.2f}\".format(totalReconciled + noReconciledBankStatement_Sum),\n",
    "                 \"\", \"{:.2f}\".format(totalReconciled + totalnoReconciled)])\n",
    "pendingTotal = pendingEU_Sum + pendingCOP_Sum + pendingManageCOP_Sum\\\n",
    "                + pendingMerchant_Sum + billPayment_Sum\n",
    "tableList.append(['As per BS / Payout', \"({:.2f})\".format(totalReconciled + noReconciledBankStatement_Sum),\n",
    "                                  \"\", \"({:.2f})\".format(pendingTotal)])\n",
    "tableList.append(['Variance', \"\", \"\", totalReconciled + totalnoReconciled - pendingTotal])\n",
    "unconvertedBSpercent = (noReconciledBankStatement_Sum/(totalReconciled + noReconciledBankStatement_Sum + HandlingSum))*100\n",
    "unconvertedPOpercent = (totalnoReconciled/(totalReconciled + totalnoReconciled))*100\n",
    "tableList.append([\"Unconverted percent\", \"\", \"{:.2f}\".format(unconvertedBSpercent),\n",
    "                 \"{:.2f}\".format(unconvertedPOpercent)])"
   ]
  },
  {
   "cell_type": "code",
   "execution_count": 366,
   "metadata": {},
   "outputs": [
    {
     "data": {
      "text/html": [
       "<div>\n",
       "<style scoped>\n",
       "    .dataframe tbody tr th:only-of-type {\n",
       "        vertical-align: middle;\n",
       "    }\n",
       "\n",
       "    .dataframe tbody tr th {\n",
       "        vertical-align: top;\n",
       "    }\n",
       "\n",
       "    .dataframe thead th {\n",
       "        text-align: right;\n",
       "    }\n",
       "</style>\n",
       "<table border=\"1\" class=\"dataframe\">\n",
       "  <thead>\n",
       "    <tr style=\"text-align: right;\">\n",
       "      <th></th>\n",
       "      <th></th>\n",
       "      <th>Reconciled</th>\n",
       "      <th>No reconciled</th>\n",
       "      <th>No reconciled2</th>\n",
       "    </tr>\n",
       "  </thead>\n",
       "  <tbody>\n",
       "    <tr>\n",
       "      <th>0</th>\n",
       "      <td>Journal</td>\n",
       "      <td>BS vs Payout (A)</td>\n",
       "      <td>In BS, not in Payout (B)</td>\n",
       "      <td>Not in BS (C)</td>\n",
       "    </tr>\n",
       "    <tr>\n",
       "      <th>1</th>\n",
       "      <td>EU</td>\n",
       "      <td>2.42677e+06</td>\n",
       "      <td></td>\n",
       "      <td>28786</td>\n",
       "    </tr>\n",
       "    <tr>\n",
       "      <th>2</th>\n",
       "      <td>COP</td>\n",
       "      <td>8586698.00</td>\n",
       "      <td></td>\n",
       "      <td>38834</td>\n",
       "    </tr>\n",
       "    <tr>\n",
       "      <th>3</th>\n",
       "      <td>Manage COP</td>\n",
       "      <td>26758</td>\n",
       "      <td></td>\n",
       "      <td>0</td>\n",
       "    </tr>\n",
       "    <tr>\n",
       "      <th>4</th>\n",
       "      <td>Bill Payment</td>\n",
       "      <td>273.2</td>\n",
       "      <td></td>\n",
       "      <td>61089</td>\n",
       "    </tr>\n",
       "    <tr>\n",
       "      <th>5</th>\n",
       "      <td>Merchant</td>\n",
       "      <td>2.01228e+06</td>\n",
       "      <td></td>\n",
       "      <td>1100.5</td>\n",
       "    </tr>\n",
       "    <tr>\n",
       "      <th>6</th>\n",
       "      <td>DIS</td>\n",
       "      <td></td>\n",
       "      <td></td>\n",
       "      <td></td>\n",
       "    </tr>\n",
       "    <tr>\n",
       "      <th>7</th>\n",
       "      <td>QS DIS</td>\n",
       "      <td></td>\n",
       "      <td></td>\n",
       "      <td></td>\n",
       "    </tr>\n",
       "    <tr>\n",
       "      <th>8</th>\n",
       "      <td>Handling Charges</td>\n",
       "      <td></td>\n",
       "      <td>471</td>\n",
       "      <td></td>\n",
       "    </tr>\n",
       "    <tr>\n",
       "      <th>9</th>\n",
       "      <td>Misc</td>\n",
       "      <td></td>\n",
       "      <td>1.24283e+07</td>\n",
       "      <td></td>\n",
       "    </tr>\n",
       "    <tr>\n",
       "      <th>10</th>\n",
       "      <td>Total</td>\n",
       "      <td>13052778.35</td>\n",
       "      <td>12428781.64</td>\n",
       "      <td>129809.53</td>\n",
       "    </tr>\n",
       "    <tr>\n",
       "      <th>11</th>\n",
       "      <td>Total (A)+(B) / (A)+(C)</td>\n",
       "      <td>25481088.99</td>\n",
       "      <td></td>\n",
       "      <td>13182587.88</td>\n",
       "    </tr>\n",
       "    <tr>\n",
       "      <th>12</th>\n",
       "      <td>As per BS / Payout</td>\n",
       "      <td>(25481088.99)</td>\n",
       "      <td></td>\n",
       "      <td>(13182587.88)</td>\n",
       "    </tr>\n",
       "    <tr>\n",
       "      <th>13</th>\n",
       "      <td>Variance</td>\n",
       "      <td></td>\n",
       "      <td></td>\n",
       "      <td>-1.86265e-09</td>\n",
       "    </tr>\n",
       "    <tr>\n",
       "      <th>14</th>\n",
       "      <td>Unconverted percent</td>\n",
       "      <td></td>\n",
       "      <td>48.77</td>\n",
       "      <td>0.98</td>\n",
       "    </tr>\n",
       "  </tbody>\n",
       "</table>\n",
       "</div>"
      ],
      "text/plain": [
       "                                   Reconciled             No reconciled  \\\n",
       "0                   Journal  BS vs Payout (A)  In BS, not in Payout (B)   \n",
       "1                        EU       2.42677e+06                             \n",
       "2                       COP        8586698.00                             \n",
       "3                Manage COP             26758                             \n",
       "4              Bill Payment             273.2                             \n",
       "5                  Merchant       2.01228e+06                             \n",
       "6                       DIS                                               \n",
       "7                    QS DIS                                               \n",
       "8          Handling Charges                                         471   \n",
       "9                      Misc                                 1.24283e+07   \n",
       "10                    Total       13052778.35               12428781.64   \n",
       "11  Total (A)+(B) / (A)+(C)       25481088.99                             \n",
       "12       As per BS / Payout     (25481088.99)                             \n",
       "13                 Variance                                               \n",
       "14      Unconverted percent                                       48.77   \n",
       "\n",
       "   No reconciled2  \n",
       "0   Not in BS (C)  \n",
       "1           28786  \n",
       "2           38834  \n",
       "3               0  \n",
       "4           61089  \n",
       "5          1100.5  \n",
       "6                  \n",
       "7                  \n",
       "8                  \n",
       "9                  \n",
       "10      129809.53  \n",
       "11    13182587.88  \n",
       "12  (13182587.88)  \n",
       "13   -1.86265e-09  \n",
       "14           0.98  "
      ]
     },
     "execution_count": 366,
     "metadata": {},
     "output_type": "execute_result"
    }
   ],
   "source": [
    "summaryTable = pd.DataFrame(tableList)\n",
    "summaryTable.columns = [\"\", \"Reconciled\", \"No reconciled\", \"No reconciled2\"]\n",
    "summaryTable"
   ]
  },
  {
   "cell_type": "code",
   "execution_count": 367,
   "metadata": {},
   "outputs": [
    {
     "data": {
      "text/plain": [
       "25481559.990000002"
      ]
     },
     "execution_count": 367,
     "metadata": {},
     "output_type": "execute_result"
    }
   ],
   "source": [
    "13052778.35 + 12428781.64"
   ]
  },
  {
   "cell_type": "code",
   "execution_count": 368,
   "metadata": {},
   "outputs": [
    {
     "data": {
      "text/plain": [
       "'ExactMatch/EM_31_12 3207971832_2020.xlsx'"
      ]
     },
     "execution_count": 368,
     "metadata": {},
     "output_type": "execute_result"
    }
   ],
   "source": [
    "excelFile"
   ]
  },
  {
   "cell_type": "code",
   "execution_count": 369,
   "metadata": {},
   "outputs": [
    {
     "name": "stdout",
     "output_type": "stream",
     "text": [
      "Dec2020_MatchingResult/31_12 3207971832_2020.xlsx\n"
     ]
    }
   ],
   "source": [
    "#no reconciled bs\n",
    "noReconciledBSdf = dfBankStatement2[dfBankStatement2['BS_Index'].isin(noMatchesBankStatementIndex)].copy()\n",
    "#no reconciled payout\n",
    "dfNoMatchFinal = pd.concat([dfEU[~dfEU['EU_Index'].isin(reconciledEUIndex)],\n",
    "     \n",
    "                            dfCOP[~dfCOP['COP_Index'].isin(reconciledCOPIndex)],\n",
    "                           dfManageCOP[~dfManageCOP['ManageCOP_Index'].isin(reconciledManageCOPIndex)],\n",
    "                           dfBillPayment[~dfBillPayment['BP_Index'].isin(reconciledBillPaymentIndex)],\n",
    "                           dfMerchant[~dfMerchant['Merchant_Index'].isin(reconciledMerchantIndex)]]).copy()\n",
    "\n",
    "excelFile = outputFolder + '/' +  bsExcelFile\n",
    "print(excelFile)\n",
    "with pd.ExcelWriter(excelFile) as writer:\n",
    "    summaryTable.to_excel(writer, index = False, sheet_name = 'Summary')\n",
    "    dfMatchFinal.to_excel(writer, index = False, sheet_name = 'Reconciled')\n",
    "    noReconciledBSdf.to_excel(writer, index = False, sheet_name = \"NotReconciled_BS\")\n",
    "    dfNoMatchFinal.to_excel(writer, index = False, sheet_name = \"NotReconciled_Payout\")\n",
    "    dfEU.to_excel(writer, index = False, sheet_name = \"EU\")\n",
    "    dfCOP.to_excel(writer, index = False, sheet_name = \"COP\")\n",
    "    dfManageCOP.to_excel(writer, index = False, sheet_name = \"ManageCOP\")\n",
    "    dfMerchant.to_excel(writer, index = False, sheet_name = \"Merchant\")\n",
    "    dfBillPayment.to_excel(writer, index = False, sheet_name = \"BillPayment\")\n",
    "    dfBankStatement2.to_excel(writer, index = False, sheet_name = \"BankStatement\")"
   ]
  },
  {
   "cell_type": "code",
   "execution_count": null,
   "metadata": {},
   "outputs": [],
   "source": []
  }
 ],
 "metadata": {
  "kernelspec": {
   "display_name": "Python 3",
   "language": "python",
   "name": "python3"
  },
  "language_info": {
   "codemirror_mode": {
    "name": "ipython",
    "version": 3
   },
   "file_extension": ".py",
   "mimetype": "text/x-python",
   "name": "python",
   "nbconvert_exporter": "python",
   "pygments_lexer": "ipython3",
   "version": "3.7.6"
  }
 },
 "nbformat": 4,
 "nbformat_minor": 4
}
