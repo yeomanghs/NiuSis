{
 "cells": [
  {
   "cell_type": "code",
   "execution_count": 56,
   "metadata": {},
   "outputs": [],
   "source": [
    "from pdfminer.pdfinterp import PDFResourceManager, PDFPageInterpreter\n",
    "from pdfminer.converter import TextConverter\n",
    "from pdfminer.layout import LAParams\n",
    "from pdfminer.pdfpage import PDFPage\n",
    "import os\n",
    "import re\n",
    "from io import StringIO\n",
    "import PyPDF2\n",
    "import pandas as pd\n",
    "from datetime import datetime \n",
    "import datetime as dt\n",
    "from timeit import default_timer as timer\n",
    "import logging\n",
    "import csv"
   ]
  },
  {
   "cell_type": "markdown",
   "metadata": {},
   "source": [
    "### UDF"
   ]
  },
  {
   "cell_type": "code",
   "execution_count": 47,
   "metadata": {},
   "outputs": [],
   "source": [
    "def convertPdfToTxt(path):\n",
    "#     startTime = timer()\n",
    "    rsrcmgr = PDFResourceManager()\n",
    "    retstr = StringIO()\n",
    "    #codec = 'utf-8'\n",
    "    laparams = LAParams()\n",
    "    device = TextConverter(rsrcmgr, retstr, laparams=laparams)\n",
    "    fp = open(path, 'rb')\n",
    "    interpreter = PDFPageInterpreter(rsrcmgr, device)\n",
    "    password = \"\"\n",
    "    maxpages = 0\n",
    "    caching = True\n",
    "    pagenos=set()\n",
    "    for page in PDFPage.get_pages(fp, pagenos, maxpages = maxpages,caching = caching, check_extractable = True):\n",
    "        interpreter.process_page(page)\n",
    "    text = retstr.getvalue()\n",
    "    fp.close()\n",
    "    device.close()\n",
    "    retstr.close()\n",
    "#     endTime = timer()\n",
    "#     print(\"Total time: %0.4fs\" % (endTime - startTime))\n",
    "    return text\n",
    "\n",
    "def extractText(desc, startStr, endStr):\n",
    "    try:\n",
    "        startStrIndex = desc.index(startStr)\n",
    "        startStrLen = len(startStr)\n",
    "        endStrIndex = desc.index(endStr)         \n",
    "        if startStr == '':\n",
    "            result = desc[:endStrIndex]\n",
    "            return result\n",
    "        elif endStr!='':\n",
    "            result = desc[startStrIndex + startStrLen:endStrIndex]\n",
    "            remainDesc = desc[endStrIndex:]\n",
    "            return result, remainDesc\n",
    "        else:\n",
    "            result = desc[startStrIndex + startStrLen:]\n",
    "            return result        \n",
    "    except Exception as e:\n",
    "#         print(e)\n",
    "        print(\"Failed to extract text\")\n",
    "\n",
    "def returnTableList(textCopy, no):\n",
    "    tempList = []\n",
    "#     textCopy = text\n",
    "    for i in range(1, no + 1):\n",
    "#     for i in range(1, 3):\n",
    "        table, remain = extractText(textCopy, 'Page %s of %s'%(i, no), 'Penyata ini dicetak melalui komputer.')\n",
    "        index = remain.index('Penyata ini dicetak melalui komputer.')\n",
    "        termLen = len('Penyata ini dicetak melalui komputer.')\n",
    "        textCopy = remain[index + termLen:]\n",
    "        table = re.sub(\"TARIKHURUS NIAGADEBITKREDITBAKIDATETRANSACTIONDEBITCREDITBALANCE\", '', table)\n",
    "        tempList.append(table)\n",
    "    return tempList"
   ]
  },
  {
   "cell_type": "markdown",
   "metadata": {},
   "source": [
    "### Define parameters"
   ]
  },
  {
   "cell_type": "code",
   "execution_count": 49,
   "metadata": {},
   "outputs": [],
   "source": [
    "folder = \"Test\"\n",
    "failedFileCsv = 'Log/FailedFileList_{}.csv'.format(datetime.now().strftime(\"%Y-%m-%d\"))\n",
    "#log file\n",
    "logFilePath = 'Log/ProcessingRecord'\n",
    "\n",
    "logFileName = datetime.now().strftime('{}__%Y-%m-%d.log'.format(logFilePath))\n",
    "for handler in logging.root.handlers[:]:\n",
    "    logging.root.removeHandler(handler)    \n",
    "logging.basicConfig(filename = logFileName, filemode = 'a', \n",
    "                    level = logging.DEBUG, format = '%(levelname)s:%(message)s')"
   ]
  },
  {
   "cell_type": "markdown",
   "metadata": {},
   "source": [
    "### Store metadata"
   ]
  },
  {
   "cell_type": "code",
   "execution_count": 58,
   "metadata": {},
   "outputs": [],
   "source": [
    "#store metadata - (filename, date, previous date, excel filename)\n",
    "metaDataList = []\n",
    "\n",
    "fileList = [i for i in os.listdir(folder)]\n",
    "for filename in fileList:\n",
    "    infoMsg = \"Storing metadata - %s\"%filename\n",
    "    logging.info(infoMsg)\n",
    "\n",
    "    infoMsg = \"Extracting date (day/month) - %s \\n\"%filename\n",
    "    logging.info(infoMsg)\n",
    "    \n",
    "    try:\n",
    "        date = re.sub('\\.', '/', filename.split(' ')[0])\n",
    "        date = datetime.strptime(date, \"%d/%m\").strftime('%d/%m')\n",
    "        previousDate = (datetime.strptime(date, \"%d/%m\") - dt.timedelta(days=1)).strftime('%d/%m')\n",
    "        excelFile = re.sub('\\/|\\.', '_', date + ' ' + filename.split('-')[1]) + '.xlsx'\n",
    "        metaDataList.append((filename, date, previousDate, excelFile))\n",
    "    except Exception as e:\n",
    "        logging.error(e)\n",
    "    \n",
    "#checking if any files \n",
    "failedFileList = [i for i in fileList if i not in [j[0] for j in metaDataList]]\n",
    "if len(failedFileList)!=0:\n",
    "    for filename in failedFileList:\n",
    "#     for filename in fileList:\n",
    "        infoMsg = \"Extracting date (month/date) - %s \\n\"%filename\n",
    "        logging.info(infoMsg)\n",
    "        try:\n",
    "            date = re.sub('\\.', '/', filename.split(' ')[0])\n",
    "            date = datetime.strptime(date, \"%m/%d\").strftime('%d/%m')\n",
    "            previousDate = (datetime.strptime(date, \"%d/%m\") - dt.timedelta(days=1)).strftime('%d/%m')\n",
    "            excelFile = re.sub('\\/|\\.', '_', date + ' ' + filename.split('-')[1]) + '.xlsx'\n",
    "            metaDataList.append((filename, date, previousDate, excelFile))\n",
    "            #update failedfileList\n",
    "            failedFileList = [i for i in failedFileList if i != filename]\n",
    "        except Exception as e:\n",
    "            logging.error(e)\n",
    "            \n",
    "#shut down logging\n",
    "logging.shutdown()"
   ]
  },
  {
   "cell_type": "markdown",
   "metadata": {},
   "source": [
    "### Reading Text"
   ]
  },
  {
   "cell_type": "code",
   "execution_count": 57,
   "metadata": {},
   "outputs": [
    {
     "name": "stdout",
     "output_type": "stream",
     "text": [
      "Total time: 0.3414s\n"
     ]
    }
   ],
   "source": [
    "startTime = timer()\n",
    "\n",
    "#{filename: (full text, tableList)}\n",
    "textDict = {}\n",
    "\n",
    "for info in metaDataList:\n",
    "    filename = info[0]\n",
    "    path = folder + '/' + filename\n",
    "    \n",
    "    infoMsg = \"Extracting text/table - %s \\n\"%filename\n",
    "    logging.info(infoMsg)\n",
    "    \n",
    "    try:\n",
    "        #extract text\n",
    "        text = convertPdfToTxt(path)\n",
    "        \n",
    "        #extract no pages\n",
    "        noPage = len(re.findall(\"NIAGADEBITKREDITBAKIDATETRANSACTIONDEBITCREDITBALANCE\", text))\n",
    "        \n",
    "        #extract table\n",
    "        tableList = returnTableList(text, noPage)\n",
    "        \n",
    "        #storing text, table\n",
    "        textDict[filename] = [text, tableList]\n",
    "        \n",
    "    except Exception as e:\n",
    "        #store file which has failed extraction\n",
    "        failedFileList.append(filename)\n",
    "        logging.error(e)\n",
    "\n",
    "        \n",
    "#save failedFileList into csv \n",
    "with open(failedFileCsv, 'w') as writeFile:\n",
    "    writer = csv.writer(writeFile)\n",
    "    #extraction failure\n",
    "    writer.writerow(['Extraction Failed'])\n",
    "    for file in failedFileList:\n",
    "        writer.writerow([file])\n",
    "        \n",
    "endTime = timer()    \n",
    "print(\"Total time: %0.4fs\" % (endTime - startTime))\n",
    "#shut down logging\n",
    "logging.shutdown()"
   ]
  },
  {
   "cell_type": "code",
   "execution_count": null,
   "metadata": {},
   "outputs": [],
   "source": [
    "firstPageInfoList = []\n",
    "\n",
    "for no, text in textList:\n",
    "    filename = info[0]\n",
    "    path = folder + '/' + filename\n",
    "    \n",
    "    infoMsg = \"Extracting info from first page - %s \\n\"%filename\n",
    "    logging.info(infoMsg)\n",
    "    \n",
    "    accountInfoDict = {}\n",
    "    accountCol = [\"Nombor Akaun / Account Number\", 'Jenis Akaun / Account Type',\n",
    "                 'Tarikh Penyata / Statement Date', 'RINGKASAN / SUMMARY']\n",
    "    for no, desc in enumerate(accountCol):\n",
    "        if no != len(accountCol)-1:\n",
    "            descIndex = text.index(desc)\n",
    "            descLen = len(desc)\n",
    "            nextDescIndex = text.index(accountCol[no + 1])\n",
    "            result = text[descIndex + descLen: nextDescIndex]\n",
    "            accountInfoDict[desc] = result\n",
    "accountInfoDict"
   ]
  },
  {
   "cell_type": "code",
   "execution_count": null,
   "metadata": {},
   "outputs": [],
   "source": [
    "summaryDict = {}\n",
    "summaryCol = ['Baki Penutup / Closing Balance',\n",
    "              'Jumlah Debit / Total Debits', 'Bil. Debit / No. of Debits',\n",
    "              'Jumlah Kredit / Total Credits', 'Bil. Kredit / No. of Credits']\n",
    "#extract series of number \n",
    "numberSeries = extractText(text, summaryCol[4], 'Muka Surat 1')[0]\n",
    "\n",
    "#extract closing balance amount\n",
    "closingBalanceAmount = extractAmount(numberSeries, greedy = False)\n",
    "summaryDict[summaryCol[0]] = closingBalanceAmount\n",
    "numberSeries = re.sub(closingBalanceAmount, '', numberSeries)\n",
    "\n",
    "#extract debit amount\n",
    "debitAmount = extractAmount(numberSeries, greedy = False)\n",
    "summaryDict[summaryCol[1]] = debitAmount\n",
    "numberSeries = re.sub(debitAmount, '', numberSeries)\n",
    "\n",
    "#credit no credit\n",
    "noCredit = re.sub(extractAmount(numberSeries, greedy = False), '', numberSeries)\n",
    "summaryDict[summaryCol[4]] = noCredit\n",
    "numberSeries = re.sub(noCredit, '', numberSeries)"
   ]
  }
 ],
 "metadata": {
  "kernelspec": {
   "display_name": "Python 3",
   "language": "python",
   "name": "python3"
  },
  "language_info": {
   "codemirror_mode": {
    "name": "ipython",
    "version": 3
   },
   "file_extension": ".py",
   "mimetype": "text/x-python",
   "name": "python",
   "nbconvert_exporter": "python",
   "pygments_lexer": "ipython3",
   "version": "3.7.6"
  }
 },
 "nbformat": 4,
 "nbformat_minor": 4
}
