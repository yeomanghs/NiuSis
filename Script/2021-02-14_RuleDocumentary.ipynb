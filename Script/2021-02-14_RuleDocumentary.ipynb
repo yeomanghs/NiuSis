{
 "cells": [
  {
   "cell_type": "markdown",
   "metadata": {},
   "source": [
    "Overview\n",
    "<li>EU, COP and MANAGE COP follows rule type - General</li>\n",
    "<li>BillPayment follows rule type - BillPayment</li>\n",
    "<li>Merchant follows rule type - Merchant</li>\n",
    "\n",
    "Rule Type - General (use 'Member Name')\n",
    "<br>Return result if \n",
    "<b>Rule2 or Rule3 or Rule4 or Rule6 </b>returns positive result\n",
    "\n",
    "Rule Type - BillPayment (use 'Name' and 'Acc Holder')\n",
    "<br>Return result if \n",
    "<b>Rule 2 or Rule5 </b>returns positive result\n",
    "\n",
    "Rule Type - Merchant (use 'Merchant', 'Bank Acc Name')\n",
    "<br>Return result if \n",
    "<b>Rule2 or Rule3 or Rule4 </b>return positive result\n",
    "\n",
    "Rule Description - Partial Matching\n",
    "<br>\n",
    "<b>Rule2 - matchTruncated</b>\n",
    "<li>Preliminary cleaning before matching starts:\n",
    "    <ul>a)Replace binti with bt for both sides</ul>\n",
    "    <ul>b)Remove ENCIK, COP REFUND for column in bank statement</ul>\n",
    "</li>\n",
    "<li>Description: Check specified column (bank statement) if contains name in payout file and vice versa</li>\n",
    "<li>For examples\n",
    "<ul>Example 1: <b>ahmad</b> (bank statement) matches <b>ahmad ali abu</b> from payout file</ul>\n",
    "<ul>Example 2: <b>ahmad ali abu</b> (bank statement) matches <b>ahmad</b> from payout file</ul>\n",
    "</li>\n",
    "\n",
    "<br>\n",
    "<b>Rule3 - noSpaceMatch</b>\n",
    "<li>Description: Remove space for both sides before matching them</li>\n",
    "<li>For examples\n",
    "<ul>Example 1: <b>ahmadaliabu</b> (bank statement) matches <b>ahmad ali abu</b> from payout file</ul>\n",
    "<ul>Example 2: <b>ahmad ali</b> (bank statement) matches <b>ahmadali</b> from payout file</ul>\n",
    "</li>\n",
    "\n",
    "<br>\n",
    "<b>Rule4 - matchAccountLast4Digit</b>\n",
    "<li>Description: Check specified column (bank statement) if matches last 4 digits from account number (payout)</li>\n",
    "<li>For examples\n",
    "<ul>Example 1: <b>XXXXX1234</b> (bank statement) matches <b>9001234</b> from payout file</ul>\n",
    "</li>\n",
    "\n",
    "<br>\n",
    "<b>Rule5 - matchBillTypeRef</b>\n",
    "<li>Description: Check specified column (bank statement) if bill type from payout is found inside it</li>\n",
    "<li>For examples\n",
    "<ul>Example 1: <b>INDAH WATER XXX</b> (bank statement) matches <b>INDAH WATER</b> from payout file</ul>\n",
    "<ul>Example 2: <b>PENGURUSAN AIR PAHAN</b> (bank statement) matches <b>PAIP</b> from payout file</ul>\n",
    "<ul>Example 3: <b>perbadanan bekalan air</b> (bank statement) matches <b>PBA</b> from payout file</ul>\n",
    "</li>\n",
    "\n",
    "<br>\n",
    "<b>Rule6 - matchUniqueAmount</b>\n",
    "<li>Description: Check occurence of debit amount (bank statement) is unique in bank statement and matches amount (payout)</li>"
   ]
  }
 ],
 "metadata": {
  "kernelspec": {
   "display_name": "Python 3",
   "language": "python",
   "name": "python3"
  },
  "language_info": {
   "codemirror_mode": {
    "name": "ipython",
    "version": 3
   },
   "file_extension": ".py",
   "mimetype": "text/x-python",
   "name": "python",
   "nbconvert_exporter": "python",
   "pygments_lexer": "ipython3",
   "version": "3.7.6"
  }
 },
 "nbformat": 4,
 "nbformat_minor": 4
}
