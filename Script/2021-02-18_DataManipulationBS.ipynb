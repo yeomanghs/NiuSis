{
 "cells": [
  {
   "cell_type": "code",
   "execution_count": 2,
   "metadata": {},
   "outputs": [],
   "source": [
    "import pandas as pd\n",
    "import os\n",
    "import re\n",
    "import xlsxwriter \n",
    "from openpyxl import load_workbook"
   ]
  },
  {
   "cell_type": "code",
   "execution_count": 16,
   "metadata": {},
   "outputs": [
    {
     "data": {
      "text/plain": [
       "['01_11 3207971832_2020.xlsx',\n",
       " '02_11 3207971832_2020.xlsx',\n",
       " '03_11 3207971832_2020.xlsx',\n",
       " '04_11 3207971832_2020.xlsx',\n",
       " '05_11 3207971832_2020.xlsx',\n",
       " '06_11 3207971832_2020.xlsx',\n",
       " '07_11 3207971832_2020.xlsx',\n",
       " '08_11 3207971832_2020.xlsx',\n",
       " '09_11 3207971832_2020.xlsx',\n",
       " '10_11 3207971832_2020.xlsx',\n",
       " '11_11 3207971832_2020.xlsx',\n",
       " '12_11 3207971832_2020.xlsx',\n",
       " '13_11 3207971832_2020.xlsx',\n",
       " '14_11 3207971832_2020.xlsx',\n",
       " '15_11 3207971832_2020.xlsx',\n",
       " '16_11 3207971832_2020.xlsx',\n",
       " '17_11 3207971832_2020.xlsx',\n",
       " '18_11 3207971832_2020.xlsx',\n",
       " '19_11 3207971832_2020.xlsx',\n",
       " '20_11 3207971832_2020.xlsx',\n",
       " '21_11 3207971832_2020.xlsx',\n",
       " '22_11 3207971832_2020.xlsx',\n",
       " '23_11 3207971832_2020.xlsx',\n",
       " '24_11 3207971832_2020.xlsx',\n",
       " '25_11 3207971832_2020.xlsx',\n",
       " '26_11 3207971832_2020.xlsx',\n",
       " '27_11 3207971832_2020.xlsx',\n",
       " '28_11 3207971832_2020.xlsx',\n",
       " '29_11 3207971832_2020.xlsx',\n",
       " '30_11 3207971832_2020.xlsx']"
      ]
     },
     "execution_count": 16,
     "metadata": {},
     "output_type": "execute_result"
    }
   ],
   "source": [
    "bsFolder = \"Nov2020_ConversionResult\"\n",
    "outputFolder = \"Nov2020_ManipulationResult\"\n",
    "os.listdir(bsFolder)"
   ]
  },
  {
   "cell_type": "code",
   "execution_count": 17,
   "metadata": {},
   "outputs": [
    {
     "data": {
      "text/plain": [
       "Index(['Trn. Date', 'Reference 1', 'Debit Amount', 'Credit Amount', 'Balance'], dtype='object')"
      ]
     },
     "execution_count": 17,
     "metadata": {},
     "output_type": "execute_result"
    }
   ],
   "source": [
    "bsfile = \"03_11 3207971832_2020.xlsx\"\n",
    "df = pd.read_excel(bsFolder + '/' + bsfile, skiprows = 9)\n",
    "df.columns"
   ]
  },
  {
   "cell_type": "code",
   "execution_count": 18,
   "metadata": {},
   "outputs": [
    {
     "data": {
      "text/plain": [
       "Nombor Akaun / Account Number:    Jumlah Kredit / Total Credits:\n",
       "3207971832                                         11,208,957.25\n",
       "Unnamed: 2                                                   NaN\n",
       "Unnamed: 3                                                   NaN\n",
       "Unnamed: 4                                                   NaN\n",
       "Name: 6, dtype: object"
      ]
     },
     "execution_count": 18,
     "metadata": {},
     "output_type": "execute_result"
    }
   ],
   "source": [
    "dfSummary = pd.read_excel(bsFolder + '/' + bsfile, nrows = 7)\n",
    "dfSummary.iloc[-1,:]"
   ]
  },
  {
   "cell_type": "code",
   "execution_count": 19,
   "metadata": {},
   "outputs": [
    {
     "data": {
      "text/plain": [
       "Index(['Trn. Date', 'Reference 1', 'Debit Amount', 'Credit Amount', 'Balance',\n",
       "       'Reference 2'],\n",
       "      dtype='object')"
      ]
     },
     "execution_count": 19,
     "metadata": {},
     "output_type": "execute_result"
    }
   ],
   "source": [
    "balanceBFIndex = [no for no, i in enumerate(df['Reference 1'].values) if re.search(\"Balance B/F\", i)]\n",
    "\n",
    "descType = [\"INSTANT TRSF\", \"DEP-CASH\", \"HANDLING CHRG\",\n",
    "            \"MISC DR\", \"DR-ECP\", \"DEP-ECP\", \"RTN-ITEM\",\n",
    "            \"GIRO PYMT\", \"TRSF FUND\", \"TSFR FUND\"]\n",
    "#index:addDesc\n",
    "addDescDict = {}\n",
    "for index in balanceBFIndex:\n",
    "    ref = df['Reference 1'].values[index + 1]\n",
    "    if re.search(\"(.+?)(%s)\"%'|'.join([re.escape(i) for i in descType]), ref):\n",
    "        #row before c/f\n",
    "        addDescDict[index - 2] = re.search(\"(.+)(%s)\"%'|'.join([re.escape(i) for i in descType]), ref).group(1)\n",
    "\n",
    "refList = []\n",
    "for no, ref in enumerate(df['Reference 1'].values):\n",
    "    if no in addDescDict.keys():\n",
    "        refList.append(ref + ' ' + addDescDict[no])\n",
    "    else:\n",
    "        refList.append(ref)\n",
    "\n",
    "df['Reference 2'] = refList\n",
    "\n",
    "# df['NotSameReference'] = df['Reference 1'] != df['Reference 2']\n",
    "\n",
    "df.columns"
   ]
  },
  {
   "cell_type": "code",
   "execution_count": 10,
   "metadata": {},
   "outputs": [
    {
     "data": {
      "text/plain": [
       "'Nov2020_ManipulationResult/01_11 3207971832_2020.xlsx'"
      ]
     },
     "execution_count": 10,
     "metadata": {},
     "output_type": "execute_result"
    }
   ],
   "source": [
    "outputFolder + '/' + bsfile"
   ]
  },
  {
   "cell_type": "code",
   "execution_count": 20,
   "metadata": {},
   "outputs": [
    {
     "name": "stdout",
     "output_type": "stream",
     "text": [
      "Nov2020_ManipulationResult/03_11 3207971832_2020.xlsx\n"
     ]
    }
   ],
   "source": [
    "import xlsxwriter \n",
    "  \n",
    "excelFile = outputFolder + '/' + bsfile\n",
    "print(excelFile)\n",
    "workbook = xlsxwriter.Workbook(excelFile)\n",
    "worksheet = workbook.add_worksheet() \n",
    "workbook.close()\n",
    "\n",
    "from openpyxl import load_workbook\n",
    "#write pandas \n",
    "writer = pd.ExcelWriter(excelFile, engine='openpyxl')\n",
    "writer.book = load_workbook(excelFile)\n",
    "# copy existing sheets\n",
    "writer.sheets = dict((ws.title, ws) for ws in writer.book.worksheets)\n",
    "dfSummary.to_excel(writer, sheet_name='Sheet1', header = True, index = False)\n",
    "df[[\"Trn. Date\", \"Reference 1\", \"Reference 2\", 'Debit Amount', 'Credit Amount', 'Balance']]\\\n",
    ".to_excel(writer, sheet_name='Sheet1', startrow = dfSummary.shape[0] + 2, header = True, index = False)\n",
    "writer.save()"
   ]
  },
  {
   "cell_type": "markdown",
   "metadata": {},
   "source": [
    "### For loop"
   ]
  },
  {
   "cell_type": "code",
   "execution_count": 5,
   "metadata": {},
   "outputs": [
    {
     "name": "stdout",
     "output_type": "stream",
     "text": [
      "Dec2020_ManipulationResult/01_12 3207971832_2020.xlsx\n",
      "Dec2020_ManipulationResult/02_12 3207971832_2020.xlsx\n",
      "Dec2020_ManipulationResult/03_12 3207971832_2020.xlsx\n",
      "Dec2020_ManipulationResult/04_12 3207971832_2020.xlsx\n",
      "Dec2020_ManipulationResult/05_12 3207971832_2020.xlsx\n",
      "Dec2020_ManipulationResult/06_12 3207971832_2020.xlsx\n",
      "Dec2020_ManipulationResult/07_12 3207971832_2020.xlsx\n",
      "Dec2020_ManipulationResult/08_12 3207971832_2020.xlsx\n",
      "Dec2020_ManipulationResult/09_12 3207971832_2020.xlsx\n",
      "Dec2020_ManipulationResult/10_12 3207971832_2020.xlsx\n",
      "Dec2020_ManipulationResult/11_12 3207971832_2020.xlsx\n",
      "Dec2020_ManipulationResult/12_12 3207971832_2020.xlsx\n",
      "Dec2020_ManipulationResult/13_12 3207971832_2020.xlsx\n",
      "Dec2020_ManipulationResult/14_12 3207971832_2020.xlsx\n",
      "Dec2020_ManipulationResult/15_12 3207971832_2020.xlsx\n",
      "Dec2020_ManipulationResult/16_12 3207971832_2020.xlsx\n",
      "Dec2020_ManipulationResult/17_12 3207971832_2020.xlsx\n",
      "Dec2020_ManipulationResult/18_12 3207971832_2020.xlsx\n",
      "Dec2020_ManipulationResult/19_12 3207971832_2020.xlsx\n",
      "Dec2020_ManipulationResult/20_12 3207971832_2020.xlsx\n",
      "Dec2020_ManipulationResult/21_12 3207971832_2020.xlsx\n",
      "Dec2020_ManipulationResult/22_12 3207971832_2020.xlsx\n",
      "Dec2020_ManipulationResult/23_12 3207971832_2020.xlsx\n",
      "Dec2020_ManipulationResult/24_12 3207971832_2020.xlsx\n",
      "Dec2020_ManipulationResult/25_12 3207971832_2020.xlsx\n",
      "Dec2020_ManipulationResult/26_12 3207971832_2020.xlsx\n",
      "Dec2020_ManipulationResult/27_12 3207971832_2020.xlsx\n",
      "Dec2020_ManipulationResult/28_12 3207971832_2020.xlsx\n",
      "Dec2020_ManipulationResult/29_12 3207971832_2020.xlsx\n",
      "Dec2020_ManipulationResult/30_12 3207971832_2020.xlsx\n",
      "Dec2020_ManipulationResult/31_12 3207971832_2020.xlsx\n"
     ]
    }
   ],
   "source": [
    "# bsFolder = \"Nov2020_ConversionResult\"\n",
    "bsFolder = \"Dec2020_ConversionResult\"\n",
    "# outputFolder = \"Nov2020_ManipulationResult\"\n",
    "outputFolder = \"Dec2020_ManipulationResult\"\n",
    "\n",
    "for bsfile in os.listdir(bsFolder):\n",
    "    df = pd.read_excel(bsFolder + '/' + bsfile, skiprows = 9)\n",
    "    dfSummary = pd.read_excel(bsFolder + '/' + bsfile, nrows = 7)\n",
    "    \n",
    "    balanceBFIndex = [no for no, i in enumerate(df['Reference 1'].values) if re.search(\"Balance B/F\", i)]\n",
    "    descType = [\"INSTANT TRSF\", \"DEP-CASH\", \"HANDLING CHRG\",\n",
    "                \"MISC DR\", \"DR-ECP\", \"DEP-ECP\", \"RTN-ITEM\",\n",
    "                \"GIRO PYMT\", \"TRSF FUND\"]\n",
    "    #index:addDesc\n",
    "    addDescDict = {}\n",
    "    removeDescDict = {}\n",
    "    for index in balanceBFIndex:\n",
    "        ref = df['Reference 1'].values[index + 1]\n",
    "        if re.search(\"(.+?)(%s)\"%'|'.join([re.escape(i) for i in descType]), ref):\n",
    "            #row before c/f\n",
    "            addDescDict[index - 2] = re.search(\"(.+)(%s)\"%'|'.join([re.escape(i) for i in descType]), ref).group(1)\n",
    "            removeDesc = re.search(\"(.+)(%s)\"%'|'.join([re.escape(i) for i in descType]), ref).group(1)\n",
    "            removeDescDict[index + 1] = re.sub(re.escape(removeDesc), '', ref)\n",
    "\n",
    "    refList = []\n",
    "    for no, ref in enumerate(df['Reference 1'].values):\n",
    "        if no in addDescDict.keys():\n",
    "            refList.append(ref + ' ' + addDescDict[no])\n",
    "        elif no in removeDescDict.keys():\n",
    "            refList.append(removeDescDict[no])\n",
    "        else:\n",
    "            refList.append(ref)\n",
    "\n",
    "    df['Reference 2'] = refList\n",
    "      \n",
    "    excelFile = outputFolder + '/' + bsfile\n",
    "    print(excelFile)\n",
    "    workbook = xlsxwriter.Workbook(excelFile)\n",
    "    worksheet = workbook.add_worksheet() \n",
    "    workbook.close()\n",
    "\n",
    "    \n",
    "    #write pandas \n",
    "    writer = pd.ExcelWriter(excelFile, engine='openpyxl')\n",
    "    writer.book = load_workbook(excelFile)\n",
    "    # copy existing sheets\n",
    "    writer.sheets = dict((ws.title, ws) for ws in writer.book.worksheets)\n",
    "    dfSummary.to_excel(writer, sheet_name='Sheet1', header = True, index = False)\n",
    "    df[[\"Trn. Date\", \"Reference 1\", \"Reference 2\", 'Debit Amount', 'Credit Amount', 'Balance']]\\\n",
    "    .to_excel(writer, sheet_name='Sheet1', startrow = dfSummary.shape[0] + 2, header = True, index = False)\n",
    "    writer.save()"
   ]
  },
  {
   "cell_type": "code",
   "execution_count": null,
   "metadata": {},
   "outputs": [],
   "source": [
    "6/11, page 1799 and 1800"
   ]
  }
 ],
 "metadata": {
  "kernelspec": {
   "display_name": "Python 3",
   "language": "python",
   "name": "python3"
  },
  "language_info": {
   "codemirror_mode": {
    "name": "ipython",
    "version": 3
   },
   "file_extension": ".py",
   "mimetype": "text/x-python",
   "name": "python",
   "nbconvert_exporter": "python",
   "pygments_lexer": "ipython3",
   "version": "3.7.6"
  }
 },
 "nbformat": 4,
 "nbformat_minor": 4
}
