{
 "cells": [
  {
   "cell_type": "code",
   "execution_count": 1,
   "metadata": {},
   "outputs": [],
   "source": [
    "from pdfminer.pdfinterp import PDFResourceManager, PDFPageInterpreter\n",
    "from pdfminer.converter import TextConverter\n",
    "from pdfminer.layout import LAParams\n",
    "from pdfminer.pdfpage import PDFPage\n",
    "import os\n",
    "import re\n",
    "from io import StringIO\n",
    "import PyPDF2\n",
    "import pandas as pd\n",
    "from datetime import datetime \n",
    "import datetime as dt\n",
    "from timeit import default_timer as timer\n",
    "pd.set_option('display.max_rows', 500)"
   ]
  },
  {
   "cell_type": "code",
   "execution_count": 2,
   "metadata": {},
   "outputs": [
    {
     "data": {
      "text/plain": [
       "'../Dec2020_Result/22_12 3207971832_2020.xlsx'"
      ]
     },
     "execution_count": 2,
     "metadata": {},
     "output_type": "execute_result"
    }
   ],
   "source": [
    "folder = \"../Dec2020\"\n",
    "resultFolder = \"Dec2020_Result\"\n",
    "file = \"12.22 3207971832_2020-December_eStatement.pdf\"\n",
    "path = folder + '/' + file\n",
    "excelFile = '../' + resultFolder + '/' + re.sub('\\.', '_', '22_12 ' + file.split('-')[0].split(' ')[1]) + '.xlsx'\n",
    "excelFile"
   ]
  },
  {
   "cell_type": "code",
   "execution_count": 3,
   "metadata": {},
   "outputs": [
    {
     "data": {
      "text/plain": [
       "('22/12', '21/12')"
      ]
     },
     "execution_count": 3,
     "metadata": {},
     "output_type": "execute_result"
    }
   ],
   "source": [
    "date = re.sub('\\.', '/', file.split(' ')[0])\n",
    "previousDate = (datetime.strptime(date, \"%m/%d\") - dt.timedelta(days=1)).strftime('%d/%m')\n",
    "#for nov\n",
    "date = datetime.strptime(date, \"%m/%d\").strftime('%d/%m')\n",
    "date, previousDate"
   ]
  },
  {
   "cell_type": "code",
   "execution_count": 4,
   "metadata": {},
   "outputs": [
    {
     "name": "stdout",
     "output_type": "stream",
     "text": [
      "Total time: 36.2190s\n"
     ]
    },
    {
     "data": {
      "text/plain": [
       "1110"
      ]
     },
     "execution_count": 4,
     "metadata": {},
     "output_type": "execute_result"
    }
   ],
   "source": [
    "def convertPdfToTxt(path):\n",
    "    startTime = timer()\n",
    "    rsrcmgr = PDFResourceManager()\n",
    "    retstr = StringIO()\n",
    "    #codec = 'utf-8'\n",
    "    laparams = LAParams()\n",
    "    device = TextConverter(rsrcmgr, retstr, laparams=laparams)\n",
    "    fp = open(path, 'rb')\n",
    "    interpreter = PDFPageInterpreter(rsrcmgr, device)\n",
    "    password = \"\"\n",
    "    maxpages = 0\n",
    "    caching = True\n",
    "    pagenos=set()\n",
    "    for page in PDFPage.get_pages(fp, pagenos, maxpages = maxpages,caching = caching, check_extractable = True):\n",
    "        interpreter.process_page(page)\n",
    "    text = retstr.getvalue()\n",
    "    fp.close()\n",
    "    device.close()\n",
    "    retstr.close()\n",
    "    endTime = timer()\n",
    "    print(\"Total time: %0.4fs\" % (endTime - startTime))\n",
    "    return text\n",
    "\n",
    "text = convertPdfToTxt(path)\n",
    "\n",
    "#extract no pages\n",
    "noPage = len(re.findall(\"NIAGADEBITKREDITBAKIDATETRANSACTIONDEBITCREDITBALANCE\", text))\n",
    "\n",
    "noPage"
   ]
  },
  {
   "cell_type": "code",
   "execution_count": 5,
   "metadata": {},
   "outputs": [
    {
     "data": {
      "text/plain": [
       "{'Nombor Akaun / Account Number': '3207971832',\n",
       " 'Jenis Akaun / Account Type': 'RM Plus Current Account',\n",
       " 'Tarikh Penyata / Statement Date': '22 Dec 2020'}"
      ]
     },
     "execution_count": 5,
     "metadata": {},
     "output_type": "execute_result"
    }
   ],
   "source": [
    "accountInfoDict = {}\n",
    "accountCol = [\"Nombor Akaun / Account Number\", 'Jenis Akaun / Account Type',\n",
    "             'Tarikh Penyata / Statement Date', 'RINGKASAN / SUMMARY']\n",
    "for no, desc in enumerate(accountCol):\n",
    "    if no != len(accountCol)-1:\n",
    "        descIndex = text.index(desc)\n",
    "        descLen = len(desc)\n",
    "        nextDescIndex = text.index(accountCol[no + 1])\n",
    "        result = text[descIndex + descLen: nextDescIndex]\n",
    "        accountInfoDict[desc] = result\n",
    "accountInfoDict"
   ]
  },
  {
   "cell_type": "code",
   "execution_count": 6,
   "metadata": {},
   "outputs": [],
   "source": [
    "def extractText(desc, startStr, endStr):\n",
    "    try:\n",
    "        startStrIndex = desc.index(startStr)\n",
    "        startStrLen = len(startStr)\n",
    "        endStrIndex = desc.index(endStr)         \n",
    "        if startStr == '':\n",
    "            result = desc[:endStrIndex]\n",
    "            return result\n",
    "        elif endStr!='':\n",
    "            result = desc[startStrIndex + startStrLen:endStrIndex]\n",
    "            remainDesc = desc[endStrIndex:]\n",
    "            return result, remainDesc\n",
    "        else:\n",
    "            result = desc[startStrIndex + startStrLen:]\n",
    "            return result\n",
    "        \n",
    "    except Exception as e:\n",
    "#         print(e)\n",
    "        print(\"Failed to extract text\")\n",
    "\n",
    "def extractAmount(desc, greedy = True):\n",
    "#     greedyPattern = '([\\d\\.\\,]+)'\n",
    "    greedyPattern = '([\\d\\.\\,]+\\.\\d{2})'\n",
    "    notGreedyPattern = '([\\d\\.\\,]+?\\.\\d{2}?)'\n",
    "    try:\n",
    "        if greedy:\n",
    "            result = re.search(greedyPattern, desc).group(1)\n",
    "            return result\n",
    "        else:\n",
    "            result = re.search(notGreedyPattern, desc).group(1)\n",
    "            return result\n",
    "    except Exception as e:\n",
    "#         print(e)\n",
    "        print(\"Wrong number pattern\")"
   ]
  },
  {
   "cell_type": "code",
   "execution_count": 7,
   "metadata": {},
   "outputs": [
    {
     "data": {
      "text/plain": [
       "(['12439', '124391'], ['13,219,982.49', '3,219,982.49'])"
      ]
     },
     "execution_count": 7,
     "metadata": {},
     "output_type": "execute_result"
    }
   ],
   "source": [
    "summaryDict = {}\n",
    "summaryCol = ['Baki Penutup / Closing Balance',\n",
    "              'Jumlah Debit / Total Debits', 'Bil. Debit / No. of Debits',\n",
    "              'Jumlah Kredit / Total Credits', 'Bil. Kredit / No. of Credits']\n",
    "#extract series of number \n",
    "numberSeries = extractText(text, summaryCol[4], 'Muka Surat 1')[0]\n",
    "\n",
    "#extract closing balance amount\n",
    "closingBalanceAmount = extractAmount(numberSeries, greedy = False)\n",
    "summaryDict[summaryCol[0]] = closingBalanceAmount\n",
    "numberSeries = re.sub(closingBalanceAmount, '', numberSeries)\n",
    "\n",
    "#extract debit amount\n",
    "debitAmount = extractAmount(numberSeries, greedy = False)\n",
    "summaryDict[summaryCol[1]] = debitAmount\n",
    "numberSeries = re.sub(debitAmount, '', numberSeries)\n",
    "\n",
    "#credit no credit\n",
    "noCredit = re.sub(extractAmount(numberSeries, greedy = False), '', numberSeries)\n",
    "summaryDict[summaryCol[4]] = noCredit\n",
    "numberSeries = re.sub(noCredit + '$', '', numberSeries)\n",
    "\n",
    "tempNumberSeries = numberSeries\n",
    "creditAmount1 = re.search('(\\d{2}\\,(\\d+\\,)*\\d+\\.\\d{2})', numberSeries).group(1)\n",
    "noDebit1 = re.sub(creditAmount1, '', tempNumberSeries)\n",
    "creditAmount2 = re.search('(\\d{1}\\,(\\d+\\,)*\\d+\\.\\d{2})', numberSeries).group(1)\n",
    "noDebit2 = re.sub(creditAmount2, '', tempNumberSeries)\n",
    "\n",
    "noDebitList = [noDebit1, noDebit2]\n",
    "creditAmountList = [creditAmount1, creditAmount2]\n",
    "noDebitList, creditAmountList"
   ]
  },
  {
   "cell_type": "code",
   "execution_count": 8,
   "metadata": {},
   "outputs": [
    {
     "data": {
      "text/plain": [
       "1109"
      ]
     },
     "execution_count": 8,
     "metadata": {},
     "output_type": "execute_result"
    }
   ],
   "source": [
    "def returnTableList(no):\n",
    "    tempList = []\n",
    "    textCopy = text\n",
    "    for i in range(1, no + 1):\n",
    "#     for i in range(1, 3):\n",
    "        table, remain = extractText(textCopy, 'Page %s of %s'%(i, no), 'Penyata ini dicetak melalui komputer.')\n",
    "        index = remain.index('Penyata ini dicetak melalui komputer.')\n",
    "        termLen = len('Penyata ini dicetak melalui komputer.')\n",
    "        textCopy = remain[index + termLen:]\n",
    "        table = re.sub(\"TARIKHURUS NIAGADEBITKREDITBAKIDATETRANSACTIONDEBITCREDITBALANCE\", '', table)\n",
    "        tempList.append(table)\n",
    "    return tempList\n",
    "\n",
    "tableList = returnTableList(noPage-1)\n",
    "\n",
    "len(tableList)"
   ]
  },
  {
   "cell_type": "code",
   "execution_count": 25,
   "metadata": {},
   "outputs": [],
   "source": [
    "#extract first line of transaction\n",
    "\n",
    "#trx date, cheque no., ref1, ref2, ref3, ref4, credit amount, debit amount, balance\n",
    "resultList = []\n",
    "\n",
    "#extract content of first table from text\n",
    "table = tableList[0]\n",
    "\n",
    "#extract balance amount\n",
    "balanceAmount, tempText = extractText(table, \"Balance From Last Statement\", date)\n",
    "\n",
    "#store record of balance from last statement\n",
    "# resultList.append([previousDate, '','', '','', \"Balance From Last Statement\", '', '', balanceAmount])\n",
    "#trx date, ref1, credit amount, debit amount, balance\n",
    "resultList.append([previousDate, \"Balance From Last Statement\", '', '', balanceAmount])"
   ]
  },
  {
   "cell_type": "code",
   "execution_count": 26,
   "metadata": {},
   "outputs": [],
   "source": [
    "def extractText(desc, startStr, endStr):\n",
    "    try:\n",
    "        startStrIndex = desc.index(startStr)\n",
    "        startStrLen = len(startStr)\n",
    "        endStrIndex = desc.index(endStr)         \n",
    "        if startStr == '':\n",
    "            result = desc[:endStrIndex]\n",
    "            return result\n",
    "        elif endStr!='':\n",
    "            result = desc[startStrIndex + startStrLen:endStrIndex]\n",
    "            remainDesc = desc[endStrIndex:]\n",
    "            return result, remainDesc\n",
    "        else:\n",
    "            result = desc[startStrIndex + startStrLen:]\n",
    "            return result\n",
    "        \n",
    "    except Exception as e:\n",
    "#         print(e)\n",
    "        print(\"Failed to extract text\")"
   ]
  },
  {
   "cell_type": "code",
   "execution_count": 27,
   "metadata": {},
   "outputs": [],
   "source": [
    "#extract amountList and descList\n",
    "#steps: \n",
    "#1. extract first and second number, store first number in descList\n",
    "#2. extract desc between first and second number\n",
    "#3. store desc in descList\n",
    "#repeat 1 till 3 until closing balance's line\n",
    "\n",
    "amountList = []\n",
    "descList = []\n",
    "closingLine = 0\n",
    "\n",
    "# for no, table in enumerate([tableList[0]]):\n",
    "for no, table in enumerate(tableList[:-1]):\n",
    "    if no == 0:\n",
    "        tempText = tempText\n",
    "    else:\n",
    "        tempText = table\n",
    "    # for i in range(3):\n",
    "    while closingLine == 0:\n",
    "        #remove date first\n",
    "        if re.search(date, tempText):\n",
    "            tempText = re.sub(date, '', tempText)\n",
    "        #remove RMB @1.55\n",
    "        tempText = re.sub(\"RMB.*@ \\d\\.\\d+\", '', tempText)\n",
    "        if no in [576, 1069]:    \n",
    "        #remove 9.4101613565E11: table 579, 1069\n",
    "            tempText = re.sub(\"9.4101613565E11\", '', tempText)\n",
    "        #extract amount first\n",
    "        tempAmount1 = extractAmount(tempText)\n",
    "        #store amount\n",
    "        amountList.append(tempAmount1)\n",
    "        #temporary subbed text to get second amount\n",
    "        tempSubText = re.sub(tempAmount1, '', tempText)\n",
    "        tempAmount2 = extractAmount(tempSubText)\n",
    "        tempDesc = extractText(tempSubText, '', tempAmount2)\n",
    "        \n",
    "        #if Balance C/F, last line of transaction for that page\n",
    "        if re.search(r\"Balance C/F\", str(tempDesc)):\n",
    "            tempDesc = re.sub(r\"Balance C/F\", \"\", str(tempDesc))\n",
    "            amountList.append(tempAmount2)\n",
    "            descList.append(tempDesc)\n",
    "            descList.append(\"Balance C/F\")\n",
    "            break\n",
    "            \n",
    "        #if Balance B/F, first line of transaction for that page\n",
    "        elif re.search(r\"Balance B/F\", str(tempDesc)):\n",
    "            tempDesc = re.sub(r\"Balance B/F\", \"\", str(tempDesc))\n",
    "            descList.append(\"Balance B/F\")\n",
    "            tempAmount1 = extractAmount(re.sub(date, '', tempText), greedy = False)\n",
    "            amountList[-1] = tempAmount1\n",
    "            tempAmount1Index = tempText.index(tempAmount1)\n",
    "            tempAmount1Len = len(tempAmount1)\n",
    "            tempText = tempText[tempAmount1Index+tempAmount1Len:]\n",
    "            \n",
    "        #if last line for whole file\n",
    "        elif re.search(\"Closing Balance In This Statement\", str(tempDesc)):\n",
    "            closingAmount = tempAmount2\n",
    "            closingAmountIndex = tempSubText.index(closingAmount)\n",
    "            lastDesc = tempSubText[:closingAmountIndex]\n",
    "            #sub closing amount with '' in lastDesc\n",
    "            lastDesc = re.sub(\"Closing Balance In This Statement\", '', lastDesc)\n",
    "            descList.append(lastDesc)\n",
    "\n",
    "            #store last line - amount and desc\n",
    "            amountList.append(closingAmount)\n",
    "            descList.append(\"Closing Balance In This Statement\")\n",
    "#             closingLine = 1\n",
    "            break\n",
    "        #extracted all ady\n",
    "        elif not tempAmount2:\n",
    "#             closingLine = 1\n",
    "            break\n",
    "        else:\n",
    "            tempText = re.sub('^' + re.escape(tempDesc), '', tempSubText)\n",
    "            descList.append(tempDesc)"
   ]
  },
  {
   "cell_type": "code",
   "execution_count": 28,
   "metadata": {},
   "outputs": [
    {
     "data": {
      "text/plain": [
       "'22/12Balance B/F30,936,417.76500.0030,935,917.76DR-ECP 0094213207971832PM22122099 EU REFUNDEU REFUND 15122020 CHIEW SING KIONG10,000.0030,925,917.76DR-ECP 0094233207971832PM22122099 EU REFUNDEU REFUND 15122020 TAN YEE SIANG599.0030,925,318.76DR-ECP 0094253207971832PM22122099 EU REFUNDEU REFUND 15122020 SHIRLEY CHU LEE200.0030,925,118.76DR-ECP 0094273207971832PM22122099 EU REFUNDEU REFUND 15122020 KUO ENG KEE1,200.0030,923,918.76DR-ECP 0094293207971832PM22122099 EU REFUNDEU REFUND 15122020 FAN KA SIONG1,000.0030,922,918.76DR-ECP 0094313207971832PM22122099 EU REFUNDEU REFUND 15122020 LIAW LAY ENG500.0030,922,418.76DR-ECP 0094333207971832PM22122099 EU REFUNDEU REFUND 15122020 TING HUA LING785.0030,921,633.76DR-ECP 0094353207971832PM22122099 EU REFUNDEU REFUND 15122020 LEE SAU TANG150.0030,921,483.76DR-ECP 0094373207971832PM22122099 EU REFUNDEU REFUND 15122020 9.4101613565E11599.0030,920,884.76DR-ECP 0094393207971832PM22122099 EU REFUNDEU REFUND 15122020 RICHARD TEO KAH710.0030,920,174.76DR-ECP 0094413207971832PM22122099 EU REFUNDEU REFUND 15122020 CHIA SIANG HONG673.0030,919,501.76DR-ECP 0094433207971832PM22122099 EU REFUNDEU REFUND 15122020 LAU SHIH KEE2,000.0030,917,501.76DR-ECP 0094453207971832PM22122099 EU REFUNDEU REFUND 15122020 EWE YI KEAT1,000.0030,916,501.76DR-ECP 009447Balance C/F30,916,501.76'"
      ]
     },
     "execution_count": 28,
     "metadata": {},
     "output_type": "execute_result"
    }
   ],
   "source": [
    "tableList[576]"
   ]
  },
  {
   "cell_type": "code",
   "execution_count": 29,
   "metadata": {},
   "outputs": [
    {
     "data": {
      "text/plain": [
       "'22/12Balance B/F30,450,117.06FEE 3207971832PM22122099EU REFUND EU REFUND 15122020LIAW LAY ENG0.1030,450,116.96HANDLING CHRG 014740FEE 3207971832PM22122099EU REFUND EU REFUND 15122020TING HUA LING0.1030,450,116.86HANDLING CHRG 014741FEE 3207971832PM22122099EU REFUND EU REFUND 15122020LEE SAU TANG0.1030,450,116.76HANDLING CHRG 014742FEE 3207971832PM22122099EU REFUND EU REFUND 151220209.4101613565E110.1030,450,116.66HANDLING CHRG 014743FEE 3207971832PM22122099EU REFUND EU REFUND 15122020RICHARD TEO KAH0.1030,450,116.56HANDLING CHRG 014744FEE 3207971832PM22122099EU REFUND EU REFUND 15122020CHIA SIANG HONG0.1030,450,116.46HANDLING CHRG 014745FEE 3207971832PM22122099EU REFUND EU REFUND 15122020LAU SHIH KEE0.1030,450,116.36HANDLING CHRG 014746FEE 3207971832PM22122099EU REFUND EU REFUND 15122020EWE YI KEAT0.1030,450,116.26HANDLING CHRG 014747FEE 3207971832PM22122099EU REFUND EU REFUND 15122020LEE SU CHIONG0.1030,450,116.16HANDLING CHRG 014748FEE 3207971832PM22122099EU REFUND EU REFUND 15122020PHANG SWEE FEONG0.1030,450,116.06HANDLING CHRG 014749Balance C/F30,450,116.06'"
      ]
     },
     "execution_count": 29,
     "metadata": {},
     "output_type": "execute_result"
    }
   ],
   "source": [
    "tableList[1069]"
   ]
  },
  {
   "cell_type": "code",
   "execution_count": 30,
   "metadata": {},
   "outputs": [],
   "source": [
    "def splitAmount(desc):\n",
    "    try:\n",
    "        #remove first . before num if exists\n",
    "        desc = re.sub('^\\.', '', desc)\n",
    "        #remove date pattern\n",
    "        desc = re.sub('^\\d{1,2}\\.\\d{1,2}\\.\\d{4}', '', desc)\n",
    "        amountPattern = '(.*?\\.\\d{2}?)'\n",
    "        result = re.search(amountPattern, desc).group(1)\n",
    "        desc2 = re.sub('^' + result, '', desc)\n",
    "        return result, desc2\n",
    "    except Exception as e:\n",
    "        print(e)\n",
    "        print(\"Wrong amount pattern\")\n",
    "\n",
    "splitAmountList = [splitAmount(i) for i in amountList]"
   ]
  },
  {
   "cell_type": "code",
   "execution_count": 31,
   "metadata": {},
   "outputs": [],
   "source": [
    "def checkCreditDebit(amountTuple, previousBalance):\n",
    "    #exception:\n",
    "    amount1 = float(re.sub(',', '', amountTuple[0]))\n",
    "#     currentBalance = re.sub('^\\.', '', amountTuple[1])\n",
    "    currentBalance = amountTuple[1]\n",
    "#     print(currentBalance)\n",
    "    if currentBalance !='':\n",
    "        currentBalance = float(re.sub(',', '', currentBalance))\n",
    "        previousBalance = float(re.sub(',', '', previousBalance))\n",
    "        if currentBalance - previousBalance == amount1:\n",
    "            amountTuple = ('', round(amount1, 2), currentBalance)\n",
    "        elif previousBalance - currentBalance == amount1:\n",
    "            amountTuple = (round(amount1, 2), '', currentBalance)\n",
    "        #if amount 1 is wrong\n",
    "        elif currentBalance > previousBalance:\n",
    "            credit  = currentBalance - previousBalance\n",
    "            amountTuple = ('', round(credit,2), currentBalance)\n",
    "        elif previousBalance > currentBalance:\n",
    "            debit  = previousBalance - currentBalance\n",
    "            amountTuple = (round(debit,2), '', currentBalance)            \n",
    "    else:\n",
    "        amountTuple = ('', '', amount1)\n",
    "    return amountTuple, str(amountTuple[2])\n",
    "\n",
    "#regex pattern based on transDesc\n",
    "transTypePatternDict = {'INSTANT TRSF CR':'(.*CR)\\s*(\\d{6})(.+)',\n",
    "                       'TSFR FUND DR-ATM/EFT':'(TSFR FUND DR-ATM/EFT)\\s*(\\d{6})(.+)'}\n",
    "\n",
    "def splitStr(desc):\n",
    "    foundPattern = 0\n",
    "    for transType in transTypePatternDict:\n",
    "        if re.search(transTypePatternDict[transType], desc):\n",
    "            pattern = transTypePatternDict[transType]\n",
    "            transType = re.search(pattern, desc).group(1)\n",
    "            chequeNo = re.search(pattern, desc).group(2)\n",
    "            ref1  = re.search(pattern, desc).group(3)\n",
    "            foundPattern = 1\n",
    "            finalResult = [chequeNo, transType, ref1] + ['']*2\n",
    "            break\n",
    "    if foundPattern == 0:\n",
    "        finalResult = ['']*2 + [desc] + ['']*2\n",
    "    #[chequeNo, transactionDescType, ref1, ref2, ref3]\n",
    "    return finalResult"
   ]
  },
  {
   "cell_type": "code",
   "execution_count": 32,
   "metadata": {},
   "outputs": [],
   "source": [
    "#categorize one amount as credit/debit\n",
    "splitAmountList2 = []\n",
    "for no, i in enumerate(splitAmountList):\n",
    "    if no == 0:\n",
    "        resultTuple, previousBalanceAmount = checkCreditDebit(i, balanceAmount)\n",
    "        splitAmountList2.append(resultTuple)\n",
    "    else:\n",
    "        resultTuple, previousBalanceAmount = checkCreditDebit(i, previousBalanceAmount)\n",
    "        splitAmountList2.append(resultTuple)\n",
    "\n",
    "# splitStrList = [splitStr(i) for i in descList]\n",
    "\n",
    "# #column names\n",
    "# colList = ['Trn. Date', 'Cheque No/Ref No', 'Transaction Description',\n",
    "#            'Debit Amount', 'Credit Amount', \n",
    "#            'Reference 1', 'Reference 2', 'Reference 3', 'Balance']\n",
    "\n",
    "# for no, finalStrList in enumerate(splitStrList):\n",
    "#     tempList =  [date] + [i for i in finalStrList[:2]]\n",
    "#     tempList += [i for i in splitAmountList2[no][:2]] + [i for i in finalStrList[2:]] + [splitAmountList2[no][-1]]\n",
    "#     resultList.append(tempList)\n",
    "    \n",
    "colList = ['Trn. Date','Reference 1',\n",
    "           'Debit Amount', 'Credit Amount', 'Balance']\n",
    "for no, finalStrList in enumerate(descList):\n",
    "    tempList =  [date] + [finalStrList]\n",
    "    tempList +=  [i for i in splitAmountList2[no]]\n",
    "    resultList.append(tempList)"
   ]
  },
  {
   "cell_type": "code",
   "execution_count": 33,
   "metadata": {},
   "outputs": [
    {
     "data": {
      "text/html": [
       "<div>\n",
       "<style scoped>\n",
       "    .dataframe tbody tr th:only-of-type {\n",
       "        vertical-align: middle;\n",
       "    }\n",
       "\n",
       "    .dataframe tbody tr th {\n",
       "        vertical-align: top;\n",
       "    }\n",
       "\n",
       "    .dataframe thead th {\n",
       "        text-align: right;\n",
       "    }\n",
       "</style>\n",
       "<table border=\"1\" class=\"dataframe\">\n",
       "  <thead>\n",
       "    <tr style=\"text-align: right;\">\n",
       "      <th></th>\n",
       "      <th>Trn. Date</th>\n",
       "      <th>Reference 1</th>\n",
       "      <th>Debit Amount</th>\n",
       "      <th>Credit Amount</th>\n",
       "      <th>Balance</th>\n",
       "    </tr>\n",
       "  </thead>\n",
       "  <tbody>\n",
       "    <tr>\n",
       "      <th>0</th>\n",
       "      <td>21/12</td>\n",
       "      <td>Balance From Last Statement</td>\n",
       "      <td></td>\n",
       "      <td></td>\n",
       "      <td>26,933,259.44</td>\n",
       "    </tr>\n",
       "    <tr>\n",
       "      <th>1</th>\n",
       "      <td>22/12</td>\n",
       "      <td>SI CR FROM 3999XXXXXX</td>\n",
       "      <td></td>\n",
       "      <td>1.3132e+07</td>\n",
       "      <td>4.00653e+07</td>\n",
       "    </tr>\n",
       "    <tr>\n",
       "      <th>2</th>\n",
       "      <td>22/12</td>\n",
       "      <td>RTN ITEM 091445IBG RTN ITEM 20201222 LTCS18201...</td>\n",
       "      <td></td>\n",
       "      <td>600</td>\n",
       "      <td>4.00659e+07</td>\n",
       "    </tr>\n",
       "    <tr>\n",
       "      <th>3</th>\n",
       "      <td>22/12</td>\n",
       "      <td>RTN ITEM 091446IBG RTN ITEM 20201222 LTCS18201...</td>\n",
       "      <td></td>\n",
       "      <td>2198</td>\n",
       "      <td>4.0068e+07</td>\n",
       "    </tr>\n",
       "    <tr>\n",
       "      <th>4</th>\n",
       "      <td>22/12</td>\n",
       "      <td>RTN ITEM 091447IBG RTN ITEM 20201222 LTCS18201...</td>\n",
       "      <td></td>\n",
       "      <td>850</td>\n",
       "      <td>4.00689e+07</td>\n",
       "    </tr>\n",
       "    <tr>\n",
       "      <th>...</th>\n",
       "      <td>...</td>\n",
       "      <td>...</td>\n",
       "      <td>...</td>\n",
       "      <td>...</td>\n",
       "      <td>...</td>\n",
       "    </tr>\n",
       "    <tr>\n",
       "      <th>14691</th>\n",
       "      <td>22/12</td>\n",
       "      <td>INSTANT TRSF DR 462274 TAN BEE LAYMERCHANT RED...</td>\n",
       "      <td>37</td>\n",
       "      <td></td>\n",
       "      <td>3.01826e+07</td>\n",
       "    </tr>\n",
       "    <tr>\n",
       "      <th>14692</th>\n",
       "      <td>22/12</td>\n",
       "      <td>INSTANT TRSF DR 462310CHOONG OOI PENG MERCHANT...</td>\n",
       "      <td>400</td>\n",
       "      <td></td>\n",
       "      <td>3.01822e+07</td>\n",
       "    </tr>\n",
       "    <tr>\n",
       "      <th>14693</th>\n",
       "      <td>22/12</td>\n",
       "      <td>INSTANT TRSF DR 462355 SIN SENG LEEMERCHANT RE...</td>\n",
       "      <td>327</td>\n",
       "      <td></td>\n",
       "      <td>3.01818e+07</td>\n",
       "    </tr>\n",
       "    <tr>\n",
       "      <th>14694</th>\n",
       "      <td>22/12</td>\n",
       "      <td>INSTANT TRSF DR 462377 SIN SENG LEEMERCHANT RE...</td>\n",
       "      <td>1790</td>\n",
       "      <td></td>\n",
       "      <td>3.018e+07</td>\n",
       "    </tr>\n",
       "    <tr>\n",
       "      <th>14695</th>\n",
       "      <td>22/12</td>\n",
       "      <td>Closing Balance In This Statement</td>\n",
       "      <td></td>\n",
       "      <td></td>\n",
       "      <td>3.018e+07</td>\n",
       "    </tr>\n",
       "  </tbody>\n",
       "</table>\n",
       "<p>14696 rows × 5 columns</p>\n",
       "</div>"
      ],
      "text/plain": [
       "      Trn. Date                                        Reference 1  \\\n",
       "0         21/12                        Balance From Last Statement   \n",
       "1         22/12                              SI CR FROM 3999XXXXXX   \n",
       "2         22/12  RTN ITEM 091445IBG RTN ITEM 20201222 LTCS18201...   \n",
       "3         22/12  RTN ITEM 091446IBG RTN ITEM 20201222 LTCS18201...   \n",
       "4         22/12  RTN ITEM 091447IBG RTN ITEM 20201222 LTCS18201...   \n",
       "...         ...                                                ...   \n",
       "14691     22/12  INSTANT TRSF DR 462274 TAN BEE LAYMERCHANT RED...   \n",
       "14692     22/12  INSTANT TRSF DR 462310CHOONG OOI PENG MERCHANT...   \n",
       "14693     22/12  INSTANT TRSF DR 462355 SIN SENG LEEMERCHANT RE...   \n",
       "14694     22/12  INSTANT TRSF DR 462377 SIN SENG LEEMERCHANT RE...   \n",
       "14695     22/12                  Closing Balance In This Statement   \n",
       "\n",
       "      Debit Amount Credit Amount        Balance  \n",
       "0                                 26,933,259.44  \n",
       "1                     1.3132e+07    4.00653e+07  \n",
       "2                            600    4.00659e+07  \n",
       "3                           2198     4.0068e+07  \n",
       "4                            850    4.00689e+07  \n",
       "...            ...           ...            ...  \n",
       "14691           37                  3.01826e+07  \n",
       "14692          400                  3.01822e+07  \n",
       "14693          327                  3.01818e+07  \n",
       "14694         1790                    3.018e+07  \n",
       "14695                                 3.018e+07  \n",
       "\n",
       "[14696 rows x 5 columns]"
      ]
     },
     "execution_count": 33,
     "metadata": {},
     "output_type": "execute_result"
    }
   ],
   "source": [
    "df = pd.DataFrame(resultList, columns = colList)\n",
    "df"
   ]
  },
  {
   "cell_type": "code",
   "execution_count": 20,
   "metadata": {},
   "outputs": [
    {
     "data": {
      "text/plain": [
       "120770092.75"
      ]
     },
     "execution_count": 20,
     "metadata": {},
     "output_type": "execute_result"
    }
   ],
   "source": [
    "max([i for i in df['Debit Amount'] if type(i)!=str])"
   ]
  },
  {
   "cell_type": "code",
   "execution_count": 21,
   "metadata": {},
   "outputs": [
    {
     "data": {
      "text/html": [
       "<div>\n",
       "<style scoped>\n",
       "    .dataframe tbody tr th:only-of-type {\n",
       "        vertical-align: middle;\n",
       "    }\n",
       "\n",
       "    .dataframe tbody tr th {\n",
       "        vertical-align: top;\n",
       "    }\n",
       "\n",
       "    .dataframe thead th {\n",
       "        text-align: right;\n",
       "    }\n",
       "</style>\n",
       "<table border=\"1\" class=\"dataframe\">\n",
       "  <thead>\n",
       "    <tr style=\"text-align: right;\">\n",
       "      <th></th>\n",
       "      <th>Trn. Date</th>\n",
       "      <th>Reference 1</th>\n",
       "      <th>Debit Amount</th>\n",
       "      <th>Credit Amount</th>\n",
       "      <th>Balance</th>\n",
       "    </tr>\n",
       "  </thead>\n",
       "  <tbody>\n",
       "    <tr>\n",
       "      <th>14180</th>\n",
       "      <td>22/12</td>\n",
       "      <td>HANDLING CHRG 014743FEE 3207971832PM22122099EU...</td>\n",
       "      <td>1.2077e+08</td>\n",
       "      <td></td>\n",
       "      <td>3.04501e+07</td>\n",
       "    </tr>\n",
       "  </tbody>\n",
       "</table>\n",
       "</div>"
      ],
      "text/plain": [
       "      Trn. Date                                        Reference 1  \\\n",
       "14180     22/12  HANDLING CHRG 014743FEE 3207971832PM22122099EU...   \n",
       "\n",
       "      Debit Amount Credit Amount      Balance  \n",
       "14180   1.2077e+08                3.04501e+07  "
      ]
     },
     "execution_count": 21,
     "metadata": {},
     "output_type": "execute_result"
    }
   ],
   "source": [
    "df.query(\"`Debit Amount`==120770092.75\")"
   ]
  },
  {
   "cell_type": "code",
   "execution_count": 22,
   "metadata": {},
   "outputs": [
    {
     "data": {
      "text/plain": [
       "array(['HANDLING CHRG 014743FEE 3207971832PM22122099EU REFUND EU REFUND 15122020RICHARD TEO KAH'],\n",
       "      dtype=object)"
      ]
     },
     "execution_count": 22,
     "metadata": {},
     "output_type": "execute_result"
    }
   ],
   "source": [
    "df.query(\"`Debit Amount`==120770092.75\")['Reference 1'].values"
   ]
  },
  {
   "cell_type": "code",
   "execution_count": 34,
   "metadata": {},
   "outputs": [
    {
     "data": {
      "text/plain": [
       "30180038.38"
      ]
     },
     "execution_count": 34,
     "metadata": {},
     "output_type": "execute_result"
    }
   ],
   "source": [
    "df.loc[df.shape[0]-1]['Balance']"
   ]
  },
  {
   "cell_type": "code",
   "execution_count": 35,
   "metadata": {},
   "outputs": [
    {
     "data": {
      "text/plain": [
       "9973203.549998207"
      ]
     },
     "execution_count": 35,
     "metadata": {},
     "output_type": "execute_result"
    }
   ],
   "source": [
    "sum([i for i in df['Debit Amount'] if i!=''])"
   ]
  },
  {
   "cell_type": "code",
   "execution_count": 36,
   "metadata": {},
   "outputs": [
    {
     "data": {
      "text/plain": [
       "12439"
      ]
     },
     "execution_count": 36,
     "metadata": {},
     "output_type": "execute_result"
    }
   ],
   "source": [
    "trueNoDebit = df.query(\"`Debit Amount`!=''\").shape[0]\n",
    "trueNoDebit"
   ]
  },
  {
   "cell_type": "code",
   "execution_count": 37,
   "metadata": {},
   "outputs": [
    {
     "data": {
      "text/plain": [
       "13219982.49"
      ]
     },
     "execution_count": 37,
     "metadata": {},
     "output_type": "execute_result"
    }
   ],
   "source": [
    "sum([i for i in df['Credit Amount'] if i!=''])"
   ]
  },
  {
   "cell_type": "code",
   "execution_count": 38,
   "metadata": {},
   "outputs": [
    {
     "data": {
      "text/plain": [
       "{'Baki Penutup / Closing Balance': '30,180,038.38',\n",
       " 'Jumlah Debit / Total Debits': '9,973,203.55',\n",
       " 'Bil. Kredit / No. of Credits': '41',\n",
       " 'Bil. Debit / No. of Debits': 12439,\n",
       " 'Jumlah Kredit / Total Credits': '13,219,982.49'}"
      ]
     },
     "execution_count": 38,
     "metadata": {},
     "output_type": "execute_result"
    }
   ],
   "source": [
    "#confirm no debit\n",
    "noDebitIndex = noDebitList.index(str(trueNoDebit))\n",
    "creditAmount = creditAmountList[noDebitIndex]\n",
    "summaryDict[summaryCol[2]] = trueNoDebit\n",
    "summaryDict[summaryCol[3]] = creditAmount\n",
    "\n",
    "summaryDict"
   ]
  },
  {
   "cell_type": "code",
   "execution_count": 39,
   "metadata": {},
   "outputs": [
    {
     "data": {
      "text/plain": [
       "'../Dec2020_Result/22_12 3207971832_2020.xlsx'"
      ]
     },
     "execution_count": 39,
     "metadata": {},
     "output_type": "execute_result"
    }
   ],
   "source": [
    "excelFile"
   ]
  },
  {
   "cell_type": "code",
   "execution_count": 40,
   "metadata": {},
   "outputs": [],
   "source": [
    "import xlsxwriter \n",
    "  \n",
    "\n",
    "workbook = xlsxwriter.Workbook(excelFile)\n",
    "worksheet = workbook.add_worksheet() \n",
    "\n",
    "# Rows and columns are zero indexed. \n",
    "row = 0\n",
    "\n",
    "for col in accountInfoDict : \n",
    "  \n",
    "    # write operation perform \n",
    "    worksheet.write(row, 0, col + ':')\n",
    "    worksheet.write(row, 1, accountInfoDict[col])\n",
    "  \n",
    "    # incrementing the value of row by one \n",
    "    # with each iteratons. \n",
    "    row += 1\n",
    "    \n",
    "for col in summaryDict : \n",
    "  \n",
    "    # write operation perform \n",
    "    worksheet.write(row, 0, col + ':')\n",
    "    worksheet.write(row, 1, summaryDict[col])\n",
    "  \n",
    "    # incrementing the value of row by one \n",
    "    # with each iteratons. \n",
    "    row += 1\n",
    "    \n",
    "workbook.close()\n",
    "\n",
    "from openpyxl import load_workbook\n",
    "#write pandas \n",
    "writer = pd.ExcelWriter(excelFile, engine='openpyxl')\n",
    "writer.book = load_workbook(excelFile)\n",
    "# copy existing sheets\n",
    "writer.sheets = dict((ws.title, ws) for ws in writer.book.worksheets)\n",
    "reader = pd.read_excel(excelFile)\n",
    "df.to_excel(writer, sheet_name='Sheet1', startrow = len(reader) + 2, header = True, index = False)\n",
    "writer.save()"
   ]
  },
  {
   "cell_type": "code",
   "execution_count": null,
   "metadata": {},
   "outputs": [],
   "source": []
  }
 ],
 "metadata": {
  "kernelspec": {
   "display_name": "Python 3",
   "language": "python",
   "name": "python3"
  },
  "language_info": {
   "codemirror_mode": {
    "name": "ipython",
    "version": 3
   },
   "file_extension": ".py",
   "mimetype": "text/x-python",
   "name": "python",
   "nbconvert_exporter": "python",
   "pygments_lexer": "ipython3",
   "version": "3.7.6"
  }
 },
 "nbformat": 4,
 "nbformat_minor": 4
}
