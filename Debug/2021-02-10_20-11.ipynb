{
 "cells": [
  {
   "cell_type": "code",
   "execution_count": 1,
   "metadata": {},
   "outputs": [],
   "source": [
    "from pdfminer.pdfinterp import PDFResourceManager, PDFPageInterpreter\n",
    "from pdfminer.converter import TextConverter\n",
    "from pdfminer.layout import LAParams\n",
    "from pdfminer.pdfpage import PDFPage\n",
    "import os\n",
    "import re\n",
    "from io import StringIO\n",
    "import PyPDF2\n",
    "import pandas as pd\n",
    "from datetime import datetime \n",
    "import datetime as dt\n",
    "from timeit import default_timer as timer\n",
    "pd.set_option('display.max_rows', 500)"
   ]
  },
  {
   "cell_type": "markdown",
   "metadata": {},
   "source": [
    "### Nov"
   ]
  },
  {
   "cell_type": "code",
   "execution_count": 2,
   "metadata": {},
   "outputs": [
    {
     "data": {
      "text/plain": [
       "'../Nov2020_Result/20_11 3207971832_2020.xlsx'"
      ]
     },
     "execution_count": 2,
     "metadata": {},
     "output_type": "execute_result"
    }
   ],
   "source": [
    "folder = \"../Nov2020\"\n",
    "resultFolder = \"../Nov2020_Result\"\n",
    "file = \"20.11 3207971832_2020-November_eStatement.pdf\"\n",
    "path = folder + '/' + file\n",
    "excelFile = resultFolder + '/' + re.sub('\\.', '_', file.split('-')[0]) + '.xlsx'\n",
    "excelFile"
   ]
  },
  {
   "cell_type": "code",
   "execution_count": 3,
   "metadata": {},
   "outputs": [
    {
     "data": {
      "text/plain": [
       "('20/11', '19/11')"
      ]
     },
     "execution_count": 3,
     "metadata": {},
     "output_type": "execute_result"
    }
   ],
   "source": [
    "date = re.sub('\\.', '/', file.split(' ')[0])\n",
    "previousDate = (datetime.strptime(date, \"%d/%m\") - dt.timedelta(days=1)).strftime('%d/%m')\n",
    "#for nov\n",
    "date = datetime.strptime(date, \"%d/%m\").strftime('%d/%m')\n",
    "date, previousDate"
   ]
  },
  {
   "cell_type": "code",
   "execution_count": 4,
   "metadata": {},
   "outputs": [
    {
     "name": "stdout",
     "output_type": "stream",
     "text": [
      "Total time: 57.6540s\n"
     ]
    },
    {
     "data": {
      "text/plain": [
       "1969"
      ]
     },
     "execution_count": 4,
     "metadata": {},
     "output_type": "execute_result"
    }
   ],
   "source": [
    "def convertPdfToTxt(path):\n",
    "    startTime = timer()\n",
    "    rsrcmgr = PDFResourceManager()\n",
    "    retstr = StringIO()\n",
    "    #codec = 'utf-8'\n",
    "    laparams = LAParams()\n",
    "    device = TextConverter(rsrcmgr, retstr, laparams=laparams)\n",
    "    fp = open(path, 'rb')\n",
    "    interpreter = PDFPageInterpreter(rsrcmgr, device)\n",
    "    password = \"\"\n",
    "    maxpages = 0\n",
    "    caching = True\n",
    "    pagenos=set()\n",
    "    for page in PDFPage.get_pages(fp, pagenos, maxpages = maxpages,caching = caching, check_extractable = True):\n",
    "        interpreter.process_page(page)\n",
    "    text = retstr.getvalue()\n",
    "    fp.close()\n",
    "    device.close()\n",
    "    retstr.close()\n",
    "    endTime = timer()\n",
    "    print(\"Total time: %0.4fs\" % (endTime - startTime))\n",
    "    return text\n",
    "\n",
    "text = convertPdfToTxt(path)\n",
    "\n",
    "#extract no pages\n",
    "noPage = len(re.findall(\"NIAGADEBITKREDITBAKIDATETRANSACTIONDEBITCREDITBALANCE\", text))\n",
    "\n",
    "noPage"
   ]
  },
  {
   "cell_type": "code",
   "execution_count": 5,
   "metadata": {},
   "outputs": [
    {
     "data": {
      "text/plain": [
       "{'Nombor Akaun / Account Number': '3207971832',\n",
       " 'Jenis Akaun / Account Type': 'RM Plus Current Account',\n",
       " 'Tarikh Penyata / Statement Date': '20 Nov 2020'}"
      ]
     },
     "execution_count": 5,
     "metadata": {},
     "output_type": "execute_result"
    }
   ],
   "source": [
    "accountInfoDict = {}\n",
    "accountCol = [\"Nombor Akaun / Account Number\", 'Jenis Akaun / Account Type',\n",
    "             'Tarikh Penyata / Statement Date', 'RINGKASAN / SUMMARY']\n",
    "for no, desc in enumerate(accountCol):\n",
    "    if no != len(accountCol)-1:\n",
    "        descIndex = text.index(desc)\n",
    "        descLen = len(desc)\n",
    "        nextDescIndex = text.index(accountCol[no + 1])\n",
    "        result = text[descIndex + descLen: nextDescIndex]\n",
    "        accountInfoDict[desc] = result\n",
    "accountInfoDict"
   ]
  },
  {
   "cell_type": "code",
   "execution_count": 6,
   "metadata": {},
   "outputs": [],
   "source": [
    "def extractText(desc, startStr, endStr):\n",
    "    try:\n",
    "        startStrIndex = desc.index(startStr)\n",
    "        startStrLen = len(startStr)\n",
    "        endStrIndex = desc.index(endStr)         \n",
    "        if startStr == '':\n",
    "            result = desc[:endStrIndex]\n",
    "            return result\n",
    "        elif endStr!='':\n",
    "            result = desc[startStrIndex + startStrLen:endStrIndex]\n",
    "            remainDesc = desc[endStrIndex:]\n",
    "            return result, remainDesc\n",
    "        else:\n",
    "            result = desc[startStrIndex + startStrLen:]\n",
    "            return result\n",
    "        \n",
    "    except Exception as e:\n",
    "#         print(e)\n",
    "        print(\"Failed to extract text\")\n",
    "\n",
    "def extractAmount(desc, greedy = True):\n",
    "#     greedyPattern = '([\\d\\.\\,]+)'\n",
    "    greedyPattern = '([\\d\\.\\,]+\\.\\d{2})'\n",
    "    notGreedyPattern = '([\\d\\.\\,]+?\\.\\d{2}?)'\n",
    "    try:\n",
    "        if greedy:\n",
    "            result = re.search(greedyPattern, desc).group(1)\n",
    "            return result\n",
    "        else:\n",
    "            result = re.search(notGreedyPattern, desc).group(1)\n",
    "            return result\n",
    "    except Exception as e:\n",
    "#         print(e)\n",
    "        print(\"Wrong number pattern\")"
   ]
  },
  {
   "cell_type": "code",
   "execution_count": 7,
   "metadata": {},
   "outputs": [
    {
     "data": {
      "text/plain": [
       "(['22319', '223191'], ['14,609,939.23', '4,609,939.23'])"
      ]
     },
     "execution_count": 7,
     "metadata": {},
     "output_type": "execute_result"
    }
   ],
   "source": [
    "summaryDict = {}\n",
    "summaryCol = ['Baki Penutup / Closing Balance',\n",
    "              'Jumlah Debit / Total Debits', 'Bil. Debit / No. of Debits',\n",
    "              'Jumlah Kredit / Total Credits', 'Bil. Kredit / No. of Credits']\n",
    "#extract series of number \n",
    "numberSeries = extractText(text, summaryCol[4], 'Muka Surat 1')[0]\n",
    "\n",
    "#extract closing balance amount\n",
    "closingBalanceAmount = extractAmount(numberSeries, greedy = False)\n",
    "summaryDict[summaryCol[0]] = closingBalanceAmount\n",
    "numberSeries = re.sub(closingBalanceAmount, '', numberSeries)\n",
    "\n",
    "#extract debit amount\n",
    "debitAmount = extractAmount(numberSeries, greedy = False)\n",
    "summaryDict[summaryCol[1]] = debitAmount\n",
    "numberSeries = re.sub(debitAmount, '', numberSeries)\n",
    "\n",
    "#credit no credit\n",
    "noCredit = re.sub(extractAmount(numberSeries, greedy = False), '', numberSeries)\n",
    "summaryDict[summaryCol[4]] = noCredit\n",
    "numberSeries = re.sub(noCredit + '$', '', numberSeries)\n",
    "\n",
    "tempNumberSeries = numberSeries\n",
    "creditAmount1 = re.search('(\\d{2}\\,(\\d+\\,)*\\d+\\.\\d{2})', numberSeries).group(1)\n",
    "noDebit1 = re.sub(creditAmount1, '', tempNumberSeries)\n",
    "creditAmount2 = re.search('(\\d{1}\\,(\\d+\\,)*\\d+\\.\\d{2})', numberSeries).group(1)\n",
    "noDebit2 = re.sub(creditAmount2, '', tempNumberSeries)\n",
    "\n",
    "noDebitList = [noDebit1, noDebit2]\n",
    "creditAmountList = [creditAmount1, creditAmount2]\n",
    "noDebitList, creditAmountList"
   ]
  },
  {
   "cell_type": "code",
   "execution_count": 8,
   "metadata": {},
   "outputs": [
    {
     "data": {
      "text/plain": [
       "1969"
      ]
     },
     "execution_count": 8,
     "metadata": {},
     "output_type": "execute_result"
    }
   ],
   "source": [
    "def returnTableList(no):\n",
    "    tempList = []\n",
    "    textCopy = text\n",
    "    for i in range(1, no + 1):\n",
    "#     for i in range(1, 3):\n",
    "        table, remain = extractText(textCopy, 'Page %s of %s'%(i, no), 'Penyata ini dicetak melalui komputer.')\n",
    "        index = remain.index('Penyata ini dicetak melalui komputer.')\n",
    "        termLen = len('Penyata ini dicetak melalui komputer.')\n",
    "        textCopy = remain[index + termLen:]\n",
    "        table = re.sub(\"TARIKHURUS NIAGADEBITKREDITBAKIDATETRANSACTIONDEBITCREDITBALANCE\", '', table)\n",
    "        tempList.append(table)\n",
    "    return tempList\n",
    "\n",
    "tableList = returnTableList(noPage)\n",
    "\n",
    "len(tableList)"
   ]
  },
  {
   "cell_type": "code",
   "execution_count": 27,
   "metadata": {},
   "outputs": [],
   "source": [
    "#extract first line of transaction\n",
    "\n",
    "#trx date, cheque no., ref1, ref2, ref3, ref4, credit amount, debit amount, balance\n",
    "resultList = []\n",
    "\n",
    "#extract content of first table from text\n",
    "table = tableList[0]\n",
    "\n",
    "#extract balance amount\n",
    "balanceAmount, tempText = extractText(table, \"Balance From Last Statement\", date)\n",
    "\n",
    "#store record of balance from last statement\n",
    "# resultList.append([previousDate, '','', '','', \"Balance From Last Statement\", '', '', balanceAmount])\n",
    "#trx date, ref1, credit amount, debit amount, balance\n",
    "resultList.append([previousDate, \"Balance From Last Statement\", '', '', balanceAmount])"
   ]
  },
  {
   "cell_type": "code",
   "execution_count": 28,
   "metadata": {},
   "outputs": [],
   "source": [
    "def extractText(desc, startStr, endStr):\n",
    "    try:\n",
    "        startStrIndex = desc.index(startStr)\n",
    "        startStrLen = len(startStr)\n",
    "        endStrIndex = desc.index(endStr)         \n",
    "        if startStr == '':\n",
    "            result = desc[:endStrIndex]\n",
    "            return result\n",
    "        elif endStr!='':\n",
    "            result = desc[startStrIndex + startStrLen:endStrIndex]\n",
    "            remainDesc = desc[endStrIndex:]\n",
    "            return result, remainDesc\n",
    "        else:\n",
    "            result = desc[startStrIndex + startStrLen:]\n",
    "            return result\n",
    "        \n",
    "    except Exception as e:\n",
    "#         print(e)\n",
    "        print(\"Failed to extract text\")"
   ]
  },
  {
   "cell_type": "code",
   "execution_count": 29,
   "metadata": {},
   "outputs": [],
   "source": [
    "#extract amountList and descList\n",
    "#steps: \n",
    "#1. extract first and second number, store first number in descList\n",
    "#2. extract desc between first and second number\n",
    "#3. store desc in descList\n",
    "#repeat 1 till 3 until closing balance's line\n",
    "\n",
    "amountList = []\n",
    "descList = []\n",
    "closingLine = 0\n",
    "\n",
    "# for no, table in enumerate([tableList[0]]):\n",
    "for no, table in enumerate(tableList):\n",
    "    if no == 0:\n",
    "        tempText = tempText\n",
    "    else:\n",
    "        tempText = table\n",
    "    # for i in range(3):\n",
    "    while closingLine == 0:\n",
    "        #remove date first\n",
    "        if re.search(date, tempText):\n",
    "            tempText = re.sub(date, '', tempText)\n",
    "        #remove 9.10726135944E11: 851, 1235\n",
    "        if no in [851, 1235]:\n",
    "            tempText = re.sub(\"9.10726135944E11\", '', tempText)\n",
    "        #extract amount first\n",
    "        tempAmount1 = extractAmount(tempText)\n",
    "        #store amount\n",
    "        amountList.append(tempAmount1)\n",
    "        #temporary subbed text to get second amount\n",
    "        tempSubText = re.sub(tempAmount1, '', tempText)\n",
    "        tempAmount2 = extractAmount(tempSubText)\n",
    "        tempDesc = extractText(tempSubText, '', tempAmount2)\n",
    "        \n",
    "        #if Balance C/F, last line of transaction for that page\n",
    "        if re.search(r\"Balance C/F\", str(tempDesc)):\n",
    "            tempDesc = re.sub(r\"Balance C/F\", \"\", str(tempDesc))\n",
    "            amountList.append(tempAmount2)\n",
    "            descList.append(tempDesc)\n",
    "            descList.append(\"Balance C/F\")\n",
    "            break\n",
    "            \n",
    "        #if Balance B/F, first line of transaction for that page\n",
    "        elif re.search(r\"Balance B/F\", str(tempDesc)):\n",
    "            tempDesc = re.sub(r\"Balance B/F\", \"\", str(tempDesc))\n",
    "            descList.append(\"Balance B/F\")\n",
    "            tempAmount1 = extractAmount(re.sub(date, '', tempText), greedy = False)\n",
    "            amountList[-1] = tempAmount1\n",
    "            tempAmount1Index = tempText.index(tempAmount1)\n",
    "            tempAmount1Len = len(tempAmount1)\n",
    "            tempText = tempText[tempAmount1Index+tempAmount1Len:]\n",
    "            \n",
    "        #if last line for whole file\n",
    "        elif re.search(\"Closing Balance In This Statement\", str(tempDesc)):\n",
    "            closingAmount = tempAmount2\n",
    "            closingAmountIndex = tempSubText.index(closingAmount)\n",
    "            lastDesc = tempSubText[:closingAmountIndex]\n",
    "            #sub closing amount with '' in lastDesc\n",
    "            lastDesc = re.sub(\"Closing Balance In This Statement\", '', lastDesc)\n",
    "            descList.append(lastDesc)\n",
    "\n",
    "            #store last line - amount and desc\n",
    "            amountList.append(closingAmount)\n",
    "            descList.append(\"Closing Balance In This Statement\")\n",
    "#             closingLine = 1\n",
    "            break\n",
    "        #extracted all ady\n",
    "        elif not tempAmount2:\n",
    "#             closingLine = 1\n",
    "            break\n",
    "        else:\n",
    "            tempText = re.sub('^' + re.escape(tempDesc), '', tempSubText)\n",
    "            descList.append(tempDesc)"
   ]
  },
  {
   "cell_type": "code",
   "execution_count": 22,
   "metadata": {},
   "outputs": [
    {
     "data": {
      "text/plain": [
       "'20/11Balance B/F21,544,197.34FEE 3207971832PM20112097EU REFUND EU REFUND 15112020LOH SIONG WEE599.0021,543,598.34MISC DR 0060853207971832PM20112098 EU REFUNDEU REFUND 15112020 SIMON LEE YEW SE10,000.0021,533,598.34MISC DR 0060853207971832PM20112099 EU REFUNDEU REFUND 15112020 WONG KOK KEE0.1021,533,598.24HANDLING CHRG 006086FEE 3207971832PM20112097EU REFUND EU REFUND 151120209.10726135944E110.1021,533,598.14HANDLING CHRG 006087FEE 3207971832PM20112097EU REFUND EU REFUND 15112020TIONG SIE SIANG2,385.0021,531,213.14MISC DR 0060873207971832PM20112098 EU REFUNDEU REFUND 15112020 YONG AY HWA9,595.0021,521,618.14MISC DR 0060873207971832PM20112099 EU REFUNDEU REFUND 15112020 CHAW CHENG YING0.1021,521,618.04HANDLING CHRG 006088FEE 3207971832PM20112097EU REFUND EU REFUND 15112020WANG YUIIK LUNG0.1021,521,617.94HANDLING CHRG 006089FEE 3207971832PM20112097EU REFUND EU REFUND 15112020LOH HUI YUAN599.0021,521,018.94MISC DR 0060893207971832PM20112098 EU REFUNDEU REFUND 15112020 FONG CHUNG HUO1,388.0021,519,630.94MISC DR 0060893207971832PM20112099 EU REFUNDEU REFUND 15112020 OOI HUI YEE0.1021,519,630.84HANDLING CHRG 006090FEE 3207971832PM20112097EU REFUND EU REFUND 15112020Balance C/F21,519,630.84'"
      ]
     },
     "execution_count": 22,
     "metadata": {},
     "output_type": "execute_result"
    }
   ],
   "source": [
    "tableList[1235]"
   ]
  },
  {
   "cell_type": "code",
   "execution_count": 26,
   "metadata": {},
   "outputs": [
    {
     "data": {
      "text/plain": [
       "'20/11Balance B/F25,389,823.043207971832PM20112097 EU REFUNDEU REFUND 15112020 HIEW WUI JUIN0.1025,389,822.94HANDLING CHRG 003952FEE 3207971832PM20112003COP REFUND COP REFUND 17112020CHONG SU MOI0.1025,389,822.84HANDLING CHRG 003953FEE 3207971832PM20112003COP REFUND COP REFUND 17112020WONG WAN SIAH445.0025,389,377.84MISC DR 0039533207971832PM20112099 EU REFUNDEU REFUND 14112020 CHIA NGEN NGEN1,000.0025,388,377.84DR-ECP 0039533207971832PM20112097 EU REFUNDEU REFUND 15112020 LOH SIONG WEE1,199.0025,387,178.84MISC DR 0039533207971832PM20112098 EU REFUNDEU REFUND 14112020 CHOW FOONG PEI0.1025,387,178.74HANDLING CHRG 003954FEE 3207971832PM20112003COP REFUND COP REFUND 17112020JESSIE LO SING Y0.1025,387,178.64HANDLING CHRG 003955FEE 3207971832PM20112003COP REFUND COP REFUND 17112020THIEN NYUK CHIN600.0025,386,578.64MISC DR 0039553207971832PM20112099 EU REFUNDEU REFUND 14112020 CHEONG VUN LIN1,199.0025,385,379.64MISC DR 0039553207971832PM20112098 EU REFUNDEU REFUND 14112020 TAN KIM LEAN1,799.0025,383,580.64DR-ECP 0039553207971832PM20112097 EU REFUNDEU REFUND 15112020 9.10726135944E110.1025,383,580.54HANDLING CHRG 003956FEE 3207971832PM20112003COP REFUND COP REFUND 17112020JOSEPH LING KIEBalance C/F25,383,580.54'"
      ]
     },
     "execution_count": 26,
     "metadata": {},
     "output_type": "execute_result"
    }
   ],
   "source": [
    "tableList[851]"
   ]
  },
  {
   "cell_type": "code",
   "execution_count": 30,
   "metadata": {},
   "outputs": [],
   "source": [
    "def splitAmount(desc):\n",
    "    try:\n",
    "        #remove first . before num if exists\n",
    "        desc = re.sub('^\\.', '', desc)\n",
    "        #remove date pattern\n",
    "        desc = re.sub('^\\d{1,2}\\.\\d{1,2}\\.\\d{4}', '', desc)\n",
    "        amountPattern = '(.*?\\.\\d{2}?)'\n",
    "        result = re.search(amountPattern, desc).group(1)\n",
    "        desc2 = re.sub('^' + result, '', desc)\n",
    "        return result, desc2\n",
    "    except Exception as e:\n",
    "        print(e)\n",
    "        print(\"Wrong amount pattern\")\n",
    "\n",
    "splitAmountList = [splitAmount(i) for i in amountList]"
   ]
  },
  {
   "cell_type": "code",
   "execution_count": 31,
   "metadata": {},
   "outputs": [],
   "source": [
    "def checkCreditDebit(amountTuple, previousBalance):\n",
    "    #exception:\n",
    "    amount1 = float(re.sub(',', '', amountTuple[0]))\n",
    "#     currentBalance = re.sub('^\\.', '', amountTuple[1])\n",
    "    currentBalance = amountTuple[1]\n",
    "#     print(currentBalance)\n",
    "    if currentBalance !='':\n",
    "        currentBalance = float(re.sub(',', '', currentBalance))\n",
    "        previousBalance = float(re.sub(',', '', previousBalance))\n",
    "        if currentBalance - previousBalance == amount1:\n",
    "            amountTuple = ('', round(amount1, 2), currentBalance)\n",
    "        elif previousBalance - currentBalance == amount1:\n",
    "            amountTuple = (round(amount1, 2), '', currentBalance)\n",
    "        #if amount 1 is wrong\n",
    "        elif currentBalance > previousBalance:\n",
    "            credit  = currentBalance - previousBalance\n",
    "            amountTuple = ('', round(credit,2), currentBalance)\n",
    "        elif previousBalance > currentBalance:\n",
    "            debit  = previousBalance - currentBalance\n",
    "            amountTuple = (round(debit,2), '', currentBalance)            \n",
    "    else:\n",
    "        amountTuple = ('', '', amount1)\n",
    "    return amountTuple, str(amountTuple[2])\n",
    "\n",
    "#categorize one amount as credit/debit\n",
    "splitAmountList2 = []\n",
    "for no, i in enumerate(splitAmountList):\n",
    "    if no == 0:\n",
    "        resultTuple, previousBalanceAmount = checkCreditDebit(i, balanceAmount)\n",
    "        splitAmountList2.append(resultTuple)\n",
    "    else:\n",
    "        resultTuple, previousBalanceAmount = checkCreditDebit(i, previousBalanceAmount)\n",
    "        splitAmountList2.append(resultTuple)\n"
   ]
  },
  {
   "cell_type": "code",
   "execution_count": 62,
   "metadata": {},
   "outputs": [
    {
     "data": {
      "text/plain": [
       "('104365.02', ',912.0039,737,571.73')"
      ]
     },
     "execution_count": 62,
     "metadata": {},
     "output_type": "execute_result"
    }
   ],
   "source": [
    "splitAmountList[723]"
   ]
  },
  {
   "cell_type": "code",
   "execution_count": 63,
   "metadata": {},
   "outputs": [
    {
     "data": {
      "text/plain": [
       "'MISC DR 0002013207971832PM11112098 COP REFUNDCOP REFUND 6112020 LAU SIEW PING'"
      ]
     },
     "execution_count": 63,
     "metadata": {},
     "output_type": "execute_result"
    }
   ],
   "source": [
    "descList[723]"
   ]
  },
  {
   "cell_type": "code",
   "execution_count": 64,
   "metadata": {
    "collapsed": true
   },
   "outputs": [
    {
     "data": {
      "text/plain": [
       "'11/11Balance B/F39,741,215.240.1039,741,215.14HANDLING CHRG 000200FEE 3207971832PM11112001COP REFUND COP REFUND 8112020MOHD ASHRAF BIN0.1039,741,215.04HANDLING CHRG 000201FEE 3207971832PM11112001COP REFUND COP REFUND 8112020MUHAMMAD HASAN B15.1139,741,199.93MISC DR 0002013207971832PM11112003 MERCHANT REDEEMMERCHANT REDEEM 6112020 MAH POOI SAN115.2039,741,084.73DR-ECP 0002013207971832PM11112002 MERCHANT REDEEMMERCHANT REDEEM 6112020 LING TAI NIK601.0039,740,483.73MISC DR 0002013207971832PM11112099 EU REFUNDEU REFUND 4112020 104365.02,912.0039,737,571.73MISC DR 0002013207971832PM11112098 COP REFUNDCOP REFUND 6112020 LAU SIEW PING3,732.0039,733,839.73MISC DR 0002013207971832PM11112004 MERCHANT REDEEMMERCHANT REDEEM 7112020 FONG YIN LEN0.1039,733,839.63HANDLING CHRG 000202FEE 3207971832PM11112001COP REFUND COP REFUND 8112020MOHD ASHRAF BIN0.1039,733,839.53HANDLING CHRG 000203FEE 3207971832PM11112001COP REFUND COP REFUND 8112020TEY CHIN TIANN42.0339,733,797.50DR-ECP 0002033207971832PM11112002 MERCHANT REDEEMMERCHANT REDEEM 6112020YOMIELICIOUS ENT119.7939,733,677.71MISC DR 0002033207971832PM11112003 MERCHANT REDEEMMERCHANT REDEEM 6112020 POPO KITCHEN400.0039,733,277.71MISC DR 0002033207971832PM11112099 EU REFUNDBalance C/F39,733,277.71'"
      ]
     },
     "execution_count": 64,
     "metadata": {},
     "output_type": "execute_result"
    }
   ],
   "source": [
    "tableList[52]"
   ]
  },
  {
   "cell_type": "code",
   "execution_count": 32,
   "metadata": {},
   "outputs": [
    {
     "data": {
      "text/html": [
       "<div>\n",
       "<style scoped>\n",
       "    .dataframe tbody tr th:only-of-type {\n",
       "        vertical-align: middle;\n",
       "    }\n",
       "\n",
       "    .dataframe tbody tr th {\n",
       "        vertical-align: top;\n",
       "    }\n",
       "\n",
       "    .dataframe thead th {\n",
       "        text-align: right;\n",
       "    }\n",
       "</style>\n",
       "<table border=\"1\" class=\"dataframe\">\n",
       "  <thead>\n",
       "    <tr style=\"text-align: right;\">\n",
       "      <th></th>\n",
       "      <th>Trn. Date</th>\n",
       "      <th>Reference 1</th>\n",
       "      <th>Debit Amount</th>\n",
       "      <th>Credit Amount</th>\n",
       "      <th>Balance</th>\n",
       "    </tr>\n",
       "  </thead>\n",
       "  <tbody>\n",
       "    <tr>\n",
       "      <th>0</th>\n",
       "      <td>19/11</td>\n",
       "      <td>Balance From Last Statement</td>\n",
       "      <td></td>\n",
       "      <td></td>\n",
       "      <td>25,215,604.50</td>\n",
       "    </tr>\n",
       "    <tr>\n",
       "      <th>1</th>\n",
       "      <td>20/11</td>\n",
       "      <td>SI CR FROM 3999XXXXXX</td>\n",
       "      <td></td>\n",
       "      <td>1.44573e+07</td>\n",
       "      <td>3.96729e+07</td>\n",
       "    </tr>\n",
       "    <tr>\n",
       "      <th>2</th>\n",
       "      <td>20/11</td>\n",
       "      <td>RTN ITEM 091543IBG RTN ITEM 20201120 LTCS19201...</td>\n",
       "      <td></td>\n",
       "      <td>19.71</td>\n",
       "      <td>3.96729e+07</td>\n",
       "    </tr>\n",
       "    <tr>\n",
       "      <th>3</th>\n",
       "      <td>20/11</td>\n",
       "      <td>RTN ITEM 091546IBG RTN ITEM 20201120 LTCS19201...</td>\n",
       "      <td></td>\n",
       "      <td>800</td>\n",
       "      <td>3.96737e+07</td>\n",
       "    </tr>\n",
       "    <tr>\n",
       "      <th>4</th>\n",
       "      <td>20/11</td>\n",
       "      <td>RTN ITEM 091548IBG RTN ITEM 20201120 LTCS19201...</td>\n",
       "      <td></td>\n",
       "      <td>500</td>\n",
       "      <td>3.96742e+07</td>\n",
       "    </tr>\n",
       "    <tr>\n",
       "      <th>...</th>\n",
       "      <td>...</td>\n",
       "      <td>...</td>\n",
       "      <td>...</td>\n",
       "      <td>...</td>\n",
       "      <td>...</td>\n",
       "    </tr>\n",
       "    <tr>\n",
       "      <th>26302</th>\n",
       "      <td>20/11</td>\n",
       "      <td>Balance C/F</td>\n",
       "      <td></td>\n",
       "      <td></td>\n",
       "      <td>1.98814e+07</td>\n",
       "    </tr>\n",
       "    <tr>\n",
       "      <th>26303</th>\n",
       "      <td>20/11</td>\n",
       "      <td>Balance B/F</td>\n",
       "      <td></td>\n",
       "      <td></td>\n",
       "      <td>1.98814e+07</td>\n",
       "    </tr>\n",
       "    <tr>\n",
       "      <th>26304</th>\n",
       "      <td>20/11</td>\n",
       "      <td>JUNAIDAH BINTI JUSOH @ MOHD EU REFUNDINSTANT T...</td>\n",
       "      <td>587</td>\n",
       "      <td></td>\n",
       "      <td>1.98808e+07</td>\n",
       "    </tr>\n",
       "    <tr>\n",
       "      <th>26305</th>\n",
       "      <td>20/11</td>\n",
       "      <td>TSFR FUND DR-ATM/EFT 3805593221XXXXXX WISE COR...</td>\n",
       "      <td>5000</td>\n",
       "      <td></td>\n",
       "      <td>1.98758e+07</td>\n",
       "    </tr>\n",
       "    <tr>\n",
       "      <th>26306</th>\n",
       "      <td>20/11</td>\n",
       "      <td>Closing Balance In This Statement</td>\n",
       "      <td></td>\n",
       "      <td></td>\n",
       "      <td>1.98758e+07</td>\n",
       "    </tr>\n",
       "  </tbody>\n",
       "</table>\n",
       "<p>26307 rows × 5 columns</p>\n",
       "</div>"
      ],
      "text/plain": [
       "      Trn. Date                                        Reference 1  \\\n",
       "0         19/11                        Balance From Last Statement   \n",
       "1         20/11                              SI CR FROM 3999XXXXXX   \n",
       "2         20/11  RTN ITEM 091543IBG RTN ITEM 20201120 LTCS19201...   \n",
       "3         20/11  RTN ITEM 091546IBG RTN ITEM 20201120 LTCS19201...   \n",
       "4         20/11  RTN ITEM 091548IBG RTN ITEM 20201120 LTCS19201...   \n",
       "...         ...                                                ...   \n",
       "26302     20/11                                        Balance C/F   \n",
       "26303     20/11                                        Balance B/F   \n",
       "26304     20/11  JUNAIDAH BINTI JUSOH @ MOHD EU REFUNDINSTANT T...   \n",
       "26305     20/11  TSFR FUND DR-ATM/EFT 3805593221XXXXXX WISE COR...   \n",
       "26306     20/11                  Closing Balance In This Statement   \n",
       "\n",
       "      Debit Amount Credit Amount        Balance  \n",
       "0                                 25,215,604.50  \n",
       "1                    1.44573e+07    3.96729e+07  \n",
       "2                          19.71    3.96729e+07  \n",
       "3                            800    3.96737e+07  \n",
       "4                            500    3.96742e+07  \n",
       "...            ...           ...            ...  \n",
       "26302                               1.98814e+07  \n",
       "26303                               1.98814e+07  \n",
       "26304          587                  1.98808e+07  \n",
       "26305         5000                  1.98758e+07  \n",
       "26306                               1.98758e+07  \n",
       "\n",
       "[26307 rows x 5 columns]"
      ]
     },
     "execution_count": 32,
     "metadata": {},
     "output_type": "execute_result"
    }
   ],
   "source": [
    "colList = ['Trn. Date','Reference 1',\n",
    "           'Debit Amount', 'Credit Amount', 'Balance']\n",
    "for no, finalStrList in enumerate(descList):\n",
    "    tempList =  [date] + [finalStrList]\n",
    "    tempList +=  [i for i in splitAmountList2[no]]\n",
    "    resultList.append(tempList)\n",
    "\n",
    "df = pd.DataFrame(resultList, columns = colList)\n",
    "df"
   ]
  },
  {
   "cell_type": "code",
   "execution_count": 23,
   "metadata": {},
   "outputs": [
    {
     "data": {
      "text/plain": [
       "25383571.44"
      ]
     },
     "execution_count": 23,
     "metadata": {},
     "output_type": "execute_result"
    }
   ],
   "source": [
    "max([i for i in df['Credit Amount'] if type(i)!=str])"
   ]
  },
  {
   "cell_type": "code",
   "execution_count": 24,
   "metadata": {},
   "outputs": [
    {
     "data": {
      "text/html": [
       "<div>\n",
       "<style scoped>\n",
       "    .dataframe tbody tr th:only-of-type {\n",
       "        vertical-align: middle;\n",
       "    }\n",
       "\n",
       "    .dataframe tbody tr th {\n",
       "        vertical-align: top;\n",
       "    }\n",
       "\n",
       "    .dataframe thead th {\n",
       "        text-align: right;\n",
       "    }\n",
       "</style>\n",
       "<table border=\"1\" class=\"dataframe\">\n",
       "  <thead>\n",
       "    <tr style=\"text-align: right;\">\n",
       "      <th></th>\n",
       "      <th>Trn. Date</th>\n",
       "      <th>Reference 1</th>\n",
       "      <th>Debit Amount</th>\n",
       "      <th>Credit Amount</th>\n",
       "      <th>Balance</th>\n",
       "    </tr>\n",
       "  </thead>\n",
       "  <tbody>\n",
       "    <tr>\n",
       "      <th>12108</th>\n",
       "      <td>20/11</td>\n",
       "      <td>HANDLING CHRG 003956FEE 3207971832PM20112003CO...</td>\n",
       "      <td></td>\n",
       "      <td>2.53836e+07</td>\n",
       "      <td>2.53836e+07</td>\n",
       "    </tr>\n",
       "  </tbody>\n",
       "</table>\n",
       "</div>"
      ],
      "text/plain": [
       "      Trn. Date                                        Reference 1  \\\n",
       "12108     20/11  HANDLING CHRG 003956FEE 3207971832PM20112003CO...   \n",
       "\n",
       "      Debit Amount Credit Amount      Balance  \n",
       "12108                2.53836e+07  2.53836e+07  "
      ]
     },
     "execution_count": 24,
     "metadata": {},
     "output_type": "execute_result"
    }
   ],
   "source": [
    "df.query(\"`Credit Amount`==25383571.44\")"
   ]
  },
  {
   "cell_type": "code",
   "execution_count": 25,
   "metadata": {},
   "outputs": [
    {
     "data": {
      "text/plain": [
       "array(['HANDLING CHRG 003956FEE 3207971832PM20112003COP REFUND COP REFUND 17112020JOSEPH LING KIE'],\n",
       "      dtype=object)"
      ]
     },
     "execution_count": 25,
     "metadata": {},
     "output_type": "execute_result"
    }
   ],
   "source": [
    "df.query(\"`Credit Amount`==25383571.44\")['Reference 1'].values"
   ]
  },
  {
   "cell_type": "code",
   "execution_count": 33,
   "metadata": {},
   "outputs": [
    {
     "data": {
      "text/plain": [
       "19875825.33"
      ]
     },
     "execution_count": 33,
     "metadata": {},
     "output_type": "execute_result"
    }
   ],
   "source": [
    "df.loc[df.shape[0]-1]['Balance']"
   ]
  },
  {
   "cell_type": "code",
   "execution_count": 34,
   "metadata": {},
   "outputs": [
    {
     "data": {
      "text/plain": [
       "19949718.400010012"
      ]
     },
     "execution_count": 34,
     "metadata": {},
     "output_type": "execute_result"
    }
   ],
   "source": [
    "sum([i for i in df['Debit Amount'] if i!=''])"
   ]
  },
  {
   "cell_type": "code",
   "execution_count": 35,
   "metadata": {},
   "outputs": [
    {
     "data": {
      "text/plain": [
       "22319"
      ]
     },
     "execution_count": 35,
     "metadata": {},
     "output_type": "execute_result"
    }
   ],
   "source": [
    "trueNoDebit = df.query(\"`Debit Amount`!=''\").shape[0]\n",
    "trueNoDebit"
   ]
  },
  {
   "cell_type": "code",
   "execution_count": 36,
   "metadata": {},
   "outputs": [
    {
     "data": {
      "text/plain": [
       "14609939.23"
      ]
     },
     "execution_count": 36,
     "metadata": {},
     "output_type": "execute_result"
    }
   ],
   "source": [
    "sum([i for i in df['Credit Amount'] if i!=''])"
   ]
  },
  {
   "cell_type": "code",
   "execution_count": 37,
   "metadata": {},
   "outputs": [
    {
     "data": {
      "text/plain": [
       "{'Baki Penutup / Closing Balance': '19,875,825.33',\n",
       " 'Jumlah Debit / Total Debits': '19,949,718.40',\n",
       " 'Bil. Kredit / No. of Credits': '50',\n",
       " 'Bil. Debit / No. of Debits': 22319,\n",
       " 'Jumlah Kredit / Total Credits': '14,609,939.23'}"
      ]
     },
     "execution_count": 37,
     "metadata": {},
     "output_type": "execute_result"
    }
   ],
   "source": [
    "#confirm no debit\n",
    "noDebitIndex = noDebitList.index(str(trueNoDebit))\n",
    "creditAmount = creditAmountList[noDebitIndex]\n",
    "summaryDict[summaryCol[2]] = trueNoDebit\n",
    "summaryDict[summaryCol[3]] = creditAmount\n",
    "\n",
    "summaryDict"
   ]
  },
  {
   "cell_type": "code",
   "execution_count": 38,
   "metadata": {},
   "outputs": [],
   "source": [
    "import xlsxwriter \n",
    "  \n",
    "\n",
    "workbook = xlsxwriter.Workbook(excelFile)\n",
    "worksheet = workbook.add_worksheet() \n",
    "\n",
    "# Rows and columns are zero indexed. \n",
    "row = 0\n",
    "\n",
    "for col in accountInfoDict : \n",
    "  \n",
    "    # write operation perform \n",
    "    worksheet.write(row, 0, col + ':')\n",
    "    worksheet.write(row, 1, accountInfoDict[col])\n",
    "  \n",
    "    # incrementing the value of row by one \n",
    "    # with each iteratons. \n",
    "    row += 1\n",
    "    \n",
    "for col in summaryDict : \n",
    "  \n",
    "    # write operation perform \n",
    "    worksheet.write(row, 0, col + ':')\n",
    "    worksheet.write(row, 1, summaryDict[col])\n",
    "  \n",
    "    # incrementing the value of row by one \n",
    "    # with each iteratons. \n",
    "    row += 1\n",
    "    \n",
    "workbook.close()\n",
    "\n",
    "from openpyxl import load_workbook\n",
    "#write pandas \n",
    "writer = pd.ExcelWriter(excelFile, engine='openpyxl')\n",
    "writer.book = load_workbook(excelFile)\n",
    "# copy existing sheets\n",
    "writer.sheets = dict((ws.title, ws) for ws in writer.book.worksheets)\n",
    "reader = pd.read_excel(excelFile)\n",
    "df.to_excel(writer, sheet_name='Sheet1', startrow = len(reader) + 2, header = True, index = False)\n",
    "writer.save()"
   ]
  },
  {
   "cell_type": "code",
   "execution_count": null,
   "metadata": {},
   "outputs": [],
   "source": []
  }
 ],
 "metadata": {
  "kernelspec": {
   "display_name": "Python 3",
   "language": "python",
   "name": "python3"
  },
  "language_info": {
   "codemirror_mode": {
    "name": "ipython",
    "version": 3
   },
   "file_extension": ".py",
   "mimetype": "text/x-python",
   "name": "python",
   "nbconvert_exporter": "python",
   "pygments_lexer": "ipython3",
   "version": "3.7.6"
  }
 },
 "nbformat": 4,
 "nbformat_minor": 4
}
