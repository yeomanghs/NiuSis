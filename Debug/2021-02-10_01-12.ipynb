{
 "cells": [
  {
   "cell_type": "code",
   "execution_count": 1,
   "metadata": {},
   "outputs": [],
   "source": [
    "from pdfminer.pdfinterp import PDFResourceManager, PDFPageInterpreter\n",
    "from pdfminer.converter import TextConverter\n",
    "from pdfminer.layout import LAParams\n",
    "from pdfminer.pdfpage import PDFPage\n",
    "import os\n",
    "import re\n",
    "from io import StringIO\n",
    "import PyPDF2\n",
    "import pandas as pd\n",
    "from datetime import datetime \n",
    "import datetime as dt\n",
    "from timeit import default_timer as timer\n",
    "pd.set_option('display.max_rows', 500)"
   ]
  },
  {
   "cell_type": "code",
   "execution_count": 2,
   "metadata": {},
   "outputs": [
    {
     "data": {
      "text/plain": [
       "'../Dec2020_Result/01_12 3207971832_2020.xlsx'"
      ]
     },
     "execution_count": 2,
     "metadata": {},
     "output_type": "execute_result"
    }
   ],
   "source": [
    "folder = \"../Dec2020\"\n",
    "resultFolder = \"Dec2020_Result\"\n",
    "file = \"12.01 3207971832_2020-December_eStatement.pdf\"\n",
    "path = folder + '/' + file\n",
    "excelFile = '../' + resultFolder + '/' + re.sub('\\.', '_', '01_12 ' + file.split('-')[0].split(' ')[1]) + '.xlsx'\n",
    "excelFile"
   ]
  },
  {
   "cell_type": "code",
   "execution_count": 3,
   "metadata": {},
   "outputs": [
    {
     "data": {
      "text/plain": [
       "('01/12', '30/11')"
      ]
     },
     "execution_count": 3,
     "metadata": {},
     "output_type": "execute_result"
    }
   ],
   "source": [
    "date = re.sub('\\.', '/', file.split(' ')[0])\n",
    "previousDate = (datetime.strptime(date, \"%m/%d\") - dt.timedelta(days=1)).strftime('%d/%m')\n",
    "#for nov\n",
    "date = datetime.strptime(date, \"%m/%d\").strftime('%d/%m')\n",
    "date, previousDate"
   ]
  },
  {
   "cell_type": "code",
   "execution_count": 4,
   "metadata": {},
   "outputs": [
    {
     "name": "stdout",
     "output_type": "stream",
     "text": [
      "Total time: 105.2384s\n"
     ]
    },
    {
     "data": {
      "text/plain": [
       "1142"
      ]
     },
     "execution_count": 4,
     "metadata": {},
     "output_type": "execute_result"
    }
   ],
   "source": [
    "def convertPdfToTxt(path):\n",
    "    startTime = timer()\n",
    "    rsrcmgr = PDFResourceManager()\n",
    "    retstr = StringIO()\n",
    "    #codec = 'utf-8'\n",
    "    laparams = LAParams()\n",
    "    device = TextConverter(rsrcmgr, retstr, laparams=laparams)\n",
    "    fp = open(path, 'rb')\n",
    "    interpreter = PDFPageInterpreter(rsrcmgr, device)\n",
    "    password = \"\"\n",
    "    maxpages = 0\n",
    "    caching = True\n",
    "    pagenos=set()\n",
    "    for page in PDFPage.get_pages(fp, pagenos, maxpages = maxpages,caching = caching, check_extractable = True):\n",
    "        interpreter.process_page(page)\n",
    "    text = retstr.getvalue()\n",
    "    fp.close()\n",
    "    device.close()\n",
    "    retstr.close()\n",
    "    endTime = timer()\n",
    "    print(\"Total time: %0.4fs\" % (endTime - startTime))\n",
    "    return text\n",
    "\n",
    "text = convertPdfToTxt(path)\n",
    "\n",
    "#extract no pages\n",
    "noPage = len(re.findall(\"NIAGADEBITKREDITBAKIDATETRANSACTIONDEBITCREDITBALANCE\", text))\n",
    "\n",
    "noPage"
   ]
  },
  {
   "cell_type": "code",
   "execution_count": 5,
   "metadata": {},
   "outputs": [
    {
     "data": {
      "text/plain": [
       "{'Nombor Akaun / Account Number': '3207971832',\n",
       " 'Jenis Akaun / Account Type': 'RM Plus Current Account',\n",
       " 'Tarikh Penyata / Statement Date': '01 Dec 2020'}"
      ]
     },
     "execution_count": 5,
     "metadata": {},
     "output_type": "execute_result"
    }
   ],
   "source": [
    "accountInfoDict = {}\n",
    "accountCol = [\"Nombor Akaun / Account Number\", 'Jenis Akaun / Account Type',\n",
    "             'Tarikh Penyata / Statement Date', 'RINGKASAN / SUMMARY']\n",
    "for no, desc in enumerate(accountCol):\n",
    "    if no != len(accountCol)-1:\n",
    "        descIndex = text.index(desc)\n",
    "        descLen = len(desc)\n",
    "        nextDescIndex = text.index(accountCol[no + 1])\n",
    "        result = text[descIndex + descLen: nextDescIndex]\n",
    "        accountInfoDict[desc] = result\n",
    "accountInfoDict"
   ]
  },
  {
   "cell_type": "code",
   "execution_count": 6,
   "metadata": {},
   "outputs": [],
   "source": [
    "def extractText(desc, startStr, endStr):\n",
    "    try:\n",
    "        startStrIndex = desc.index(startStr)\n",
    "        startStrLen = len(startStr)\n",
    "        endStrIndex = desc.index(endStr)         \n",
    "        if startStr == '':\n",
    "            result = desc[:endStrIndex]\n",
    "            return result\n",
    "        elif endStr!='':\n",
    "            result = desc[startStrIndex + startStrLen:endStrIndex]\n",
    "            remainDesc = desc[endStrIndex:]\n",
    "            return result, remainDesc\n",
    "        else:\n",
    "            result = desc[startStrIndex + startStrLen:]\n",
    "            return result\n",
    "        \n",
    "    except Exception as e:\n",
    "#         print(e)\n",
    "        print(\"Failed to extract text\")\n",
    "\n",
    "def extractAmount(desc, greedy = True):\n",
    "#     greedyPattern = '([\\d\\.\\,]+)'\n",
    "    greedyPattern = '([\\d\\.\\,]+\\.\\d{2})'\n",
    "    notGreedyPattern = '([\\d\\.\\,]+?\\.\\d{2}?)'\n",
    "    try:\n",
    "        if greedy:\n",
    "            result = re.search(greedyPattern, desc).group(1)\n",
    "            return result\n",
    "        else:\n",
    "            result = re.search(notGreedyPattern, desc).group(1)\n",
    "            return result\n",
    "    except Exception as e:\n",
    "#         print(e)\n",
    "        print(\"Wrong number pattern\")"
   ]
  },
  {
   "cell_type": "code",
   "execution_count": 7,
   "metadata": {},
   "outputs": [
    {
     "data": {
      "text/plain": [
       "(['12816', '128161'], ['12,298,806.51', '2,298,806.51'])"
      ]
     },
     "execution_count": 7,
     "metadata": {},
     "output_type": "execute_result"
    }
   ],
   "source": [
    "summaryDict = {}\n",
    "summaryCol = ['Baki Penutup / Closing Balance',\n",
    "              'Jumlah Debit / Total Debits', 'Bil. Debit / No. of Debits',\n",
    "              'Jumlah Kredit / Total Credits', 'Bil. Kredit / No. of Credits']\n",
    "#extract series of number \n",
    "numberSeries = extractText(text, summaryCol[4], 'Muka Surat 1')[0]\n",
    "\n",
    "#extract closing balance amount\n",
    "closingBalanceAmount = extractAmount(numberSeries, greedy = False)\n",
    "summaryDict[summaryCol[0]] = closingBalanceAmount\n",
    "numberSeries = re.sub(closingBalanceAmount, '', numberSeries)\n",
    "\n",
    "#extract debit amount\n",
    "debitAmount = extractAmount(numberSeries, greedy = False)\n",
    "summaryDict[summaryCol[1]] = debitAmount\n",
    "numberSeries = re.sub(debitAmount, '', numberSeries)\n",
    "\n",
    "#credit no credit\n",
    "noCredit = re.sub(extractAmount(numberSeries, greedy = False), '', numberSeries)\n",
    "summaryDict[summaryCol[4]] = noCredit\n",
    "numberSeries = re.sub(noCredit + '$', '', numberSeries)\n",
    "\n",
    "tempNumberSeries = numberSeries\n",
    "creditAmount1 = re.search('(\\d{2}\\,(\\d+\\,)*\\d+\\.\\d{2})', numberSeries).group(1)\n",
    "noDebit1 = re.sub(creditAmount1, '', tempNumberSeries)\n",
    "creditAmount2 = re.search('(\\d{1}\\,(\\d+\\,)*\\d+\\.\\d{2})', numberSeries).group(1)\n",
    "noDebit2 = re.sub(creditAmount2, '', tempNumberSeries)\n",
    "\n",
    "noDebitList = [noDebit1, noDebit2]\n",
    "creditAmountList = [creditAmount1, creditAmount2]\n",
    "noDebitList, creditAmountList"
   ]
  },
  {
   "cell_type": "code",
   "execution_count": 8,
   "metadata": {},
   "outputs": [
    {
     "data": {
      "text/plain": [
       "1142"
      ]
     },
     "execution_count": 8,
     "metadata": {},
     "output_type": "execute_result"
    }
   ],
   "source": [
    "def returnTableList(no):\n",
    "    tempList = []\n",
    "    textCopy = text\n",
    "    for i in range(1, no + 1):\n",
    "#     for i in range(1, 3):\n",
    "        table, remain = extractText(textCopy, 'Page %s of %s'%(i, no), 'Penyata ini dicetak melalui komputer.')\n",
    "        index = remain.index('Penyata ini dicetak melalui komputer.')\n",
    "        termLen = len('Penyata ini dicetak melalui komputer.')\n",
    "        textCopy = remain[index + termLen:]\n",
    "        table = re.sub(\"TARIKHURUS NIAGADEBITKREDITBAKIDATETRANSACTIONDEBITCREDITBALANCE\", '', table)\n",
    "        tempList.append(table)\n",
    "    return tempList\n",
    "\n",
    "tableList = returnTableList(noPage)\n",
    "\n",
    "len(tableList)"
   ]
  },
  {
   "cell_type": "code",
   "execution_count": 49,
   "metadata": {},
   "outputs": [],
   "source": [
    "#extract first line of transaction\n",
    "\n",
    "#trx date, cheque no., ref1, ref2, ref3, ref4, credit amount, debit amount, balance\n",
    "resultList = []\n",
    "\n",
    "#extract content of first table from text\n",
    "table = tableList[0]\n",
    "\n",
    "#extract balance amount\n",
    "balanceAmount, tempText = extractText(table, \"Balance From Last Statement\", date)\n",
    "\n",
    "#store record of balance from last statement\n",
    "# resultList.append([previousDate, '','', '','', \"Balance From Last Statement\", '', '', balanceAmount])\n",
    "#trx date, ref1, credit amount, debit amount, balance\n",
    "resultList.append([previousDate, \"Balance From Last Statement\", '', '', balanceAmount])"
   ]
  },
  {
   "cell_type": "code",
   "execution_count": 31,
   "metadata": {},
   "outputs": [],
   "source": [
    "def extractText(desc, startStr, endStr):\n",
    "    try:\n",
    "        startStrIndex = desc.index(startStr)\n",
    "        startStrLen = len(startStr)\n",
    "        endStrIndex = desc.index(endStr)         \n",
    "        if startStr == '':\n",
    "            result = desc[:endStrIndex]\n",
    "            return result\n",
    "        elif endStr!='':\n",
    "            result = desc[startStrIndex + startStrLen:endStrIndex]\n",
    "            remainDesc = desc[endStrIndex:]\n",
    "            return result, remainDesc\n",
    "        else:\n",
    "            result = desc[startStrIndex + startStrLen:]\n",
    "            return result\n",
    "        \n",
    "    except Exception as e:\n",
    "#         print(e)\n",
    "        print(\"Failed to extract text\")"
   ]
  },
  {
   "cell_type": "code",
   "execution_count": 50,
   "metadata": {},
   "outputs": [],
   "source": [
    "#extract amountList and descList\n",
    "#steps: \n",
    "#1. extract first and second number, store first number in descList\n",
    "#2. extract desc between first and second number\n",
    "#3. store desc in descList\n",
    "#repeat 1 till 3 until closing balance's line\n",
    "\n",
    "amountList = []\n",
    "descList = []\n",
    "closingLine = 0\n",
    "\n",
    "# for no, table in enumerate([tableList[0]]):\n",
    "for no, table in enumerate(tableList):\n",
    "    if no == 0:\n",
    "        tempText = tempText\n",
    "    else:\n",
    "        tempText = table\n",
    "    # for i in range(3):\n",
    "    while closingLine == 0:\n",
    "        #remove date first\n",
    "        if re.search(date, tempText):\n",
    "            tempText = re.sub(date, '', tempText)\n",
    "        #remove RMB @1.55\n",
    "        tempText = re.sub(\"RMB.*@ \\d\\.\\d+\", '', tempText)\n",
    "        if no in [539, 1010]:\n",
    "        #remove 9.10726135944E11: table 976\n",
    "            tempText = re.sub(\"9.10726135944E11\", '', tempText)\n",
    "        #extract amount first\n",
    "        tempAmount1 = extractAmount(tempText)\n",
    "        #store amount\n",
    "        amountList.append(tempAmount1)\n",
    "        #temporary subbed text to get second amount\n",
    "        tempSubText = re.sub(tempAmount1, '', tempText)\n",
    "        tempAmount2 = extractAmount(tempSubText)\n",
    "        tempDesc = extractText(tempSubText, '', tempAmount2)\n",
    "        \n",
    "        #if Balance C/F, last line of transaction for that page\n",
    "        if re.search(r\"Balance C/F\", str(tempDesc)):\n",
    "            tempDesc = re.sub(r\"Balance C/F\", \"\", str(tempDesc))\n",
    "            amountList.append(tempAmount2)\n",
    "            descList.append(tempDesc)\n",
    "            descList.append(\"Balance C/F\")\n",
    "            break\n",
    "            \n",
    "        #if Balance B/F, first line of transaction for that page\n",
    "        elif re.search(r\"Balance B/F\", str(tempDesc)):\n",
    "            tempDesc = re.sub(r\"Balance B/F\", \"\", str(tempDesc))\n",
    "            descList.append(\"Balance B/F\")\n",
    "            tempAmount1 = extractAmount(re.sub(date, '', tempText), greedy = False)\n",
    "            amountList[-1] = tempAmount1\n",
    "            tempAmount1Index = tempText.index(tempAmount1)\n",
    "            tempAmount1Len = len(tempAmount1)\n",
    "            tempText = tempText[tempAmount1Index+tempAmount1Len:]\n",
    "            \n",
    "        #if last line for whole file\n",
    "        elif re.search(\"Closing Balance In This Statement\", str(tempDesc)):\n",
    "            closingAmount = tempAmount2\n",
    "            closingAmountIndex = tempSubText.index(closingAmount)\n",
    "            lastDesc = tempSubText[:closingAmountIndex]\n",
    "            #sub closing amount with '' in lastDesc\n",
    "            lastDesc = re.sub(\"Closing Balance In This Statement\", '', lastDesc)\n",
    "            descList.append(lastDesc)\n",
    "\n",
    "            #store last line - amount and desc\n",
    "            amountList.append(closingAmount)\n",
    "            descList.append(\"Closing Balance In This Statement\")\n",
    "#             closingLine = 1\n",
    "            break\n",
    "        #extracted all ady\n",
    "        elif not tempAmount2:\n",
    "#             closingLine = 1\n",
    "            break\n",
    "        else:\n",
    "            tempText = re.sub('^' + re.escape(tempDesc), '', tempSubText)\n",
    "            descList.append(tempDesc)"
   ]
  },
  {
   "cell_type": "code",
   "execution_count": 48,
   "metadata": {},
   "outputs": [
    {
     "data": {
      "text/plain": [
       "'01/12Balance B/F29,974,969.61EU REFUND 24112020 GOH BEE YIN650.0029,974,319.61DR-ECP 0088973207971832PM01122099 EU REFUNDEU REFUND 24112020 LEE GAIK PENG2,391.0029,971,928.61DR-ECP 0088993207971832PM01122099 EU REFUNDEU REFUND 24112020 ONG BEE CHOO70.0029,971,858.61DR-ECP 0089013207971832PM01122099 EU REFUNDEU REFUND 24112020 LIM JIA HOU599.0029,971,259.61DR-ECP 0089033207971832PM01122099 EU REFUNDEU REFUND 24112020 LEONG HENG WAN558.0029,970,701.61DR-ECP 0089053207971832PM01122099 EU REFUNDEU REFUND 24112020 CHAN MAU CHEN4,077.0029,966,624.61DR-ECP 0089073207971832PM01122099 EU REFUNDEU REFUND 24112020 CHAN CHENG MUN3,539.0029,963,085.61DR-ECP 0089093207971832PM01122099 EU REFUNDEU REFUND 24112020 9.10726135944E11953.0029,962,132.61DR-ECP 0089113207971832PM01122099 EU REFUNDEU REFUND 24112020 TINA HUONG1,700.0029,960,432.61DR-ECP 0089133207971832PM01122099 EU REFUNDEU REFUND 24112020 GOH YONG SHENG1,119.0029,959,313.61DR-ECP 0089153207971832PM01122099 EU REFUNDEU REFUND 24112020 CHIENG CHING YIN599.0029,958,714.61DR-ECP 0089173207971832PM01122099 EU REFUNDEU REFUND 24112020 LAW BENG AI2,750.0029,955,964.61DR-ECP 0089193207971832PM01122099 EU REFUNDEU REFUND 24112020 SOH CHIN ZI548.0029,955,416.61DR-ECP 0089213207971832PM01122099 EU REFUNDEU REFUND 24112020 KHOO KING SOONBalance C/F29,955,416.61'"
      ]
     },
     "execution_count": 48,
     "metadata": {},
     "output_type": "execute_result"
    }
   ],
   "source": [
    "tableList[539]"
   ]
  },
  {
   "cell_type": "code",
   "execution_count": 47,
   "metadata": {},
   "outputs": [
    {
     "data": {
      "text/plain": [
       "'01/12Balance B/F28,716,603.11FEE 3207971832PM01122099EU REFUND EU REFUND 24112020CHUNG SEN SHEN0.1028,716,603.01HANDLING CHRG 014680FEE 3207971832PM01122099EU REFUND EU REFUND 24112020CHEONG MUN HOU0.1028,716,602.91HANDLING CHRG 014681FEE 3207971832PM01122099EU REFUND EU REFUND 241120209.10726135944E110.1028,716,602.81HANDLING CHRG 014682FEE 3207971832PM01122099EU REFUND EU REFUND 24112020TINA HUONG0.1028,716,602.71HANDLING CHRG 014683FEE 3207971832PM01122099EU REFUND EU REFUND 24112020GOH YONG SHENG0.1028,716,602.61HANDLING CHRG 014684FEE 3207971832PM01122099EU REFUND EU REFUND 24112020CHIENG CHING YIN0.1028,716,602.51HANDLING CHRG 014685FEE 3207971832PM01122099EU REFUND EU REFUND 24112020LAW BENG AI0.1028,716,602.41HANDLING CHRG 014686FEE 3207971832PM01122099EU REFUND EU REFUND 24112020SOH CHIN ZI0.1028,716,602.31HANDLING CHRG 014687FEE 3207971832PM01122099EU REFUND EU REFUND 24112020KHOO KING SOON0.1028,716,602.21HANDLING CHRG 014688FEE 3207971832PM01122099EU REFUND EU REFUND 24112020OH BEE YEN0.1028,716,602.11HANDLING CHRG 014689Balance C/F28,716,602.11'"
      ]
     },
     "execution_count": 47,
     "metadata": {},
     "output_type": "execute_result"
    }
   ],
   "source": [
    "tableList[1010]"
   ]
  },
  {
   "cell_type": "code",
   "execution_count": 51,
   "metadata": {},
   "outputs": [],
   "source": [
    "def splitAmount(desc):\n",
    "    try:\n",
    "        #remove first . before num if exists\n",
    "        desc = re.sub('^\\.', '', desc)\n",
    "        #remove date pattern\n",
    "        desc = re.sub('^\\d{1,2}\\.\\d{1,2}\\.\\d{4}', '', desc)\n",
    "        amountPattern = '(.*?\\.\\d{2}?)'\n",
    "        result = re.search(amountPattern, desc).group(1)\n",
    "        desc2 = re.sub('^' + result, '', desc)\n",
    "        return result, desc2\n",
    "    except Exception as e:\n",
    "        print(e)\n",
    "        print(\"Wrong amount pattern\")\n",
    "\n",
    "splitAmountList = [splitAmount(i) for i in amountList]"
   ]
  },
  {
   "cell_type": "code",
   "execution_count": 52,
   "metadata": {},
   "outputs": [],
   "source": [
    "def checkCreditDebit(amountTuple, previousBalance):\n",
    "    #exception:\n",
    "    amount1 = float(re.sub(',', '', amountTuple[0]))\n",
    "#     currentBalance = re.sub('^\\.', '', amountTuple[1])\n",
    "    currentBalance = amountTuple[1]\n",
    "#     print(currentBalance)\n",
    "    if currentBalance !='':\n",
    "        currentBalance = float(re.sub(',', '', currentBalance))\n",
    "        previousBalance = float(re.sub(',', '', previousBalance))\n",
    "        if currentBalance - previousBalance == amount1:\n",
    "            amountTuple = ('', round(amount1, 2), currentBalance)\n",
    "        elif previousBalance - currentBalance == amount1:\n",
    "            amountTuple = (round(amount1, 2), '', currentBalance)\n",
    "        #if amount 1 is wrong\n",
    "        elif currentBalance > previousBalance:\n",
    "            credit  = currentBalance - previousBalance\n",
    "            amountTuple = ('', round(credit,2), currentBalance)\n",
    "        elif previousBalance > currentBalance:\n",
    "            debit  = previousBalance - currentBalance\n",
    "            amountTuple = (round(debit,2), '', currentBalance)            \n",
    "    else:\n",
    "        amountTuple = ('', '', amount1)\n",
    "    return amountTuple, str(amountTuple[2])\n",
    "\n",
    "#regex pattern based on transDesc\n",
    "transTypePatternDict = {'INSTANT TRSF CR':'(.*CR)\\s*(\\d{6})(.+)',\n",
    "                       'TSFR FUND DR-ATM/EFT':'(TSFR FUND DR-ATM/EFT)\\s*(\\d{6})(.+)'}\n",
    "\n",
    "def splitStr(desc):\n",
    "    foundPattern = 0\n",
    "    for transType in transTypePatternDict:\n",
    "        if re.search(transTypePatternDict[transType], desc):\n",
    "            pattern = transTypePatternDict[transType]\n",
    "            transType = re.search(pattern, desc).group(1)\n",
    "            chequeNo = re.search(pattern, desc).group(2)\n",
    "            ref1  = re.search(pattern, desc).group(3)\n",
    "            foundPattern = 1\n",
    "            finalResult = [chequeNo, transType, ref1] + ['']*2\n",
    "            break\n",
    "    if foundPattern == 0:\n",
    "        finalResult = ['']*2 + [desc] + ['']*2\n",
    "    #[chequeNo, transactionDescType, ref1, ref2, ref3]\n",
    "    return finalResult"
   ]
  },
  {
   "cell_type": "code",
   "execution_count": 28,
   "metadata": {},
   "outputs": [
    {
     "data": {
      "text/plain": [
       "'01/12Balance B/F29,974,969.61EU REFUND 24112020 GOH BEE YIN650.0029,974,319.61DR-ECP 0088973207971832PM01122099 EU REFUNDEU REFUND 24112020 LEE GAIK PENG2,391.0029,971,928.61DR-ECP 0088993207971832PM01122099 EU REFUNDEU REFUND 24112020 ONG BEE CHOO70.0029,971,858.61DR-ECP 0089013207971832PM01122099 EU REFUNDEU REFUND 24112020 LIM JIA HOU599.0029,971,259.61DR-ECP 0089033207971832PM01122099 EU REFUNDEU REFUND 24112020 LEONG HENG WAN558.0029,970,701.61DR-ECP 0089053207971832PM01122099 EU REFUNDEU REFUND 24112020 CHAN MAU CHEN4,077.0029,966,624.61DR-ECP 0089073207971832PM01122099 EU REFUNDEU REFUND 24112020 CHAN CHENG MUN3,539.0029,963,085.61DR-ECP 0089093207971832PM01122099 EU REFUNDEU REFUND 24112020 9.10726135944E11953.0029,962,132.61DR-ECP 0089113207971832PM01122099 EU REFUNDEU REFUND 24112020 TINA HUONG1,700.0029,960,432.61DR-ECP 0089133207971832PM01122099 EU REFUNDEU REFUND 24112020 GOH YONG SHENG1,119.0029,959,313.61DR-ECP 0089153207971832PM01122099 EU REFUNDEU REFUND 24112020 CHIENG CHING YIN599.0029,958,714.61DR-ECP 0089173207971832PM01122099 EU REFUNDEU REFUND 24112020 LAW BENG AI2,750.0029,955,964.61DR-ECP 0089193207971832PM01122099 EU REFUNDEU REFUND 24112020 SOH CHIN ZI548.0029,955,416.61DR-ECP 0089213207971832PM01122099 EU REFUNDEU REFUND 24112020 KHOO KING SOONBalance C/F29,955,416.61'"
      ]
     },
     "execution_count": 28,
     "metadata": {},
     "output_type": "execute_result"
    }
   ],
   "source": [
    "tableList[539]"
   ]
  },
  {
   "cell_type": "code",
   "execution_count": 27,
   "metadata": {},
   "outputs": [
    {
     "data": {
      "text/plain": [
       "'264.8937,021,875.35'"
      ]
     },
     "execution_count": 27,
     "metadata": {},
     "output_type": "execute_result"
    }
   ],
   "source": [
    "amountList[540]"
   ]
  },
  {
   "cell_type": "code",
   "execution_count": 24,
   "metadata": {},
   "outputs": [
    {
     "data": {
      "text/plain": [
       "'11953.0029,962,132.61'"
      ]
     },
     "execution_count": 24,
     "metadata": {},
     "output_type": "execute_result"
    }
   ],
   "source": [
    "amountList[7680]"
   ]
  },
  {
   "cell_type": "code",
   "execution_count": 46,
   "metadata": {},
   "outputs": [
    {
     "data": {
      "text/plain": [
       "'HANDLING CHRG 014682FEE 3207971832PM01122099EU REFUND EU REFUND 24112020TINA HUONG'"
      ]
     },
     "execution_count": 46,
     "metadata": {},
     "output_type": "execute_result"
    }
   ],
   "source": [
    "descList[13546]"
   ]
  },
  {
   "cell_type": "code",
   "execution_count": 23,
   "metadata": {},
   "outputs": [
    {
     "data": {
      "text/plain": [
       "('', 29962123.51, 29962132.61)"
      ]
     },
     "execution_count": 23,
     "metadata": {},
     "output_type": "execute_result"
    }
   ],
   "source": [
    "splitAmountList2[7680]"
   ]
  },
  {
   "cell_type": "code",
   "execution_count": 53,
   "metadata": {},
   "outputs": [],
   "source": [
    "#categorize one amount as credit/debit\n",
    "splitAmountList2 = []\n",
    "for no, i in enumerate(splitAmountList):\n",
    "    if no == 0:\n",
    "        resultTuple, previousBalanceAmount = checkCreditDebit(i, balanceAmount)\n",
    "        splitAmountList2.append(resultTuple)\n",
    "    else:\n",
    "        try:\n",
    "            resultTuple, previousBalanceAmount = checkCreditDebit(i, previousBalanceAmount)\n",
    "            splitAmountList2.append(resultTuple)\n",
    "        except:\n",
    "            print(no)\n",
    "            print(i)\n",
    "# splitStrList = [splitStr(i) for i in descList]\n",
    "\n",
    "# #column names\n",
    "# colList = ['Trn. Date', 'Cheque No/Ref No', 'Transaction Description',\n",
    "#            'Debit Amount', 'Credit Amount', \n",
    "#            'Reference 1', 'Reference 2', 'Reference 3', 'Balance']\n",
    "\n",
    "# for no, finalStrList in enumerate(splitStrList):\n",
    "#     tempList =  [date] + [i for i in finalStrList[:2]]\n",
    "#     tempList += [i for i in splitAmountList2[no][:2]] + [i for i in finalStrList[2:]] + [splitAmountList2[no][-1]]\n",
    "#     resultList.append(tempList)\n",
    "    \n",
    "colList = ['Trn. Date','Reference 1',\n",
    "           'Debit Amount', 'Credit Amount', 'Balance']\n",
    "for no, finalStrList in enumerate(descList):\n",
    "    tempList =  [date] + [finalStrList]\n",
    "    tempList +=  [i for i in splitAmountList2[no]]\n",
    "    resultList.append(tempList)"
   ]
  },
  {
   "cell_type": "code",
   "execution_count": 54,
   "metadata": {},
   "outputs": [
    {
     "data": {
      "text/html": [
       "<div>\n",
       "<style scoped>\n",
       "    .dataframe tbody tr th:only-of-type {\n",
       "        vertical-align: middle;\n",
       "    }\n",
       "\n",
       "    .dataframe tbody tr th {\n",
       "        vertical-align: top;\n",
       "    }\n",
       "\n",
       "    .dataframe thead th {\n",
       "        text-align: right;\n",
       "    }\n",
       "</style>\n",
       "<table border=\"1\" class=\"dataframe\">\n",
       "  <thead>\n",
       "    <tr style=\"text-align: right;\">\n",
       "      <th></th>\n",
       "      <th>Trn. Date</th>\n",
       "      <th>Reference 1</th>\n",
       "      <th>Debit Amount</th>\n",
       "      <th>Credit Amount</th>\n",
       "      <th>Balance</th>\n",
       "    </tr>\n",
       "  </thead>\n",
       "  <tbody>\n",
       "    <tr>\n",
       "      <th>0</th>\n",
       "      <td>30/11</td>\n",
       "      <td>Balance From Last Statement</td>\n",
       "      <td></td>\n",
       "      <td></td>\n",
       "      <td>25,487,020.34</td>\n",
       "    </tr>\n",
       "    <tr>\n",
       "      <th>1</th>\n",
       "      <td>01/12</td>\n",
       "      <td>SI CR FROM 3999XXXXXX</td>\n",
       "      <td></td>\n",
       "      <td>1.19489e+07</td>\n",
       "      <td>3.7436e+07</td>\n",
       "    </tr>\n",
       "    <tr>\n",
       "      <th>2</th>\n",
       "      <td>01/12</td>\n",
       "      <td>DEP-CASH AT LHA</td>\n",
       "      <td></td>\n",
       "      <td>18160</td>\n",
       "      <td>3.74541e+07</td>\n",
       "    </tr>\n",
       "    <tr>\n",
       "      <th>3</th>\n",
       "      <td>01/12</td>\n",
       "      <td>RTN ITEM 092166IBG RTN ITEM 20201201 LTCS29201...</td>\n",
       "      <td></td>\n",
       "      <td>19.6</td>\n",
       "      <td>3.74541e+07</td>\n",
       "    </tr>\n",
       "    <tr>\n",
       "      <th>4</th>\n",
       "      <td>01/12</td>\n",
       "      <td>RTN ITEM 092167IBG RTN ITEM 20201201 LTCS29201...</td>\n",
       "      <td></td>\n",
       "      <td>473.92</td>\n",
       "      <td>3.74546e+07</td>\n",
       "    </tr>\n",
       "    <tr>\n",
       "      <th>...</th>\n",
       "      <td>...</td>\n",
       "      <td>...</td>\n",
       "      <td>...</td>\n",
       "      <td>...</td>\n",
       "      <td>...</td>\n",
       "    </tr>\n",
       "    <tr>\n",
       "      <th>15185</th>\n",
       "      <td>01/12</td>\n",
       "      <td>INSTANT TRSF DR 573029 TAN BEE LAYMERCHANT RED...</td>\n",
       "      <td>31</td>\n",
       "      <td></td>\n",
       "      <td>2.84416e+07</td>\n",
       "    </tr>\n",
       "    <tr>\n",
       "      <th>15186</th>\n",
       "      <td>01/12</td>\n",
       "      <td>TSFR FUND DR-ATM/EFT 5730544417XXXXXX TAN LIAN...</td>\n",
       "      <td>5302</td>\n",
       "      <td></td>\n",
       "      <td>2.84363e+07</td>\n",
       "    </tr>\n",
       "    <tr>\n",
       "      <th>15187</th>\n",
       "      <td>01/12</td>\n",
       "      <td>INSTANT TRSF DR 573055MAX IVER SAMUEL COP REFUND</td>\n",
       "      <td>900</td>\n",
       "      <td></td>\n",
       "      <td>2.84354e+07</td>\n",
       "    </tr>\n",
       "    <tr>\n",
       "      <th>15188</th>\n",
       "      <td>01/12</td>\n",
       "      <td>INSTANT TRSF DR 573087 PDA FACTORMERCHANT REDE...</td>\n",
       "      <td>1831.71</td>\n",
       "      <td></td>\n",
       "      <td>2.84336e+07</td>\n",
       "    </tr>\n",
       "    <tr>\n",
       "      <th>15189</th>\n",
       "      <td>01/12</td>\n",
       "      <td>Closing Balance In This Statement</td>\n",
       "      <td></td>\n",
       "      <td></td>\n",
       "      <td>2.84336e+07</td>\n",
       "    </tr>\n",
       "  </tbody>\n",
       "</table>\n",
       "<p>15190 rows × 5 columns</p>\n",
       "</div>"
      ],
      "text/plain": [
       "      Trn. Date                                        Reference 1  \\\n",
       "0         30/11                        Balance From Last Statement   \n",
       "1         01/12                              SI CR FROM 3999XXXXXX   \n",
       "2         01/12                                    DEP-CASH AT LHA   \n",
       "3         01/12  RTN ITEM 092166IBG RTN ITEM 20201201 LTCS29201...   \n",
       "4         01/12  RTN ITEM 092167IBG RTN ITEM 20201201 LTCS29201...   \n",
       "...         ...                                                ...   \n",
       "15185     01/12  INSTANT TRSF DR 573029 TAN BEE LAYMERCHANT RED...   \n",
       "15186     01/12  TSFR FUND DR-ATM/EFT 5730544417XXXXXX TAN LIAN...   \n",
       "15187     01/12  INSTANT TRSF DR 573055MAX IVER SAMUEL COP REFUND    \n",
       "15188     01/12  INSTANT TRSF DR 573087 PDA FACTORMERCHANT REDE...   \n",
       "15189     01/12                  Closing Balance In This Statement   \n",
       "\n",
       "      Debit Amount Credit Amount        Balance  \n",
       "0                                 25,487,020.34  \n",
       "1                    1.19489e+07     3.7436e+07  \n",
       "2                          18160    3.74541e+07  \n",
       "3                           19.6    3.74541e+07  \n",
       "4                         473.92    3.74546e+07  \n",
       "...            ...           ...            ...  \n",
       "15185           31                  2.84416e+07  \n",
       "15186         5302                  2.84363e+07  \n",
       "15187          900                  2.84354e+07  \n",
       "15188      1831.71                  2.84336e+07  \n",
       "15189                               2.84336e+07  \n",
       "\n",
       "[15190 rows x 5 columns]"
      ]
     },
     "execution_count": 54,
     "metadata": {},
     "output_type": "execute_result"
    }
   ],
   "source": [
    "df = pd.DataFrame(resultList, columns = colList)\n",
    "df"
   ]
  },
  {
   "cell_type": "code",
   "execution_count": 42,
   "metadata": {},
   "outputs": [
    {
     "data": {
      "text/plain": [
       "212403606.29"
      ]
     },
     "execution_count": 42,
     "metadata": {},
     "output_type": "execute_result"
    }
   ],
   "source": [
    "max([i for i in df['Debit Amount'] if type(i)!=str])"
   ]
  },
  {
   "cell_type": "code",
   "execution_count": 45,
   "metadata": {},
   "outputs": [
    {
     "data": {
      "text/html": [
       "<div>\n",
       "<style scoped>\n",
       "    .dataframe tbody tr th:only-of-type {\n",
       "        vertical-align: middle;\n",
       "    }\n",
       "\n",
       "    .dataframe tbody tr th {\n",
       "        vertical-align: top;\n",
       "    }\n",
       "\n",
       "    .dataframe thead th {\n",
       "        text-align: right;\n",
       "    }\n",
       "</style>\n",
       "<table border=\"1\" class=\"dataframe\">\n",
       "  <thead>\n",
       "    <tr style=\"text-align: right;\">\n",
       "      <th></th>\n",
       "      <th>Trn. Date</th>\n",
       "      <th>Reference 1</th>\n",
       "      <th>Debit Amount</th>\n",
       "      <th>Credit Amount</th>\n",
       "      <th>Balance</th>\n",
       "    </tr>\n",
       "  </thead>\n",
       "  <tbody>\n",
       "    <tr>\n",
       "      <th>13547</th>\n",
       "      <td>01/12</td>\n",
       "      <td>HANDLING CHRG 014682FEE 3207971832PM01122099EU...</td>\n",
       "      <td>2.12404e+08</td>\n",
       "      <td></td>\n",
       "      <td>2.87166e+07</td>\n",
       "    </tr>\n",
       "  </tbody>\n",
       "</table>\n",
       "</div>"
      ],
      "text/plain": [
       "      Trn. Date                                        Reference 1  \\\n",
       "13547     01/12  HANDLING CHRG 014682FEE 3207971832PM01122099EU...   \n",
       "\n",
       "      Debit Amount Credit Amount      Balance  \n",
       "13547  2.12404e+08                2.87166e+07  "
      ]
     },
     "execution_count": 45,
     "metadata": {},
     "output_type": "execute_result"
    }
   ],
   "source": [
    "df.query(\"`Debit Amount`==212403606.29\")"
   ]
  },
  {
   "cell_type": "code",
   "execution_count": 22,
   "metadata": {},
   "outputs": [
    {
     "data": {
      "text/plain": [
       "array(['DR-ECP 0089113207971832PM01122099 EU REFUNDEU REFUND 24112020 TINA HUONG'],\n",
       "      dtype=object)"
      ]
     },
     "execution_count": 22,
     "metadata": {},
     "output_type": "execute_result"
    }
   ],
   "source": [
    "df.query(\"`Credit Amount`==29962123.51\")['Reference 1'].values"
   ]
  },
  {
   "cell_type": "code",
   "execution_count": 55,
   "metadata": {},
   "outputs": [
    {
     "data": {
      "text/plain": [
       "28433583.71"
      ]
     },
     "execution_count": 55,
     "metadata": {},
     "output_type": "execute_result"
    }
   ],
   "source": [
    "df.loc[df.shape[0]-1]['Balance']"
   ]
  },
  {
   "cell_type": "code",
   "execution_count": 56,
   "metadata": {},
   "outputs": [
    {
     "data": {
      "text/plain": [
       "9352243.139998108"
      ]
     },
     "execution_count": 56,
     "metadata": {},
     "output_type": "execute_result"
    }
   ],
   "source": [
    "sum([i for i in df['Debit Amount'] if i!=''])"
   ]
  },
  {
   "cell_type": "code",
   "execution_count": 57,
   "metadata": {},
   "outputs": [
    {
     "data": {
      "text/plain": [
       "12816"
      ]
     },
     "execution_count": 57,
     "metadata": {},
     "output_type": "execute_result"
    }
   ],
   "source": [
    "trueNoDebit = df.query(\"`Debit Amount`!=''\").shape[0]\n",
    "trueNoDebit"
   ]
  },
  {
   "cell_type": "code",
   "execution_count": 58,
   "metadata": {},
   "outputs": [
    {
     "data": {
      "text/plain": [
       "12298806.509999998"
      ]
     },
     "execution_count": 58,
     "metadata": {},
     "output_type": "execute_result"
    }
   ],
   "source": [
    "sum([i for i in df['Credit Amount'] if i!=''])"
   ]
  },
  {
   "cell_type": "code",
   "execution_count": 59,
   "metadata": {},
   "outputs": [
    {
     "data": {
      "text/plain": [
       "{'Baki Penutup / Closing Balance': '28,433,583.71',\n",
       " 'Jumlah Debit / Total Debits': '9,352,243.14',\n",
       " 'Bil. Kredit / No. of Credits': '90',\n",
       " 'Bil. Debit / No. of Debits': 12816,\n",
       " 'Jumlah Kredit / Total Credits': '12,298,806.51'}"
      ]
     },
     "execution_count": 59,
     "metadata": {},
     "output_type": "execute_result"
    }
   ],
   "source": [
    "#confirm no debit\n",
    "noDebitIndex = noDebitList.index(str(trueNoDebit))\n",
    "creditAmount = creditAmountList[noDebitIndex]\n",
    "summaryDict[summaryCol[2]] = trueNoDebit\n",
    "summaryDict[summaryCol[3]] = creditAmount\n",
    "\n",
    "summaryDict"
   ]
  },
  {
   "cell_type": "code",
   "execution_count": 60,
   "metadata": {},
   "outputs": [],
   "source": [
    "import xlsxwriter \n",
    "  \n",
    "\n",
    "workbook = xlsxwriter.Workbook(excelFile)\n",
    "worksheet = workbook.add_worksheet() \n",
    "\n",
    "# Rows and columns are zero indexed. \n",
    "row = 0\n",
    "\n",
    "for col in accountInfoDict : \n",
    "  \n",
    "    # write operation perform \n",
    "    worksheet.write(row, 0, col + ':')\n",
    "    worksheet.write(row, 1, accountInfoDict[col])\n",
    "  \n",
    "    # incrementing the value of row by one \n",
    "    # with each iteratons. \n",
    "    row += 1\n",
    "    \n",
    "for col in summaryDict : \n",
    "  \n",
    "    # write operation perform \n",
    "    worksheet.write(row, 0, col + ':')\n",
    "    worksheet.write(row, 1, summaryDict[col])\n",
    "  \n",
    "    # incrementing the value of row by one \n",
    "    # with each iteratons. \n",
    "    row += 1\n",
    "    \n",
    "workbook.close()\n",
    "\n",
    "from openpyxl import load_workbook\n",
    "#write pandas \n",
    "writer = pd.ExcelWriter(excelFile, engine='openpyxl')\n",
    "writer.book = load_workbook(excelFile)\n",
    "# copy existing sheets\n",
    "writer.sheets = dict((ws.title, ws) for ws in writer.book.worksheets)\n",
    "reader = pd.read_excel(excelFile)\n",
    "df.to_excel(writer, sheet_name='Sheet1', startrow = len(reader) + 2, header = True, index = False)\n",
    "writer.save()"
   ]
  },
  {
   "cell_type": "code",
   "execution_count": null,
   "metadata": {},
   "outputs": [],
   "source": []
  }
 ],
 "metadata": {
  "kernelspec": {
   "display_name": "Python 3",
   "language": "python",
   "name": "python3"
  },
  "language_info": {
   "codemirror_mode": {
    "name": "ipython",
    "version": 3
   },
   "file_extension": ".py",
   "mimetype": "text/x-python",
   "name": "python",
   "nbconvert_exporter": "python",
   "pygments_lexer": "ipython3",
   "version": "3.7.6"
  }
 },
 "nbformat": 4,
 "nbformat_minor": 4
}
